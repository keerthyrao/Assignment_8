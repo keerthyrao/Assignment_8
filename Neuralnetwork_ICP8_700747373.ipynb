





<!DOCTYPE html>
<html
  lang="en"
  
  data-color-mode="auto" data-light-theme="light" data-dark-theme="dark"
  data-a11y-animated-images="system" data-a11y-link-underlines="true"
  >




  <head>
    <meta charset="utf-8">
  <link rel="dns-prefetch" href="https://github.githubassets.com">
  <link rel="dns-prefetch" href="https://avatars.githubusercontent.com">
  <link rel="dns-prefetch" href="https://github-cloud.s3.amazonaws.com">
  <link rel="dns-prefetch" href="https://user-images.githubusercontent.com/">
  <link rel="preconnect" href="https://github.githubassets.com" crossorigin>
  <link rel="preconnect" href="https://avatars.githubusercontent.com">

  


  <link crossorigin="anonymous" media="all" rel="stylesheet" href="https://github.githubassets.com/assets/light_v2-e830ce163aae.css" /><link crossorigin="anonymous" media="all" rel="stylesheet" href="https://github.githubassets.com/assets/dark_v2-bc3c552285ea.css" /><link data-color-theme="dark_dimmed" crossorigin="anonymous" media="all" rel="stylesheet" data-href="https://github.githubassets.com/assets/dark_dimmed_v2-191796a86a54.css" /><link data-color-theme="dark_high_contrast" crossorigin="anonymous" media="all" rel="stylesheet" data-href="https://github.githubassets.com/assets/dark_high_contrast_v2-e0a0b6e42616.css" /><link data-color-theme="dark_colorblind" crossorigin="anonymous" media="all" rel="stylesheet" data-href="https://github.githubassets.com/assets/dark_colorblind_v2-4fd40c9324e8.css" /><link data-color-theme="light_colorblind" crossorigin="anonymous" media="all" rel="stylesheet" data-href="https://github.githubassets.com/assets/light_colorblind_v2-2f299c61eceb.css" /><link data-color-theme="light_high_contrast" crossorigin="anonymous" media="all" rel="stylesheet" data-href="https://github.githubassets.com/assets/light_high_contrast_v2-05d723322773.css" /><link data-color-theme="light_tritanopia" crossorigin="anonymous" media="all" rel="stylesheet" data-href="https://github.githubassets.com/assets/light_tritanopia_v2-5679d6101565.css" /><link data-color-theme="dark_tritanopia" crossorigin="anonymous" media="all" rel="stylesheet" data-href="https://github.githubassets.com/assets/dark_tritanopia_v2-0ff66d76cc55.css" />
    <link crossorigin="anonymous" media="all" rel="stylesheet" href="https://github.githubassets.com/assets/primer-primitives-366b5c973fad.css" />
    <link crossorigin="anonymous" media="all" rel="stylesheet" href="https://github.githubassets.com/assets/primer-f3607eccaaae.css" />
    <link crossorigin="anonymous" media="all" rel="stylesheet" href="https://github.githubassets.com/assets/global-c2f8efb9bce8.css" />
    <link crossorigin="anonymous" media="all" rel="stylesheet" href="https://github.githubassets.com/assets/github-19c85be4af9c.css" />
  <link crossorigin="anonymous" media="all" rel="stylesheet" href="https://github.githubassets.com/assets/repository-6247ca238fd4.css" />
<link crossorigin="anonymous" media="all" rel="stylesheet" href="https://github.githubassets.com/assets/code-ad2fce00d003.css" />

  


  <script type="application/json" id="client-env">{"locale":"en","featureFlags":["code_vulnerability_scanning","copilot_conversational_ux_history_refs","copilot_smell_icebreaker_ux","copilot_implicit_context","failbot_handle_non_errors","geojson_azure_maps","image_metric_tracking","marketing_forms_api_integration_contact_request","marketing_pages_search_explore_provider","repository_suggester_elastic_search","turbo_experiment_risky","sample_network_conn_type","no_character_key_shortcuts_in_inputs","react_start_transition_for_navigations","custom_inp","remove_child_patch","site_features_copilot_cli_ga","copilot_code_chat_diff_header_button"]}</script>
<script crossorigin="anonymous" defer="defer" type="application/javascript" src="https://github.githubassets.com/assets/wp-runtime-520795681de8.js"></script>
<script crossorigin="anonymous" defer="defer" type="application/javascript" src="https://github.githubassets.com/assets/vendors-node_modules_dompurify_dist_purify_js-6890e890956f.js"></script>
<script crossorigin="anonymous" defer="defer" type="application/javascript" src="https://github.githubassets.com/assets/vendors-node_modules_stacktrace-parser_dist_stack-trace-parser_esm_js-node_modules_github_bro-a4c183-79f9611c275b.js"></script>
<script crossorigin="anonymous" defer="defer" type="application/javascript" src="https://github.githubassets.com/assets/vendors-node_modules_oddbird_popover-polyfill_dist_popover_js-7bd350d761f4.js"></script>
<script crossorigin="anonymous" defer="defer" type="application/javascript" src="https://github.githubassets.com/assets/ui_packages_failbot_failbot_ts-5bd9ba639cc0.js"></script>
<script crossorigin="anonymous" defer="defer" type="application/javascript" src="https://github.githubassets.com/assets/environment-27057bd9ed0b.js"></script>
<script crossorigin="anonymous" defer="defer" type="application/javascript" src="https://github.githubassets.com/assets/vendors-node_modules_github_selector-observer_dist_index_esm_js-9f960d9b217c.js"></script>
<script crossorigin="anonymous" defer="defer" type="application/javascript" src="https://github.githubassets.com/assets/vendors-node_modules_primer_behaviors_dist_esm_focus-zone_js-086f7a27bac0.js"></script>
<script crossorigin="anonymous" defer="defer" type="application/javascript" src="https://github.githubassets.com/assets/vendors-node_modules_github_relative-time-element_dist_index_js-c76945c5961a.js"></script>
<script crossorigin="anonymous" defer="defer" type="application/javascript" src="https://github.githubassets.com/assets/vendors-node_modules_github_combobox-nav_dist_index_js-node_modules_github_markdown-toolbar-e-820fc0-bc8f02b96749.js"></script>
<script crossorigin="anonymous" defer="defer" type="application/javascript" src="https://github.githubassets.com/assets/vendors-node_modules_delegated-events_dist_index_js-node_modules_github_auto-complete-element-81d69b-d1813ba335d8.js"></script>
<script crossorigin="anonymous" defer="defer" type="application/javascript" src="https://github.githubassets.com/assets/vendors-node_modules_github_text-expander-element_dist_index_js-8a621df59e80.js"></script>
<script crossorigin="anonymous" defer="defer" type="application/javascript" src="https://github.githubassets.com/assets/vendors-node_modules_github_filter-input-element_dist_index_js-node_modules_github_remote-inp-b7d8f4-654130b7cde5.js"></script>
<script crossorigin="anonymous" defer="defer" type="application/javascript" src="https://github.githubassets.com/assets/vendors-node_modules_github_file-attachment-element_dist_index_js-node_modules_primer_view-co-3959a9-68b3d6c8feb2.js"></script>
<script crossorigin="anonymous" defer="defer" type="application/javascript" src="https://github.githubassets.com/assets/github-elements-369bd99876f6.js"></script>
<script crossorigin="anonymous" defer="defer" type="application/javascript" src="https://github.githubassets.com/assets/element-registry-340b2bef927d.js"></script>
<script crossorigin="anonymous" defer="defer" type="application/javascript" src="https://github.githubassets.com/assets/vendors-node_modules_github_mini-throttle_dist_index_js-node_modules_github_alive-client_dist-bf5aa2-5a0e291a0298.js"></script>
<script crossorigin="anonymous" defer="defer" type="application/javascript" src="https://github.githubassets.com/assets/vendors-node_modules_lit-html_lit-html_js-5b376145beff.js"></script>
<script crossorigin="anonymous" defer="defer" type="application/javascript" src="https://github.githubassets.com/assets/vendors-node_modules_morphdom_dist_morphdom-esm_js-5bff297a06de.js"></script>
<script crossorigin="anonymous" defer="defer" type="application/javascript" src="https://github.githubassets.com/assets/vendors-node_modules_github_turbo_dist_turbo_es2017-esm_js-c91f4ad18b62.js"></script>
<script crossorigin="anonymous" defer="defer" type="application/javascript" src="https://github.githubassets.com/assets/vendors-node_modules_github_remote-form_dist_index_js-node_modules_scroll-anchoring_dist_scro-52dc4b-4fecca2d00e4.js"></script>
<script crossorigin="anonymous" defer="defer" type="application/javascript" src="https://github.githubassets.com/assets/vendors-node_modules_color-convert_index_js-72c9fbde5ad4.js"></script>
<script crossorigin="anonymous" defer="defer" type="application/javascript" src="https://github.githubassets.com/assets/vendors-node_modules_primer_behaviors_dist_esm_dimensions_js-node_modules_github_jtml_lib_index_js-95b84ee6bc34.js"></script>
<script crossorigin="anonymous" defer="defer" type="application/javascript" src="https://github.githubassets.com/assets/vendors-node_modules_github_paste-markdown_dist_index_esm_js-node_modules_github_quote-select-cbac5f-c7885f4526c5.js"></script>
<script crossorigin="anonymous" defer="defer" type="application/javascript" src="https://github.githubassets.com/assets/app_assets_modules_github_updatable-content_ts-ee3fc84d7fb0.js"></script>
<script crossorigin="anonymous" defer="defer" type="application/javascript" src="https://github.githubassets.com/assets/app_assets_modules_github_behaviors_task-list_ts-app_assets_modules_github_onfocus_ts-app_ass-421cec-9de4213015af.js"></script>
<script crossorigin="anonymous" defer="defer" type="application/javascript" src="https://github.githubassets.com/assets/app_assets_modules_github_sticky-scroll-into-view_ts-94209c43e6af.js"></script>
<script crossorigin="anonymous" defer="defer" type="application/javascript" src="https://github.githubassets.com/assets/app_assets_modules_github_behaviors_ajax-error_ts-app_assets_modules_github_behaviors_include-467754-244ee9d9ed77.js"></script>
<script crossorigin="anonymous" defer="defer" type="application/javascript" src="https://github.githubassets.com/assets/app_assets_modules_github_behaviors_commenting_edit_ts-app_assets_modules_github_behaviors_ht-83c235-9285faa0e011.js"></script>
<script crossorigin="anonymous" defer="defer" type="application/javascript" src="https://github.githubassets.com/assets/behaviors-4e25e265ef84.js"></script>
<script crossorigin="anonymous" defer="defer" type="application/javascript" src="https://github.githubassets.com/assets/vendors-node_modules_delegated-events_dist_index_js-node_modules_github_catalyst_lib_index_js-d0256ebff5cd.js"></script>
<script crossorigin="anonymous" defer="defer" type="application/javascript" src="https://github.githubassets.com/assets/notifications-global-352d84c6cc82.js"></script>
<script crossorigin="anonymous" defer="defer" type="application/javascript" src="https://github.githubassets.com/assets/code-menu-614feb194539.js"></script>
  
  <script crossorigin="anonymous" defer="defer" type="application/javascript" src="https://github.githubassets.com/assets/react-lib-1fbfc5be2c18.js"></script>
<script crossorigin="anonymous" defer="defer" type="application/javascript" src="https://github.githubassets.com/assets/vendors-node_modules_primer_octicons-react_dist_index_esm_js-node_modules_primer_react_lib-es-2e8e7c-a58d7c11e858.js"></script>
<script crossorigin="anonymous" defer="defer" type="application/javascript" src="https://github.githubassets.com/assets/vendors-node_modules_primer_react_lib-esm_Box_Box_js-8f8c5e2a2cbf.js"></script>
<script crossorigin="anonymous" defer="defer" type="application/javascript" src="https://github.githubassets.com/assets/vendors-node_modules_primer_react_lib-esm_Button_Button_js-d5726d25c548.js"></script>
<script crossorigin="anonymous" defer="defer" type="application/javascript" src="https://github.githubassets.com/assets/vendors-node_modules_primer_react_lib-esm_ActionList_index_js-1501d3ef83c2.js"></script>
<script crossorigin="anonymous" defer="defer" type="application/javascript" src="https://github.githubassets.com/assets/vendors-node_modules_primer_react_lib-esm_Overlay_Overlay_js-node_modules_primer_react_lib-es-fa1130-829932cf63db.js"></script>
<script crossorigin="anonymous" defer="defer" type="application/javascript" src="https://github.githubassets.com/assets/vendors-node_modules_primer_react_lib-esm_Text_Text_js-node_modules_primer_react_lib-esm_Text-7845da-c300384a527b.js"></script>
<script crossorigin="anonymous" defer="defer" type="application/javascript" src="https://github.githubassets.com/assets/vendors-node_modules_primer_react_lib-esm_FormControl_FormControl_js-f17f2abffb7f.js"></script>
<script crossorigin="anonymous" defer="defer" type="application/javascript" src="https://github.githubassets.com/assets/vendors-node_modules_primer_react_lib-esm_ActionMenu_ActionMenu_js-eaf74522e470.js"></script>
<script crossorigin="anonymous" defer="defer" type="application/javascript" src="https://github.githubassets.com/assets/vendors-node_modules_github_catalyst_lib_index_js-node_modules_github_hydro-analytics-client_-978abc0-add939c751ce.js"></script>
<script crossorigin="anonymous" defer="defer" type="application/javascript" src="https://github.githubassets.com/assets/vendors-node_modules_react-router-dom_dist_index_js-3b41341d50fe.js"></script>
<script crossorigin="anonymous" defer="defer" type="application/javascript" src="https://github.githubassets.com/assets/vendors-node_modules_primer_react_lib-esm_PageLayout_PageLayout_js-5a4a31c01bca.js"></script>
<script crossorigin="anonymous" defer="defer" type="application/javascript" src="https://github.githubassets.com/assets/vendors-node_modules_primer_react_lib-esm_ConfirmationDialog_ConfirmationDialog_js-8ab472e2f924.js"></script>
<script crossorigin="anonymous" defer="defer" type="application/javascript" src="https://github.githubassets.com/assets/vendors-node_modules_primer_react_lib-esm_Dialog_js-node_modules_primer_react_lib-esm_TabNav_-8321f5-2969c7508f3a.js"></script>
<script crossorigin="anonymous" defer="defer" type="application/javascript" src="https://github.githubassets.com/assets/vendors-node_modules_primer_react_lib-esm_TreeView_TreeView_js-4d087b8e0c8a.js"></script>
<script crossorigin="anonymous" defer="defer" type="application/javascript" src="https://github.githubassets.com/assets/vendors-node_modules_primer_react_lib-esm_Avatar_Avatar_js-node_modules_primer_react_lib-esm_-4e97c6-949a0431d8c0.js"></script>
<script crossorigin="anonymous" defer="defer" type="application/javascript" src="https://github.githubassets.com/assets/ui_packages_react-core_create-browser-history_ts-ui_packages_react-core_AppContextProvider_ts-809ab9-4a2cf4ad7f60.js"></script>
<script crossorigin="anonymous" defer="defer" type="application/javascript" src="https://github.githubassets.com/assets/ui_packages_react-core_register-app_ts-3208e4c5b7c1.js"></script>
<script crossorigin="anonymous" defer="defer" type="application/javascript" src="https://github.githubassets.com/assets/ui_packages_paths_index_ts-ea3e1b2a33c6.js"></script>
<script crossorigin="anonymous" defer="defer" type="application/javascript" src="https://github.githubassets.com/assets/ui_packages_ref-selector_RefSelector_tsx-dbbdef4348e2.js"></script>
<script crossorigin="anonymous" defer="defer" type="application/javascript" src="https://github.githubassets.com/assets/ui_packages_commit-attribution_index_ts-ui_packages_commit-checks-status_index_ts-ui_packages-a73d65-239b92c64d22.js"></script>
<script crossorigin="anonymous" defer="defer" type="application/javascript" src="https://github.githubassets.com/assets/app_assets_modules_react-shared_hooks_use-canonical-object_ts-ui_packages_code-view-shared_ho-3e492a-f8db4e5bb6ca.js"></script>
<script crossorigin="anonymous" defer="defer" type="application/javascript" src="https://github.githubassets.com/assets/app_assets_modules_github_blob-anchor_ts-app_assets_modules_github_filter-sort_ts-app_assets_-e50ab6-fd8396d2490b.js"></script>
<script crossorigin="anonymous" defer="defer" type="application/javascript" src="https://github.githubassets.com/assets/react-code-view-c04a0c63417c.js"></script>


  <title>700745488--Assignment-9-Ashwin-kumar-Reddy/Neuralnetwork_ICP9_700727088.ipynb at main · ashwinreddy2/700745488--Assignment-9-Ashwin-kumar-Reddy</title>



  <meta name="route-pattern" content="/:user_id/:repository/blob/*name(/*path)" data-turbo-transient>
  <meta name="route-controller" content="blob" data-turbo-transient>
  <meta name="route-action" content="show" data-turbo-transient>

    
  <meta name="current-catalog-service-hash" content="82c569b93da5c18ed649ebd4c2c79437db4611a6a1373e805a3cb001c64130b7">


  <meta name="request-id" content="DE5B:323B7A:91108:BD4A0:65FE5179" data-turbo-transient="true" /><meta name="html-safe-nonce" content="99cdb5b67a864b78e93db82d1f8ebc39cd8bcfe752615fe46b561f9ec3eb2993" data-turbo-transient="true" /><meta name="visitor-payload" content="eyJyZWZlcnJlciI6Imh0dHBzOi8vZ2l0aHViLmNvbS9hc2h3aW5yZWRkeTIvNzAwNzQ1NDg4LS1Bc3NpZ25tZW50LTktQXNod2luLWt1bWFyLVJlZGR5IiwicmVxdWVzdF9pZCI6IkRFNUI6MzIzQjdBOjkxMTA4OkJENEEwOjY1RkU1MTc5IiwidmlzaXRvcl9pZCI6IjQ2NzY2Mjk0NjQ3MDM2NDYyNTEiLCJyZWdpb25fZWRnZSI6ImlhZCIsInJlZ2lvbl9yZW5kZXIiOiJpYWQifQ==" data-turbo-transient="true" /><meta name="visitor-hmac" content="692e70840b9a759cf7162d7ff8ac2802121c54c5342aef62415b88c7c79bf762" data-turbo-transient="true" />


    <meta name="hovercard-subject-tag" content="repository:624218701" data-turbo-transient>


  <meta name="github-keyboard-shortcuts" content="repository,source-code,file-tree,network-graph,copilot" data-turbo-transient="true" />
  

  <meta name="selected-link" value="repo_source" data-turbo-transient>
  <link rel="assets" href="https://github.githubassets.com/">

    <meta name="google-site-verification" content="c1kuD-K2HIVF635lypcsWPoD4kilo5-jA_wBFyT4uMY">
  <meta name="google-site-verification" content="KT5gs8h0wvaagLKAVWq8bbeNwnZZK1r1XQysX3xurLU">
  <meta name="google-site-verification" content="ZzhVyEFwb7w3e0-uOTltm8Jsck2F5StVihD0exw2fsA">
  <meta name="google-site-verification" content="GXs5KoUUkNCoaAZn7wPN-t01Pywp9M3sEjnt_3_ZWPc">
  <meta name="google-site-verification" content="Apib7-x98H0j5cPqHWwSMm6dNU4GmODRoqxLiDzdx9I">

<meta name="octolytics-url" content="https://collector.github.com/github/collect" /><meta name="octolytics-actor-id" content="122584593" /><meta name="octolytics-actor-login" content="ashwinreddy2" /><meta name="octolytics-actor-hash" content="424d073e78098d512b6b46bc0aefadd005e045fe67cfd384c10d5c2e2c8e4b4a" />

  <meta name="analytics-location" content="/&lt;user-name&gt;/&lt;repo-name&gt;/blob/show" data-turbo-transient="true" />

  





    <meta name="user-login" content="ashwinreddy2">

  <link rel="sudo-modal" href="/sessions/sudo_modal">

    <meta name="viewport" content="width=device-width">
    
      <meta name="description" content="Contribute to ashwinreddy2/700745488--Assignment-9-Ashwin-kumar-Reddy development by creating an account on GitHub.">
      <link rel="search" type="application/opensearchdescription+xml" href="/opensearch.xml" title="GitHub">
    <link rel="fluid-icon" href="https://github.com/fluidicon.png" title="GitHub">
    <meta property="fb:app_id" content="1401488693436528">
    <meta name="apple-itunes-app" content="app-id=1477376905, app-argument=https://github.com/ashwinreddy2/700745488--Assignment-9-Ashwin-kumar-Reddy/blob/main/Neuralnetwork_ICP9_700727088.ipynb" />
      <meta name="twitter:image:src" content="https://opengraph.githubassets.com/da6f0f77a9b4b4bc67f0e3e76520234a3b9415a1c91438cc6f5b87a3f07bf026/ashwinreddy2/700745488--Assignment-9-Ashwin-kumar-Reddy" /><meta name="twitter:site" content="@github" /><meta name="twitter:card" content="summary_large_image" /><meta name="twitter:title" content="700745488--Assignment-9-Ashwin-kumar-Reddy/Neuralnetwork_ICP9_700727088.ipynb at main · ashwinreddy2/700745488--Assignment-9-Ashwin-kumar-Reddy" /><meta name="twitter:description" content="Contribute to ashwinreddy2/700745488--Assignment-9-Ashwin-kumar-Reddy development by creating an account on GitHub." />
      <meta property="og:image" content="https://opengraph.githubassets.com/da6f0f77a9b4b4bc67f0e3e76520234a3b9415a1c91438cc6f5b87a3f07bf026/ashwinreddy2/700745488--Assignment-9-Ashwin-kumar-Reddy" /><meta property="og:image:alt" content="Contribute to ashwinreddy2/700745488--Assignment-9-Ashwin-kumar-Reddy development by creating an account on GitHub." /><meta property="og:image:width" content="1200" /><meta property="og:image:height" content="600" /><meta property="og:site_name" content="GitHub" /><meta property="og:type" content="object" /><meta property="og:title" content="700745488--Assignment-9-Ashwin-kumar-Reddy/Neuralnetwork_ICP9_700727088.ipynb at main · ashwinreddy2/700745488--Assignment-9-Ashwin-kumar-Reddy" /><meta property="og:url" content="https://github.com/ashwinreddy2/700745488--Assignment-9-Ashwin-kumar-Reddy/blob/main/Neuralnetwork_ICP9_700727088.ipynb" /><meta property="og:description" content="Contribute to ashwinreddy2/700745488--Assignment-9-Ashwin-kumar-Reddy development by creating an account on GitHub." />
      

      <link rel="shared-web-socket" href="wss://alive.github.com/_sockets/u/122584593/ws?session=eyJ2IjoiVjMiLCJ1IjoxMjI1ODQ1OTMsInMiOjEzMzYyODkyMDgsImMiOjEwMTExNTExMDYsInQiOjE3MTExNjU4MzV9--35992300e56e5003a6917cb6fa7ef46d9c02df44c8be10b9fa46e8b4b9dbaba2" data-refresh-url="/_alive" data-session-id="259a62c71c619a45921af5699d373fb2d2eb037c09d52efe4df21580aebd4bfa">
      <link rel="shared-web-socket-src" href="/assets-cdn/worker/socket-worker-9cc1149b224c.js">


        <meta name="hostname" content="github.com">


      <meta name="keyboard-shortcuts-preference" content="all">

        <meta name="expected-hostname" content="github.com">


  <meta http-equiv="x-pjax-version" content="04c6f6cc30d2fbe608b1939eac339cdaeb42eb1b1f6a41d48488e060cd1161f8" data-turbo-track="reload">
  <meta http-equiv="x-pjax-csp-version" content="5dcfbec3488c5fd5a334e287ce6a17058b7d4beb91db2d4d184e4d55bbf1d7d7" data-turbo-track="reload">
  <meta http-equiv="x-pjax-css-version" content="4ed2df85e436c9302f86ff3fcd9d18714ca3fbadabc250472f3d50e7da238083" data-turbo-track="reload">
  <meta http-equiv="x-pjax-js-version" content="eef993caccdb29d5c85c726531c143d616607f0cca6d33a0525e65271bf5eaf9" data-turbo-track="reload">

  <meta name="turbo-cache-control" content="no-preview" data-turbo-transient="">

      <meta name="turbo-cache-control" content="no-cache" data-turbo-transient>
    <meta data-hydrostats="publish">
  <link crossorigin="anonymous" media="all" rel="stylesheet" href="https://github.githubassets.com/assets/react-code-view.959fb0b61e6a1de773e7.module.css" />

  <meta name="go-import" content="github.com/ashwinreddy2/700745488--Assignment-9-Ashwin-kumar-Reddy git https://github.com/ashwinreddy2/700745488--Assignment-9-Ashwin-kumar-Reddy.git">

  <meta name="octolytics-dimension-user_id" content="122584593" /><meta name="octolytics-dimension-user_login" content="ashwinreddy2" /><meta name="octolytics-dimension-repository_id" content="624218701" /><meta name="octolytics-dimension-repository_nwo" content="ashwinreddy2/700745488--Assignment-9-Ashwin-kumar-Reddy" /><meta name="octolytics-dimension-repository_public" content="true" /><meta name="octolytics-dimension-repository_is_fork" content="false" /><meta name="octolytics-dimension-repository_network_root_id" content="624218701" /><meta name="octolytics-dimension-repository_network_root_nwo" content="ashwinreddy2/700745488--Assignment-9-Ashwin-kumar-Reddy" />



  <meta name="turbo-body-classes" content="logged-in env-production page-responsive">


  <meta name="browser-stats-url" content="https://api.github.com/_private/browser/stats">

  <meta name="browser-errors-url" content="https://api.github.com/_private/browser/errors">

  <link rel="mask-icon" href="https://github.githubassets.com/assets/pinned-octocat-093da3e6fa40.svg" color="#000000">
  <link rel="alternate icon" class="js-site-favicon" type="image/png" href="https://github.githubassets.com/favicons/favicon.png">
  <link rel="icon" class="js-site-favicon" type="image/svg+xml" href="https://github.githubassets.com/favicons/favicon.svg">

<meta name="theme-color" content="#1e2327">
<meta name="color-scheme" content="light dark" />


  <link rel="manifest" href="/manifest.json" crossOrigin="use-credentials">

  </head>

  <body class="logged-in env-production page-responsive" style="word-wrap: break-word;">
    <div data-turbo-body class="logged-in env-production page-responsive" style="word-wrap: break-word;">
      


    <div class="position-relative js-header-wrapper ">
      <a href="#start-of-content" class="p-3 color-bg-accent-emphasis color-fg-on-emphasis show-on-focus js-skip-to-content">Skip to content</a>
      <span data-view-component="true" class="progress-pjax-loader Progress position-fixed width-full">
    <span style="width: 0%;" data-view-component="true" class="Progress-item progress-pjax-loader-bar left-0 top-0 color-bg-accent-emphasis"></span>
</span>      
      
  






<script crossorigin="anonymous" defer="defer" type="application/javascript" src="https://github.githubassets.com/assets/vendors-node_modules_primer_react_lib-esm_Button_IconButton_js-node_modules_primer_react_lib--23bcad-01764c79fa41.js"></script>

<script crossorigin="anonymous" defer="defer" type="application/javascript" src="https://github.githubassets.com/assets/keyboard-shortcuts-dialog-20a011926f27.js"></script>

<react-partial
  partial-name="keyboard-shortcuts-dialog"
  data-ssr="false"
>
  
  <script type="application/json" data-target="react-partial.embeddedData">{"props":{}}</script>
  <div data-target="react-partial.reactRoot"></div>
</react-partial>



      

        <script crossorigin="anonymous" defer="defer" type="application/javascript" src="https://github.githubassets.com/assets/vendors-node_modules_allex_crc32_lib_crc32_esm_js-node_modules_github_mini-throttle_dist_deco-b38cad-748e74df23ce.js"></script>
<script crossorigin="anonymous" defer="defer" type="application/javascript" src="https://github.githubassets.com/assets/vendors-node_modules_github_clipboard-copy-element_dist_index_esm_js-node_modules_delegated-e-b37f7d-2f24d321a3fb.js"></script>
<script crossorigin="anonymous" defer="defer" type="application/javascript" src="https://github.githubassets.com/assets/app_assets_modules_github_command-palette_items_help-item_ts-app_assets_modules_github_comman-48ad9d-9041b775dcfb.js"></script>
<script crossorigin="anonymous" defer="defer" type="application/javascript" src="https://github.githubassets.com/assets/command-palette-f620e569db0b.js"></script>

            <header class="AppHeader">
    

    <div class="AppHeader-globalBar pb-2 js-global-bar">
      <div class="AppHeader-globalBar-start">
          <deferred-side-panel data-url="/_side-panels/global">
  <include-fragment data-target="deferred-side-panel.fragment">
      <button aria-label="Open global navigation menu" data-action="click:deferred-side-panel#loadPanel click:deferred-side-panel#panelOpened" data-show-dialog-id="dialog-2246c8cd-0a39-4925-9d3f-4c73320d84f4" id="dialog-show-dialog-2246c8cd-0a39-4925-9d3f-4c73320d84f4" type="button" data-view-component="true" class="Button Button--iconOnly Button--secondary Button--medium AppHeader-button color-bg-transparent p-0 color-fg-muted">  <svg aria-hidden="true" height="16" viewBox="0 0 16 16" version="1.1" width="16" data-view-component="true" class="octicon octicon-three-bars Button-visual">
    <path d="M1 2.75A.75.75 0 0 1 1.75 2h12.5a.75.75 0 0 1 0 1.5H1.75A.75.75 0 0 1 1 2.75Zm0 5A.75.75 0 0 1 1.75 7h12.5a.75.75 0 0 1 0 1.5H1.75A.75.75 0 0 1 1 7.75ZM1.75 12h12.5a.75.75 0 0 1 0 1.5H1.75a.75.75 0 0 1 0-1.5Z"></path>
</svg>
</button>

<dialog-helper>
  <dialog data-target="deferred-side-panel.panel" id="dialog-2246c8cd-0a39-4925-9d3f-4c73320d84f4" aria-modal="true" aria-labelledby="dialog-2246c8cd-0a39-4925-9d3f-4c73320d84f4-title" aria-describedby="dialog-2246c8cd-0a39-4925-9d3f-4c73320d84f4-description" data-view-component="true" class="Overlay Overlay-whenNarrow Overlay--size-small-portrait Overlay--motion-scaleFade Overlay--placement-left SidePanel">
    <div styles="flex-direction: row;" data-view-component="true" class="Overlay-header">
  <div class="Overlay-headerContentWrap">
    <div class="Overlay-titleWrap">
      <h1 class="Overlay-title sr-only" id="dialog-2246c8cd-0a39-4925-9d3f-4c73320d84f4-title">
        Global navigation
      </h1>
            <div data-view-component="true" class="d-flex">
      <div data-view-component="true" class="AppHeader-logo position-relative">
        <svg aria-hidden="true" height="24" viewBox="0 0 16 16" version="1.1" width="24" data-view-component="true" class="octicon octicon-mark-github">
    <path d="M8 0c4.42 0 8 3.58 8 8a8.013 8.013 0 0 1-5.45 7.59c-.4.08-.55-.17-.55-.38 0-.27.01-1.13.01-2.2 0-.75-.25-1.23-.54-1.48 1.78-.2 3.65-.88 3.65-3.95 0-.88-.31-1.59-.82-2.15.08-.2.36-1.02-.08-2.12 0 0-.67-.22-2.2.82-.64-.18-1.32-.27-2-.27-.68 0-1.36.09-2 .27-1.53-1.03-2.2-.82-2.2-.82-.44 1.1-.16 1.92-.08 2.12-.51.56-.82 1.28-.82 2.15 0 3.06 1.86 3.75 3.64 3.95-.23.2-.44.55-.51 1.07-.46.21-1.61.55-2.33-.66-.15-.24-.6-.83-1.23-.82-.67.01-.27.38.01.53.34.19.73.9.82 1.13.16.45.68 1.31 2.69.94 0 .67.01 1.3.01 1.49 0 .21-.15.45-.55.38A7.995 7.995 0 0 1 0 8c0-4.42 3.58-8 8-8Z"></path>
</svg>
</div></div>
    </div>
    <div class="Overlay-actionWrap">
      <button data-close-dialog-id="dialog-2246c8cd-0a39-4925-9d3f-4c73320d84f4" aria-label="Close" type="button" data-view-component="true" class="close-button Overlay-closeButton"><svg aria-hidden="true" height="16" viewBox="0 0 16 16" version="1.1" width="16" data-view-component="true" class="octicon octicon-x">
    <path d="M3.72 3.72a.75.75 0 0 1 1.06 0L8 6.94l3.22-3.22a.749.749 0 0 1 1.275.326.749.749 0 0 1-.215.734L9.06 8l3.22 3.22a.749.749 0 0 1-.326 1.275.749.749 0 0 1-.734-.215L8 9.06l-3.22 3.22a.751.751 0 0 1-1.042-.018.751.751 0 0 1-.018-1.042L6.94 8 3.72 4.78a.75.75 0 0 1 0-1.06Z"></path>
</svg></button>
    </div>
  </div>
</div>
      <scrollable-region data-labelled-by="dialog-2246c8cd-0a39-4925-9d3f-4c73320d84f4-title">
        <div data-view-component="true" class="Overlay-body d-flex flex-column px-2">    <div data-view-component="true" class="d-flex flex-column mb-3">
        <nav aria-label="Site navigation" data-view-component="true" class="ActionList">
  
  <nav-list>
    <ul data-target="nav-list.topLevelList" data-view-component="true" class="ActionListWrap">
        
          
<li data-item-id="" data-targets="nav-list.items" data-view-component="true" class="ActionListItem">
    
    <a data-hotkey="g d" data-analytics-event="{&quot;category&quot;:&quot;Global navigation&quot;,&quot;action&quot;:&quot;HOME&quot;,&quot;label&quot;:null}" id="item-f6062487-4e72-4755-a552-f9df09682e5a" href="/dashboard" data-view-component="true" class="ActionListContent ActionListContent--visual16">
        <span class="ActionListItem-visual ActionListItem-visual--leading">
          <svg aria-hidden="true" height="16" viewBox="0 0 16 16" version="1.1" width="16" data-view-component="true" class="octicon octicon-home">
    <path d="M6.906.664a1.749 1.749 0 0 1 2.187 0l5.25 4.2c.415.332.657.835.657 1.367v7.019A1.75 1.75 0 0 1 13.25 15h-3.5a.75.75 0 0 1-.75-.75V9H7v5.25a.75.75 0 0 1-.75.75h-3.5A1.75 1.75 0 0 1 1 13.25V6.23c0-.531.242-1.034.657-1.366l5.25-4.2Zm1.25 1.171a.25.25 0 0 0-.312 0l-5.25 4.2a.25.25 0 0 0-.094.196v7.019c0 .138.112.25.25.25H5.5V8.25a.75.75 0 0 1 .75-.75h3.5a.75.75 0 0 1 .75.75v5.25h2.75a.25.25 0 0 0 .25-.25V6.23a.25.25 0 0 0-.094-.195Z"></path>
</svg>
        </span>
      
        <span data-view-component="true" class="ActionListItem-label">
          Home
</span></a>
  
  
</li>

        
          
<li data-item-id="" data-targets="nav-list.items" data-view-component="true" class="ActionListItem">
    
    <a data-hotkey="g i" data-analytics-event="{&quot;category&quot;:&quot;Global navigation&quot;,&quot;action&quot;:&quot;ISSUES&quot;,&quot;label&quot;:null}" id="item-771b489f-77ee-4462-8f00-0a8955ed26bd" href="/issues" data-view-component="true" class="ActionListContent ActionListContent--visual16">
        <span class="ActionListItem-visual ActionListItem-visual--leading">
          <svg aria-hidden="true" height="16" viewBox="0 0 16 16" version="1.1" width="16" data-view-component="true" class="octicon octicon-issue-opened">
    <path d="M8 9.5a1.5 1.5 0 1 0 0-3 1.5 1.5 0 0 0 0 3Z"></path><path d="M8 0a8 8 0 1 1 0 16A8 8 0 0 1 8 0ZM1.5 8a6.5 6.5 0 1 0 13 0 6.5 6.5 0 0 0-13 0Z"></path>
</svg>
        </span>
      
        <span data-view-component="true" class="ActionListItem-label">
          Issues
</span></a>
  
  
</li>

        
          
<li data-item-id="" data-targets="nav-list.items" data-view-component="true" class="ActionListItem">
    
    <a data-hotkey="g p" data-analytics-event="{&quot;category&quot;:&quot;Global navigation&quot;,&quot;action&quot;:&quot;PULL_REQUESTS&quot;,&quot;label&quot;:null}" id="item-6cd9b89a-3c7a-4960-8ade-c12203ed137b" href="/pulls" data-view-component="true" class="ActionListContent ActionListContent--visual16">
        <span class="ActionListItem-visual ActionListItem-visual--leading">
          <svg aria-hidden="true" height="16" viewBox="0 0 16 16" version="1.1" width="16" data-view-component="true" class="octicon octicon-git-pull-request">
    <path d="M1.5 3.25a2.25 2.25 0 1 1 3 2.122v5.256a2.251 2.251 0 1 1-1.5 0V5.372A2.25 2.25 0 0 1 1.5 3.25Zm5.677-.177L9.573.677A.25.25 0 0 1 10 .854V2.5h1A2.5 2.5 0 0 1 13.5 5v5.628a2.251 2.251 0 1 1-1.5 0V5a1 1 0 0 0-1-1h-1v1.646a.25.25 0 0 1-.427.177L7.177 3.427a.25.25 0 0 1 0-.354ZM3.75 2.5a.75.75 0 1 0 0 1.5.75.75 0 0 0 0-1.5Zm0 9.5a.75.75 0 1 0 0 1.5.75.75 0 0 0 0-1.5Zm8.25.75a.75.75 0 1 0 1.5 0 .75.75 0 0 0-1.5 0Z"></path>
</svg>
        </span>
      
        <span data-view-component="true" class="ActionListItem-label">
          Pull requests
</span></a>
  
  
</li>

        
          
<li data-item-id="" data-targets="nav-list.items" data-item-id="projects" data-view-component="true" class="ActionListItem">
    
    <a data-analytics-event="{&quot;category&quot;:&quot;Global navigation&quot;,&quot;action&quot;:&quot;PROJECTS&quot;,&quot;label&quot;:null}" id="item-8f684869-e020-4c4f-9d08-77082178f7cc" href="/projects" data-view-component="true" class="ActionListContent ActionListContent--visual16">
        <span class="ActionListItem-visual ActionListItem-visual--leading">
          <svg aria-hidden="true" height="16" viewBox="0 0 16 16" version="1.1" width="16" data-view-component="true" class="octicon octicon-table">
    <path d="M0 1.75C0 .784.784 0 1.75 0h12.5C15.216 0 16 .784 16 1.75v12.5A1.75 1.75 0 0 1 14.25 16H1.75A1.75 1.75 0 0 1 0 14.25ZM6.5 6.5v8h7.75a.25.25 0 0 0 .25-.25V6.5Zm8-1.5V1.75a.25.25 0 0 0-.25-.25H6.5V5Zm-13 1.5v7.75c0 .138.112.25.25.25H5v-8ZM5 5V1.5H1.75a.25.25 0 0 0-.25.25V5Z"></path>
</svg>
        </span>
      
        <span data-view-component="true" class="ActionListItem-label">
          Projects
</span></a>
  
  
</li>

        
          
<li data-item-id="" data-targets="nav-list.items" data-view-component="true" class="ActionListItem">
    
    <a data-analytics-event="{&quot;category&quot;:&quot;Global navigation&quot;,&quot;action&quot;:&quot;DISCUSSIONS&quot;,&quot;label&quot;:null}" id="item-9d2eed21-76e9-44b2-8083-e6cdaa8f8d11" href="/discussions" data-view-component="true" class="ActionListContent ActionListContent--visual16">
        <span class="ActionListItem-visual ActionListItem-visual--leading">
          <svg aria-hidden="true" height="16" viewBox="0 0 16 16" version="1.1" width="16" data-view-component="true" class="octicon octicon-comment-discussion">
    <path d="M1.75 1h8.5c.966 0 1.75.784 1.75 1.75v5.5A1.75 1.75 0 0 1 10.25 10H7.061l-2.574 2.573A1.458 1.458 0 0 1 2 11.543V10h-.25A1.75 1.75 0 0 1 0 8.25v-5.5C0 1.784.784 1 1.75 1ZM1.5 2.75v5.5c0 .138.112.25.25.25h1a.75.75 0 0 1 .75.75v2.19l2.72-2.72a.749.749 0 0 1 .53-.22h3.5a.25.25 0 0 0 .25-.25v-5.5a.25.25 0 0 0-.25-.25h-8.5a.25.25 0 0 0-.25.25Zm13 2a.25.25 0 0 0-.25-.25h-.5a.75.75 0 0 1 0-1.5h.5c.966 0 1.75.784 1.75 1.75v5.5A1.75 1.75 0 0 1 14.25 12H14v1.543a1.458 1.458 0 0 1-2.487 1.03L9.22 12.28a.749.749 0 0 1 .326-1.275.749.749 0 0 1 .734.215l2.22 2.22v-2.19a.75.75 0 0 1 .75-.75h1a.25.25 0 0 0 .25-.25Z"></path>
</svg>
        </span>
      
        <span data-view-component="true" class="ActionListItem-label">
          Discussions
</span></a>
  
  
</li>

        
          
<li data-item-id="" data-targets="nav-list.items" data-view-component="true" class="ActionListItem">
    
    <a data-analytics-event="{&quot;category&quot;:&quot;Global navigation&quot;,&quot;action&quot;:&quot;CODESPACES&quot;,&quot;label&quot;:null}" id="item-0e7cd239-51ad-4c7a-b9fa-0eba58f6ca2d" href="https://github.com/codespaces" data-view-component="true" class="ActionListContent ActionListContent--visual16">
        <span class="ActionListItem-visual ActionListItem-visual--leading">
          <svg aria-hidden="true" height="16" viewBox="0 0 16 16" version="1.1" width="16" data-view-component="true" class="octicon octicon-codespaces">
    <path d="M0 11.25c0-.966.784-1.75 1.75-1.75h12.5c.966 0 1.75.784 1.75 1.75v3A1.75 1.75 0 0 1 14.25 16H1.75A1.75 1.75 0 0 1 0 14.25Zm2-9.5C2 .784 2.784 0 3.75 0h8.5C13.216 0 14 .784 14 1.75v5a1.75 1.75 0 0 1-1.75 1.75h-8.5A1.75 1.75 0 0 1 2 6.75Zm1.75-.25a.25.25 0 0 0-.25.25v5c0 .138.112.25.25.25h8.5a.25.25 0 0 0 .25-.25v-5a.25.25 0 0 0-.25-.25Zm-2 9.5a.25.25 0 0 0-.25.25v3c0 .138.112.25.25.25h12.5a.25.25 0 0 0 .25-.25v-3a.25.25 0 0 0-.25-.25Z"></path><path d="M7 12.75a.75.75 0 0 1 .75-.75h4.5a.75.75 0 0 1 0 1.5h-4.5a.75.75 0 0 1-.75-.75Zm-4 0a.75.75 0 0 1 .75-.75h.5a.75.75 0 0 1 0 1.5h-.5a.75.75 0 0 1-.75-.75Z"></path>
</svg>
        </span>
      
        <span data-view-component="true" class="ActionListItem-label">
          Codespaces
</span></a>
  
  
</li>

        
          <li role="presentation" aria-hidden="true" data-view-component="true" class="ActionList-sectionDivider"></li>
        
          
<li data-item-id="" data-targets="nav-list.items" data-view-component="true" class="ActionListItem">
    
    <a data-analytics-event="{&quot;category&quot;:&quot;Global navigation&quot;,&quot;action&quot;:&quot;EXPLORE&quot;,&quot;label&quot;:null}" id="item-3696514a-db10-4f98-9123-1a6e80a8a063" href="/explore" data-view-component="true" class="ActionListContent ActionListContent--visual16">
        <span class="ActionListItem-visual ActionListItem-visual--leading">
          <svg aria-hidden="true" height="16" viewBox="0 0 16 16" version="1.1" width="16" data-view-component="true" class="octicon octicon-telescope">
    <path d="M14.184 1.143v-.001l1.422 2.464a1.75 1.75 0 0 1-.757 2.451L3.104 11.713a1.75 1.75 0 0 1-2.275-.702l-.447-.775a1.75 1.75 0 0 1 .53-2.32L11.682.573a1.748 1.748 0 0 1 2.502.57Zm-4.709 9.32h-.001l2.644 3.863a.75.75 0 1 1-1.238.848l-1.881-2.75v2.826a.75.75 0 0 1-1.5 0v-2.826l-1.881 2.75a.75.75 0 1 1-1.238-.848l2.049-2.992a.746.746 0 0 1 .293-.253l1.809-.87a.749.749 0 0 1 .944.252ZM9.436 3.92h-.001l-4.97 3.39.942 1.63 5.42-2.61Zm3.091-2.108h.001l-1.85 1.26 1.505 2.605 2.016-.97a.247.247 0 0 0 .13-.151.247.247 0 0 0-.022-.199l-1.422-2.464a.253.253 0 0 0-.161-.119.254.254 0 0 0-.197.038ZM1.756 9.157a.25.25 0 0 0-.075.33l.447.775a.25.25 0 0 0 .325.1l1.598-.769-.83-1.436-1.465 1Z"></path>
</svg>
        </span>
      
        <span data-view-component="true" class="ActionListItem-label">
          Explore
</span></a>
  
  
</li>

        
          
<li data-item-id="" data-targets="nav-list.items" data-view-component="true" class="ActionListItem">
    
    <a data-analytics-event="{&quot;category&quot;:&quot;Global navigation&quot;,&quot;action&quot;:&quot;MARKETPLACE&quot;,&quot;label&quot;:null}" id="item-0f8ba9b3-7eff-4f7d-b5cb-1930ba9dfc43" href="/marketplace" data-view-component="true" class="ActionListContent ActionListContent--visual16">
        <span class="ActionListItem-visual ActionListItem-visual--leading">
          <svg aria-hidden="true" height="16" viewBox="0 0 16 16" version="1.1" width="16" data-view-component="true" class="octicon octicon-gift">
    <path d="M2 2.75A2.75 2.75 0 0 1 4.75 0c.983 0 1.873.42 2.57 1.232.268.318.497.668.68 1.042.183-.375.411-.725.68-1.044C9.376.42 10.266 0 11.25 0a2.75 2.75 0 0 1 2.45 4h.55c.966 0 1.75.784 1.75 1.75v2c0 .698-.409 1.301-1 1.582v4.918A1.75 1.75 0 0 1 13.25 16H2.75A1.75 1.75 0 0 1 1 14.25V9.332C.409 9.05 0 8.448 0 7.75v-2C0 4.784.784 4 1.75 4h.55c-.192-.375-.3-.8-.3-1.25ZM7.25 9.5H2.5v4.75c0 .138.112.25.25.25h4.5Zm1.5 0v5h4.5a.25.25 0 0 0 .25-.25V9.5Zm0-4V8h5.5a.25.25 0 0 0 .25-.25v-2a.25.25 0 0 0-.25-.25Zm-7 0a.25.25 0 0 0-.25.25v2c0 .138.112.25.25.25h5.5V5.5h-5.5Zm3-4a1.25 1.25 0 0 0 0 2.5h2.309c-.233-.818-.542-1.401-.878-1.793-.43-.502-.915-.707-1.431-.707ZM8.941 4h2.309a1.25 1.25 0 0 0 0-2.5c-.516 0-1 .205-1.43.707-.337.392-.646.975-.879 1.793Z"></path>
</svg>
        </span>
      
        <span data-view-component="true" class="ActionListItem-label">
          Marketplace
</span></a>
  
  
</li>

</ul>  </nav-list>
</nav>

        <div data-view-component="true" class="my-3 d-flex flex-justify-center height-full">
          <svg style="box-sizing: content-box; color: var(--color-icon-primary);" width="16" height="16" viewBox="0 0 16 16" fill="none" data-view-component="true" class="anim-rotate">
  <circle cx="8" cy="8" r="7" stroke="currentColor" stroke-opacity="0.25" stroke-width="2" vector-effect="non-scaling-stroke" fill="none" />
  <path d="M15 8a7.002 7.002 0 00-7-7" stroke="currentColor" stroke-width="2" stroke-linecap="round" vector-effect="non-scaling-stroke" />
</svg>
</div>
</div>
      <div data-view-component="true" class="flex-1"></div>


      <div data-view-component="true" class="px-2">      <p class="color-fg-subtle text-small text-light">&copy; 2024 GitHub, Inc.</p>

      <div data-view-component="true" class="d-flex flex-wrap text-small text-light">
          <a target="_blank" href="https://github.com/about" data-view-component="true" class="Link mr-2">About</a>
          <a target="_blank" href="https://github.blog" data-view-component="true" class="Link mr-2">Blog</a>
          <a target="_blank" href="https://docs.github.com/site-policy/github-terms/github-terms-of-service" data-view-component="true" class="Link mr-2">Terms</a>
          <a target="_blank" href="https://docs.github.com/site-policy/privacy-policies/github-privacy-statement" data-view-component="true" class="Link mr-2">Privacy</a>
          <a target="_blank" href="https://github.com/security" data-view-component="true" class="Link mr-2">Security</a>
          <a target="_blank" href="https://www.githubstatus.com/" data-view-component="true" class="Link mr-3">Status</a>

</div></div>
</div>
      </scrollable-region>
      
</dialog></dialog-helper>

  </include-fragment>
</deferred-side-panel>

        <a
          class="AppHeader-logo ml-2"
          href="https://github.com/"
          data-hotkey="g d"
          aria-label="Homepage "
          data-turbo="false"
          data-analytics-event="{&quot;category&quot;:&quot;Header&quot;,&quot;action&quot;:&quot;go to dashboard&quot;,&quot;label&quot;:&quot;icon:logo&quot;}"
        >
          <svg height="32" aria-hidden="true" viewBox="0 0 16 16" version="1.1" width="32" data-view-component="true" class="octicon octicon-mark-github v-align-middle color-fg-default">
    <path d="M8 0c4.42 0 8 3.58 8 8a8.013 8.013 0 0 1-5.45 7.59c-.4.08-.55-.17-.55-.38 0-.27.01-1.13.01-2.2 0-.75-.25-1.23-.54-1.48 1.78-.2 3.65-.88 3.65-3.95 0-.88-.31-1.59-.82-2.15.08-.2.36-1.02-.08-2.12 0 0-.67-.22-2.2.82-.64-.18-1.32-.27-2-.27-.68 0-1.36.09-2 .27-1.53-1.03-2.2-.82-2.2-.82-.44 1.1-.16 1.92-.08 2.12-.51.56-.82 1.28-.82 2.15 0 3.06 1.86 3.75 3.64 3.95-.23.2-.44.55-.51 1.07-.46.21-1.61.55-2.33-.66-.15-.24-.6-.83-1.23-.82-.67.01-.27.38.01.53.34.19.73.9.82 1.13.16.45.68 1.31 2.69.94 0 .67.01 1.3.01 1.49 0 .21-.15.45-.55.38A7.995 7.995 0 0 1 0 8c0-4.42 3.58-8 8-8Z"></path>
</svg>
        </a>

          <div class="AppHeader-context" >
  <div class="AppHeader-context-compact">
      <button aria-expanded="false" aria-haspopup="dialog" aria-label="Page context: ashwinreddy2 / 700745488--Assignment-9-Ashwin-kumar-Reddy" id="dialog-show-context-region-dialog" data-show-dialog-id="context-region-dialog" type="button" data-view-component="true" class="AppHeader-context-compact-trigger Truncate Button--secondary Button--medium Button box-shadow-none">  <span class="Button-content">
    <span class="Button-label"><span class="AppHeader-context-compact-lead">
                <span class="AppHeader-context-compact-parentItem">ashwinreddy2</span>
                <span class="no-wrap">&nbsp;/</span>

            </span>

            <strong class="AppHeader-context-compact-mainItem d-flex flex-items-center Truncate" >
  <span class="Truncate-text ">700745488--Assignment-9-Ashwin-kumar-Reddy</span>

</strong></span>
  </span>
</button>

<dialog-helper>
  <dialog id="context-region-dialog" aria-modal="true" aria-labelledby="context-region-dialog-title" aria-describedby="context-region-dialog-description" data-view-component="true" class="Overlay Overlay-whenNarrow Overlay--size-medium Overlay--motion-scaleFade">
    <div data-view-component="true" class="Overlay-header">
  <div class="Overlay-headerContentWrap">
    <div class="Overlay-titleWrap">
      <h1 class="Overlay-title " id="context-region-dialog-title">
        Navigate back to
      </h1>
    </div>
    <div class="Overlay-actionWrap">
      <button data-close-dialog-id="context-region-dialog" aria-label="Close" type="button" data-view-component="true" class="close-button Overlay-closeButton"><svg aria-hidden="true" height="16" viewBox="0 0 16 16" version="1.1" width="16" data-view-component="true" class="octicon octicon-x">
    <path d="M3.72 3.72a.75.75 0 0 1 1.06 0L8 6.94l3.22-3.22a.749.749 0 0 1 1.275.326.749.749 0 0 1-.215.734L9.06 8l3.22 3.22a.749.749 0 0 1-.326 1.275.749.749 0 0 1-.734-.215L8 9.06l-3.22 3.22a.751.751 0 0 1-1.042-.018.751.751 0 0 1-.018-1.042L6.94 8 3.72 4.78a.75.75 0 0 1 0-1.06Z"></path>
</svg></button>
    </div>
  </div>
</div>
      <scrollable-region data-labelled-by="context-region-dialog-title">
        <div data-view-component="true" class="Overlay-body">          <ul role="list" class="list-style-none" >
    <li>
      <a data-analytics-event="{&quot;category&quot;:&quot;SiteHeaderComponent&quot;,&quot;action&quot;:&quot;context_region_crumb&quot;,&quot;label&quot;:&quot;ashwinreddy2&quot;,&quot;screen_size&quot;:&quot;compact&quot;}" href="/ashwinreddy2" data-view-component="true" class="Link--primary Truncate d-flex flex-items-center py-1">
        <span class="AppHeader-context-item-label Truncate-text ">
            <svg aria-hidden="true" height="12" viewBox="0 0 16 16" version="1.1" width="12" data-view-component="true" class="octicon octicon-person mr-1">
    <path d="M10.561 8.073a6.005 6.005 0 0 1 3.432 5.142.75.75 0 1 1-1.498.07 4.5 4.5 0 0 0-8.99 0 .75.75 0 0 1-1.498-.07 6.004 6.004 0 0 1 3.431-5.142 3.999 3.999 0 1 1 5.123 0ZM10.5 5a2.5 2.5 0 1 0-5 0 2.5 2.5 0 0 0 5 0Z"></path>
</svg>

          ashwinreddy2
        </span>

</a>
    </li>
    <li>
      <a data-analytics-event="{&quot;category&quot;:&quot;SiteHeaderComponent&quot;,&quot;action&quot;:&quot;context_region_crumb&quot;,&quot;label&quot;:&quot;700745488--Assignment-9-Ashwin-kumar-Reddy&quot;,&quot;screen_size&quot;:&quot;compact&quot;}" href="/ashwinreddy2/700745488--Assignment-9-Ashwin-kumar-Reddy" data-view-component="true" class="Link--primary Truncate d-flex flex-items-center py-1">
        <span class="AppHeader-context-item-label Truncate-text ">
            <svg aria-hidden="true" height="12" viewBox="0 0 16 16" version="1.1" width="12" data-view-component="true" class="octicon octicon-repo mr-1">
    <path d="M2 2.5A2.5 2.5 0 0 1 4.5 0h8.75a.75.75 0 0 1 .75.75v12.5a.75.75 0 0 1-.75.75h-2.5a.75.75 0 0 1 0-1.5h1.75v-2h-8a1 1 0 0 0-.714 1.7.75.75 0 1 1-1.072 1.05A2.495 2.495 0 0 1 2 11.5Zm10.5-1h-8a1 1 0 0 0-1 1v6.708A2.486 2.486 0 0 1 4.5 9h8ZM5 12.25a.25.25 0 0 1 .25-.25h3.5a.25.25 0 0 1 .25.25v3.25a.25.25 0 0 1-.4.2l-1.45-1.087a.249.249 0 0 0-.3 0L5.4 15.7a.25.25 0 0 1-.4-.2Z"></path>
</svg>

          700745488--Assignment-9-Ashwin-kumar-Reddy
        </span>

</a>
    </li>
</ul>

</div>
      </scrollable-region>
      
</dialog></dialog-helper>
  </div>

  <div class="AppHeader-context-full">
    <nav role="navigation" aria-label="Page context">
      <ul role="list" class="list-style-none" >
    <li>
      <a data-analytics-event="{&quot;category&quot;:&quot;SiteHeaderComponent&quot;,&quot;action&quot;:&quot;context_region_crumb&quot;,&quot;label&quot;:&quot;ashwinreddy2&quot;,&quot;screen_size&quot;:&quot;full&quot;}" data-hovercard-type="user" data-hovercard-url="/users/ashwinreddy2/hovercard" data-octo-click="hovercard-link-click" data-octo-dimensions="link_type:self" href="/ashwinreddy2" data-view-component="true" class="AppHeader-context-item">
        <span class="AppHeader-context-item-label  ">

          ashwinreddy2
        </span>

</a>
        <span class="AppHeader-context-item-separator">/</span>
    </li>
    <li>
      <a data-analytics-event="{&quot;category&quot;:&quot;SiteHeaderComponent&quot;,&quot;action&quot;:&quot;context_region_crumb&quot;,&quot;label&quot;:&quot;700745488--Assignment-9-Ashwin-kumar-Reddy&quot;,&quot;screen_size&quot;:&quot;full&quot;}" href="/ashwinreddy2/700745488--Assignment-9-Ashwin-kumar-Reddy" data-view-component="true" class="AppHeader-context-item">
        <span class="AppHeader-context-item-label  ">

          700745488--Assignment-9-Ashwin-kumar-Reddy
        </span>

</a>
    </li>
</ul>

    </nav>
  </div>
</div>

      </div>
      <div class="AppHeader-globalBar-end">
          <div class="AppHeader-search" >
              


<qbsearch-input class="search-input" data-scope="repo:ashwinreddy2/700745488--Assignment-9-Ashwin-kumar-Reddy" data-custom-scopes-path="/search/custom_scopes" data-delete-custom-scopes-csrf="RUxOOA_xJpV6wIrEPCq6jDUN1z0W1cnIQwMfzliM_rdiNGhiEok3CuL1ZynMytc6iEfhylPdvT6yPgz5LY6-IA" data-max-custom-scopes="10" data-header-redesign-enabled="true" data-initial-value="" data-blackbird-suggestions-path="/search/suggestions" data-jump-to-suggestions-path="/_graphql/GetSuggestedNavigationDestinations" data-current-repository="ashwinreddy2/700745488--Assignment-9-Ashwin-kumar-Reddy" data-current-org="" data-current-owner="ashwinreddy2" data-logged-in="true" data-copilot-chat-enabled="false" data-blackbird-indexed-repo-csrf="<input type=&quot;hidden&quot; value=&quot;YoPOjTRI0rxR2g3ac8xtfNEMuW_4Azf2-G4YR46z6RmmcdxDyNbxMFeu8GtXb8ToxQmh-QfjV_nt8R1jF1WfmQ&quot; data-csrf=&quot;true&quot; />">
  <div
    class="search-input-container search-with-dialog position-relative d-flex flex-row flex-items-center height-auto color-bg-transparent border-0 color-fg-subtle mx-0"
    data-action="click:qbsearch-input#searchInputContainerClicked"
  >
      
            <button type="button" data-action="click:qbsearch-input#handleExpand" class="AppHeader-button AppHeader-search-whenNarrow" aria-label="Search or jump to…" aria-expanded="false" aria-haspopup="dialog">
            <svg aria-hidden="true" height="16" viewBox="0 0 16 16" version="1.1" width="16" data-view-component="true" class="octicon octicon-search">
    <path d="M10.68 11.74a6 6 0 0 1-7.922-8.982 6 6 0 0 1 8.982 7.922l3.04 3.04a.749.749 0 0 1-.326 1.275.749.749 0 0 1-.734-.215ZM11.5 7a4.499 4.499 0 1 0-8.997 0A4.499 4.499 0 0 0 11.5 7Z"></path>
</svg>
          </button>


<div class="AppHeader-search-whenRegular">
  <div class="AppHeader-search-wrap AppHeader-search-wrap--hasTrailing">
    <div class="AppHeader-search-control">
      <label
        for="AppHeader-searchInput"
        aria-label="Search or jump to…"
        class="AppHeader-search-visual--leading"
      >
        <svg aria-hidden="true" height="16" viewBox="0 0 16 16" version="1.1" width="16" data-view-component="true" class="octicon octicon-search">
    <path d="M10.68 11.74a6 6 0 0 1-7.922-8.982 6 6 0 0 1 8.982 7.922l3.04 3.04a.749.749 0 0 1-.326 1.275.749.749 0 0 1-.734-.215ZM11.5 7a4.499 4.499 0 1 0-8.997 0A4.499 4.499 0 0 0 11.5 7Z"></path>
</svg>
      </label>

                <button
            type="button"
            data-target="qbsearch-input.inputButton"
            data-action="click:qbsearch-input#handleExpand"
            class="AppHeader-searchButton form-control input-contrast text-left color-fg-subtle no-wrap"
            data-hotkey="s,/"
            data-analytics-event="{&quot;category&quot;:&quot;Global navigation&quot;,&quot;action&quot;:&quot;SEARCH&quot;,&quot;label&quot;:null}"
          >
            <div class="overflow-hidden">
              <span id="qb-input-query" data-target="qbsearch-input.inputButtonText">
                  Type <kbd class="AppHeader-search-kbd">/</kbd> to search
              </span>
            </div>
          </button>

    </div>


      <button type="button" id="AppHeader-commandPalette-button" class="AppHeader-search-action--trailing js-activate-command-palette" data-analytics-event="{&quot;category&quot;:&quot;SiteHeaderComponent&quot;,&quot;action&quot;:&quot;command_palette&quot;,&quot;label&quot;:&quot;open command palette&quot;}">
        <svg aria-hidden="true" height="16" viewBox="0 0 16 16" version="1.1" width="16" data-view-component="true" class="octicon octicon-command-palette">
    <path d="m6.354 8.04-4.773 4.773a.75.75 0 1 0 1.061 1.06L7.945 8.57a.75.75 0 0 0 0-1.06L2.642 2.206a.75.75 0 0 0-1.06 1.061L6.353 8.04ZM8.75 11.5a.75.75 0 0 0 0 1.5h5.5a.75.75 0 0 0 0-1.5h-5.5Z"></path>
</svg>
      </button>

      <tool-tip id="tooltip-c4e7db2d-a0fa-4cd6-9456-a4b9499f04a8" for="AppHeader-commandPalette-button" popover="manual" data-direction="s" data-type="label" data-view-component="true" class="sr-only position-absolute">Command palette</tool-tip>
  </div>
</div>

    <input type="hidden" name="type" class="js-site-search-type-field">

    
<div class="Overlay--hidden " data-modal-dialog-overlay>
  <modal-dialog data-action="close:qbsearch-input#handleClose cancel:qbsearch-input#handleClose" data-target="qbsearch-input.searchSuggestionsDialog" role="dialog" id="search-suggestions-dialog" aria-modal="true" aria-labelledby="search-suggestions-dialog-header" data-view-component="true" class="Overlay Overlay--width-medium Overlay--height-auto">
      <h1 id="search-suggestions-dialog-header" class="sr-only">Search code, repositories, users, issues, pull requests...</h1>
    <div class="Overlay-body Overlay-body--paddingNone">
      
          <div data-view-component="true">        <div class="search-suggestions position-absolute width-full color-shadow-large border color-fg-default color-bg-default overflow-hidden d-flex flex-column query-builder-container"
          style="border-radius: 12px;"
          data-target="qbsearch-input.queryBuilderContainer"
          hidden
        >
          <!-- '"` --><!-- </textarea></xmp> --></option></form><form id="query-builder-test-form" action="" accept-charset="UTF-8" method="get">
  <query-builder data-target="qbsearch-input.queryBuilder" id="query-builder-query-builder-test" data-filter-key=":" data-view-component="true" class="QueryBuilder search-query-builder">
    <div class="FormControl FormControl--fullWidth">
      <label id="query-builder-test-label" for="query-builder-test" class="FormControl-label sr-only">
        Search
      </label>
      <div
        class="QueryBuilder-StyledInput width-fit "
        data-target="query-builder.styledInput"
      >
          <span id="query-builder-test-leadingvisual-wrap" class="FormControl-input-leadingVisualWrap QueryBuilder-leadingVisualWrap">
            <svg aria-hidden="true" height="16" viewBox="0 0 16 16" version="1.1" width="16" data-view-component="true" class="octicon octicon-search FormControl-input-leadingVisual">
    <path d="M10.68 11.74a6 6 0 0 1-7.922-8.982 6 6 0 0 1 8.982 7.922l3.04 3.04a.749.749 0 0 1-.326 1.275.749.749 0 0 1-.734-.215ZM11.5 7a4.499 4.499 0 1 0-8.997 0A4.499 4.499 0 0 0 11.5 7Z"></path>
</svg>
          </span>
        <div data-target="query-builder.styledInputContainer" class="QueryBuilder-StyledInputContainer">
          <div
            aria-hidden="true"
            class="QueryBuilder-StyledInputContent"
            data-target="query-builder.styledInputContent"
          ></div>
          <div class="QueryBuilder-InputWrapper">
            <div aria-hidden="true" class="QueryBuilder-Sizer" data-target="query-builder.sizer"></div>
            <input id="query-builder-test" name="query-builder-test" value="" autocomplete="off" type="text" role="combobox" spellcheck="false" aria-expanded="false" aria-describedby="validation-6a1ca9d1-4cda-48c7-a90a-c2929fe20176" data-target="query-builder.input" data-action="
          input:query-builder#inputChange
          blur:query-builder#inputBlur
          keydown:query-builder#inputKeydown
          focus:query-builder#inputFocus
        " data-view-component="true" class="FormControl-input QueryBuilder-Input FormControl-medium" />
          </div>
        </div>
          <span class="sr-only" id="query-builder-test-clear">Clear</span>
          <button role="button" id="query-builder-test-clear-button" aria-labelledby="query-builder-test-clear query-builder-test-label" data-target="query-builder.clearButton" data-action="
                click:query-builder#clear
                focus:query-builder#clearButtonFocus
                blur:query-builder#clearButtonBlur
              " variant="small" hidden="hidden" type="button" data-view-component="true" class="Button Button--iconOnly Button--invisible Button--medium mr-1 px-2 py-0 d-flex flex-items-center rounded-1 color-fg-muted">  <svg aria-hidden="true" height="16" viewBox="0 0 16 16" version="1.1" width="16" data-view-component="true" class="octicon octicon-x-circle-fill Button-visual">
    <path d="M2.343 13.657A8 8 0 1 1 13.658 2.343 8 8 0 0 1 2.343 13.657ZM6.03 4.97a.751.751 0 0 0-1.042.018.751.751 0 0 0-.018 1.042L6.94 8 4.97 9.97a.749.749 0 0 0 .326 1.275.749.749 0 0 0 .734-.215L8 9.06l1.97 1.97a.749.749 0 0 0 1.275-.326.749.749 0 0 0-.215-.734L9.06 8l1.97-1.97a.749.749 0 0 0-.326-1.275.749.749 0 0 0-.734.215L8 6.94Z"></path>
</svg>
</button>

      </div>
      <template id="search-icon">
  <svg aria-hidden="true" height="16" viewBox="0 0 16 16" version="1.1" width="16" data-view-component="true" class="octicon octicon-search">
    <path d="M10.68 11.74a6 6 0 0 1-7.922-8.982 6 6 0 0 1 8.982 7.922l3.04 3.04a.749.749 0 0 1-.326 1.275.749.749 0 0 1-.734-.215ZM11.5 7a4.499 4.499 0 1 0-8.997 0A4.499 4.499 0 0 0 11.5 7Z"></path>
</svg>
</template>

<template id="code-icon">
  <svg aria-hidden="true" height="16" viewBox="0 0 16 16" version="1.1" width="16" data-view-component="true" class="octicon octicon-code">
    <path d="m11.28 3.22 4.25 4.25a.75.75 0 0 1 0 1.06l-4.25 4.25a.749.749 0 0 1-1.275-.326.749.749 0 0 1 .215-.734L13.94 8l-3.72-3.72a.749.749 0 0 1 .326-1.275.749.749 0 0 1 .734.215Zm-6.56 0a.751.751 0 0 1 1.042.018.751.751 0 0 1 .018 1.042L2.06 8l3.72 3.72a.749.749 0 0 1-.326 1.275.749.749 0 0 1-.734-.215L.47 8.53a.75.75 0 0 1 0-1.06Z"></path>
</svg>
</template>

<template id="file-code-icon">
  <svg aria-hidden="true" height="16" viewBox="0 0 16 16" version="1.1" width="16" data-view-component="true" class="octicon octicon-file-code">
    <path d="M4 1.75C4 .784 4.784 0 5.75 0h5.586c.464 0 .909.184 1.237.513l2.914 2.914c.329.328.513.773.513 1.237v8.586A1.75 1.75 0 0 1 14.25 15h-9a.75.75 0 0 1 0-1.5h9a.25.25 0 0 0 .25-.25V6h-2.75A1.75 1.75 0 0 1 10 4.25V1.5H5.75a.25.25 0 0 0-.25.25v2.5a.75.75 0 0 1-1.5 0Zm1.72 4.97a.75.75 0 0 1 1.06 0l2 2a.75.75 0 0 1 0 1.06l-2 2a.749.749 0 0 1-1.275-.326.749.749 0 0 1 .215-.734l1.47-1.47-1.47-1.47a.75.75 0 0 1 0-1.06ZM3.28 7.78 1.81 9.25l1.47 1.47a.751.751 0 0 1-.018 1.042.751.751 0 0 1-1.042.018l-2-2a.75.75 0 0 1 0-1.06l2-2a.751.751 0 0 1 1.042.018.751.751 0 0 1 .018 1.042Zm8.22-6.218V4.25c0 .138.112.25.25.25h2.688l-.011-.013-2.914-2.914-.013-.011Z"></path>
</svg>
</template>

<template id="history-icon">
  <svg aria-hidden="true" height="16" viewBox="0 0 16 16" version="1.1" width="16" data-view-component="true" class="octicon octicon-history">
    <path d="m.427 1.927 1.215 1.215a8.002 8.002 0 1 1-1.6 5.685.75.75 0 1 1 1.493-.154 6.5 6.5 0 1 0 1.18-4.458l1.358 1.358A.25.25 0 0 1 3.896 6H.25A.25.25 0 0 1 0 5.75V2.104a.25.25 0 0 1 .427-.177ZM7.75 4a.75.75 0 0 1 .75.75v2.992l2.028.812a.75.75 0 0 1-.557 1.392l-2.5-1A.751.751 0 0 1 7 8.25v-3.5A.75.75 0 0 1 7.75 4Z"></path>
</svg>
</template>

<template id="repo-icon">
  <svg aria-hidden="true" height="16" viewBox="0 0 16 16" version="1.1" width="16" data-view-component="true" class="octicon octicon-repo">
    <path d="M2 2.5A2.5 2.5 0 0 1 4.5 0h8.75a.75.75 0 0 1 .75.75v12.5a.75.75 0 0 1-.75.75h-2.5a.75.75 0 0 1 0-1.5h1.75v-2h-8a1 1 0 0 0-.714 1.7.75.75 0 1 1-1.072 1.05A2.495 2.495 0 0 1 2 11.5Zm10.5-1h-8a1 1 0 0 0-1 1v6.708A2.486 2.486 0 0 1 4.5 9h8ZM5 12.25a.25.25 0 0 1 .25-.25h3.5a.25.25 0 0 1 .25.25v3.25a.25.25 0 0 1-.4.2l-1.45-1.087a.249.249 0 0 0-.3 0L5.4 15.7a.25.25 0 0 1-.4-.2Z"></path>
</svg>
</template>

<template id="bookmark-icon">
  <svg aria-hidden="true" height="16" viewBox="0 0 16 16" version="1.1" width="16" data-view-component="true" class="octicon octicon-bookmark">
    <path d="M3 2.75C3 1.784 3.784 1 4.75 1h6.5c.966 0 1.75.784 1.75 1.75v11.5a.75.75 0 0 1-1.227.579L8 11.722l-3.773 3.107A.751.751 0 0 1 3 14.25Zm1.75-.25a.25.25 0 0 0-.25.25v9.91l3.023-2.489a.75.75 0 0 1 .954 0l3.023 2.49V2.75a.25.25 0 0 0-.25-.25Z"></path>
</svg>
</template>

<template id="plus-circle-icon">
  <svg aria-hidden="true" height="16" viewBox="0 0 16 16" version="1.1" width="16" data-view-component="true" class="octicon octicon-plus-circle">
    <path d="M8 0a8 8 0 1 1 0 16A8 8 0 0 1 8 0ZM1.5 8a6.5 6.5 0 1 0 13 0 6.5 6.5 0 0 0-13 0Zm7.25-3.25v2.5h2.5a.75.75 0 0 1 0 1.5h-2.5v2.5a.75.75 0 0 1-1.5 0v-2.5h-2.5a.75.75 0 0 1 0-1.5h2.5v-2.5a.75.75 0 0 1 1.5 0Z"></path>
</svg>
</template>

<template id="circle-icon">
  <svg aria-hidden="true" height="16" viewBox="0 0 16 16" version="1.1" width="16" data-view-component="true" class="octicon octicon-dot-fill">
    <path d="M8 4a4 4 0 1 1 0 8 4 4 0 0 1 0-8Z"></path>
</svg>
</template>

<template id="trash-icon">
  <svg aria-hidden="true" height="16" viewBox="0 0 16 16" version="1.1" width="16" data-view-component="true" class="octicon octicon-trash">
    <path d="M11 1.75V3h2.25a.75.75 0 0 1 0 1.5H2.75a.75.75 0 0 1 0-1.5H5V1.75C5 .784 5.784 0 6.75 0h2.5C10.216 0 11 .784 11 1.75ZM4.496 6.675l.66 6.6a.25.25 0 0 0 .249.225h5.19a.25.25 0 0 0 .249-.225l.66-6.6a.75.75 0 0 1 1.492.149l-.66 6.6A1.748 1.748 0 0 1 10.595 15h-5.19a1.75 1.75 0 0 1-1.741-1.575l-.66-6.6a.75.75 0 1 1 1.492-.15ZM6.5 1.75V3h3V1.75a.25.25 0 0 0-.25-.25h-2.5a.25.25 0 0 0-.25.25Z"></path>
</svg>
</template>

<template id="team-icon">
  <svg aria-hidden="true" height="16" viewBox="0 0 16 16" version="1.1" width="16" data-view-component="true" class="octicon octicon-people">
    <path d="M2 5.5a3.5 3.5 0 1 1 5.898 2.549 5.508 5.508 0 0 1 3.034 4.084.75.75 0 1 1-1.482.235 4 4 0 0 0-7.9 0 .75.75 0 0 1-1.482-.236A5.507 5.507 0 0 1 3.102 8.05 3.493 3.493 0 0 1 2 5.5ZM11 4a3.001 3.001 0 0 1 2.22 5.018 5.01 5.01 0 0 1 2.56 3.012.749.749 0 0 1-.885.954.752.752 0 0 1-.549-.514 3.507 3.507 0 0 0-2.522-2.372.75.75 0 0 1-.574-.73v-.352a.75.75 0 0 1 .416-.672A1.5 1.5 0 0 0 11 5.5.75.75 0 0 1 11 4Zm-5.5-.5a2 2 0 1 0-.001 3.999A2 2 0 0 0 5.5 3.5Z"></path>
</svg>
</template>

<template id="project-icon">
  <svg aria-hidden="true" height="16" viewBox="0 0 16 16" version="1.1" width="16" data-view-component="true" class="octicon octicon-project">
    <path d="M1.75 0h12.5C15.216 0 16 .784 16 1.75v12.5A1.75 1.75 0 0 1 14.25 16H1.75A1.75 1.75 0 0 1 0 14.25V1.75C0 .784.784 0 1.75 0ZM1.5 1.75v12.5c0 .138.112.25.25.25h12.5a.25.25 0 0 0 .25-.25V1.75a.25.25 0 0 0-.25-.25H1.75a.25.25 0 0 0-.25.25ZM11.75 3a.75.75 0 0 1 .75.75v7.5a.75.75 0 0 1-1.5 0v-7.5a.75.75 0 0 1 .75-.75Zm-8.25.75a.75.75 0 0 1 1.5 0v5.5a.75.75 0 0 1-1.5 0ZM8 3a.75.75 0 0 1 .75.75v3.5a.75.75 0 0 1-1.5 0v-3.5A.75.75 0 0 1 8 3Z"></path>
</svg>
</template>

<template id="pencil-icon">
  <svg aria-hidden="true" height="16" viewBox="0 0 16 16" version="1.1" width="16" data-view-component="true" class="octicon octicon-pencil">
    <path d="M11.013 1.427a1.75 1.75 0 0 1 2.474 0l1.086 1.086a1.75 1.75 0 0 1 0 2.474l-8.61 8.61c-.21.21-.47.364-.756.445l-3.251.93a.75.75 0 0 1-.927-.928l.929-3.25c.081-.286.235-.547.445-.758l8.61-8.61Zm.176 4.823L9.75 4.81l-6.286 6.287a.253.253 0 0 0-.064.108l-.558 1.953 1.953-.558a.253.253 0 0 0 .108-.064Zm1.238-3.763a.25.25 0 0 0-.354 0L10.811 3.75l1.439 1.44 1.263-1.263a.25.25 0 0 0 0-.354Z"></path>
</svg>
</template>

<template id="copilot-icon">
  <svg aria-hidden="true" height="16" viewBox="0 0 16 16" version="1.1" width="16" data-view-component="true" class="octicon octicon-copilot">
    <path d="M7.998 15.035c-4.562 0-7.873-2.914-7.998-3.749V9.338c.085-.628.677-1.686 1.588-2.065.013-.07.024-.143.036-.218.029-.183.06-.384.126-.612-.201-.508-.254-1.084-.254-1.656 0-.87.128-1.769.693-2.484.579-.733 1.494-1.124 2.724-1.261 1.206-.134 2.262.034 2.944.765.05.053.096.108.139.165.044-.057.094-.112.143-.165.682-.731 1.738-.899 2.944-.765 1.23.137 2.145.528 2.724 1.261.566.715.693 1.614.693 2.484 0 .572-.053 1.148-.254 1.656.066.228.098.429.126.612.012.076.024.148.037.218.924.385 1.522 1.471 1.591 2.095v1.872c0 .766-3.351 3.795-8.002 3.795Zm0-1.485c2.28 0 4.584-1.11 5.002-1.433V7.862l-.023-.116c-.49.21-1.075.291-1.727.291-1.146 0-2.059-.327-2.71-.991A3.222 3.222 0 0 1 8 6.303a3.24 3.24 0 0 1-.544.743c-.65.664-1.563.991-2.71.991-.652 0-1.236-.081-1.727-.291l-.023.116v4.255c.419.323 2.722 1.433 5.002 1.433ZM6.762 2.83c-.193-.206-.637-.413-1.682-.297-1.019.113-1.479.404-1.713.7-.247.312-.369.789-.369 1.554 0 .793.129 1.171.308 1.371.162.181.519.379 1.442.379.853 0 1.339-.235 1.638-.54.315-.322.527-.827.617-1.553.117-.935-.037-1.395-.241-1.614Zm4.155-.297c-1.044-.116-1.488.091-1.681.297-.204.219-.359.679-.242 1.614.091.726.303 1.231.618 1.553.299.305.784.54 1.638.54.922 0 1.28-.198 1.442-.379.179-.2.308-.578.308-1.371 0-.765-.123-1.242-.37-1.554-.233-.296-.693-.587-1.713-.7Z"></path><path d="M6.25 9.037a.75.75 0 0 1 .75.75v1.501a.75.75 0 0 1-1.5 0V9.787a.75.75 0 0 1 .75-.75Zm4.25.75v1.501a.75.75 0 0 1-1.5 0V9.787a.75.75 0 0 1 1.5 0Z"></path>
</svg>
</template>

<template id="workflow-icon">
  <svg aria-hidden="true" height="16" viewBox="0 0 16 16" version="1.1" width="16" data-view-component="true" class="octicon octicon-workflow">
    <path d="M0 1.75C0 .784.784 0 1.75 0h3.5C6.216 0 7 .784 7 1.75v3.5A1.75 1.75 0 0 1 5.25 7H4v4a1 1 0 0 0 1 1h4v-1.25C9 9.784 9.784 9 10.75 9h3.5c.966 0 1.75.784 1.75 1.75v3.5A1.75 1.75 0 0 1 14.25 16h-3.5A1.75 1.75 0 0 1 9 14.25v-.75H5A2.5 2.5 0 0 1 2.5 11V7h-.75A1.75 1.75 0 0 1 0 5.25Zm1.75-.25a.25.25 0 0 0-.25.25v3.5c0 .138.112.25.25.25h3.5a.25.25 0 0 0 .25-.25v-3.5a.25.25 0 0 0-.25-.25Zm9 9a.25.25 0 0 0-.25.25v3.5c0 .138.112.25.25.25h3.5a.25.25 0 0 0 .25-.25v-3.5a.25.25 0 0 0-.25-.25Z"></path>
</svg>
</template>

<template id="book-icon">
  <svg aria-hidden="true" height="16" viewBox="0 0 16 16" version="1.1" width="16" data-view-component="true" class="octicon octicon-book">
    <path d="M0 1.75A.75.75 0 0 1 .75 1h4.253c1.227 0 2.317.59 3 1.501A3.743 3.743 0 0 1 11.006 1h4.245a.75.75 0 0 1 .75.75v10.5a.75.75 0 0 1-.75.75h-4.507a2.25 2.25 0 0 0-1.591.659l-.622.621a.75.75 0 0 1-1.06 0l-.622-.621A2.25 2.25 0 0 0 5.258 13H.75a.75.75 0 0 1-.75-.75Zm7.251 10.324.004-5.073-.002-2.253A2.25 2.25 0 0 0 5.003 2.5H1.5v9h3.757a3.75 3.75 0 0 1 1.994.574ZM8.755 4.75l-.004 7.322a3.752 3.752 0 0 1 1.992-.572H14.5v-9h-3.495a2.25 2.25 0 0 0-2.25 2.25Z"></path>
</svg>
</template>

<template id="code-review-icon">
  <svg aria-hidden="true" height="16" viewBox="0 0 16 16" version="1.1" width="16" data-view-component="true" class="octicon octicon-code-review">
    <path d="M1.75 1h12.5c.966 0 1.75.784 1.75 1.75v8.5A1.75 1.75 0 0 1 14.25 13H8.061l-2.574 2.573A1.458 1.458 0 0 1 3 14.543V13H1.75A1.75 1.75 0 0 1 0 11.25v-8.5C0 1.784.784 1 1.75 1ZM1.5 2.75v8.5c0 .138.112.25.25.25h2a.75.75 0 0 1 .75.75v2.19l2.72-2.72a.749.749 0 0 1 .53-.22h6.5a.25.25 0 0 0 .25-.25v-8.5a.25.25 0 0 0-.25-.25H1.75a.25.25 0 0 0-.25.25Zm5.28 1.72a.75.75 0 0 1 0 1.06L5.31 7l1.47 1.47a.751.751 0 0 1-.018 1.042.751.751 0 0 1-1.042.018l-2-2a.75.75 0 0 1 0-1.06l2-2a.75.75 0 0 1 1.06 0Zm2.44 0a.75.75 0 0 1 1.06 0l2 2a.75.75 0 0 1 0 1.06l-2 2a.751.751 0 0 1-1.042-.018.751.751 0 0 1-.018-1.042L10.69 7 9.22 5.53a.75.75 0 0 1 0-1.06Z"></path>
</svg>
</template>

<template id="codespaces-icon">
  <svg aria-hidden="true" height="16" viewBox="0 0 16 16" version="1.1" width="16" data-view-component="true" class="octicon octicon-codespaces">
    <path d="M0 11.25c0-.966.784-1.75 1.75-1.75h12.5c.966 0 1.75.784 1.75 1.75v3A1.75 1.75 0 0 1 14.25 16H1.75A1.75 1.75 0 0 1 0 14.25Zm2-9.5C2 .784 2.784 0 3.75 0h8.5C13.216 0 14 .784 14 1.75v5a1.75 1.75 0 0 1-1.75 1.75h-8.5A1.75 1.75 0 0 1 2 6.75Zm1.75-.25a.25.25 0 0 0-.25.25v5c0 .138.112.25.25.25h8.5a.25.25 0 0 0 .25-.25v-5a.25.25 0 0 0-.25-.25Zm-2 9.5a.25.25 0 0 0-.25.25v3c0 .138.112.25.25.25h12.5a.25.25 0 0 0 .25-.25v-3a.25.25 0 0 0-.25-.25Z"></path><path d="M7 12.75a.75.75 0 0 1 .75-.75h4.5a.75.75 0 0 1 0 1.5h-4.5a.75.75 0 0 1-.75-.75Zm-4 0a.75.75 0 0 1 .75-.75h.5a.75.75 0 0 1 0 1.5h-.5a.75.75 0 0 1-.75-.75Z"></path>
</svg>
</template>

<template id="comment-icon">
  <svg aria-hidden="true" height="16" viewBox="0 0 16 16" version="1.1" width="16" data-view-component="true" class="octicon octicon-comment">
    <path d="M1 2.75C1 1.784 1.784 1 2.75 1h10.5c.966 0 1.75.784 1.75 1.75v7.5A1.75 1.75 0 0 1 13.25 12H9.06l-2.573 2.573A1.458 1.458 0 0 1 4 13.543V12H2.75A1.75 1.75 0 0 1 1 10.25Zm1.75-.25a.25.25 0 0 0-.25.25v7.5c0 .138.112.25.25.25h2a.75.75 0 0 1 .75.75v2.19l2.72-2.72a.749.749 0 0 1 .53-.22h4.5a.25.25 0 0 0 .25-.25v-7.5a.25.25 0 0 0-.25-.25Z"></path>
</svg>
</template>

<template id="comment-discussion-icon">
  <svg aria-hidden="true" height="16" viewBox="0 0 16 16" version="1.1" width="16" data-view-component="true" class="octicon octicon-comment-discussion">
    <path d="M1.75 1h8.5c.966 0 1.75.784 1.75 1.75v5.5A1.75 1.75 0 0 1 10.25 10H7.061l-2.574 2.573A1.458 1.458 0 0 1 2 11.543V10h-.25A1.75 1.75 0 0 1 0 8.25v-5.5C0 1.784.784 1 1.75 1ZM1.5 2.75v5.5c0 .138.112.25.25.25h1a.75.75 0 0 1 .75.75v2.19l2.72-2.72a.749.749 0 0 1 .53-.22h3.5a.25.25 0 0 0 .25-.25v-5.5a.25.25 0 0 0-.25-.25h-8.5a.25.25 0 0 0-.25.25Zm13 2a.25.25 0 0 0-.25-.25h-.5a.75.75 0 0 1 0-1.5h.5c.966 0 1.75.784 1.75 1.75v5.5A1.75 1.75 0 0 1 14.25 12H14v1.543a1.458 1.458 0 0 1-2.487 1.03L9.22 12.28a.749.749 0 0 1 .326-1.275.749.749 0 0 1 .734.215l2.22 2.22v-2.19a.75.75 0 0 1 .75-.75h1a.25.25 0 0 0 .25-.25Z"></path>
</svg>
</template>

<template id="organization-icon">
  <svg aria-hidden="true" height="16" viewBox="0 0 16 16" version="1.1" width="16" data-view-component="true" class="octicon octicon-organization">
    <path d="M1.75 16A1.75 1.75 0 0 1 0 14.25V1.75C0 .784.784 0 1.75 0h8.5C11.216 0 12 .784 12 1.75v12.5c0 .085-.006.168-.018.25h2.268a.25.25 0 0 0 .25-.25V8.285a.25.25 0 0 0-.111-.208l-1.055-.703a.749.749 0 1 1 .832-1.248l1.055.703c.487.325.779.871.779 1.456v5.965A1.75 1.75 0 0 1 14.25 16h-3.5a.766.766 0 0 1-.197-.026c-.099.017-.2.026-.303.026h-3a.75.75 0 0 1-.75-.75V14h-1v1.25a.75.75 0 0 1-.75.75Zm-.25-1.75c0 .138.112.25.25.25H4v-1.25a.75.75 0 0 1 .75-.75h2.5a.75.75 0 0 1 .75.75v1.25h2.25a.25.25 0 0 0 .25-.25V1.75a.25.25 0 0 0-.25-.25h-8.5a.25.25 0 0 0-.25.25ZM3.75 6h.5a.75.75 0 0 1 0 1.5h-.5a.75.75 0 0 1 0-1.5ZM3 3.75A.75.75 0 0 1 3.75 3h.5a.75.75 0 0 1 0 1.5h-.5A.75.75 0 0 1 3 3.75Zm4 3A.75.75 0 0 1 7.75 6h.5a.75.75 0 0 1 0 1.5h-.5A.75.75 0 0 1 7 6.75ZM7.75 3h.5a.75.75 0 0 1 0 1.5h-.5a.75.75 0 0 1 0-1.5ZM3 9.75A.75.75 0 0 1 3.75 9h.5a.75.75 0 0 1 0 1.5h-.5A.75.75 0 0 1 3 9.75ZM7.75 9h.5a.75.75 0 0 1 0 1.5h-.5a.75.75 0 0 1 0-1.5Z"></path>
</svg>
</template>

<template id="rocket-icon">
  <svg aria-hidden="true" height="16" viewBox="0 0 16 16" version="1.1" width="16" data-view-component="true" class="octicon octicon-rocket">
    <path d="M14.064 0h.186C15.216 0 16 .784 16 1.75v.186a8.752 8.752 0 0 1-2.564 6.186l-.458.459c-.314.314-.641.616-.979.904v3.207c0 .608-.315 1.172-.833 1.49l-2.774 1.707a.749.749 0 0 1-1.11-.418l-.954-3.102a1.214 1.214 0 0 1-.145-.125L3.754 9.816a1.218 1.218 0 0 1-.124-.145L.528 8.717a.749.749 0 0 1-.418-1.11l1.71-2.774A1.748 1.748 0 0 1 3.31 4h3.204c.288-.338.59-.665.904-.979l.459-.458A8.749 8.749 0 0 1 14.064 0ZM8.938 3.623h-.002l-.458.458c-.76.76-1.437 1.598-2.02 2.5l-1.5 2.317 2.143 2.143 2.317-1.5c.902-.583 1.74-1.26 2.499-2.02l.459-.458a7.25 7.25 0 0 0 2.123-5.127V1.75a.25.25 0 0 0-.25-.25h-.186a7.249 7.249 0 0 0-5.125 2.123ZM3.56 14.56c-.732.732-2.334 1.045-3.005 1.148a.234.234 0 0 1-.201-.064.234.234 0 0 1-.064-.201c.103-.671.416-2.273 1.15-3.003a1.502 1.502 0 1 1 2.12 2.12Zm6.94-3.935c-.088.06-.177.118-.266.175l-2.35 1.521.548 1.783 1.949-1.2a.25.25 0 0 0 .119-.213ZM3.678 8.116 5.2 5.766c.058-.09.117-.178.176-.266H3.309a.25.25 0 0 0-.213.119l-1.2 1.95ZM12 5a1 1 0 1 1-2 0 1 1 0 0 1 2 0Z"></path>
</svg>
</template>

<template id="shield-check-icon">
  <svg aria-hidden="true" height="16" viewBox="0 0 16 16" version="1.1" width="16" data-view-component="true" class="octicon octicon-shield-check">
    <path d="m8.533.133 5.25 1.68A1.75 1.75 0 0 1 15 3.48V7c0 1.566-.32 3.182-1.303 4.682-.983 1.498-2.585 2.813-5.032 3.855a1.697 1.697 0 0 1-1.33 0c-2.447-1.042-4.049-2.357-5.032-3.855C1.32 10.182 1 8.566 1 7V3.48a1.75 1.75 0 0 1 1.217-1.667l5.25-1.68a1.748 1.748 0 0 1 1.066 0Zm-.61 1.429.001.001-5.25 1.68a.251.251 0 0 0-.174.237V7c0 1.36.275 2.666 1.057 3.859.784 1.194 2.121 2.342 4.366 3.298a.196.196 0 0 0 .154 0c2.245-.957 3.582-2.103 4.366-3.297C13.225 9.666 13.5 8.358 13.5 7V3.48a.25.25 0 0 0-.174-.238l-5.25-1.68a.25.25 0 0 0-.153 0ZM11.28 6.28l-3.5 3.5a.75.75 0 0 1-1.06 0l-1.5-1.5a.749.749 0 0 1 .326-1.275.749.749 0 0 1 .734.215l.97.97 2.97-2.97a.751.751 0 0 1 1.042.018.751.751 0 0 1 .018 1.042Z"></path>
</svg>
</template>

<template id="heart-icon">
  <svg aria-hidden="true" height="16" viewBox="0 0 16 16" version="1.1" width="16" data-view-component="true" class="octicon octicon-heart">
    <path d="m8 14.25.345.666a.75.75 0 0 1-.69 0l-.008-.004-.018-.01a7.152 7.152 0 0 1-.31-.17 22.055 22.055 0 0 1-3.434-2.414C2.045 10.731 0 8.35 0 5.5 0 2.836 2.086 1 4.25 1 5.797 1 7.153 1.802 8 3.02 8.847 1.802 10.203 1 11.75 1 13.914 1 16 2.836 16 5.5c0 2.85-2.045 5.231-3.885 6.818a22.066 22.066 0 0 1-3.744 2.584l-.018.01-.006.003h-.002ZM4.25 2.5c-1.336 0-2.75 1.164-2.75 3 0 2.15 1.58 4.144 3.365 5.682A20.58 20.58 0 0 0 8 13.393a20.58 20.58 0 0 0 3.135-2.211C12.92 9.644 14.5 7.65 14.5 5.5c0-1.836-1.414-3-2.75-3-1.373 0-2.609.986-3.029 2.456a.749.749 0 0 1-1.442 0C6.859 3.486 5.623 2.5 4.25 2.5Z"></path>
</svg>
</template>

<template id="server-icon">
  <svg aria-hidden="true" height="16" viewBox="0 0 16 16" version="1.1" width="16" data-view-component="true" class="octicon octicon-server">
    <path d="M1.75 1h12.5c.966 0 1.75.784 1.75 1.75v4c0 .372-.116.717-.314 1 .198.283.314.628.314 1v4a1.75 1.75 0 0 1-1.75 1.75H1.75A1.75 1.75 0 0 1 0 12.75v-4c0-.358.109-.707.314-1a1.739 1.739 0 0 1-.314-1v-4C0 1.784.784 1 1.75 1ZM1.5 2.75v4c0 .138.112.25.25.25h12.5a.25.25 0 0 0 .25-.25v-4a.25.25 0 0 0-.25-.25H1.75a.25.25 0 0 0-.25.25Zm.25 5.75a.25.25 0 0 0-.25.25v4c0 .138.112.25.25.25h12.5a.25.25 0 0 0 .25-.25v-4a.25.25 0 0 0-.25-.25ZM7 4.75A.75.75 0 0 1 7.75 4h4.5a.75.75 0 0 1 0 1.5h-4.5A.75.75 0 0 1 7 4.75ZM7.75 10h4.5a.75.75 0 0 1 0 1.5h-4.5a.75.75 0 0 1 0-1.5ZM3 4.75A.75.75 0 0 1 3.75 4h.5a.75.75 0 0 1 0 1.5h-.5A.75.75 0 0 1 3 4.75ZM3.75 10h.5a.75.75 0 0 1 0 1.5h-.5a.75.75 0 0 1 0-1.5Z"></path>
</svg>
</template>

<template id="globe-icon">
  <svg aria-hidden="true" height="16" viewBox="0 0 16 16" version="1.1" width="16" data-view-component="true" class="octicon octicon-globe">
    <path d="M8 0a8 8 0 1 1 0 16A8 8 0 0 1 8 0ZM5.78 8.75a9.64 9.64 0 0 0 1.363 4.177c.255.426.542.832.857 1.215.245-.296.551-.705.857-1.215A9.64 9.64 0 0 0 10.22 8.75Zm4.44-1.5a9.64 9.64 0 0 0-1.363-4.177c-.307-.51-.612-.919-.857-1.215a9.927 9.927 0 0 0-.857 1.215A9.64 9.64 0 0 0 5.78 7.25Zm-5.944 1.5H1.543a6.507 6.507 0 0 0 4.666 5.5c-.123-.181-.24-.365-.352-.552-.715-1.192-1.437-2.874-1.581-4.948Zm-2.733-1.5h2.733c.144-2.074.866-3.756 1.58-4.948.12-.197.237-.381.353-.552a6.507 6.507 0 0 0-4.666 5.5Zm10.181 1.5c-.144 2.074-.866 3.756-1.58 4.948-.12.197-.237.381-.353.552a6.507 6.507 0 0 0 4.666-5.5Zm2.733-1.5a6.507 6.507 0 0 0-4.666-5.5c.123.181.24.365.353.552.714 1.192 1.436 2.874 1.58 4.948Z"></path>
</svg>
</template>

<template id="issue-opened-icon">
  <svg aria-hidden="true" height="16" viewBox="0 0 16 16" version="1.1" width="16" data-view-component="true" class="octicon octicon-issue-opened">
    <path d="M8 9.5a1.5 1.5 0 1 0 0-3 1.5 1.5 0 0 0 0 3Z"></path><path d="M8 0a8 8 0 1 1 0 16A8 8 0 0 1 8 0ZM1.5 8a6.5 6.5 0 1 0 13 0 6.5 6.5 0 0 0-13 0Z"></path>
</svg>
</template>

<template id="device-mobile-icon">
  <svg aria-hidden="true" height="16" viewBox="0 0 16 16" version="1.1" width="16" data-view-component="true" class="octicon octicon-device-mobile">
    <path d="M3.75 0h8.5C13.216 0 14 .784 14 1.75v12.5A1.75 1.75 0 0 1 12.25 16h-8.5A1.75 1.75 0 0 1 2 14.25V1.75C2 .784 2.784 0 3.75 0ZM3.5 1.75v12.5c0 .138.112.25.25.25h8.5a.25.25 0 0 0 .25-.25V1.75a.25.25 0 0 0-.25-.25h-8.5a.25.25 0 0 0-.25.25ZM8 13a1 1 0 1 1 0-2 1 1 0 0 1 0 2Z"></path>
</svg>
</template>

<template id="package-icon">
  <svg aria-hidden="true" height="16" viewBox="0 0 16 16" version="1.1" width="16" data-view-component="true" class="octicon octicon-package">
    <path d="m8.878.392 5.25 3.045c.54.314.872.89.872 1.514v6.098a1.75 1.75 0 0 1-.872 1.514l-5.25 3.045a1.75 1.75 0 0 1-1.756 0l-5.25-3.045A1.75 1.75 0 0 1 1 11.049V4.951c0-.624.332-1.201.872-1.514L7.122.392a1.75 1.75 0 0 1 1.756 0ZM7.875 1.69l-4.63 2.685L8 7.133l4.755-2.758-4.63-2.685a.248.248 0 0 0-.25 0ZM2.5 5.677v5.372c0 .09.047.171.125.216l4.625 2.683V8.432Zm6.25 8.271 4.625-2.683a.25.25 0 0 0 .125-.216V5.677L8.75 8.432Z"></path>
</svg>
</template>

<template id="credit-card-icon">
  <svg aria-hidden="true" height="16" viewBox="0 0 16 16" version="1.1" width="16" data-view-component="true" class="octicon octicon-credit-card">
    <path d="M10.75 9a.75.75 0 0 0 0 1.5h1.5a.75.75 0 0 0 0-1.5h-1.5Z"></path><path d="M0 3.75C0 2.784.784 2 1.75 2h12.5c.966 0 1.75.784 1.75 1.75v8.5A1.75 1.75 0 0 1 14.25 14H1.75A1.75 1.75 0 0 1 0 12.25ZM14.5 6.5h-13v5.75c0 .138.112.25.25.25h12.5a.25.25 0 0 0 .25-.25Zm0-2.75a.25.25 0 0 0-.25-.25H1.75a.25.25 0 0 0-.25.25V5h13Z"></path>
</svg>
</template>

<template id="play-icon">
  <svg aria-hidden="true" height="16" viewBox="0 0 16 16" version="1.1" width="16" data-view-component="true" class="octicon octicon-play">
    <path d="M8 0a8 8 0 1 1 0 16A8 8 0 0 1 8 0ZM1.5 8a6.5 6.5 0 1 0 13 0 6.5 6.5 0 0 0-13 0Zm4.879-2.773 4.264 2.559a.25.25 0 0 1 0 .428l-4.264 2.559A.25.25 0 0 1 6 10.559V5.442a.25.25 0 0 1 .379-.215Z"></path>
</svg>
</template>

<template id="gift-icon">
  <svg aria-hidden="true" height="16" viewBox="0 0 16 16" version="1.1" width="16" data-view-component="true" class="octicon octicon-gift">
    <path d="M2 2.75A2.75 2.75 0 0 1 4.75 0c.983 0 1.873.42 2.57 1.232.268.318.497.668.68 1.042.183-.375.411-.725.68-1.044C9.376.42 10.266 0 11.25 0a2.75 2.75 0 0 1 2.45 4h.55c.966 0 1.75.784 1.75 1.75v2c0 .698-.409 1.301-1 1.582v4.918A1.75 1.75 0 0 1 13.25 16H2.75A1.75 1.75 0 0 1 1 14.25V9.332C.409 9.05 0 8.448 0 7.75v-2C0 4.784.784 4 1.75 4h.55c-.192-.375-.3-.8-.3-1.25ZM7.25 9.5H2.5v4.75c0 .138.112.25.25.25h4.5Zm1.5 0v5h4.5a.25.25 0 0 0 .25-.25V9.5Zm0-4V8h5.5a.25.25 0 0 0 .25-.25v-2a.25.25 0 0 0-.25-.25Zm-7 0a.25.25 0 0 0-.25.25v2c0 .138.112.25.25.25h5.5V5.5h-5.5Zm3-4a1.25 1.25 0 0 0 0 2.5h2.309c-.233-.818-.542-1.401-.878-1.793-.43-.502-.915-.707-1.431-.707ZM8.941 4h2.309a1.25 1.25 0 0 0 0-2.5c-.516 0-1 .205-1.43.707-.337.392-.646.975-.879 1.793Z"></path>
</svg>
</template>

<template id="code-square-icon">
  <svg aria-hidden="true" height="16" viewBox="0 0 16 16" version="1.1" width="16" data-view-component="true" class="octicon octicon-code-square">
    <path d="M0 1.75C0 .784.784 0 1.75 0h12.5C15.216 0 16 .784 16 1.75v12.5A1.75 1.75 0 0 1 14.25 16H1.75A1.75 1.75 0 0 1 0 14.25Zm1.75-.25a.25.25 0 0 0-.25.25v12.5c0 .138.112.25.25.25h12.5a.25.25 0 0 0 .25-.25V1.75a.25.25 0 0 0-.25-.25Zm7.47 3.97a.75.75 0 0 1 1.06 0l2 2a.75.75 0 0 1 0 1.06l-2 2a.749.749 0 0 1-1.275-.326.749.749 0 0 1 .215-.734L10.69 8 9.22 6.53a.75.75 0 0 1 0-1.06ZM6.78 6.53 5.31 8l1.47 1.47a.749.749 0 0 1-.326 1.275.749.749 0 0 1-.734-.215l-2-2a.75.75 0 0 1 0-1.06l2-2a.751.751 0 0 1 1.042.018.751.751 0 0 1 .018 1.042Z"></path>
</svg>
</template>

<template id="device-desktop-icon">
  <svg aria-hidden="true" height="16" viewBox="0 0 16 16" version="1.1" width="16" data-view-component="true" class="octicon octicon-device-desktop">
    <path d="M14.25 1c.966 0 1.75.784 1.75 1.75v7.5A1.75 1.75 0 0 1 14.25 12h-3.727c.099 1.041.52 1.872 1.292 2.757A.752.752 0 0 1 11.25 16h-6.5a.75.75 0 0 1-.565-1.243c.772-.885 1.192-1.716 1.292-2.757H1.75A1.75 1.75 0 0 1 0 10.25v-7.5C0 1.784.784 1 1.75 1ZM1.75 2.5a.25.25 0 0 0-.25.25v7.5c0 .138.112.25.25.25h12.5a.25.25 0 0 0 .25-.25v-7.5a.25.25 0 0 0-.25-.25ZM9.018 12H6.982a5.72 5.72 0 0 1-.765 2.5h3.566a5.72 5.72 0 0 1-.765-2.5Z"></path>
</svg>
</template>

        <div class="position-relative">
                <ul
                  role="listbox"
                  class="ActionListWrap QueryBuilder-ListWrap"
                  aria-label="Suggestions"
                  data-action="
                    combobox-commit:query-builder#comboboxCommit
                    mousedown:query-builder#resultsMousedown
                  "
                  data-target="query-builder.resultsList"
                  data-persist-list=false
                  id="query-builder-test-results"
                ></ul>
        </div>
      <div class="FormControl-inlineValidation" id="validation-6a1ca9d1-4cda-48c7-a90a-c2929fe20176" hidden="hidden">
        <span class="FormControl-inlineValidation--visual">
          <svg aria-hidden="true" height="12" viewBox="0 0 12 12" version="1.1" width="12" data-view-component="true" class="octicon octicon-alert-fill">
    <path d="M4.855.708c.5-.896 1.79-.896 2.29 0l4.675 8.351a1.312 1.312 0 0 1-1.146 1.954H1.33A1.313 1.313 0 0 1 .183 9.058ZM7 7V3H5v4Zm-1 3a1 1 0 1 0 0-2 1 1 0 0 0 0 2Z"></path>
</svg>
        </span>
        <span></span>
</div>    </div>
    <div data-target="query-builder.screenReaderFeedback" aria-live="polite" aria-atomic="true" class="sr-only"></div>
</query-builder></form>
          <div class="d-flex flex-row color-fg-muted px-3 text-small color-bg-default search-feedback-prompt">
            <a target="_blank" href="https://docs.github.com/search-github/github-code-search/understanding-github-code-search-syntax" data-view-component="true" class="Link color-fg-accent text-normal ml-2">
              Search syntax tips
</a>            <div class="d-flex flex-1"></div>
              <button data-action="click:qbsearch-input#showFeedbackDialog" type="button" data-view-component="true" class="Button--link Button--medium Button color-fg-accent text-normal ml-2">  <span class="Button-content">
    <span class="Button-label">Give feedback</span>
  </span>
</button>
          </div>
        </div>
</div>

    </div>
</modal-dialog></div>
  </div>
  <div data-action="click:qbsearch-input#retract" class="dark-backdrop position-fixed" hidden data-target="qbsearch-input.darkBackdrop"></div>
  <div class="color-fg-default">
    
<dialog-helper>
  <dialog data-target="qbsearch-input.feedbackDialog" data-action="close:qbsearch-input#handleDialogClose cancel:qbsearch-input#handleDialogClose" id="feedback-dialog" aria-modal="true" aria-labelledby="feedback-dialog-title" aria-describedby="feedback-dialog-description" data-view-component="true" class="Overlay Overlay-whenNarrow Overlay--size-medium Overlay--motion-scaleFade">
    <div data-view-component="true" class="Overlay-header">
  <div class="Overlay-headerContentWrap">
    <div class="Overlay-titleWrap">
      <h1 class="Overlay-title " id="feedback-dialog-title">
        Provide feedback
      </h1>
    </div>
    <div class="Overlay-actionWrap">
      <button data-close-dialog-id="feedback-dialog" aria-label="Close" type="button" data-view-component="true" class="close-button Overlay-closeButton"><svg aria-hidden="true" height="16" viewBox="0 0 16 16" version="1.1" width="16" data-view-component="true" class="octicon octicon-x">
    <path d="M3.72 3.72a.75.75 0 0 1 1.06 0L8 6.94l3.22-3.22a.749.749 0 0 1 1.275.326.749.749 0 0 1-.215.734L9.06 8l3.22 3.22a.749.749 0 0 1-.326 1.275.749.749 0 0 1-.734-.215L8 9.06l-3.22 3.22a.751.751 0 0 1-1.042-.018.751.751 0 0 1-.018-1.042L6.94 8 3.72 4.78a.75.75 0 0 1 0-1.06Z"></path>
</svg></button>
    </div>
  </div>
</div>
      <scrollable-region data-labelled-by="feedback-dialog-title">
        <div data-view-component="true" class="Overlay-body">        <!-- '"` --><!-- </textarea></xmp> --></option></form><form id="code-search-feedback-form" data-turbo="false" action="/search/feedback" accept-charset="UTF-8" method="post"><input type="hidden" name="authenticity_token" value="0EDJoixMgjzZVLsjjBkSa3NvC6e9ktKkEc0BPyteCL6Qh8avnZh30BubPdHxl3yNfUw0C9-X55a1h0PwgZljvA" />
          <p>We read every piece of feedback, and take your input very seriously.</p>
          <textarea name="feedback" class="form-control width-full mb-2" style="height: 120px" id="feedback"></textarea>
          <input name="include_email" id="include_email" aria-label="Include my email address so I can be contacted" class="form-control mr-2" type="checkbox">
          <label for="include_email" style="font-weight: normal">Include my email address so I can be contacted</label>
</form></div>
      </scrollable-region>
      <div data-view-component="true" class="Overlay-footer Overlay-footer--alignEnd">          <button data-close-dialog-id="feedback-dialog" type="button" data-view-component="true" class="btn">    Cancel
</button>
          <button form="code-search-feedback-form" data-action="click:qbsearch-input#submitFeedback" type="submit" data-view-component="true" class="btn-primary btn">    Submit feedback
</button>
</div>
</dialog></dialog-helper>

    <custom-scopes data-target="qbsearch-input.customScopesManager">
    
<dialog-helper>
  <dialog data-target="custom-scopes.customScopesModalDialog" data-action="close:qbsearch-input#handleDialogClose cancel:qbsearch-input#handleDialogClose" id="custom-scopes-dialog" aria-modal="true" aria-labelledby="custom-scopes-dialog-title" aria-describedby="custom-scopes-dialog-description" data-view-component="true" class="Overlay Overlay-whenNarrow Overlay--size-medium Overlay--motion-scaleFade">
    <div data-view-component="true" class="Overlay-header Overlay-header--divided">
  <div class="Overlay-headerContentWrap">
    <div class="Overlay-titleWrap">
      <h1 class="Overlay-title " id="custom-scopes-dialog-title">
        Saved searches
      </h1>
        <h2 id="custom-scopes-dialog-description" class="Overlay-description">Use saved searches to filter your results more quickly</h2>
    </div>
    <div class="Overlay-actionWrap">
      <button data-close-dialog-id="custom-scopes-dialog" aria-label="Close" type="button" data-view-component="true" class="close-button Overlay-closeButton"><svg aria-hidden="true" height="16" viewBox="0 0 16 16" version="1.1" width="16" data-view-component="true" class="octicon octicon-x">
    <path d="M3.72 3.72a.75.75 0 0 1 1.06 0L8 6.94l3.22-3.22a.749.749 0 0 1 1.275.326.749.749 0 0 1-.215.734L9.06 8l3.22 3.22a.749.749 0 0 1-.326 1.275.749.749 0 0 1-.734-.215L8 9.06l-3.22 3.22a.751.751 0 0 1-1.042-.018.751.751 0 0 1-.018-1.042L6.94 8 3.72 4.78a.75.75 0 0 1 0-1.06Z"></path>
</svg></button>
    </div>
  </div>
</div>
      <scrollable-region data-labelled-by="custom-scopes-dialog-title">
        <div data-view-component="true" class="Overlay-body">        <div data-target="custom-scopes.customScopesModalDialogFlash"></div>

        <div hidden class="create-custom-scope-form" data-target="custom-scopes.createCustomScopeForm">
        <!-- '"` --><!-- </textarea></xmp> --></option></form><form id="custom-scopes-dialog-form" data-turbo="false" action="/search/custom_scopes" accept-charset="UTF-8" method="post"><input type="hidden" name="authenticity_token" value="i2YU03xjP2KoM98u8qpyiaZykwhECel54Nd-qXJgqQqLifN1S5LJL57MfsOMpH6d0c4vsUPltY2z3OQ_WoCyZA" />
          <div data-target="custom-scopes.customScopesModalDialogFlash"></div>

          <input type="hidden" id="custom_scope_id" name="custom_scope_id" data-target="custom-scopes.customScopesIdField">

          <div class="form-group">
            <label for="custom_scope_name">Name</label>
            <auto-check src="/search/custom_scopes/check_name" required>
              <input
                type="text"
                name="custom_scope_name"
                id="custom_scope_name"
                data-target="custom-scopes.customScopesNameField"
                class="form-control"
                autocomplete="off"
                placeholder="github-ruby"
                required
                maxlength="50">
              <input type="hidden" value="V4IgqpwLHwqjqQAeJnQtMr_f2mYuL9JYp7X11f2Ha9f_YdfjX5CkWUz93YtLVV-DTuW66LU3bryLDju6vL9rfg" data-csrf="true" />
            </auto-check>
          </div>

          <div class="form-group">
            <label for="custom_scope_query">Query</label>
            <input
              type="text"
              name="custom_scope_query"
              id="custom_scope_query"
              data-target="custom-scopes.customScopesQueryField"
              class="form-control"
              autocomplete="off"
              placeholder="(repo:mona/a OR repo:mona/b) AND lang:python"
              required
              maxlength="500">
          </div>

          <p class="text-small color-fg-muted">
            To see all available qualifiers, see our <a class="Link--inTextBlock" href="https://docs.github.com/search-github/github-code-search/understanding-github-code-search-syntax">documentation</a>.
          </p>
</form>        </div>

        <div data-target="custom-scopes.manageCustomScopesForm">
          <div data-target="custom-scopes.list"></div>
        </div>

</div>
      </scrollable-region>
      <div data-view-component="true" class="Overlay-footer Overlay-footer--alignEnd Overlay-footer--divided">          <button data-action="click:custom-scopes#customScopesCancel" type="button" data-view-component="true" class="btn">    Cancel
</button>
          <button form="custom-scopes-dialog-form" data-action="click:custom-scopes#customScopesSubmit" data-target="custom-scopes.customScopesSubmitButton" type="submit" data-view-component="true" class="btn-primary btn">    Create saved search
</button>
</div>
</dialog></dialog-helper>
    </custom-scopes>
  </div>
</qbsearch-input><input type="hidden" value="TcyS6cSIGgBm651tVpCtMpFvTV0aE23XvUTUgQgmk7DOXFZTgr70lsmH7fsyNwOx4W_Xu_BcHypBjY3VQRa6eA" data-csrf="true" class="js-data-jump-to-suggestions-path-csrf" />

          </div>

        <div class="AppHeader-actions position-relative">
            <action-menu data-select-variant="none" data-view-component="true">
  <focus-group direction="vertical" mnemonics retain>
    <button id="global-create-menu-button" popovertarget="global-create-menu-overlay" aria-label="Create something new" aria-controls="global-create-menu-list" aria-haspopup="true" type="button" data-view-component="true" class="AppHeader-button Button--secondary Button--small Button width-auto color-fg-muted">  <span class="Button-content">
      <span class="Button-visual Button-leadingVisual">
        <svg aria-hidden="true" height="16" viewBox="0 0 16 16" version="1.1" width="16" data-view-component="true" class="octicon octicon-plus">
    <path d="M7.75 2a.75.75 0 0 1 .75.75V7h4.25a.75.75 0 0 1 0 1.5H8.5v4.25a.75.75 0 0 1-1.5 0V8.5H2.75a.75.75 0 0 1 0-1.5H7V2.75A.75.75 0 0 1 7.75 2Z"></path>
</svg>
      </span>
    <span class="Button-label"><svg aria-hidden="true" height="16" viewBox="0 0 16 16" version="1.1" width="16" data-view-component="true" class="octicon octicon-triangle-down">
    <path d="m4.427 7.427 3.396 3.396a.25.25 0 0 0 .354 0l3.396-3.396A.25.25 0 0 0 11.396 7H4.604a.25.25 0 0 0-.177.427Z"></path>
</svg></span>
  </span>
</button><tool-tip id="tooltip-7ee8142c-6b6c-4434-9dea-89b0eca8a2e3" for="global-create-menu-button" popover="manual" data-direction="s" data-type="description" data-view-component="true" class="sr-only position-absolute">Create new...</tool-tip>


<anchored-position id="global-create-menu-overlay" anchor="global-create-menu-button" align="end" side="outside-bottom" anchor-offset="normal" popover="auto" data-view-component="true">
  <div data-view-component="true" class="Overlay Overlay--size-auto">
    
      <div data-view-component="true" class="Overlay-body Overlay-body--paddingNone">          <action-list>
  <div data-view-component="true">
    <ul aria-labelledby="global-create-menu-button" id="global-create-menu-list" role="menu" data-view-component="true" class="ActionListWrap--inset ActionListWrap">
        <li data-analytics-event="{&quot;category&quot;:&quot;SiteHeaderComponent&quot;,&quot;action&quot;:&quot;add_dropdown&quot;,&quot;label&quot;:&quot;new repository&quot;}" data-targets="action-list.items" role="none" data-view-component="true" class="ActionListItem">
    
    <a href="/new" tabindex="-1" id="item-99d45147-0af8-4268-96c4-438907469dd1" role="menuitem" data-view-component="true" class="ActionListContent ActionListContent--visual16">
        <span class="ActionListItem-visual ActionListItem-visual--leading">
          <svg aria-hidden="true" height="16" viewBox="0 0 16 16" version="1.1" width="16" data-view-component="true" class="octicon octicon-repo">
    <path d="M2 2.5A2.5 2.5 0 0 1 4.5 0h8.75a.75.75 0 0 1 .75.75v12.5a.75.75 0 0 1-.75.75h-2.5a.75.75 0 0 1 0-1.5h1.75v-2h-8a1 1 0 0 0-.714 1.7.75.75 0 1 1-1.072 1.05A2.495 2.495 0 0 1 2 11.5Zm10.5-1h-8a1 1 0 0 0-1 1v6.708A2.486 2.486 0 0 1 4.5 9h8ZM5 12.25a.25.25 0 0 1 .25-.25h3.5a.25.25 0 0 1 .25.25v3.25a.25.25 0 0 1-.4.2l-1.45-1.087a.249.249 0 0 0-.3 0L5.4 15.7a.25.25 0 0 1-.4-.2Z"></path>
</svg>
        </span>
      
        <span data-view-component="true" class="ActionListItem-label">
                New repository

</span></a>
  
  
</li>
        <li data-analytics-event="{&quot;category&quot;:&quot;SiteHeaderComponent&quot;,&quot;action&quot;:&quot;add_dropdown&quot;,&quot;label&quot;:&quot;import repository&quot;}" data-targets="action-list.items" role="none" data-view-component="true" class="ActionListItem">
    
    <a href="/new/import" tabindex="-1" id="item-2c29de6e-52fc-4c62-bc24-08533f64cb5b" role="menuitem" data-view-component="true" class="ActionListContent ActionListContent--visual16">
        <span class="ActionListItem-visual ActionListItem-visual--leading">
          <svg aria-hidden="true" height="16" viewBox="0 0 16 16" version="1.1" width="16" data-view-component="true" class="octicon octicon-repo-push">
    <path d="M1 2.5A2.5 2.5 0 0 1 3.5 0h8.75a.75.75 0 0 1 .75.75v3.5a.75.75 0 0 1-1.5 0V1.5h-8a1 1 0 0 0-1 1v6.708A2.493 2.493 0 0 1 3.5 9h3.25a.75.75 0 0 1 0 1.5H3.5a1 1 0 0 0 0 2h5.75a.75.75 0 0 1 0 1.5H3.5A2.5 2.5 0 0 1 1 11.5Zm13.23 7.79h-.001l-1.224-1.224v6.184a.75.75 0 0 1-1.5 0V9.066L10.28 10.29a.75.75 0 0 1-1.06-1.061l2.505-2.504a.75.75 0 0 1 1.06 0L15.29 9.23a.751.751 0 0 1-.018 1.042.751.751 0 0 1-1.042.018Z"></path>
</svg>
        </span>
      
        <span data-view-component="true" class="ActionListItem-label">
                  Import repository

</span></a>
  
  
</li>
        <li role="presentation" aria-hidden="true" data-view-component="true" class="ActionList-sectionDivider"></li>
        <li data-analytics-event="{&quot;category&quot;:&quot;SiteHeaderComponent&quot;,&quot;action&quot;:&quot;add_dropdown&quot;,&quot;label&quot;:&quot;new codespace&quot;}" data-targets="action-list.items" role="none" data-view-component="true" class="ActionListItem">
    
    <a href="/codespaces/new" tabindex="-1" id="item-c4b782b3-a6b4-4410-adf8-095db7069b2e" role="menuitem" data-view-component="true" class="ActionListContent ActionListContent--visual16">
        <span class="ActionListItem-visual ActionListItem-visual--leading">
          <svg aria-hidden="true" height="16" viewBox="0 0 16 16" version="1.1" width="16" data-view-component="true" class="octicon octicon-codespaces">
    <path d="M0 11.25c0-.966.784-1.75 1.75-1.75h12.5c.966 0 1.75.784 1.75 1.75v3A1.75 1.75 0 0 1 14.25 16H1.75A1.75 1.75 0 0 1 0 14.25Zm2-9.5C2 .784 2.784 0 3.75 0h8.5C13.216 0 14 .784 14 1.75v5a1.75 1.75 0 0 1-1.75 1.75h-8.5A1.75 1.75 0 0 1 2 6.75Zm1.75-.25a.25.25 0 0 0-.25.25v5c0 .138.112.25.25.25h8.5a.25.25 0 0 0 .25-.25v-5a.25.25 0 0 0-.25-.25Zm-2 9.5a.25.25 0 0 0-.25.25v3c0 .138.112.25.25.25h12.5a.25.25 0 0 0 .25-.25v-3a.25.25 0 0 0-.25-.25Z"></path><path d="M7 12.75a.75.75 0 0 1 .75-.75h4.5a.75.75 0 0 1 0 1.5h-4.5a.75.75 0 0 1-.75-.75Zm-4 0a.75.75 0 0 1 .75-.75h.5a.75.75 0 0 1 0 1.5h-.5a.75.75 0 0 1-.75-.75Z"></path>
</svg>
        </span>
      
        <span data-view-component="true" class="ActionListItem-label">
                  New codespace

</span></a>
  
  
</li>
        <li data-analytics-event="{&quot;category&quot;:&quot;SiteHeaderComponent&quot;,&quot;action&quot;:&quot;add_dropdown&quot;,&quot;label&quot;:&quot;new gist&quot;}" data-targets="action-list.items" role="none" data-view-component="true" class="ActionListItem">
    
    <a href="https://gist.github.com/" tabindex="-1" id="item-80310b4d-d22d-42f5-a5ab-c6e50f6d746e" role="menuitem" data-view-component="true" class="ActionListContent ActionListContent--visual16">
        <span class="ActionListItem-visual ActionListItem-visual--leading">
          <svg aria-hidden="true" height="16" viewBox="0 0 16 16" version="1.1" width="16" data-view-component="true" class="octicon octicon-code">
    <path d="m11.28 3.22 4.25 4.25a.75.75 0 0 1 0 1.06l-4.25 4.25a.749.749 0 0 1-1.275-.326.749.749 0 0 1 .215-.734L13.94 8l-3.72-3.72a.749.749 0 0 1 .326-1.275.749.749 0 0 1 .734.215Zm-6.56 0a.751.751 0 0 1 1.042.018.751.751 0 0 1 .018 1.042L2.06 8l3.72 3.72a.749.749 0 0 1-.326 1.275.749.749 0 0 1-.734-.215L.47 8.53a.75.75 0 0 1 0-1.06Z"></path>
</svg>
        </span>
      
        <span data-view-component="true" class="ActionListItem-label">
                  New gist

</span></a>
  
  
</li>
        <li role="presentation" aria-hidden="true" data-view-component="true" class="ActionList-sectionDivider"></li>
        <li data-targets="action-list.items" role="none" data-view-component="true" class="ActionListItem">
    
    <a href="/account/organizations/new" tabindex="-1" data-dont-follow-via-test="true" data-analytics-event="{&quot;category&quot;:&quot;SiteHeaderComponent&quot;,&quot;action&quot;:&quot;add_dropdown&quot;,&quot;label&quot;:&quot;new organization&quot;}" id="item-efcd51e3-855c-46c3-9d59-e4b5818f9a73" role="menuitem" data-view-component="true" class="ActionListContent ActionListContent--visual16">
        <span class="ActionListItem-visual ActionListItem-visual--leading">
          <svg aria-hidden="true" height="16" viewBox="0 0 16 16" version="1.1" width="16" data-view-component="true" class="octicon octicon-organization">
    <path d="M1.75 16A1.75 1.75 0 0 1 0 14.25V1.75C0 .784.784 0 1.75 0h8.5C11.216 0 12 .784 12 1.75v12.5c0 .085-.006.168-.018.25h2.268a.25.25 0 0 0 .25-.25V8.285a.25.25 0 0 0-.111-.208l-1.055-.703a.749.749 0 1 1 .832-1.248l1.055.703c.487.325.779.871.779 1.456v5.965A1.75 1.75 0 0 1 14.25 16h-3.5a.766.766 0 0 1-.197-.026c-.099.017-.2.026-.303.026h-3a.75.75 0 0 1-.75-.75V14h-1v1.25a.75.75 0 0 1-.75.75Zm-.25-1.75c0 .138.112.25.25.25H4v-1.25a.75.75 0 0 1 .75-.75h2.5a.75.75 0 0 1 .75.75v1.25h2.25a.25.25 0 0 0 .25-.25V1.75a.25.25 0 0 0-.25-.25h-8.5a.25.25 0 0 0-.25.25ZM3.75 6h.5a.75.75 0 0 1 0 1.5h-.5a.75.75 0 0 1 0-1.5ZM3 3.75A.75.75 0 0 1 3.75 3h.5a.75.75 0 0 1 0 1.5h-.5A.75.75 0 0 1 3 3.75Zm4 3A.75.75 0 0 1 7.75 6h.5a.75.75 0 0 1 0 1.5h-.5A.75.75 0 0 1 7 6.75ZM7.75 3h.5a.75.75 0 0 1 0 1.5h-.5a.75.75 0 0 1 0-1.5ZM3 9.75A.75.75 0 0 1 3.75 9h.5a.75.75 0 0 1 0 1.5h-.5A.75.75 0 0 1 3 9.75ZM7.75 9h.5a.75.75 0 0 1 0 1.5h-.5a.75.75 0 0 1 0-1.5Z"></path>
</svg>
        </span>
      
        <span data-view-component="true" class="ActionListItem-label">
                  New organization

</span></a>
  
  
</li>
</ul>    
</div></action-list>


</div>
      
</div></anchored-position>  </focus-group>
</action-menu>


          <a href="/issues" data-analytics-event="{&quot;category&quot;:&quot;Global navigation&quot;,&quot;action&quot;:&quot;ISSUES_HEADER&quot;,&quot;label&quot;:null}" id="icon-button-cf278fbf-453e-4f44-82e5-58b2a2a649a4" aria-labelledby="tooltip-33f21e0b-4ca1-4078-904e-92cd5cd085c2" data-view-component="true" class="Button Button--iconOnly Button--secondary Button--medium AppHeader-button color-fg-muted">  <svg aria-hidden="true" height="16" viewBox="0 0 16 16" version="1.1" width="16" data-view-component="true" class="octicon octicon-issue-opened Button-visual">
    <path d="M8 9.5a1.5 1.5 0 1 0 0-3 1.5 1.5 0 0 0 0 3Z"></path><path d="M8 0a8 8 0 1 1 0 16A8 8 0 0 1 8 0ZM1.5 8a6.5 6.5 0 1 0 13 0 6.5 6.5 0 0 0-13 0Z"></path>
</svg>
</a><tool-tip id="tooltip-33f21e0b-4ca1-4078-904e-92cd5cd085c2" for="icon-button-cf278fbf-453e-4f44-82e5-58b2a2a649a4" popover="manual" data-direction="s" data-type="label" data-view-component="true" class="sr-only position-absolute">Issues</tool-tip>

          <a href="/pulls" data-analytics-event="{&quot;category&quot;:&quot;Global navigation&quot;,&quot;action&quot;:&quot;PULL_REQUESTS_HEADER&quot;,&quot;label&quot;:null}" id="icon-button-326c8d0d-2f4f-4b80-929e-d70d590f864b" aria-labelledby="tooltip-e7e03df9-330a-4558-b600-5fdb53d9a22c" data-view-component="true" class="Button Button--iconOnly Button--secondary Button--medium AppHeader-button color-fg-muted">  <svg aria-hidden="true" height="16" viewBox="0 0 16 16" version="1.1" width="16" data-view-component="true" class="octicon octicon-git-pull-request Button-visual">
    <path d="M1.5 3.25a2.25 2.25 0 1 1 3 2.122v5.256a2.251 2.251 0 1 1-1.5 0V5.372A2.25 2.25 0 0 1 1.5 3.25Zm5.677-.177L9.573.677A.25.25 0 0 1 10 .854V2.5h1A2.5 2.5 0 0 1 13.5 5v5.628a2.251 2.251 0 1 1-1.5 0V5a1 1 0 0 0-1-1h-1v1.646a.25.25 0 0 1-.427.177L7.177 3.427a.25.25 0 0 1 0-.354ZM3.75 2.5a.75.75 0 1 0 0 1.5.75.75 0 0 0 0-1.5Zm0 9.5a.75.75 0 1 0 0 1.5.75.75 0 0 0 0-1.5Zm8.25.75a.75.75 0 1 0 1.5 0 .75.75 0 0 0-1.5 0Z"></path>
</svg>
</a><tool-tip id="tooltip-e7e03df9-330a-4558-b600-5fdb53d9a22c" for="icon-button-326c8d0d-2f4f-4b80-929e-d70d590f864b" popover="manual" data-direction="s" data-type="label" data-view-component="true" class="sr-only position-absolute">Pull requests</tool-tip>

        </div>

        
<notification-indicator data-channel="eyJjIjoibm90aWZpY2F0aW9uLWNoYW5nZWQ6MTIyNTg0NTkzIiwidCI6MTcxMTE2NTgzNX0=--b8be68c72e826d3701cdbc71d86a9ba438506f2c7f8a0a349467c1e3dab4cb4f" data-indicator-mode="none" data-tooltip-global="You have unread notifications" data-tooltip-unavailable="Notifications are unavailable at the moment." data-tooltip-none="You have no unread notifications" data-header-redesign-enabled="true" data-fetch-indicator-src="/notifications/indicator" data-fetch-indicator-enabled="true" data-view-component="true" class="js-socket-channel">
    <a id="AppHeader-notifications-button" href="/notifications" aria-label="Notifications" data-hotkey="g n" data-target="notification-indicator.link" data-analytics-event="{&quot;category&quot;:&quot;Global navigation&quot;,&quot;action&quot;:&quot;NOTIFICATIONS_HEADER&quot;,&quot;label&quot;:null}" data-view-component="true" class="Button Button--iconOnly Button--secondary Button--medium AppHeader-button  color-fg-muted">  <svg aria-hidden="true" height="16" viewBox="0 0 16 16" version="1.1" width="16" data-view-component="true" class="octicon octicon-inbox Button-visual">
    <path d="M2.8 2.06A1.75 1.75 0 0 1 4.41 1h7.18c.7 0 1.333.417 1.61 1.06l2.74 6.395c.04.093.06.194.06.295v4.5A1.75 1.75 0 0 1 14.25 15H1.75A1.75 1.75 0 0 1 0 13.25v-4.5c0-.101.02-.202.06-.295Zm1.61.44a.25.25 0 0 0-.23.152L1.887 8H4.75a.75.75 0 0 1 .6.3L6.625 10h2.75l1.275-1.7a.75.75 0 0 1 .6-.3h2.863L11.82 2.652a.25.25 0 0 0-.23-.152Zm10.09 7h-2.875l-1.275 1.7a.75.75 0 0 1-.6.3h-3.5a.75.75 0 0 1-.6-.3L4.375 9.5H1.5v3.75c0 .138.112.25.25.25h12.5a.25.25 0 0 0 .25-.25Z"></path>
</svg>
</a>

    <tool-tip data-target="notification-indicator.tooltip" id="tooltip-74ac54ec-df4b-4197-9eb0-29689db6c6d1" for="AppHeader-notifications-button" popover="manual" data-direction="s" data-type="description" data-view-component="true" class="sr-only position-absolute">Notifications</tool-tip>
</notification-indicator>

        

        <div class="AppHeader-user">
          <deferred-side-panel data-url="/_side-panels/user?repository_id=624218701">
  <include-fragment data-target="deferred-side-panel.fragment">
      <user-drawer-side-panel>
    <button aria-label="Open user account menu" data-action="click:deferred-side-panel#loadPanel click:deferred-side-panel#panelOpened" data-show-dialog-id="dialog-57e280c3-b662-4d55-9b36-783e0ee1b604" id="dialog-show-dialog-57e280c3-b662-4d55-9b36-783e0ee1b604" type="button" data-view-component="true" class="AppHeader-logo Button--invisible Button--medium Button Button--invisible-noVisuals color-bg-transparent p-0">  <span class="Button-content">
    <span class="Button-label"><img src="https://avatars.githubusercontent.com/u/122584593?v=4" alt="" size="32" height="32" width="32" data-view-component="true" class="avatar circle" /></span>
  </span>
</button>

<dialog-helper>
  <dialog data-target="deferred-side-panel.panel" id="dialog-57e280c3-b662-4d55-9b36-783e0ee1b604" aria-modal="true" aria-labelledby="dialog-57e280c3-b662-4d55-9b36-783e0ee1b604-title" aria-describedby="dialog-57e280c3-b662-4d55-9b36-783e0ee1b604-description" data-view-component="true" class="Overlay Overlay-whenNarrow Overlay--size-small-portrait Overlay--motion-scaleFade Overlay--placement-right SidePanel">
    <div styles="flex-direction: row;" data-view-component="true" class="Overlay-header">
  <div class="Overlay-headerContentWrap">
    <div class="Overlay-titleWrap">
      <h1 class="Overlay-title sr-only" id="dialog-57e280c3-b662-4d55-9b36-783e0ee1b604-title">
        Account menu
      </h1>
            <div data-view-component="true" class="d-flex">
      <div data-view-component="true" class="AppHeader-logo position-relative">
        <img src="https://avatars.githubusercontent.com/u/122584593?v=4" alt="" size="32" height="32" width="32" data-view-component="true" class="avatar circle" />
</div>        <div data-view-component="true" class="overflow-hidden d-flex width-full">        <div data-view-component="true" class="lh-condensed overflow-hidden d-flex flex-column flex-justify-center ml-2 f5 mr-auto width-full">
          <span data-view-component="true" class="Truncate text-bold">
    <span data-view-component="true" class="Truncate-text">
            ashwinreddy2
</span>
</span>          </div>
          <action-menu data-select-variant="none" data-view-component="true" class="d-sm-none d-md-none d-lg-none">
  <focus-group direction="vertical" mnemonics retain>
    <button id="user-create-menu-button" popovertarget="user-create-menu-overlay" aria-label="Create something new" aria-controls="user-create-menu-list" aria-haspopup="true" type="button" data-view-component="true" class="AppHeader-button Button--secondary Button--small Button width-auto color-fg-muted">  <span class="Button-content">
      <span class="Button-visual Button-leadingVisual">
        <svg aria-hidden="true" height="16" viewBox="0 0 16 16" version="1.1" width="16" data-view-component="true" class="octicon octicon-plus">
    <path d="M7.75 2a.75.75 0 0 1 .75.75V7h4.25a.75.75 0 0 1 0 1.5H8.5v4.25a.75.75 0 0 1-1.5 0V8.5H2.75a.75.75 0 0 1 0-1.5H7V2.75A.75.75 0 0 1 7.75 2Z"></path>
</svg>
      </span>
    <span class="Button-label"><svg aria-hidden="true" height="16" viewBox="0 0 16 16" version="1.1" width="16" data-view-component="true" class="octicon octicon-triangle-down">
    <path d="m4.427 7.427 3.396 3.396a.25.25 0 0 0 .354 0l3.396-3.396A.25.25 0 0 0 11.396 7H4.604a.25.25 0 0 0-.177.427Z"></path>
</svg></span>
  </span>
</button><tool-tip id="tooltip-fa48e442-1d19-4965-b790-af9b471b54ef" for="user-create-menu-button" popover="manual" data-direction="s" data-type="description" data-view-component="true" class="sr-only position-absolute">Create new...</tool-tip>


<anchored-position id="user-create-menu-overlay" anchor="user-create-menu-button" align="end" side="outside-bottom" anchor-offset="normal" popover="auto" data-view-component="true">
  <div data-view-component="true" class="Overlay Overlay--size-auto">
    
      <div data-view-component="true" class="Overlay-body Overlay-body--paddingNone">          <action-list>
  <div data-view-component="true">
    <ul aria-labelledby="user-create-menu-button" id="user-create-menu-list" role="menu" data-view-component="true" class="ActionListWrap--inset ActionListWrap">
        <li data-analytics-event="{&quot;category&quot;:&quot;SiteHeaderComponent&quot;,&quot;action&quot;:&quot;add_dropdown&quot;,&quot;label&quot;:&quot;new repository&quot;}" data-targets="action-list.items" role="none" data-view-component="true" class="ActionListItem">
    
    <a href="/new" tabindex="-1" id="item-630a2f87-c346-48ae-a30b-4d7a2dc9ee51" role="menuitem" data-view-component="true" class="ActionListContent ActionListContent--visual16">
        <span class="ActionListItem-visual ActionListItem-visual--leading">
          <svg aria-hidden="true" height="16" viewBox="0 0 16 16" version="1.1" width="16" data-view-component="true" class="octicon octicon-repo">
    <path d="M2 2.5A2.5 2.5 0 0 1 4.5 0h8.75a.75.75 0 0 1 .75.75v12.5a.75.75 0 0 1-.75.75h-2.5a.75.75 0 0 1 0-1.5h1.75v-2h-8a1 1 0 0 0-.714 1.7.75.75 0 1 1-1.072 1.05A2.495 2.495 0 0 1 2 11.5Zm10.5-1h-8a1 1 0 0 0-1 1v6.708A2.486 2.486 0 0 1 4.5 9h8ZM5 12.25a.25.25 0 0 1 .25-.25h3.5a.25.25 0 0 1 .25.25v3.25a.25.25 0 0 1-.4.2l-1.45-1.087a.249.249 0 0 0-.3 0L5.4 15.7a.25.25 0 0 1-.4-.2Z"></path>
</svg>
        </span>
      
        <span data-view-component="true" class="ActionListItem-label">
                New repository

</span></a>
  
  
</li>
        <li data-analytics-event="{&quot;category&quot;:&quot;SiteHeaderComponent&quot;,&quot;action&quot;:&quot;add_dropdown&quot;,&quot;label&quot;:&quot;import repository&quot;}" data-targets="action-list.items" role="none" data-view-component="true" class="ActionListItem">
    
    <a href="/new/import" tabindex="-1" id="item-7f78abd4-3732-4b26-b271-80f1b8debe99" role="menuitem" data-view-component="true" class="ActionListContent ActionListContent--visual16">
        <span class="ActionListItem-visual ActionListItem-visual--leading">
          <svg aria-hidden="true" height="16" viewBox="0 0 16 16" version="1.1" width="16" data-view-component="true" class="octicon octicon-repo-push">
    <path d="M1 2.5A2.5 2.5 0 0 1 3.5 0h8.75a.75.75 0 0 1 .75.75v3.5a.75.75 0 0 1-1.5 0V1.5h-8a1 1 0 0 0-1 1v6.708A2.493 2.493 0 0 1 3.5 9h3.25a.75.75 0 0 1 0 1.5H3.5a1 1 0 0 0 0 2h5.75a.75.75 0 0 1 0 1.5H3.5A2.5 2.5 0 0 1 1 11.5Zm13.23 7.79h-.001l-1.224-1.224v6.184a.75.75 0 0 1-1.5 0V9.066L10.28 10.29a.75.75 0 0 1-1.06-1.061l2.505-2.504a.75.75 0 0 1 1.06 0L15.29 9.23a.751.751 0 0 1-.018 1.042.751.751 0 0 1-1.042.018Z"></path>
</svg>
        </span>
      
        <span data-view-component="true" class="ActionListItem-label">
                  Import repository

</span></a>
  
  
</li>
        <li role="presentation" aria-hidden="true" data-view-component="true" class="ActionList-sectionDivider"></li>
        <li data-analytics-event="{&quot;category&quot;:&quot;SiteHeaderComponent&quot;,&quot;action&quot;:&quot;add_dropdown&quot;,&quot;label&quot;:&quot;new codespace&quot;}" data-targets="action-list.items" role="none" data-view-component="true" class="ActionListItem">
    
    <a href="/codespaces/new" tabindex="-1" id="item-bd1e7d48-2727-406c-84f6-f34043912c0f" role="menuitem" data-view-component="true" class="ActionListContent ActionListContent--visual16">
        <span class="ActionListItem-visual ActionListItem-visual--leading">
          <svg aria-hidden="true" height="16" viewBox="0 0 16 16" version="1.1" width="16" data-view-component="true" class="octicon octicon-codespaces">
    <path d="M0 11.25c0-.966.784-1.75 1.75-1.75h12.5c.966 0 1.75.784 1.75 1.75v3A1.75 1.75 0 0 1 14.25 16H1.75A1.75 1.75 0 0 1 0 14.25Zm2-9.5C2 .784 2.784 0 3.75 0h8.5C13.216 0 14 .784 14 1.75v5a1.75 1.75 0 0 1-1.75 1.75h-8.5A1.75 1.75 0 0 1 2 6.75Zm1.75-.25a.25.25 0 0 0-.25.25v5c0 .138.112.25.25.25h8.5a.25.25 0 0 0 .25-.25v-5a.25.25 0 0 0-.25-.25Zm-2 9.5a.25.25 0 0 0-.25.25v3c0 .138.112.25.25.25h12.5a.25.25 0 0 0 .25-.25v-3a.25.25 0 0 0-.25-.25Z"></path><path d="M7 12.75a.75.75 0 0 1 .75-.75h4.5a.75.75 0 0 1 0 1.5h-4.5a.75.75 0 0 1-.75-.75Zm-4 0a.75.75 0 0 1 .75-.75h.5a.75.75 0 0 1 0 1.5h-.5a.75.75 0 0 1-.75-.75Z"></path>
</svg>
        </span>
      
        <span data-view-component="true" class="ActionListItem-label">
                  New codespace

</span></a>
  
  
</li>
        <li data-analytics-event="{&quot;category&quot;:&quot;SiteHeaderComponent&quot;,&quot;action&quot;:&quot;add_dropdown&quot;,&quot;label&quot;:&quot;new gist&quot;}" data-targets="action-list.items" role="none" data-view-component="true" class="ActionListItem">
    
    <a href="https://gist.github.com/" tabindex="-1" id="item-ec6379f9-ac93-42a1-bd28-308c16b9ef63" role="menuitem" data-view-component="true" class="ActionListContent ActionListContent--visual16">
        <span class="ActionListItem-visual ActionListItem-visual--leading">
          <svg aria-hidden="true" height="16" viewBox="0 0 16 16" version="1.1" width="16" data-view-component="true" class="octicon octicon-code">
    <path d="m11.28 3.22 4.25 4.25a.75.75 0 0 1 0 1.06l-4.25 4.25a.749.749 0 0 1-1.275-.326.749.749 0 0 1 .215-.734L13.94 8l-3.72-3.72a.749.749 0 0 1 .326-1.275.749.749 0 0 1 .734.215Zm-6.56 0a.751.751 0 0 1 1.042.018.751.751 0 0 1 .018 1.042L2.06 8l3.72 3.72a.749.749 0 0 1-.326 1.275.749.749 0 0 1-.734-.215L.47 8.53a.75.75 0 0 1 0-1.06Z"></path>
</svg>
        </span>
      
        <span data-view-component="true" class="ActionListItem-label">
                  New gist

</span></a>
  
  
</li>
        <li role="presentation" aria-hidden="true" data-view-component="true" class="ActionList-sectionDivider"></li>
        <li data-targets="action-list.items" role="none" data-view-component="true" class="ActionListItem">
    
    <a href="/account/organizations/new" tabindex="-1" data-dont-follow-via-test="true" data-analytics-event="{&quot;category&quot;:&quot;SiteHeaderComponent&quot;,&quot;action&quot;:&quot;add_dropdown&quot;,&quot;label&quot;:&quot;new organization&quot;}" id="item-dce15189-375e-4ec4-9d8f-896b32ff9ab1" role="menuitem" data-view-component="true" class="ActionListContent ActionListContent--visual16">
        <span class="ActionListItem-visual ActionListItem-visual--leading">
          <svg aria-hidden="true" height="16" viewBox="0 0 16 16" version="1.1" width="16" data-view-component="true" class="octicon octicon-organization">
    <path d="M1.75 16A1.75 1.75 0 0 1 0 14.25V1.75C0 .784.784 0 1.75 0h8.5C11.216 0 12 .784 12 1.75v12.5c0 .085-.006.168-.018.25h2.268a.25.25 0 0 0 .25-.25V8.285a.25.25 0 0 0-.111-.208l-1.055-.703a.749.749 0 1 1 .832-1.248l1.055.703c.487.325.779.871.779 1.456v5.965A1.75 1.75 0 0 1 14.25 16h-3.5a.766.766 0 0 1-.197-.026c-.099.017-.2.026-.303.026h-3a.75.75 0 0 1-.75-.75V14h-1v1.25a.75.75 0 0 1-.75.75Zm-.25-1.75c0 .138.112.25.25.25H4v-1.25a.75.75 0 0 1 .75-.75h2.5a.75.75 0 0 1 .75.75v1.25h2.25a.25.25 0 0 0 .25-.25V1.75a.25.25 0 0 0-.25-.25h-8.5a.25.25 0 0 0-.25.25ZM3.75 6h.5a.75.75 0 0 1 0 1.5h-.5a.75.75 0 0 1 0-1.5ZM3 3.75A.75.75 0 0 1 3.75 3h.5a.75.75 0 0 1 0 1.5h-.5A.75.75 0 0 1 3 3.75Zm4 3A.75.75 0 0 1 7.75 6h.5a.75.75 0 0 1 0 1.5h-.5A.75.75 0 0 1 7 6.75ZM7.75 3h.5a.75.75 0 0 1 0 1.5h-.5a.75.75 0 0 1 0-1.5ZM3 9.75A.75.75 0 0 1 3.75 9h.5a.75.75 0 0 1 0 1.5h-.5A.75.75 0 0 1 3 9.75ZM7.75 9h.5a.75.75 0 0 1 0 1.5h-.5a.75.75 0 0 1 0-1.5Z"></path>
</svg>
        </span>
      
        <span data-view-component="true" class="ActionListItem-label">
                  New organization

</span></a>
  
  
</li>
</ul>    
</div></action-list>


</div>
      
</div></anchored-position>  </focus-group>
</action-menu>

</div>
</div>
    </div>
    <div class="Overlay-actionWrap">
      <button data-close-dialog-id="dialog-57e280c3-b662-4d55-9b36-783e0ee1b604" aria-label="Close" type="button" data-view-component="true" class="close-button Overlay-closeButton"><svg aria-hidden="true" height="16" viewBox="0 0 16 16" version="1.1" width="16" data-view-component="true" class="octicon octicon-x">
    <path d="M3.72 3.72a.75.75 0 0 1 1.06 0L8 6.94l3.22-3.22a.749.749 0 0 1 1.275.326.749.749 0 0 1-.215.734L9.06 8l3.22 3.22a.749.749 0 0 1-.326 1.275.749.749 0 0 1-.734-.215L8 9.06l-3.22 3.22a.751.751 0 0 1-1.042-.018.751.751 0 0 1-.018-1.042L6.94 8 3.72 4.78a.75.75 0 0 1 0-1.06Z"></path>
</svg></button>
    </div>
  </div>
</div>
      <scrollable-region data-labelled-by="dialog-57e280c3-b662-4d55-9b36-783e0ee1b604-title">
        <div data-view-component="true" class="Overlay-body d-flex flex-column px-2">    <div data-view-component="true" class="d-flex flex-column mb-3">
        <nav aria-label="User navigation" data-view-component="true" class="ActionList">
  
  <nav-list>
    <ul data-target="nav-list.topLevelList" data-view-component="true" class="ActionListWrap">
        
          
<li data-item-id="" data-targets="nav-list.items" data-view-component="true" class="ActionListItem">
    
    <button id="item-41c53470-432f-4823-9244-7e4d1263b08e" type="button" data-view-component="true" class="ActionListContent ActionListContent--visual16">
        <span class="ActionListItem-visual ActionListItem-visual--leading">
          <span data-view-component="true" class="d-flex flex-items-center">    <svg style="box-sizing: content-box; color: var(--color-icon-primary);" width="16" height="16" viewBox="0 0 16 16" fill="none" data-view-component="true" class="anim-rotate">
  <circle cx="8" cy="8" r="7" stroke="currentColor" stroke-opacity="0.25" stroke-width="2" vector-effect="non-scaling-stroke" fill="none" />
  <path d="M15 8a7.002 7.002 0 00-7-7" stroke="currentColor" stroke-width="2" stroke-linecap="round" vector-effect="non-scaling-stroke" />
</svg>
</span>
        </span>
      
        <span data-view-component="true" class="ActionListItem-label">
          

  <span class="color-fg-muted">
    Loading...
  </span>

</span></button>
  
  
</li>

        
          <li role="presentation" aria-hidden="true" data-view-component="true" class="ActionList-sectionDivider"></li>
        
          
<li data-item-id="" data-targets="nav-list.items" data-view-component="true" class="ActionListItem">
    
    <a data-analytics-event="{&quot;category&quot;:&quot;Global navigation&quot;,&quot;action&quot;:&quot;PROFILE&quot;,&quot;label&quot;:null}" id="item-12f05abf-78f2-4cd2-9083-f93afd26b538" href="https://github.com/ashwinreddy2" data-view-component="true" class="ActionListContent ActionListContent--visual16">
        <span class="ActionListItem-visual ActionListItem-visual--leading">
          <svg aria-hidden="true" height="16" viewBox="0 0 16 16" version="1.1" width="16" data-view-component="true" class="octicon octicon-person">
    <path d="M10.561 8.073a6.005 6.005 0 0 1 3.432 5.142.75.75 0 1 1-1.498.07 4.5 4.5 0 0 0-8.99 0 .75.75 0 0 1-1.498-.07 6.004 6.004 0 0 1 3.431-5.142 3.999 3.999 0 1 1 5.123 0ZM10.5 5a2.5 2.5 0 1 0-5 0 2.5 2.5 0 0 0 5 0Z"></path>
</svg>
        </span>
      
        <span data-view-component="true" class="ActionListItem-label">
          Your profile
</span></a>
  
  
</li>

        
          
<li data-item-id="" data-targets="nav-list.items" data-view-component="true" class="ActionListItem">
    
    <button id="item-423e3191-88fc-4ec3-b828-21fbdddedafd" type="button" data-view-component="true" class="ActionListContent ActionListContent--visual16">
        <span class="ActionListItem-visual ActionListItem-visual--leading">
          <span data-view-component="true" class="d-flex flex-items-center">    <svg style="box-sizing: content-box; color: var(--color-icon-primary);" width="16" height="16" viewBox="0 0 16 16" fill="none" data-view-component="true" class="anim-rotate">
  <circle cx="8" cy="8" r="7" stroke="currentColor" stroke-opacity="0.25" stroke-width="2" vector-effect="non-scaling-stroke" fill="none" />
  <path d="M15 8a7.002 7.002 0 00-7-7" stroke="currentColor" stroke-width="2" stroke-linecap="round" vector-effect="non-scaling-stroke" />
</svg>
</span>
        </span>
      
        <span data-view-component="true" class="ActionListItem-label">
          

  <span class="color-fg-muted">
    Loading...
  </span>

</span></button>
  
  
</li>

        
          <li role="presentation" aria-hidden="true" data-view-component="true" class="ActionList-sectionDivider"></li>
        
          
<li data-item-id="" data-targets="nav-list.items" data-view-component="true" class="ActionListItem">
    
    <a data-analytics-event="{&quot;category&quot;:&quot;Global navigation&quot;,&quot;action&quot;:&quot;YOUR_REPOSITORIES&quot;,&quot;label&quot;:null}" id="item-fc2e8911-0e72-4941-9809-3d6d14c46c93" href="/ashwinreddy2?tab=repositories" data-view-component="true" class="ActionListContent ActionListContent--visual16">
        <span class="ActionListItem-visual ActionListItem-visual--leading">
          <svg aria-hidden="true" height="16" viewBox="0 0 16 16" version="1.1" width="16" data-view-component="true" class="octicon octicon-repo">
    <path d="M2 2.5A2.5 2.5 0 0 1 4.5 0h8.75a.75.75 0 0 1 .75.75v12.5a.75.75 0 0 1-.75.75h-2.5a.75.75 0 0 1 0-1.5h1.75v-2h-8a1 1 0 0 0-.714 1.7.75.75 0 1 1-1.072 1.05A2.495 2.495 0 0 1 2 11.5Zm10.5-1h-8a1 1 0 0 0-1 1v6.708A2.486 2.486 0 0 1 4.5 9h8ZM5 12.25a.25.25 0 0 1 .25-.25h3.5a.25.25 0 0 1 .25.25v3.25a.25.25 0 0 1-.4.2l-1.45-1.087a.249.249 0 0 0-.3 0L5.4 15.7a.25.25 0 0 1-.4-.2Z"></path>
</svg>
        </span>
      
        <span data-view-component="true" class="ActionListItem-label">
          Your repositories
</span></a>
  
  
</li>

        
          
<li data-item-id="" data-targets="nav-list.items" data-view-component="true" class="ActionListItem">
    
    <a data-analytics-event="{&quot;category&quot;:&quot;Global navigation&quot;,&quot;action&quot;:&quot;YOUR_PROJECTS&quot;,&quot;label&quot;:null}" id="item-081b381e-d92a-4533-9c4a-d0c5cd122d80" href="/ashwinreddy2?tab=projects" data-view-component="true" class="ActionListContent ActionListContent--visual16">
        <span class="ActionListItem-visual ActionListItem-visual--leading">
          <svg aria-hidden="true" height="16" viewBox="0 0 16 16" version="1.1" width="16" data-view-component="true" class="octicon octicon-project">
    <path d="M1.75 0h12.5C15.216 0 16 .784 16 1.75v12.5A1.75 1.75 0 0 1 14.25 16H1.75A1.75 1.75 0 0 1 0 14.25V1.75C0 .784.784 0 1.75 0ZM1.5 1.75v12.5c0 .138.112.25.25.25h12.5a.25.25 0 0 0 .25-.25V1.75a.25.25 0 0 0-.25-.25H1.75a.25.25 0 0 0-.25.25ZM11.75 3a.75.75 0 0 1 .75.75v7.5a.75.75 0 0 1-1.5 0v-7.5a.75.75 0 0 1 .75-.75Zm-8.25.75a.75.75 0 0 1 1.5 0v5.5a.75.75 0 0 1-1.5 0ZM8 3a.75.75 0 0 1 .75.75v3.5a.75.75 0 0 1-1.5 0v-3.5A.75.75 0 0 1 8 3Z"></path>
</svg>
        </span>
      
        <span data-view-component="true" class="ActionListItem-label">
          Your projects
</span></a>
  
  
</li>

        
          
<li data-item-id="" data-targets="nav-list.items" data-view-component="true" class="ActionListItem">
    
    <button id="item-ed5aa28e-8b95-40e3-bb4f-12121bcf7c8a" type="button" data-view-component="true" class="ActionListContent ActionListContent--visual16">
        <span class="ActionListItem-visual ActionListItem-visual--leading">
          <span data-view-component="true" class="d-flex flex-items-center">    <svg style="box-sizing: content-box; color: var(--color-icon-primary);" width="16" height="16" viewBox="0 0 16 16" fill="none" data-view-component="true" class="anim-rotate">
  <circle cx="8" cy="8" r="7" stroke="currentColor" stroke-opacity="0.25" stroke-width="2" vector-effect="non-scaling-stroke" fill="none" />
  <path d="M15 8a7.002 7.002 0 00-7-7" stroke="currentColor" stroke-width="2" stroke-linecap="round" vector-effect="non-scaling-stroke" />
</svg>
</span>
        </span>
      
        <span data-view-component="true" class="ActionListItem-label">
          

  <span class="color-fg-muted">
    Loading...
  </span>

</span></button>
  
  
</li>

        
          
<li data-item-id="" data-targets="nav-list.items" data-view-component="true" class="ActionListItem">
    
    <button id="item-a9059d6b-266a-40dc-b1a1-027648dffdbd" type="button" data-view-component="true" class="ActionListContent ActionListContent--visual16">
        <span class="ActionListItem-visual ActionListItem-visual--leading">
          <span data-view-component="true" class="d-flex flex-items-center">    <svg style="box-sizing: content-box; color: var(--color-icon-primary);" width="16" height="16" viewBox="0 0 16 16" fill="none" data-view-component="true" class="anim-rotate">
  <circle cx="8" cy="8" r="7" stroke="currentColor" stroke-opacity="0.25" stroke-width="2" vector-effect="non-scaling-stroke" fill="none" />
  <path d="M15 8a7.002 7.002 0 00-7-7" stroke="currentColor" stroke-width="2" stroke-linecap="round" vector-effect="non-scaling-stroke" />
</svg>
</span>
        </span>
      
        <span data-view-component="true" class="ActionListItem-label">
          

  <span class="color-fg-muted">
    Loading...
  </span>

</span></button>
  
  
</li>

        
          
<li data-item-id="" data-targets="nav-list.items" data-view-component="true" class="ActionListItem">
    
    <a data-analytics-event="{&quot;category&quot;:&quot;Global navigation&quot;,&quot;action&quot;:&quot;YOUR_STARS&quot;,&quot;label&quot;:null}" id="item-94b92aa6-0c0d-46a8-99d2-918bf5bab7c7" href="/ashwinreddy2?tab=stars" data-view-component="true" class="ActionListContent ActionListContent--visual16">
        <span class="ActionListItem-visual ActionListItem-visual--leading">
          <svg aria-hidden="true" height="16" viewBox="0 0 16 16" version="1.1" width="16" data-view-component="true" class="octicon octicon-star">
    <path d="M8 .25a.75.75 0 0 1 .673.418l1.882 3.815 4.21.612a.75.75 0 0 1 .416 1.279l-3.046 2.97.719 4.192a.751.751 0 0 1-1.088.791L8 12.347l-3.766 1.98a.75.75 0 0 1-1.088-.79l.72-4.194L.818 6.374a.75.75 0 0 1 .416-1.28l4.21-.611L7.327.668A.75.75 0 0 1 8 .25Zm0 2.445L6.615 5.5a.75.75 0 0 1-.564.41l-3.097.45 2.24 2.184a.75.75 0 0 1 .216.664l-.528 3.084 2.769-1.456a.75.75 0 0 1 .698 0l2.77 1.456-.53-3.084a.75.75 0 0 1 .216-.664l2.24-2.183-3.096-.45a.75.75 0 0 1-.564-.41L8 2.694Z"></path>
</svg>
        </span>
      
        <span data-view-component="true" class="ActionListItem-label">
          Your stars
</span></a>
  
  
</li>

        
          
<li data-item-id="" data-targets="nav-list.items" data-view-component="true" class="ActionListItem">
    
    <a data-analytics-event="{&quot;category&quot;:&quot;Global navigation&quot;,&quot;action&quot;:&quot;SPONSORS&quot;,&quot;label&quot;:null}" id="item-aa48a0b9-5c81-401d-84a6-d2cd24fe803d" href="/sponsors/accounts" data-view-component="true" class="ActionListContent ActionListContent--visual16">
        <span class="ActionListItem-visual ActionListItem-visual--leading">
          <svg aria-hidden="true" height="16" viewBox="0 0 16 16" version="1.1" width="16" data-view-component="true" class="octicon octicon-heart">
    <path d="m8 14.25.345.666a.75.75 0 0 1-.69 0l-.008-.004-.018-.01a7.152 7.152 0 0 1-.31-.17 22.055 22.055 0 0 1-3.434-2.414C2.045 10.731 0 8.35 0 5.5 0 2.836 2.086 1 4.25 1 5.797 1 7.153 1.802 8 3.02 8.847 1.802 10.203 1 11.75 1 13.914 1 16 2.836 16 5.5c0 2.85-2.045 5.231-3.885 6.818a22.066 22.066 0 0 1-3.744 2.584l-.018.01-.006.003h-.002ZM4.25 2.5c-1.336 0-2.75 1.164-2.75 3 0 2.15 1.58 4.144 3.365 5.682A20.58 20.58 0 0 0 8 13.393a20.58 20.58 0 0 0 3.135-2.211C12.92 9.644 14.5 7.65 14.5 5.5c0-1.836-1.414-3-2.75-3-1.373 0-2.609.986-3.029 2.456a.749.749 0 0 1-1.442 0C6.859 3.486 5.623 2.5 4.25 2.5Z"></path>
</svg>
        </span>
      
        <span data-view-component="true" class="ActionListItem-label">
          Your sponsors
</span></a>
  
  
</li>

        
          
<li data-item-id="" data-targets="nav-list.items" data-view-component="true" class="ActionListItem">
    
    <a data-analytics-event="{&quot;category&quot;:&quot;Global navigation&quot;,&quot;action&quot;:&quot;YOUR_GISTS&quot;,&quot;label&quot;:null}" id="item-76146513-29f8-45e6-8a0c-6cdc89a7ccd3" href="https://gist.github.com/mine" data-view-component="true" class="ActionListContent ActionListContent--visual16">
        <span class="ActionListItem-visual ActionListItem-visual--leading">
          <svg aria-hidden="true" height="16" viewBox="0 0 16 16" version="1.1" width="16" data-view-component="true" class="octicon octicon-code-square">
    <path d="M0 1.75C0 .784.784 0 1.75 0h12.5C15.216 0 16 .784 16 1.75v12.5A1.75 1.75 0 0 1 14.25 16H1.75A1.75 1.75 0 0 1 0 14.25Zm1.75-.25a.25.25 0 0 0-.25.25v12.5c0 .138.112.25.25.25h12.5a.25.25 0 0 0 .25-.25V1.75a.25.25 0 0 0-.25-.25Zm7.47 3.97a.75.75 0 0 1 1.06 0l2 2a.75.75 0 0 1 0 1.06l-2 2a.749.749 0 0 1-1.275-.326.749.749 0 0 1 .215-.734L10.69 8 9.22 6.53a.75.75 0 0 1 0-1.06ZM6.78 6.53 5.31 8l1.47 1.47a.749.749 0 0 1-.326 1.275.749.749 0 0 1-.734-.215l-2-2a.75.75 0 0 1 0-1.06l2-2a.751.751 0 0 1 1.042.018.751.751 0 0 1 .018 1.042Z"></path>
</svg>
        </span>
      
        <span data-view-component="true" class="ActionListItem-label">
          Your gists
</span></a>
  
  
</li>

        
          <li role="presentation" aria-hidden="true" data-view-component="true" class="ActionList-sectionDivider"></li>
        
          
<li data-item-id="" data-targets="nav-list.items" data-view-component="true" class="ActionListItem">
    
    <button id="item-f857ab94-9a65-45d0-8733-1e48cdbcbb05" type="button" data-view-component="true" class="ActionListContent ActionListContent--visual16">
        <span class="ActionListItem-visual ActionListItem-visual--leading">
          <span data-view-component="true" class="d-flex flex-items-center">    <svg style="box-sizing: content-box; color: var(--color-icon-primary);" width="16" height="16" viewBox="0 0 16 16" fill="none" data-view-component="true" class="anim-rotate">
  <circle cx="8" cy="8" r="7" stroke="currentColor" stroke-opacity="0.25" stroke-width="2" vector-effect="non-scaling-stroke" fill="none" />
  <path d="M15 8a7.002 7.002 0 00-7-7" stroke="currentColor" stroke-width="2" stroke-linecap="round" vector-effect="non-scaling-stroke" />
</svg>
</span>
        </span>
      
        <span data-view-component="true" class="ActionListItem-label">
          

  <span class="color-fg-muted">
    Loading...
  </span>

</span></button>
  
  
</li>

        
          
<li data-item-id="" data-targets="nav-list.items" data-view-component="true" class="ActionListItem">
    
    <button id="item-7c30e55d-ad0f-4d0d-ac8d-7ede4731d774" type="button" data-view-component="true" class="ActionListContent ActionListContent--visual16">
        <span class="ActionListItem-visual ActionListItem-visual--leading">
          <span data-view-component="true" class="d-flex flex-items-center">    <svg style="box-sizing: content-box; color: var(--color-icon-primary);" width="16" height="16" viewBox="0 0 16 16" fill="none" data-view-component="true" class="anim-rotate">
  <circle cx="8" cy="8" r="7" stroke="currentColor" stroke-opacity="0.25" stroke-width="2" vector-effect="non-scaling-stroke" fill="none" />
  <path d="M15 8a7.002 7.002 0 00-7-7" stroke="currentColor" stroke-width="2" stroke-linecap="round" vector-effect="non-scaling-stroke" />
</svg>
</span>
        </span>
      
        <span data-view-component="true" class="ActionListItem-label">
          

  <span class="color-fg-muted">
    Loading...
  </span>

</span></button>
  
  
</li>

        
          
<li data-item-id="" data-targets="nav-list.items" data-view-component="true" class="ActionListItem">
    
    <a data-analytics-event="{&quot;category&quot;:&quot;Global navigation&quot;,&quot;action&quot;:&quot;SETTINGS&quot;,&quot;label&quot;:null}" id="item-e8a09d5c-d7c4-4881-afd9-858742faf4f6" href="/settings/profile" data-view-component="true" class="ActionListContent ActionListContent--visual16">
        <span class="ActionListItem-visual ActionListItem-visual--leading">
          <svg aria-hidden="true" height="16" viewBox="0 0 16 16" version="1.1" width="16" data-view-component="true" class="octicon octicon-gear">
    <path d="M8 0a8.2 8.2 0 0 1 .701.031C9.444.095 9.99.645 10.16 1.29l.288 1.107c.018.066.079.158.212.224.231.114.454.243.668.386.123.082.233.09.299.071l1.103-.303c.644-.176 1.392.021 1.82.63.27.385.506.792.704 1.218.315.675.111 1.422-.364 1.891l-.814.806c-.049.048-.098.147-.088.294.016.257.016.515 0 .772-.01.147.038.246.088.294l.814.806c.475.469.679 1.216.364 1.891a7.977 7.977 0 0 1-.704 1.217c-.428.61-1.176.807-1.82.63l-1.102-.302c-.067-.019-.177-.011-.3.071a5.909 5.909 0 0 1-.668.386c-.133.066-.194.158-.211.224l-.29 1.106c-.168.646-.715 1.196-1.458 1.26a8.006 8.006 0 0 1-1.402 0c-.743-.064-1.289-.614-1.458-1.26l-.289-1.106c-.018-.066-.079-.158-.212-.224a5.738 5.738 0 0 1-.668-.386c-.123-.082-.233-.09-.299-.071l-1.103.303c-.644.176-1.392-.021-1.82-.63a8.12 8.12 0 0 1-.704-1.218c-.315-.675-.111-1.422.363-1.891l.815-.806c.05-.048.098-.147.088-.294a6.214 6.214 0 0 1 0-.772c.01-.147-.038-.246-.088-.294l-.815-.806C.635 6.045.431 5.298.746 4.623a7.92 7.92 0 0 1 .704-1.217c.428-.61 1.176-.807 1.82-.63l1.102.302c.067.019.177.011.3-.071.214-.143.437-.272.668-.386.133-.066.194-.158.211-.224l.29-1.106C6.009.645 6.556.095 7.299.03 7.53.01 7.764 0 8 0Zm-.571 1.525c-.036.003-.108.036-.137.146l-.289 1.105c-.147.561-.549.967-.998 1.189-.173.086-.34.183-.5.29-.417.278-.97.423-1.529.27l-1.103-.303c-.109-.03-.175.016-.195.045-.22.312-.412.644-.573.99-.014.031-.021.11.059.19l.815.806c.411.406.562.957.53 1.456a4.709 4.709 0 0 0 0 .582c.032.499-.119 1.05-.53 1.456l-.815.806c-.081.08-.073.159-.059.19.162.346.353.677.573.989.02.03.085.076.195.046l1.102-.303c.56-.153 1.113-.008 1.53.27.161.107.328.204.501.29.447.222.85.629.997 1.189l.289 1.105c.029.109.101.143.137.146a6.6 6.6 0 0 0 1.142 0c.036-.003.108-.036.137-.146l.289-1.105c.147-.561.549-.967.998-1.189.173-.086.34-.183.5-.29.417-.278.97-.423 1.529-.27l1.103.303c.109.029.175-.016.195-.045.22-.313.411-.644.573-.99.014-.031.021-.11-.059-.19l-.815-.806c-.411-.406-.562-.957-.53-1.456a4.709 4.709 0 0 0 0-.582c-.032-.499.119-1.05.53-1.456l.815-.806c.081-.08.073-.159.059-.19a6.464 6.464 0 0 0-.573-.989c-.02-.03-.085-.076-.195-.046l-1.102.303c-.56.153-1.113.008-1.53-.27a4.44 4.44 0 0 0-.501-.29c-.447-.222-.85-.629-.997-1.189l-.289-1.105c-.029-.11-.101-.143-.137-.146a6.6 6.6 0 0 0-1.142 0ZM11 8a3 3 0 1 1-6 0 3 3 0 0 1 6 0ZM9.5 8a1.5 1.5 0 1 0-3.001.001A1.5 1.5 0 0 0 9.5 8Z"></path>
</svg>
        </span>
      
        <span data-view-component="true" class="ActionListItem-label">
          Settings
</span></a>
  
  
</li>

        
          <li role="presentation" aria-hidden="true" data-view-component="true" class="ActionList-sectionDivider"></li>
        
          
<li data-item-id="" data-targets="nav-list.items" data-view-component="true" class="ActionListItem">
    
    <a data-analytics-event="{&quot;category&quot;:&quot;Global navigation&quot;,&quot;action&quot;:&quot;DOCS&quot;,&quot;label&quot;:null}" id="item-118468e5-9328-4e26-a5e2-d053373e09b6" href="https://docs.github.com" data-view-component="true" class="ActionListContent ActionListContent--visual16">
        <span class="ActionListItem-visual ActionListItem-visual--leading">
          <svg aria-hidden="true" height="16" viewBox="0 0 16 16" version="1.1" width="16" data-view-component="true" class="octicon octicon-book">
    <path d="M0 1.75A.75.75 0 0 1 .75 1h4.253c1.227 0 2.317.59 3 1.501A3.743 3.743 0 0 1 11.006 1h4.245a.75.75 0 0 1 .75.75v10.5a.75.75 0 0 1-.75.75h-4.507a2.25 2.25 0 0 0-1.591.659l-.622.621a.75.75 0 0 1-1.06 0l-.622-.621A2.25 2.25 0 0 0 5.258 13H.75a.75.75 0 0 1-.75-.75Zm7.251 10.324.004-5.073-.002-2.253A2.25 2.25 0 0 0 5.003 2.5H1.5v9h3.757a3.75 3.75 0 0 1 1.994.574ZM8.755 4.75l-.004 7.322a3.752 3.752 0 0 1 1.992-.572H14.5v-9h-3.495a2.25 2.25 0 0 0-2.25 2.25Z"></path>
</svg>
        </span>
      
        <span data-view-component="true" class="ActionListItem-label">
          GitHub Docs
</span></a>
  
  
</li>

        
          
<li data-item-id="" data-targets="nav-list.items" data-view-component="true" class="ActionListItem">
    
    <a data-analytics-event="{&quot;category&quot;:&quot;Global navigation&quot;,&quot;action&quot;:&quot;SUPPORT&quot;,&quot;label&quot;:null}" id="item-5bd29a30-68e9-43a1-893d-d42b7418bd13" href="https://support.github.com" data-view-component="true" class="ActionListContent ActionListContent--visual16">
        <span class="ActionListItem-visual ActionListItem-visual--leading">
          <svg aria-hidden="true" height="16" viewBox="0 0 16 16" version="1.1" width="16" data-view-component="true" class="octicon octicon-people">
    <path d="M2 5.5a3.5 3.5 0 1 1 5.898 2.549 5.508 5.508 0 0 1 3.034 4.084.75.75 0 1 1-1.482.235 4 4 0 0 0-7.9 0 .75.75 0 0 1-1.482-.236A5.507 5.507 0 0 1 3.102 8.05 3.493 3.493 0 0 1 2 5.5ZM11 4a3.001 3.001 0 0 1 2.22 5.018 5.01 5.01 0 0 1 2.56 3.012.749.749 0 0 1-.885.954.752.752 0 0 1-.549-.514 3.507 3.507 0 0 0-2.522-2.372.75.75 0 0 1-.574-.73v-.352a.75.75 0 0 1 .416-.672A1.5 1.5 0 0 0 11 5.5.75.75 0 0 1 11 4Zm-5.5-.5a2 2 0 1 0-.001 3.999A2 2 0 0 0 5.5 3.5Z"></path>
</svg>
        </span>
      
        <span data-view-component="true" class="ActionListItem-label">
          GitHub Support
</span></a>
  
  
</li>

        
          
<li data-item-id="" data-targets="nav-list.items" data-view-component="true" class="ActionListItem">
    
    <a data-analytics-event="{&quot;category&quot;:&quot;Global navigation&quot;,&quot;action&quot;:&quot;COMMUNITY&quot;,&quot;label&quot;:null}" id="item-9e2d296d-cf23-4da4-9cd1-7cfa14be0a68" href="https://community.github.com" data-view-component="true" class="ActionListContent ActionListContent--visual16">
        <span class="ActionListItem-visual ActionListItem-visual--leading">
          <svg aria-hidden="true" height="16" viewBox="0 0 16 16" version="1.1" width="16" data-view-component="true" class="octicon octicon-comment-discussion">
    <path d="M1.75 1h8.5c.966 0 1.75.784 1.75 1.75v5.5A1.75 1.75 0 0 1 10.25 10H7.061l-2.574 2.573A1.458 1.458 0 0 1 2 11.543V10h-.25A1.75 1.75 0 0 1 0 8.25v-5.5C0 1.784.784 1 1.75 1ZM1.5 2.75v5.5c0 .138.112.25.25.25h1a.75.75 0 0 1 .75.75v2.19l2.72-2.72a.749.749 0 0 1 .53-.22h3.5a.25.25 0 0 0 .25-.25v-5.5a.25.25 0 0 0-.25-.25h-8.5a.25.25 0 0 0-.25.25Zm13 2a.25.25 0 0 0-.25-.25h-.5a.75.75 0 0 1 0-1.5h.5c.966 0 1.75.784 1.75 1.75v5.5A1.75 1.75 0 0 1 14.25 12H14v1.543a1.458 1.458 0 0 1-2.487 1.03L9.22 12.28a.749.749 0 0 1 .326-1.275.749.749 0 0 1 .734.215l2.22 2.22v-2.19a.75.75 0 0 1 .75-.75h1a.25.25 0 0 0 .25-.25Z"></path>
</svg>
        </span>
      
        <span data-view-component="true" class="ActionListItem-label">
          GitHub Community
</span></a>
  
  
</li>

        
          <li role="presentation" aria-hidden="true" data-view-component="true" class="ActionList-sectionDivider"></li>
        
          
<li data-item-id="" data-targets="nav-list.items" data-view-component="true" class="ActionListItem">
    
    <a data-analytics-event="{&quot;category&quot;:&quot;Global navigation&quot;,&quot;action&quot;:&quot;LOGOUT&quot;,&quot;label&quot;:null}" id="item-b53d0388-bcfa-4f34-9afb-95f51af7fa45" href="/logout" data-view-component="true" class="ActionListContent">
      
        <span data-view-component="true" class="ActionListItem-label">
          Sign out
</span></a>
  
  
</li>

</ul>  </nav-list>
</nav>


</div>
</div>
      </scrollable-region>
      
</dialog></dialog-helper>
  </user-drawer-side-panel>

  </include-fragment>
</deferred-side-panel>
          
        </div>

        <div class="position-absolute mt-2">
            
<site-header-logged-in-user-menu>

</site-header-logged-in-user-menu>

        </div>
      </div>
    </div>


      <div class="AppHeader-localBar" >
        <nav data-pjax="#js-repo-pjax-container" aria-label="Repository" data-view-component="true" class="js-repo-nav js-sidenav-container-pjax js-responsive-underlinenav overflow-hidden UnderlineNav">

  <ul data-view-component="true" class="UnderlineNav-body list-style-none">
      <li data-view-component="true" class="d-inline-flex">
  <a id="code-tab" href="/ashwinreddy2/700745488--Assignment-9-Ashwin-kumar-Reddy" data-tab-item="i0code-tab" data-selected-links="repo_source repo_downloads repo_commits repo_releases repo_tags repo_branches repo_packages repo_deployments repo_attestations /ashwinreddy2/700745488--Assignment-9-Ashwin-kumar-Reddy" data-pjax="#repo-content-pjax-container" data-turbo-frame="repo-content-turbo-frame" data-hotkey="g c" data-analytics-event="{&quot;category&quot;:&quot;Underline navbar&quot;,&quot;action&quot;:&quot;Click tab&quot;,&quot;label&quot;:&quot;Code&quot;,&quot;target&quot;:&quot;UNDERLINE_NAV.TAB&quot;}" data-view-component="true" class="UnderlineNav-item no-wrap js-responsive-underlinenav-item js-selected-navigation-item">
    
              <svg aria-hidden="true" height="16" viewBox="0 0 16 16" version="1.1" width="16" data-view-component="true" class="octicon octicon-code UnderlineNav-octicon d-none d-sm-inline">
    <path d="m11.28 3.22 4.25 4.25a.75.75 0 0 1 0 1.06l-4.25 4.25a.749.749 0 0 1-1.275-.326.749.749 0 0 1 .215-.734L13.94 8l-3.72-3.72a.749.749 0 0 1 .326-1.275.749.749 0 0 1 .734.215Zm-6.56 0a.751.751 0 0 1 1.042.018.751.751 0 0 1 .018 1.042L2.06 8l3.72 3.72a.749.749 0 0 1-.326 1.275.749.749 0 0 1-.734-.215L.47 8.53a.75.75 0 0 1 0-1.06Z"></path>
</svg>
        <span data-content="Code">Code</span>
          <span id="code-repo-tab-count" data-pjax-replace="" data-turbo-replace="" title="Not available" data-view-component="true" class="Counter"></span>


    
</a></li>
      <li data-view-component="true" class="d-inline-flex">
  <a id="issues-tab" href="/ashwinreddy2/700745488--Assignment-9-Ashwin-kumar-Reddy/issues" data-tab-item="i1issues-tab" data-selected-links="repo_issues repo_labels repo_milestones /ashwinreddy2/700745488--Assignment-9-Ashwin-kumar-Reddy/issues" data-pjax="#repo-content-pjax-container" data-turbo-frame="repo-content-turbo-frame" data-hotkey="g i" data-analytics-event="{&quot;category&quot;:&quot;Underline navbar&quot;,&quot;action&quot;:&quot;Click tab&quot;,&quot;label&quot;:&quot;Issues&quot;,&quot;target&quot;:&quot;UNDERLINE_NAV.TAB&quot;}" data-view-component="true" class="UnderlineNav-item no-wrap js-responsive-underlinenav-item js-selected-navigation-item">
    
              <svg aria-hidden="true" height="16" viewBox="0 0 16 16" version="1.1" width="16" data-view-component="true" class="octicon octicon-issue-opened UnderlineNav-octicon d-none d-sm-inline">
    <path d="M8 9.5a1.5 1.5 0 1 0 0-3 1.5 1.5 0 0 0 0 3Z"></path><path d="M8 0a8 8 0 1 1 0 16A8 8 0 0 1 8 0ZM1.5 8a6.5 6.5 0 1 0 13 0 6.5 6.5 0 0 0-13 0Z"></path>
</svg>
        <span data-content="Issues">Issues</span>
          <span id="issues-repo-tab-count" data-pjax-replace="" data-turbo-replace="" title="0" hidden="hidden" data-view-component="true" class="Counter">0</span>


    
</a></li>
      <li data-view-component="true" class="d-inline-flex">
  <a id="pull-requests-tab" href="/ashwinreddy2/700745488--Assignment-9-Ashwin-kumar-Reddy/pulls" data-tab-item="i2pull-requests-tab" data-selected-links="repo_pulls checks /ashwinreddy2/700745488--Assignment-9-Ashwin-kumar-Reddy/pulls" data-pjax="#repo-content-pjax-container" data-turbo-frame="repo-content-turbo-frame" data-hotkey="g p" data-analytics-event="{&quot;category&quot;:&quot;Underline navbar&quot;,&quot;action&quot;:&quot;Click tab&quot;,&quot;label&quot;:&quot;Pull requests&quot;,&quot;target&quot;:&quot;UNDERLINE_NAV.TAB&quot;}" data-view-component="true" class="UnderlineNav-item no-wrap js-responsive-underlinenav-item js-selected-navigation-item">
    
              <svg aria-hidden="true" height="16" viewBox="0 0 16 16" version="1.1" width="16" data-view-component="true" class="octicon octicon-git-pull-request UnderlineNav-octicon d-none d-sm-inline">
    <path d="M1.5 3.25a2.25 2.25 0 1 1 3 2.122v5.256a2.251 2.251 0 1 1-1.5 0V5.372A2.25 2.25 0 0 1 1.5 3.25Zm5.677-.177L9.573.677A.25.25 0 0 1 10 .854V2.5h1A2.5 2.5 0 0 1 13.5 5v5.628a2.251 2.251 0 1 1-1.5 0V5a1 1 0 0 0-1-1h-1v1.646a.25.25 0 0 1-.427.177L7.177 3.427a.25.25 0 0 1 0-.354ZM3.75 2.5a.75.75 0 1 0 0 1.5.75.75 0 0 0 0-1.5Zm0 9.5a.75.75 0 1 0 0 1.5.75.75 0 0 0 0-1.5Zm8.25.75a.75.75 0 1 0 1.5 0 .75.75 0 0 0-1.5 0Z"></path>
</svg>
        <span data-content="Pull requests">Pull requests</span>
          <span id="pull-requests-repo-tab-count" data-pjax-replace="" data-turbo-replace="" title="0" hidden="hidden" data-view-component="true" class="Counter">0</span>


    
</a></li>
      <li data-view-component="true" class="d-inline-flex">
  <a id="actions-tab" href="/ashwinreddy2/700745488--Assignment-9-Ashwin-kumar-Reddy/actions" data-tab-item="i3actions-tab" data-selected-links="repo_actions /ashwinreddy2/700745488--Assignment-9-Ashwin-kumar-Reddy/actions" data-pjax="#repo-content-pjax-container" data-turbo-frame="repo-content-turbo-frame" data-hotkey="g a" data-analytics-event="{&quot;category&quot;:&quot;Underline navbar&quot;,&quot;action&quot;:&quot;Click tab&quot;,&quot;label&quot;:&quot;Actions&quot;,&quot;target&quot;:&quot;UNDERLINE_NAV.TAB&quot;}" data-view-component="true" class="UnderlineNav-item no-wrap js-responsive-underlinenav-item js-selected-navigation-item">
    
              <svg aria-hidden="true" height="16" viewBox="0 0 16 16" version="1.1" width="16" data-view-component="true" class="octicon octicon-play UnderlineNav-octicon d-none d-sm-inline">
    <path d="M8 0a8 8 0 1 1 0 16A8 8 0 0 1 8 0ZM1.5 8a6.5 6.5 0 1 0 13 0 6.5 6.5 0 0 0-13 0Zm4.879-2.773 4.264 2.559a.25.25 0 0 1 0 .428l-4.264 2.559A.25.25 0 0 1 6 10.559V5.442a.25.25 0 0 1 .379-.215Z"></path>
</svg>
        <span data-content="Actions">Actions</span>
          <span id="actions-repo-tab-count" data-pjax-replace="" data-turbo-replace="" title="Not available" data-view-component="true" class="Counter"></span>


    
</a></li>
      <li data-view-component="true" class="d-inline-flex">
  <a id="projects-tab" href="/ashwinreddy2/700745488--Assignment-9-Ashwin-kumar-Reddy/projects" data-tab-item="i4projects-tab" data-selected-links="repo_projects new_repo_project repo_project /ashwinreddy2/700745488--Assignment-9-Ashwin-kumar-Reddy/projects" data-pjax="#repo-content-pjax-container" data-turbo-frame="repo-content-turbo-frame" data-hotkey="g b" data-analytics-event="{&quot;category&quot;:&quot;Underline navbar&quot;,&quot;action&quot;:&quot;Click tab&quot;,&quot;label&quot;:&quot;Projects&quot;,&quot;target&quot;:&quot;UNDERLINE_NAV.TAB&quot;}" data-view-component="true" class="UnderlineNav-item no-wrap js-responsive-underlinenav-item js-selected-navigation-item">
    
              <svg aria-hidden="true" height="16" viewBox="0 0 16 16" version="1.1" width="16" data-view-component="true" class="octicon octicon-table UnderlineNav-octicon d-none d-sm-inline">
    <path d="M0 1.75C0 .784.784 0 1.75 0h12.5C15.216 0 16 .784 16 1.75v12.5A1.75 1.75 0 0 1 14.25 16H1.75A1.75 1.75 0 0 1 0 14.25ZM6.5 6.5v8h7.75a.25.25 0 0 0 .25-.25V6.5Zm8-1.5V1.75a.25.25 0 0 0-.25-.25H6.5V5Zm-13 1.5v7.75c0 .138.112.25.25.25H5v-8ZM5 5V1.5H1.75a.25.25 0 0 0-.25.25V5Z"></path>
</svg>
        <span data-content="Projects">Projects</span>
          <span id="projects-repo-tab-count" data-pjax-replace="" data-turbo-replace="" title="0" hidden="hidden" data-view-component="true" class="Counter">0</span>


    
</a></li>
      <li data-view-component="true" class="d-inline-flex">
  <a id="wiki-tab" href="/ashwinreddy2/700745488--Assignment-9-Ashwin-kumar-Reddy/wiki" data-tab-item="i5wiki-tab" data-selected-links="repo_wiki /ashwinreddy2/700745488--Assignment-9-Ashwin-kumar-Reddy/wiki" data-pjax="#repo-content-pjax-container" data-turbo-frame="repo-content-turbo-frame" data-hotkey="g w" data-analytics-event="{&quot;category&quot;:&quot;Underline navbar&quot;,&quot;action&quot;:&quot;Click tab&quot;,&quot;label&quot;:&quot;Wiki&quot;,&quot;target&quot;:&quot;UNDERLINE_NAV.TAB&quot;}" data-view-component="true" class="UnderlineNav-item no-wrap js-responsive-underlinenav-item js-selected-navigation-item">
    
              <svg aria-hidden="true" height="16" viewBox="0 0 16 16" version="1.1" width="16" data-view-component="true" class="octicon octicon-book UnderlineNav-octicon d-none d-sm-inline">
    <path d="M0 1.75A.75.75 0 0 1 .75 1h4.253c1.227 0 2.317.59 3 1.501A3.743 3.743 0 0 1 11.006 1h4.245a.75.75 0 0 1 .75.75v10.5a.75.75 0 0 1-.75.75h-4.507a2.25 2.25 0 0 0-1.591.659l-.622.621a.75.75 0 0 1-1.06 0l-.622-.621A2.25 2.25 0 0 0 5.258 13H.75a.75.75 0 0 1-.75-.75Zm7.251 10.324.004-5.073-.002-2.253A2.25 2.25 0 0 0 5.003 2.5H1.5v9h3.757a3.75 3.75 0 0 1 1.994.574ZM8.755 4.75l-.004 7.322a3.752 3.752 0 0 1 1.992-.572H14.5v-9h-3.495a2.25 2.25 0 0 0-2.25 2.25Z"></path>
</svg>
        <span data-content="Wiki">Wiki</span>
          <span id="wiki-repo-tab-count" data-pjax-replace="" data-turbo-replace="" title="Not available" data-view-component="true" class="Counter"></span>


    
</a></li>
      <li data-view-component="true" class="d-inline-flex">
  <a id="security-tab" href="/ashwinreddy2/700745488--Assignment-9-Ashwin-kumar-Reddy/security" data-tab-item="i6security-tab" data-selected-links="security overview alerts policy token_scanning code_scanning /ashwinreddy2/700745488--Assignment-9-Ashwin-kumar-Reddy/security" data-pjax="#repo-content-pjax-container" data-turbo-frame="repo-content-turbo-frame" data-hotkey="g s" data-analytics-event="{&quot;category&quot;:&quot;Underline navbar&quot;,&quot;action&quot;:&quot;Click tab&quot;,&quot;label&quot;:&quot;Security&quot;,&quot;target&quot;:&quot;UNDERLINE_NAV.TAB&quot;}" data-view-component="true" class="UnderlineNav-item no-wrap js-responsive-underlinenav-item js-selected-navigation-item">
    
              <svg aria-hidden="true" height="16" viewBox="0 0 16 16" version="1.1" width="16" data-view-component="true" class="octicon octicon-shield UnderlineNav-octicon d-none d-sm-inline">
    <path d="M7.467.133a1.748 1.748 0 0 1 1.066 0l5.25 1.68A1.75 1.75 0 0 1 15 3.48V7c0 1.566-.32 3.182-1.303 4.682-.983 1.498-2.585 2.813-5.032 3.855a1.697 1.697 0 0 1-1.33 0c-2.447-1.042-4.049-2.357-5.032-3.855C1.32 10.182 1 8.566 1 7V3.48a1.75 1.75 0 0 1 1.217-1.667Zm.61 1.429a.25.25 0 0 0-.153 0l-5.25 1.68a.25.25 0 0 0-.174.238V7c0 1.358.275 2.666 1.057 3.86.784 1.194 2.121 2.34 4.366 3.297a.196.196 0 0 0 .154 0c2.245-.956 3.582-2.104 4.366-3.298C13.225 9.666 13.5 8.36 13.5 7V3.48a.251.251 0 0 0-.174-.237l-5.25-1.68ZM8.75 4.75v3a.75.75 0 0 1-1.5 0v-3a.75.75 0 0 1 1.5 0ZM9 10.5a1 1 0 1 1-2 0 1 1 0 0 1 2 0Z"></path>
</svg>
        <span data-content="Security">Security</span>
          <include-fragment src="/ashwinreddy2/700745488--Assignment-9-Ashwin-kumar-Reddy/security/overall-count" accept="text/fragment+html"></include-fragment>

    
</a></li>
      <li data-view-component="true" class="d-inline-flex">
  <a id="insights-tab" href="/ashwinreddy2/700745488--Assignment-9-Ashwin-kumar-Reddy/pulse" data-tab-item="i7insights-tab" data-selected-links="repo_graphs repo_contributors dependency_graph dependabot_updates pulse people community /ashwinreddy2/700745488--Assignment-9-Ashwin-kumar-Reddy/pulse" data-pjax="#repo-content-pjax-container" data-turbo-frame="repo-content-turbo-frame" data-analytics-event="{&quot;category&quot;:&quot;Underline navbar&quot;,&quot;action&quot;:&quot;Click tab&quot;,&quot;label&quot;:&quot;Insights&quot;,&quot;target&quot;:&quot;UNDERLINE_NAV.TAB&quot;}" data-view-component="true" class="UnderlineNav-item no-wrap js-responsive-underlinenav-item js-selected-navigation-item">
    
              <svg aria-hidden="true" height="16" viewBox="0 0 16 16" version="1.1" width="16" data-view-component="true" class="octicon octicon-graph UnderlineNav-octicon d-none d-sm-inline">
    <path d="M1.5 1.75V13.5h13.75a.75.75 0 0 1 0 1.5H.75a.75.75 0 0 1-.75-.75V1.75a.75.75 0 0 1 1.5 0Zm14.28 2.53-5.25 5.25a.75.75 0 0 1-1.06 0L7 7.06 4.28 9.78a.751.751 0 0 1-1.042-.018.751.751 0 0 1-.018-1.042l3.25-3.25a.75.75 0 0 1 1.06 0L10 7.94l4.72-4.72a.751.751 0 0 1 1.042.018.751.751 0 0 1 .018 1.042Z"></path>
</svg>
        <span data-content="Insights">Insights</span>
          <span id="insights-repo-tab-count" data-pjax-replace="" data-turbo-replace="" title="Not available" data-view-component="true" class="Counter"></span>


    
</a></li>
      <li data-view-component="true" class="d-inline-flex">
  <a id="settings-tab" href="/ashwinreddy2/700745488--Assignment-9-Ashwin-kumar-Reddy/settings" data-tab-item="i8settings-tab" data-selected-links="code_review_limits codespaces_repository_settings collaborators custom_tabs hooks integration_installations interaction_limits issue_template_editor key_links_settings notifications repo_announcements repo_branch_settings repo_keys_settings repo_pages_settings repo_rule_insights repo_rulesets repo_rules_bypass_requests repo_protected_tags_settings repo_settings reported_content repo_custom_properties repository_actions_settings repository_actions_settings_add_new_runner repository_actions_settings_general repository_actions_settings_runners repository_actions_settings_runner_details repository_environments role_details secrets secrets_settings_actions secrets_settings_codespaces secrets_settings_dependabot security_analysis security_products /ashwinreddy2/700745488--Assignment-9-Ashwin-kumar-Reddy/settings" data-pjax="#repo-content-pjax-container" data-turbo-frame="repo-content-turbo-frame" data-analytics-event="{&quot;category&quot;:&quot;Underline navbar&quot;,&quot;action&quot;:&quot;Click tab&quot;,&quot;label&quot;:&quot;Settings&quot;,&quot;target&quot;:&quot;UNDERLINE_NAV.TAB&quot;}" data-view-component="true" class="UnderlineNav-item no-wrap js-responsive-underlinenav-item js-selected-navigation-item">
    
              <svg aria-hidden="true" height="16" viewBox="0 0 16 16" version="1.1" width="16" data-view-component="true" class="octicon octicon-gear UnderlineNav-octicon d-none d-sm-inline">
    <path d="M8 0a8.2 8.2 0 0 1 .701.031C9.444.095 9.99.645 10.16 1.29l.288 1.107c.018.066.079.158.212.224.231.114.454.243.668.386.123.082.233.09.299.071l1.103-.303c.644-.176 1.392.021 1.82.63.27.385.506.792.704 1.218.315.675.111 1.422-.364 1.891l-.814.806c-.049.048-.098.147-.088.294.016.257.016.515 0 .772-.01.147.038.246.088.294l.814.806c.475.469.679 1.216.364 1.891a7.977 7.977 0 0 1-.704 1.217c-.428.61-1.176.807-1.82.63l-1.102-.302c-.067-.019-.177-.011-.3.071a5.909 5.909 0 0 1-.668.386c-.133.066-.194.158-.211.224l-.29 1.106c-.168.646-.715 1.196-1.458 1.26a8.006 8.006 0 0 1-1.402 0c-.743-.064-1.289-.614-1.458-1.26l-.289-1.106c-.018-.066-.079-.158-.212-.224a5.738 5.738 0 0 1-.668-.386c-.123-.082-.233-.09-.299-.071l-1.103.303c-.644.176-1.392-.021-1.82-.63a8.12 8.12 0 0 1-.704-1.218c-.315-.675-.111-1.422.363-1.891l.815-.806c.05-.048.098-.147.088-.294a6.214 6.214 0 0 1 0-.772c.01-.147-.038-.246-.088-.294l-.815-.806C.635 6.045.431 5.298.746 4.623a7.92 7.92 0 0 1 .704-1.217c.428-.61 1.176-.807 1.82-.63l1.102.302c.067.019.177.011.3-.071.214-.143.437-.272.668-.386.133-.066.194-.158.211-.224l.29-1.106C6.009.645 6.556.095 7.299.03 7.53.01 7.764 0 8 0Zm-.571 1.525c-.036.003-.108.036-.137.146l-.289 1.105c-.147.561-.549.967-.998 1.189-.173.086-.34.183-.5.29-.417.278-.97.423-1.529.27l-1.103-.303c-.109-.03-.175.016-.195.045-.22.312-.412.644-.573.99-.014.031-.021.11.059.19l.815.806c.411.406.562.957.53 1.456a4.709 4.709 0 0 0 0 .582c.032.499-.119 1.05-.53 1.456l-.815.806c-.081.08-.073.159-.059.19.162.346.353.677.573.989.02.03.085.076.195.046l1.102-.303c.56-.153 1.113-.008 1.53.27.161.107.328.204.501.29.447.222.85.629.997 1.189l.289 1.105c.029.109.101.143.137.146a6.6 6.6 0 0 0 1.142 0c.036-.003.108-.036.137-.146l.289-1.105c.147-.561.549-.967.998-1.189.173-.086.34-.183.5-.29.417-.278.97-.423 1.529-.27l1.103.303c.109.029.175-.016.195-.045.22-.313.411-.644.573-.99.014-.031.021-.11-.059-.19l-.815-.806c-.411-.406-.562-.957-.53-1.456a4.709 4.709 0 0 0 0-.582c-.032-.499.119-1.05.53-1.456l.815-.806c.081-.08.073-.159.059-.19a6.464 6.464 0 0 0-.573-.989c-.02-.03-.085-.076-.195-.046l-1.102.303c-.56.153-1.113.008-1.53-.27a4.44 4.44 0 0 0-.501-.29c-.447-.222-.85-.629-.997-1.189l-.289-1.105c-.029-.11-.101-.143-.137-.146a6.6 6.6 0 0 0-1.142 0ZM11 8a3 3 0 1 1-6 0 3 3 0 0 1 6 0ZM9.5 8a1.5 1.5 0 1 0-3.001.001A1.5 1.5 0 0 0 9.5 8Z"></path>
</svg>
        <span data-content="Settings">Settings</span>
          <span id="settings-repo-tab-count" data-pjax-replace="" data-turbo-replace="" title="Not available" data-view-component="true" class="Counter"></span>


    
</a></li>
</ul>
    <div style="visibility:hidden;" data-view-component="true" class="UnderlineNav-actions js-responsive-underlinenav-overflow position-absolute pr-3 pr-md-4 pr-lg-5 right-0">      <action-menu data-select-variant="none" data-view-component="true">
  <focus-group direction="vertical" mnemonics retain>
    <button id="action-menu-bf0a092e-8970-495e-bb96-35e03904ffa8-button" popovertarget="action-menu-bf0a092e-8970-495e-bb96-35e03904ffa8-overlay" aria-controls="action-menu-bf0a092e-8970-495e-bb96-35e03904ffa8-list" aria-haspopup="true" aria-labelledby="tooltip-1df2bc1e-9dc2-450a-9439-a19997ddb603" type="button" data-view-component="true" class="Button Button--iconOnly Button--secondary Button--medium UnderlineNav-item">  <svg aria-hidden="true" height="16" viewBox="0 0 16 16" version="1.1" width="16" data-view-component="true" class="octicon octicon-kebab-horizontal Button-visual">
    <path d="M8 9a1.5 1.5 0 1 0 0-3 1.5 1.5 0 0 0 0 3ZM1.5 9a1.5 1.5 0 1 0 0-3 1.5 1.5 0 0 0 0 3Zm13 0a1.5 1.5 0 1 0 0-3 1.5 1.5 0 0 0 0 3Z"></path>
</svg>
</button><tool-tip id="tooltip-1df2bc1e-9dc2-450a-9439-a19997ddb603" for="action-menu-bf0a092e-8970-495e-bb96-35e03904ffa8-button" popover="manual" data-direction="s" data-type="label" data-view-component="true" class="sr-only position-absolute">Additional navigation options</tool-tip>


<anchored-position id="action-menu-bf0a092e-8970-495e-bb96-35e03904ffa8-overlay" anchor="action-menu-bf0a092e-8970-495e-bb96-35e03904ffa8-button" align="start" side="outside-bottom" anchor-offset="normal" popover="auto" data-view-component="true">
  <div data-view-component="true" class="Overlay Overlay--size-auto">
    
      <div data-view-component="true" class="Overlay-body Overlay-body--paddingNone">          <action-list>
  <div data-view-component="true">
    <ul aria-labelledby="action-menu-bf0a092e-8970-495e-bb96-35e03904ffa8-button" id="action-menu-bf0a092e-8970-495e-bb96-35e03904ffa8-list" role="menu" data-view-component="true" class="ActionListWrap--inset ActionListWrap">
        <li hidden="hidden" data-menu-item="i0code-tab" data-targets="action-list.items" role="none" data-view-component="true" class="ActionListItem">
    
    <a tabindex="-1" id="item-82b34e3b-5971-42e3-b24b-fba8cb5787e0" href="/ashwinreddy2/700745488--Assignment-9-Ashwin-kumar-Reddy" role="menuitem" data-view-component="true" class="ActionListContent ActionListContent--visual16">
        <span class="ActionListItem-visual ActionListItem-visual--leading">
          <svg aria-hidden="true" height="16" viewBox="0 0 16 16" version="1.1" width="16" data-view-component="true" class="octicon octicon-code">
    <path d="m11.28 3.22 4.25 4.25a.75.75 0 0 1 0 1.06l-4.25 4.25a.749.749 0 0 1-1.275-.326.749.749 0 0 1 .215-.734L13.94 8l-3.72-3.72a.749.749 0 0 1 .326-1.275.749.749 0 0 1 .734.215Zm-6.56 0a.751.751 0 0 1 1.042.018.751.751 0 0 1 .018 1.042L2.06 8l3.72 3.72a.749.749 0 0 1-.326 1.275.749.749 0 0 1-.734-.215L.47 8.53a.75.75 0 0 1 0-1.06Z"></path>
</svg>
        </span>
      
        <span data-view-component="true" class="ActionListItem-label">
          Code
</span></a>
  
  
</li>
        <li hidden="hidden" data-menu-item="i1issues-tab" data-targets="action-list.items" role="none" data-view-component="true" class="ActionListItem">
    
    <a tabindex="-1" id="item-ee936c70-4555-45d8-b587-733b8a4c9f1e" href="/ashwinreddy2/700745488--Assignment-9-Ashwin-kumar-Reddy/issues" role="menuitem" data-view-component="true" class="ActionListContent ActionListContent--visual16">
        <span class="ActionListItem-visual ActionListItem-visual--leading">
          <svg aria-hidden="true" height="16" viewBox="0 0 16 16" version="1.1" width="16" data-view-component="true" class="octicon octicon-issue-opened">
    <path d="M8 9.5a1.5 1.5 0 1 0 0-3 1.5 1.5 0 0 0 0 3Z"></path><path d="M8 0a8 8 0 1 1 0 16A8 8 0 0 1 8 0ZM1.5 8a6.5 6.5 0 1 0 13 0 6.5 6.5 0 0 0-13 0Z"></path>
</svg>
        </span>
      
        <span data-view-component="true" class="ActionListItem-label">
          Issues
</span></a>
  
  
</li>
        <li hidden="hidden" data-menu-item="i2pull-requests-tab" data-targets="action-list.items" role="none" data-view-component="true" class="ActionListItem">
    
    <a tabindex="-1" id="item-b23a8d4e-c120-455d-b56c-275de63126c8" href="/ashwinreddy2/700745488--Assignment-9-Ashwin-kumar-Reddy/pulls" role="menuitem" data-view-component="true" class="ActionListContent ActionListContent--visual16">
        <span class="ActionListItem-visual ActionListItem-visual--leading">
          <svg aria-hidden="true" height="16" viewBox="0 0 16 16" version="1.1" width="16" data-view-component="true" class="octicon octicon-git-pull-request">
    <path d="M1.5 3.25a2.25 2.25 0 1 1 3 2.122v5.256a2.251 2.251 0 1 1-1.5 0V5.372A2.25 2.25 0 0 1 1.5 3.25Zm5.677-.177L9.573.677A.25.25 0 0 1 10 .854V2.5h1A2.5 2.5 0 0 1 13.5 5v5.628a2.251 2.251 0 1 1-1.5 0V5a1 1 0 0 0-1-1h-1v1.646a.25.25 0 0 1-.427.177L7.177 3.427a.25.25 0 0 1 0-.354ZM3.75 2.5a.75.75 0 1 0 0 1.5.75.75 0 0 0 0-1.5Zm0 9.5a.75.75 0 1 0 0 1.5.75.75 0 0 0 0-1.5Zm8.25.75a.75.75 0 1 0 1.5 0 .75.75 0 0 0-1.5 0Z"></path>
</svg>
        </span>
      
        <span data-view-component="true" class="ActionListItem-label">
          Pull requests
</span></a>
  
  
</li>
        <li hidden="hidden" data-menu-item="i3actions-tab" data-targets="action-list.items" role="none" data-view-component="true" class="ActionListItem">
    
    <a tabindex="-1" id="item-4468fd81-dcbf-4925-99de-7e9317f3d233" href="/ashwinreddy2/700745488--Assignment-9-Ashwin-kumar-Reddy/actions" role="menuitem" data-view-component="true" class="ActionListContent ActionListContent--visual16">
        <span class="ActionListItem-visual ActionListItem-visual--leading">
          <svg aria-hidden="true" height="16" viewBox="0 0 16 16" version="1.1" width="16" data-view-component="true" class="octicon octicon-play">
    <path d="M8 0a8 8 0 1 1 0 16A8 8 0 0 1 8 0ZM1.5 8a6.5 6.5 0 1 0 13 0 6.5 6.5 0 0 0-13 0Zm4.879-2.773 4.264 2.559a.25.25 0 0 1 0 .428l-4.264 2.559A.25.25 0 0 1 6 10.559V5.442a.25.25 0 0 1 .379-.215Z"></path>
</svg>
        </span>
      
        <span data-view-component="true" class="ActionListItem-label">
          Actions
</span></a>
  
  
</li>
        <li hidden="hidden" data-menu-item="i4projects-tab" data-targets="action-list.items" role="none" data-view-component="true" class="ActionListItem">
    
    <a tabindex="-1" id="item-93607697-3dda-43ba-a004-ff4256cba8ad" href="/ashwinreddy2/700745488--Assignment-9-Ashwin-kumar-Reddy/projects" role="menuitem" data-view-component="true" class="ActionListContent ActionListContent--visual16">
        <span class="ActionListItem-visual ActionListItem-visual--leading">
          <svg aria-hidden="true" height="16" viewBox="0 0 16 16" version="1.1" width="16" data-view-component="true" class="octicon octicon-table">
    <path d="M0 1.75C0 .784.784 0 1.75 0h12.5C15.216 0 16 .784 16 1.75v12.5A1.75 1.75 0 0 1 14.25 16H1.75A1.75 1.75 0 0 1 0 14.25ZM6.5 6.5v8h7.75a.25.25 0 0 0 .25-.25V6.5Zm8-1.5V1.75a.25.25 0 0 0-.25-.25H6.5V5Zm-13 1.5v7.75c0 .138.112.25.25.25H5v-8ZM5 5V1.5H1.75a.25.25 0 0 0-.25.25V5Z"></path>
</svg>
        </span>
      
        <span data-view-component="true" class="ActionListItem-label">
          Projects
</span></a>
  
  
</li>
        <li hidden="hidden" data-menu-item="i5wiki-tab" data-targets="action-list.items" role="none" data-view-component="true" class="ActionListItem">
    
    <a tabindex="-1" id="item-68bb5d2b-b14b-4d3e-8214-af714e564176" href="/ashwinreddy2/700745488--Assignment-9-Ashwin-kumar-Reddy/wiki" role="menuitem" data-view-component="true" class="ActionListContent ActionListContent--visual16">
        <span class="ActionListItem-visual ActionListItem-visual--leading">
          <svg aria-hidden="true" height="16" viewBox="0 0 16 16" version="1.1" width="16" data-view-component="true" class="octicon octicon-book">
    <path d="M0 1.75A.75.75 0 0 1 .75 1h4.253c1.227 0 2.317.59 3 1.501A3.743 3.743 0 0 1 11.006 1h4.245a.75.75 0 0 1 .75.75v10.5a.75.75 0 0 1-.75.75h-4.507a2.25 2.25 0 0 0-1.591.659l-.622.621a.75.75 0 0 1-1.06 0l-.622-.621A2.25 2.25 0 0 0 5.258 13H.75a.75.75 0 0 1-.75-.75Zm7.251 10.324.004-5.073-.002-2.253A2.25 2.25 0 0 0 5.003 2.5H1.5v9h3.757a3.75 3.75 0 0 1 1.994.574ZM8.755 4.75l-.004 7.322a3.752 3.752 0 0 1 1.992-.572H14.5v-9h-3.495a2.25 2.25 0 0 0-2.25 2.25Z"></path>
</svg>
        </span>
      
        <span data-view-component="true" class="ActionListItem-label">
          Wiki
</span></a>
  
  
</li>
        <li hidden="hidden" data-menu-item="i6security-tab" data-targets="action-list.items" role="none" data-view-component="true" class="ActionListItem">
    
    <a tabindex="-1" id="item-d0cf969a-453c-46bd-a771-393a71e45cce" href="/ashwinreddy2/700745488--Assignment-9-Ashwin-kumar-Reddy/security" role="menuitem" data-view-component="true" class="ActionListContent ActionListContent--visual16">
        <span class="ActionListItem-visual ActionListItem-visual--leading">
          <svg aria-hidden="true" height="16" viewBox="0 0 16 16" version="1.1" width="16" data-view-component="true" class="octicon octicon-shield">
    <path d="M7.467.133a1.748 1.748 0 0 1 1.066 0l5.25 1.68A1.75 1.75 0 0 1 15 3.48V7c0 1.566-.32 3.182-1.303 4.682-.983 1.498-2.585 2.813-5.032 3.855a1.697 1.697 0 0 1-1.33 0c-2.447-1.042-4.049-2.357-5.032-3.855C1.32 10.182 1 8.566 1 7V3.48a1.75 1.75 0 0 1 1.217-1.667Zm.61 1.429a.25.25 0 0 0-.153 0l-5.25 1.68a.25.25 0 0 0-.174.238V7c0 1.358.275 2.666 1.057 3.86.784 1.194 2.121 2.34 4.366 3.297a.196.196 0 0 0 .154 0c2.245-.956 3.582-2.104 4.366-3.298C13.225 9.666 13.5 8.36 13.5 7V3.48a.251.251 0 0 0-.174-.237l-5.25-1.68ZM8.75 4.75v3a.75.75 0 0 1-1.5 0v-3a.75.75 0 0 1 1.5 0ZM9 10.5a1 1 0 1 1-2 0 1 1 0 0 1 2 0Z"></path>
</svg>
        </span>
      
        <span data-view-component="true" class="ActionListItem-label">
          Security
</span></a>
  
  
</li>
        <li hidden="hidden" data-menu-item="i7insights-tab" data-targets="action-list.items" role="none" data-view-component="true" class="ActionListItem">
    
    <a tabindex="-1" id="item-fe11df8b-ea37-4f7e-a4a7-436fdec026df" href="/ashwinreddy2/700745488--Assignment-9-Ashwin-kumar-Reddy/pulse" role="menuitem" data-view-component="true" class="ActionListContent ActionListContent--visual16">
        <span class="ActionListItem-visual ActionListItem-visual--leading">
          <svg aria-hidden="true" height="16" viewBox="0 0 16 16" version="1.1" width="16" data-view-component="true" class="octicon octicon-graph">
    <path d="M1.5 1.75V13.5h13.75a.75.75 0 0 1 0 1.5H.75a.75.75 0 0 1-.75-.75V1.75a.75.75 0 0 1 1.5 0Zm14.28 2.53-5.25 5.25a.75.75 0 0 1-1.06 0L7 7.06 4.28 9.78a.751.751 0 0 1-1.042-.018.751.751 0 0 1-.018-1.042l3.25-3.25a.75.75 0 0 1 1.06 0L10 7.94l4.72-4.72a.751.751 0 0 1 1.042.018.751.751 0 0 1 .018 1.042Z"></path>
</svg>
        </span>
      
        <span data-view-component="true" class="ActionListItem-label">
          Insights
</span></a>
  
  
</li>
        <li hidden="hidden" data-menu-item="i8settings-tab" data-targets="action-list.items" role="none" data-view-component="true" class="ActionListItem">
    
    <a tabindex="-1" id="item-e90c8532-c39f-4a10-8b9d-6dafb3cd19c9" href="/ashwinreddy2/700745488--Assignment-9-Ashwin-kumar-Reddy/settings" role="menuitem" data-view-component="true" class="ActionListContent ActionListContent--visual16">
        <span class="ActionListItem-visual ActionListItem-visual--leading">
          <svg aria-hidden="true" height="16" viewBox="0 0 16 16" version="1.1" width="16" data-view-component="true" class="octicon octicon-gear">
    <path d="M8 0a8.2 8.2 0 0 1 .701.031C9.444.095 9.99.645 10.16 1.29l.288 1.107c.018.066.079.158.212.224.231.114.454.243.668.386.123.082.233.09.299.071l1.103-.303c.644-.176 1.392.021 1.82.63.27.385.506.792.704 1.218.315.675.111 1.422-.364 1.891l-.814.806c-.049.048-.098.147-.088.294.016.257.016.515 0 .772-.01.147.038.246.088.294l.814.806c.475.469.679 1.216.364 1.891a7.977 7.977 0 0 1-.704 1.217c-.428.61-1.176.807-1.82.63l-1.102-.302c-.067-.019-.177-.011-.3.071a5.909 5.909 0 0 1-.668.386c-.133.066-.194.158-.211.224l-.29 1.106c-.168.646-.715 1.196-1.458 1.26a8.006 8.006 0 0 1-1.402 0c-.743-.064-1.289-.614-1.458-1.26l-.289-1.106c-.018-.066-.079-.158-.212-.224a5.738 5.738 0 0 1-.668-.386c-.123-.082-.233-.09-.299-.071l-1.103.303c-.644.176-1.392-.021-1.82-.63a8.12 8.12 0 0 1-.704-1.218c-.315-.675-.111-1.422.363-1.891l.815-.806c.05-.048.098-.147.088-.294a6.214 6.214 0 0 1 0-.772c.01-.147-.038-.246-.088-.294l-.815-.806C.635 6.045.431 5.298.746 4.623a7.92 7.92 0 0 1 .704-1.217c.428-.61 1.176-.807 1.82-.63l1.102.302c.067.019.177.011.3-.071.214-.143.437-.272.668-.386.133-.066.194-.158.211-.224l.29-1.106C6.009.645 6.556.095 7.299.03 7.53.01 7.764 0 8 0Zm-.571 1.525c-.036.003-.108.036-.137.146l-.289 1.105c-.147.561-.549.967-.998 1.189-.173.086-.34.183-.5.29-.417.278-.97.423-1.529.27l-1.103-.303c-.109-.03-.175.016-.195.045-.22.312-.412.644-.573.99-.014.031-.021.11.059.19l.815.806c.411.406.562.957.53 1.456a4.709 4.709 0 0 0 0 .582c.032.499-.119 1.05-.53 1.456l-.815.806c-.081.08-.073.159-.059.19.162.346.353.677.573.989.02.03.085.076.195.046l1.102-.303c.56-.153 1.113-.008 1.53.27.161.107.328.204.501.29.447.222.85.629.997 1.189l.289 1.105c.029.109.101.143.137.146a6.6 6.6 0 0 0 1.142 0c.036-.003.108-.036.137-.146l.289-1.105c.147-.561.549-.967.998-1.189.173-.086.34-.183.5-.29.417-.278.97-.423 1.529-.27l1.103.303c.109.029.175-.016.195-.045.22-.313.411-.644.573-.99.014-.031.021-.11-.059-.19l-.815-.806c-.411-.406-.562-.957-.53-1.456a4.709 4.709 0 0 0 0-.582c-.032-.499.119-1.05.53-1.456l.815-.806c.081-.08.073-.159.059-.19a6.464 6.464 0 0 0-.573-.989c-.02-.03-.085-.076-.195-.046l-1.102.303c-.56.153-1.113.008-1.53-.27a4.44 4.44 0 0 0-.501-.29c-.447-.222-.85-.629-.997-1.189l-.289-1.105c-.029-.11-.101-.143-.137-.146a6.6 6.6 0 0 0-1.142 0ZM11 8a3 3 0 1 1-6 0 3 3 0 0 1 6 0ZM9.5 8a1.5 1.5 0 1 0-3.001.001A1.5 1.5 0 0 0 9.5 8Z"></path>
</svg>
        </span>
      
        <span data-view-component="true" class="ActionListItem-label">
          Settings
</span></a>
  
  
</li>
</ul>    
</div></action-list>


</div>
      
</div></anchored-position>  </focus-group>
</action-menu></div>
</nav>
      </div>
</header>


      <div hidden="hidden" data-view-component="true" class="js-stale-session-flash stale-session-flash flash flash-warn flash-full mb-3">
  
        <svg aria-hidden="true" height="16" viewBox="0 0 16 16" version="1.1" width="16" data-view-component="true" class="octicon octicon-alert">
    <path d="M6.457 1.047c.659-1.234 2.427-1.234 3.086 0l6.082 11.378A1.75 1.75 0 0 1 14.082 15H1.918a1.75 1.75 0 0 1-1.543-2.575Zm1.763.707a.25.25 0 0 0-.44 0L1.698 13.132a.25.25 0 0 0 .22.368h12.164a.25.25 0 0 0 .22-.368Zm.53 3.996v2.5a.75.75 0 0 1-1.5 0v-2.5a.75.75 0 0 1 1.5 0ZM9 11a1 1 0 1 1-2 0 1 1 0 0 1 2 0Z"></path>
</svg>
        <span class="js-stale-session-flash-signed-in" hidden>You signed in with another tab or window. <a class="Link--inTextBlock" href="">Reload</a> to refresh your session.</span>
        <span class="js-stale-session-flash-signed-out" hidden>You signed out in another tab or window. <a class="Link--inTextBlock" href="">Reload</a> to refresh your session.</span>
        <span class="js-stale-session-flash-switched" hidden>You switched accounts on another tab or window. <a class="Link--inTextBlock" href="">Reload</a> to refresh your session.</span>

    <button id="icon-button-fb2b5a4a-8aeb-47b4-a7f2-f785761c6415" aria-labelledby="tooltip-1058b542-37f3-435a-b16f-1c9f3da7b20f" type="button" data-view-component="true" class="Button Button--iconOnly Button--invisible Button--medium flash-close js-flash-close">  <svg aria-hidden="true" height="16" viewBox="0 0 16 16" version="1.1" width="16" data-view-component="true" class="octicon octicon-x Button-visual">
    <path d="M3.72 3.72a.75.75 0 0 1 1.06 0L8 6.94l3.22-3.22a.749.749 0 0 1 1.275.326.749.749 0 0 1-.215.734L9.06 8l3.22 3.22a.749.749 0 0 1-.326 1.275.749.749 0 0 1-.734-.215L8 9.06l-3.22 3.22a.751.751 0 0 1-1.042-.018.751.751 0 0 1-.018-1.042L6.94 8 3.72 4.78a.75.75 0 0 1 0-1.06Z"></path>
</svg>
</button><tool-tip id="tooltip-1058b542-37f3-435a-b16f-1c9f3da7b20f" for="icon-button-fb2b5a4a-8aeb-47b4-a7f2-f785761c6415" popover="manual" data-direction="s" data-type="label" data-view-component="true" class="sr-only position-absolute">Dismiss alert</tool-tip>


  
</div>
          
    </div>

  <div id="start-of-content" class="show-on-focus"></div>








    <div id="js-flash-container" data-turbo-replace>





  <template class="js-flash-template">
    
<div class="flash flash-full   {{ className }}">
  <div >
    <button autofocus class="flash-close js-flash-close" type="button" aria-label="Dismiss this message">
      <svg aria-hidden="true" height="16" viewBox="0 0 16 16" version="1.1" width="16" data-view-component="true" class="octicon octicon-x">
    <path d="M3.72 3.72a.75.75 0 0 1 1.06 0L8 6.94l3.22-3.22a.749.749 0 0 1 1.275.326.749.749 0 0 1-.215.734L9.06 8l3.22 3.22a.749.749 0 0 1-.326 1.275.749.749 0 0 1-.734-.215L8 9.06l-3.22 3.22a.751.751 0 0 1-1.042-.018.751.751 0 0 1-.018-1.042L6.94 8 3.72 4.78a.75.75 0 0 1 0-1.06Z"></path>
</svg>
    </button>
    <div aria-atomic="true" role="alert" class="js-flash-alert">
      
      <div>{{ message }}</div>

    </div>
  </div>
</div>
  </template>
</div>


    
    <notification-shelf-watcher data-base-url="https://github.com/notifications/beta/shelf" data-channel="eyJjIjoibm90aWZpY2F0aW9uLWNoYW5nZWQ6MTIyNTg0NTkzIiwidCI6MTcxMTE2NTgzNX0=--b8be68c72e826d3701cdbc71d86a9ba438506f2c7f8a0a349467c1e3dab4cb4f" data-view-component="true" class="js-socket-channel"></notification-shelf-watcher>
  <div hidden data-initial data-target="notification-shelf-watcher.placeholder"></div>





      <details
  class="details-reset details-overlay details-overlay-dark js-command-palette-dialog"
  id="command-palette-pjax-container"
  data-turbo-replace
>
  <summary aria-label="Command palette trigger" tabindex="-1"></summary>
  <details-dialog class="command-palette-details-dialog d-flex flex-column flex-justify-center height-fit" aria-label="Command palette">
    <command-palette
      class="command-palette color-bg-default rounded-3 border color-shadow-small"
      return-to=/ashwinreddy2/700745488--Assignment-9-Ashwin-kumar-Reddy/blob/main/Neuralnetwork_ICP9_700727088.ipynb
      user-id="122584593"
      activation-hotkey="Mod+k,Mod+Alt+k"
      command-mode-hotkey="Mod+Shift+K"
      data-action="
        command-palette-input-ready:command-palette#inputReady
        command-palette-page-stack-updated:command-palette#updateInputScope
        itemsUpdated:command-palette#itemsUpdated
        keydown:command-palette#onKeydown
        loadingStateChanged:command-palette#loadingStateChanged
        selectedItemChanged:command-palette#selectedItemChanged
        pageFetchError:command-palette#pageFetchError
      ">

        <command-palette-mode
          data-char="#"
            data-scope-types="[&quot;&quot;]"
            data-placeholder="Search issues and pull requests"
        ></command-palette-mode>
        <command-palette-mode
          data-char="#"
            data-scope-types="[&quot;owner&quot;,&quot;repository&quot;]"
            data-placeholder="Search issues, pull requests, discussions, and projects"
        ></command-palette-mode>
        <command-palette-mode
          data-char="!"
            data-scope-types="[&quot;owner&quot;,&quot;repository&quot;]"
            data-placeholder="Search projects"
        ></command-palette-mode>
        <command-palette-mode
          data-char="@"
            data-scope-types="[&quot;&quot;]"
            data-placeholder="Search or jump to a user, organization, or repository"
        ></command-palette-mode>
        <command-palette-mode
          data-char="@"
            data-scope-types="[&quot;owner&quot;]"
            data-placeholder="Search or jump to a repository"
        ></command-palette-mode>
        <command-palette-mode
          data-char="/"
            data-scope-types="[&quot;repository&quot;]"
            data-placeholder="Search files"
        ></command-palette-mode>
        <command-palette-mode
          data-char="?"
        ></command-palette-mode>
        <command-palette-mode
          data-char="&gt;"
            data-placeholder="Run a command"
        ></command-palette-mode>
        <command-palette-mode
          data-char=""
            data-scope-types="[&quot;&quot;]"
            data-placeholder="Search or jump to..."
        ></command-palette-mode>
        <command-palette-mode
          data-char=""
            data-scope-types="[&quot;owner&quot;]"
            data-placeholder="Search or jump to..."
        ></command-palette-mode>
      <command-palette-mode
        class="js-command-palette-default-mode"
        data-char=""
        data-placeholder="Search or jump to..."
      ></command-palette-mode>

      <command-palette-input placeholder="Search or jump to..."

        data-action="
          command-palette-input:command-palette#onInput
          command-palette-select:command-palette#onSelect
          command-palette-descope:command-palette#onDescope
          command-palette-cleared:command-palette#onInputClear
        "
      >
        <div class="js-search-icon d-flex flex-items-center mr-2" style="height: 26px">
          <svg aria-hidden="true" height="16" viewBox="0 0 16 16" version="1.1" width="16" data-view-component="true" class="octicon octicon-search color-fg-muted">
    <path d="M10.68 11.74a6 6 0 0 1-7.922-8.982 6 6 0 0 1 8.982 7.922l3.04 3.04a.749.749 0 0 1-.326 1.275.749.749 0 0 1-.734-.215ZM11.5 7a4.499 4.499 0 1 0-8.997 0A4.499 4.499 0 0 0 11.5 7Z"></path>
</svg>
        </div>
        <div class="js-spinner d-flex flex-items-center mr-2 color-fg-muted" hidden>
          <svg aria-label="Loading" class="anim-rotate" viewBox="0 0 16 16" fill="none" width="16" height="16">
            <circle
              cx="8"
              cy="8"
              r="7"
              stroke="currentColor"
              stroke-opacity="0.25"
              stroke-width="2"
              vector-effect="non-scaling-stroke"
            ></circle>
            <path
              d="M15 8a7.002 7.002 0 00-7-7"
              stroke="currentColor"
              stroke-width="2"
              stroke-linecap="round"
              vector-effect="non-scaling-stroke"
            ></path>
          </svg>
        </div>
        <command-palette-scope >
          <div data-target="command-palette-scope.placeholder" hidden class="color-fg-subtle">/&nbsp;&nbsp;<span class="text-semibold color-fg-default">...</span>&nbsp;&nbsp;/&nbsp;&nbsp;</div>
              <command-palette-token
                data-text="ashwinreddy2"
                data-id="U_kgDOB05-EQ"
                data-type="owner"
                data-value="ashwinreddy2"
                data-targets="command-palette-scope.tokens"
                class="color-fg-default text-semibold"
                style="white-space:nowrap;line-height:20px;"
                >ashwinreddy2<span class="color-fg-subtle text-normal">&nbsp;&nbsp;/&nbsp;&nbsp;</span></command-palette-token>
              <command-palette-token
                data-text="700745488--Assignment-9-Ashwin-kumar-Reddy"
                data-id="R_kgDOJTTSTQ"
                data-type="repository"
                data-value="700745488--Assignment-9-Ashwin-kumar-Reddy"
                data-targets="command-palette-scope.tokens"
                class="color-fg-default text-semibold"
                style="white-space:nowrap;line-height:20px;"
                >700745488--Assign...<span class="color-fg-subtle text-normal">&nbsp;&nbsp;/&nbsp;&nbsp;</span></command-palette-token>
        </command-palette-scope>
        <div class="command-palette-input-group flex-1 form-control border-0 box-shadow-none" style="z-index: 0">
          <div class="command-palette-typeahead position-absolute d-flex flex-items-center Truncate">
            <span class="typeahead-segment input-mirror" data-target="command-palette-input.mirror"></span>
            <span class="Truncate-text" data-target="command-palette-input.typeaheadText"></span>
            <span class="typeahead-segment" data-target="command-palette-input.typeaheadPlaceholder"></span>
          </div>
          <input
            class="js-overlay-input typeahead-input d-none"
            disabled
            tabindex="-1"
            aria-label="Hidden input for typeahead"
          >
          <input
            type="text"
            autocomplete="off"
            autocorrect="off"
            autocapitalize="off"
            spellcheck="false"
            class="js-input typeahead-input form-control border-0 box-shadow-none input-block width-full no-focus-indicator"
            aria-label="Command palette input"
            aria-haspopup="listbox"
            aria-expanded="false"
            aria-autocomplete="list"
            aria-controls="command-palette-page-stack"
            role="combobox"
            data-action="
              input:command-palette-input#onInput
              keydown:command-palette-input#onKeydown
            "
          >
        </div>
          <div data-view-component="true" class="position-relative d-inline-block">
    <button aria-keyshortcuts="Control+Backspace" data-action="click:command-palette-input#onClear keypress:command-palette-input#onClear" data-target="command-palette-input.clearButton" id="command-palette-clear-button" hidden="hidden" type="button" data-view-component="true" class="btn-octicon command-palette-input-clear-button">      <svg aria-hidden="true" height="16" viewBox="0 0 16 16" version="1.1" width="16" data-view-component="true" class="octicon octicon-x-circle-fill">
    <path d="M2.343 13.657A8 8 0 1 1 13.658 2.343 8 8 0 0 1 2.343 13.657ZM6.03 4.97a.751.751 0 0 0-1.042.018.751.751 0 0 0-.018 1.042L6.94 8 4.97 9.97a.749.749 0 0 0 .326 1.275.749.749 0 0 0 .734-.215L8 9.06l1.97 1.97a.749.749 0 0 0 1.275-.326.749.749 0 0 0-.215-.734L9.06 8l1.97-1.97a.749.749 0 0 0-.326-1.275.749.749 0 0 0-.734.215L8 6.94Z"></path>
</svg>
</button>    <tool-tip id="tooltip-09ccb66d-4b73-4bcd-a34d-52cbe4c4012a" for="command-palette-clear-button" popover="manual" data-direction="w" data-type="label" data-view-component="true" class="sr-only position-absolute">Clear Command Palette</tool-tip>
</div>
      </command-palette-input>

      <command-palette-page-stack
        data-default-scope-id="R_kgDOJTTSTQ"
        data-default-scope-type="Repository"
        data-action="command-palette-page-octicons-cached:command-palette-page-stack#cacheOcticons"
      >
          <command-palette-tip
            class="color-fg-muted f6 px-3 py-1 my-2"
              data-scope-types="[&quot;&quot;,&quot;owner&quot;,&quot;repository&quot;]"
            data-mode=""
            data-value="">
            <div class="d-flex flex-items-start flex-justify-between">
              <div>
                <span class="text-bold">Tip:</span>
                  Type <kbd class="hx_kbd">#</kbd> to search pull requests
              </div>
              <div class="ml-2 flex-shrink-0">
                Type <kbd class="hx_kbd">?</kbd> for help and tips
              </div>
            </div>
          </command-palette-tip>
          <command-palette-tip
            class="color-fg-muted f6 px-3 py-1 my-2"
              data-scope-types="[&quot;&quot;,&quot;owner&quot;,&quot;repository&quot;]"
            data-mode=""
            data-value="">
            <div class="d-flex flex-items-start flex-justify-between">
              <div>
                <span class="text-bold">Tip:</span>
                  Type <kbd class="hx_kbd">#</kbd> to search issues
              </div>
              <div class="ml-2 flex-shrink-0">
                Type <kbd class="hx_kbd">?</kbd> for help and tips
              </div>
            </div>
          </command-palette-tip>
          <command-palette-tip
            class="color-fg-muted f6 px-3 py-1 my-2"
              data-scope-types="[&quot;owner&quot;,&quot;repository&quot;]"
            data-mode=""
            data-value="">
            <div class="d-flex flex-items-start flex-justify-between">
              <div>
                <span class="text-bold">Tip:</span>
                  Type <kbd class="hx_kbd">#</kbd> to search discussions
              </div>
              <div class="ml-2 flex-shrink-0">
                Type <kbd class="hx_kbd">?</kbd> for help and tips
              </div>
            </div>
          </command-palette-tip>
          <command-palette-tip
            class="color-fg-muted f6 px-3 py-1 my-2"
              data-scope-types="[&quot;owner&quot;,&quot;repository&quot;]"
            data-mode=""
            data-value="">
            <div class="d-flex flex-items-start flex-justify-between">
              <div>
                <span class="text-bold">Tip:</span>
                  Type <kbd class="hx_kbd">!</kbd> to search projects
              </div>
              <div class="ml-2 flex-shrink-0">
                Type <kbd class="hx_kbd">?</kbd> for help and tips
              </div>
            </div>
          </command-palette-tip>
          <command-palette-tip
            class="color-fg-muted f6 px-3 py-1 my-2"
              data-scope-types="[&quot;owner&quot;]"
            data-mode=""
            data-value="">
            <div class="d-flex flex-items-start flex-justify-between">
              <div>
                <span class="text-bold">Tip:</span>
                  Type <kbd class="hx_kbd">@</kbd> to search teams
              </div>
              <div class="ml-2 flex-shrink-0">
                Type <kbd class="hx_kbd">?</kbd> for help and tips
              </div>
            </div>
          </command-palette-tip>
          <command-palette-tip
            class="color-fg-muted f6 px-3 py-1 my-2"
              data-scope-types="[&quot;&quot;]"
            data-mode=""
            data-value="">
            <div class="d-flex flex-items-start flex-justify-between">
              <div>
                <span class="text-bold">Tip:</span>
                  Type <kbd class="hx_kbd">@</kbd> to search people and organizations
              </div>
              <div class="ml-2 flex-shrink-0">
                Type <kbd class="hx_kbd">?</kbd> for help and tips
              </div>
            </div>
          </command-palette-tip>
          <command-palette-tip
            class="color-fg-muted f6 px-3 py-1 my-2"
              data-scope-types="[&quot;&quot;,&quot;owner&quot;,&quot;repository&quot;]"
            data-mode=""
            data-value="">
            <div class="d-flex flex-items-start flex-justify-between">
              <div>
                <span class="text-bold">Tip:</span>
                  Type <kbd class="hx_kbd">&gt;</kbd> to activate command mode
              </div>
              <div class="ml-2 flex-shrink-0">
                Type <kbd class="hx_kbd">?</kbd> for help and tips
              </div>
            </div>
          </command-palette-tip>
          <command-palette-tip
            class="color-fg-muted f6 px-3 py-1 my-2"
              data-scope-types="[&quot;&quot;,&quot;owner&quot;,&quot;repository&quot;]"
            data-mode=""
            data-value="">
            <div class="d-flex flex-items-start flex-justify-between">
              <div>
                <span class="text-bold">Tip:</span>
                  Go to your accessibility settings to change your keyboard shortcuts
              </div>
              <div class="ml-2 flex-shrink-0">
                Type <kbd class="hx_kbd">?</kbd> for help and tips
              </div>
            </div>
          </command-palette-tip>
          <command-palette-tip
            class="color-fg-muted f6 px-3 py-1 my-2"
              data-scope-types="[&quot;&quot;,&quot;owner&quot;,&quot;repository&quot;]"
            data-mode="#"
            data-value="">
            <div class="d-flex flex-items-start flex-justify-between">
              <div>
                <span class="text-bold">Tip:</span>
                  Type author:@me to search your content
              </div>
              <div class="ml-2 flex-shrink-0">
                Type <kbd class="hx_kbd">?</kbd> for help and tips
              </div>
            </div>
          </command-palette-tip>
          <command-palette-tip
            class="color-fg-muted f6 px-3 py-1 my-2"
              data-scope-types="[&quot;&quot;,&quot;owner&quot;,&quot;repository&quot;]"
            data-mode="#"
            data-value="">
            <div class="d-flex flex-items-start flex-justify-between">
              <div>
                <span class="text-bold">Tip:</span>
                  Type is:pr to filter to pull requests
              </div>
              <div class="ml-2 flex-shrink-0">
                Type <kbd class="hx_kbd">?</kbd> for help and tips
              </div>
            </div>
          </command-palette-tip>
          <command-palette-tip
            class="color-fg-muted f6 px-3 py-1 my-2"
              data-scope-types="[&quot;&quot;,&quot;owner&quot;,&quot;repository&quot;]"
            data-mode="#"
            data-value="">
            <div class="d-flex flex-items-start flex-justify-between">
              <div>
                <span class="text-bold">Tip:</span>
                  Type is:issue to filter to issues
              </div>
              <div class="ml-2 flex-shrink-0">
                Type <kbd class="hx_kbd">?</kbd> for help and tips
              </div>
            </div>
          </command-palette-tip>
          <command-palette-tip
            class="color-fg-muted f6 px-3 py-1 my-2"
              data-scope-types="[&quot;owner&quot;,&quot;repository&quot;]"
            data-mode="#"
            data-value="">
            <div class="d-flex flex-items-start flex-justify-between">
              <div>
                <span class="text-bold">Tip:</span>
                  Type is:project to filter to projects
              </div>
              <div class="ml-2 flex-shrink-0">
                Type <kbd class="hx_kbd">?</kbd> for help and tips
              </div>
            </div>
          </command-palette-tip>
          <command-palette-tip
            class="color-fg-muted f6 px-3 py-1 my-2"
              data-scope-types="[&quot;&quot;,&quot;owner&quot;,&quot;repository&quot;]"
            data-mode="#"
            data-value="">
            <div class="d-flex flex-items-start flex-justify-between">
              <div>
                <span class="text-bold">Tip:</span>
                  Type is:open to filter to open content
              </div>
              <div class="ml-2 flex-shrink-0">
                Type <kbd class="hx_kbd">?</kbd> for help and tips
              </div>
            </div>
          </command-palette-tip>
        <command-palette-tip class="mx-3 my-2 flash flash-error d-flex flex-items-center" data-scope-types="*" data-on-error>
          <div>
            <svg aria-hidden="true" height="16" viewBox="0 0 16 16" version="1.1" width="16" data-view-component="true" class="octicon octicon-alert">
    <path d="M6.457 1.047c.659-1.234 2.427-1.234 3.086 0l6.082 11.378A1.75 1.75 0 0 1 14.082 15H1.918a1.75 1.75 0 0 1-1.543-2.575Zm1.763.707a.25.25 0 0 0-.44 0L1.698 13.132a.25.25 0 0 0 .22.368h12.164a.25.25 0 0 0 .22-.368Zm.53 3.996v2.5a.75.75 0 0 1-1.5 0v-2.5a.75.75 0 0 1 1.5 0ZM9 11a1 1 0 1 1-2 0 1 1 0 0 1 2 0Z"></path>
</svg>
          </div>
          <div class="px-2">
            We’ve encountered an error and some results aren't available at this time. Type a new search or try again later.
          </div>
        </command-palette-tip>
        <command-palette-tip class="h4 color-fg-default pl-3 pb-2 pt-3" data-on-empty data-scope-types="*" data-match-mode="[^?]|^$">
          No results matched your search
        </command-palette-tip>

        <div hidden>

            <div data-targets="command-palette-page-stack.localOcticons" data-octicon-id="arrow-right-color-fg-muted">
              <svg height="16" class="octicon octicon-arrow-right color-fg-muted" viewBox="0 0 16 16" version="1.1" width="16" aria-hidden="true"><path d="M8.22 2.97a.75.75 0 0 1 1.06 0l4.25 4.25a.75.75 0 0 1 0 1.06l-4.25 4.25a.751.751 0 0 1-1.042-.018.751.751 0 0 1-.018-1.042l2.97-2.97H3.75a.75.75 0 0 1 0-1.5h7.44L8.22 4.03a.75.75 0 0 1 0-1.06Z"></path></svg>
            </div>
            <div data-targets="command-palette-page-stack.localOcticons" data-octicon-id="arrow-right-color-fg-default">
              <svg height="16" class="octicon octicon-arrow-right color-fg-default" viewBox="0 0 16 16" version="1.1" width="16" aria-hidden="true"><path d="M8.22 2.97a.75.75 0 0 1 1.06 0l4.25 4.25a.75.75 0 0 1 0 1.06l-4.25 4.25a.751.751 0 0 1-1.042-.018.751.751 0 0 1-.018-1.042l2.97-2.97H3.75a.75.75 0 0 1 0-1.5h7.44L8.22 4.03a.75.75 0 0 1 0-1.06Z"></path></svg>
            </div>
            <div data-targets="command-palette-page-stack.localOcticons" data-octicon-id="codespaces-color-fg-muted">
              <svg height="16" class="octicon octicon-codespaces color-fg-muted" viewBox="0 0 16 16" version="1.1" width="16" aria-hidden="true"><path d="M0 11.25c0-.966.784-1.75 1.75-1.75h12.5c.966 0 1.75.784 1.75 1.75v3A1.75 1.75 0 0 1 14.25 16H1.75A1.75 1.75 0 0 1 0 14.25Zm2-9.5C2 .784 2.784 0 3.75 0h8.5C13.216 0 14 .784 14 1.75v5a1.75 1.75 0 0 1-1.75 1.75h-8.5A1.75 1.75 0 0 1 2 6.75Zm1.75-.25a.25.25 0 0 0-.25.25v5c0 .138.112.25.25.25h8.5a.25.25 0 0 0 .25-.25v-5a.25.25 0 0 0-.25-.25Zm-2 9.5a.25.25 0 0 0-.25.25v3c0 .138.112.25.25.25h12.5a.25.25 0 0 0 .25-.25v-3a.25.25 0 0 0-.25-.25Z"></path><path d="M7 12.75a.75.75 0 0 1 .75-.75h4.5a.75.75 0 0 1 0 1.5h-4.5a.75.75 0 0 1-.75-.75Zm-4 0a.75.75 0 0 1 .75-.75h.5a.75.75 0 0 1 0 1.5h-.5a.75.75 0 0 1-.75-.75Z"></path></svg>
            </div>
            <div data-targets="command-palette-page-stack.localOcticons" data-octicon-id="copy-color-fg-muted">
              <svg height="16" class="octicon octicon-copy color-fg-muted" viewBox="0 0 16 16" version="1.1" width="16" aria-hidden="true"><path d="M0 6.75C0 5.784.784 5 1.75 5h1.5a.75.75 0 0 1 0 1.5h-1.5a.25.25 0 0 0-.25.25v7.5c0 .138.112.25.25.25h7.5a.25.25 0 0 0 .25-.25v-1.5a.75.75 0 0 1 1.5 0v1.5A1.75 1.75 0 0 1 9.25 16h-7.5A1.75 1.75 0 0 1 0 14.25Z"></path><path d="M5 1.75C5 .784 5.784 0 6.75 0h7.5C15.216 0 16 .784 16 1.75v7.5A1.75 1.75 0 0 1 14.25 11h-7.5A1.75 1.75 0 0 1 5 9.25Zm1.75-.25a.25.25 0 0 0-.25.25v7.5c0 .138.112.25.25.25h7.5a.25.25 0 0 0 .25-.25v-7.5a.25.25 0 0 0-.25-.25Z"></path></svg>
            </div>
            <div data-targets="command-palette-page-stack.localOcticons" data-octicon-id="dash-color-fg-muted">
              <svg height="16" class="octicon octicon-dash color-fg-muted" viewBox="0 0 16 16" version="1.1" width="16" aria-hidden="true"><path d="M2 7.75A.75.75 0 0 1 2.75 7h10a.75.75 0 0 1 0 1.5h-10A.75.75 0 0 1 2 7.75Z"></path></svg>
            </div>
            <div data-targets="command-palette-page-stack.localOcticons" data-octicon-id="file-color-fg-muted">
              <svg height="16" class="octicon octicon-file color-fg-muted" viewBox="0 0 16 16" version="1.1" width="16" aria-hidden="true"><path d="M2 1.75C2 .784 2.784 0 3.75 0h6.586c.464 0 .909.184 1.237.513l2.914 2.914c.329.328.513.773.513 1.237v9.586A1.75 1.75 0 0 1 13.25 16h-9.5A1.75 1.75 0 0 1 2 14.25Zm1.75-.25a.25.25 0 0 0-.25.25v12.5c0 .138.112.25.25.25h9.5a.25.25 0 0 0 .25-.25V6h-2.75A1.75 1.75 0 0 1 9 4.25V1.5Zm6.75.062V4.25c0 .138.112.25.25.25h2.688l-.011-.013-2.914-2.914-.013-.011Z"></path></svg>
            </div>
            <div data-targets="command-palette-page-stack.localOcticons" data-octicon-id="gear-color-fg-muted">
              <svg height="16" class="octicon octicon-gear color-fg-muted" viewBox="0 0 16 16" version="1.1" width="16" aria-hidden="true"><path d="M8 0a8.2 8.2 0 0 1 .701.031C9.444.095 9.99.645 10.16 1.29l.288 1.107c.018.066.079.158.212.224.231.114.454.243.668.386.123.082.233.09.299.071l1.103-.303c.644-.176 1.392.021 1.82.63.27.385.506.792.704 1.218.315.675.111 1.422-.364 1.891l-.814.806c-.049.048-.098.147-.088.294.016.257.016.515 0 .772-.01.147.038.246.088.294l.814.806c.475.469.679 1.216.364 1.891a7.977 7.977 0 0 1-.704 1.217c-.428.61-1.176.807-1.82.63l-1.102-.302c-.067-.019-.177-.011-.3.071a5.909 5.909 0 0 1-.668.386c-.133.066-.194.158-.211.224l-.29 1.106c-.168.646-.715 1.196-1.458 1.26a8.006 8.006 0 0 1-1.402 0c-.743-.064-1.289-.614-1.458-1.26l-.289-1.106c-.018-.066-.079-.158-.212-.224a5.738 5.738 0 0 1-.668-.386c-.123-.082-.233-.09-.299-.071l-1.103.303c-.644.176-1.392-.021-1.82-.63a8.12 8.12 0 0 1-.704-1.218c-.315-.675-.111-1.422.363-1.891l.815-.806c.05-.048.098-.147.088-.294a6.214 6.214 0 0 1 0-.772c.01-.147-.038-.246-.088-.294l-.815-.806C.635 6.045.431 5.298.746 4.623a7.92 7.92 0 0 1 .704-1.217c.428-.61 1.176-.807 1.82-.63l1.102.302c.067.019.177.011.3-.071.214-.143.437-.272.668-.386.133-.066.194-.158.211-.224l.29-1.106C6.009.645 6.556.095 7.299.03 7.53.01 7.764 0 8 0Zm-.571 1.525c-.036.003-.108.036-.137.146l-.289 1.105c-.147.561-.549.967-.998 1.189-.173.086-.34.183-.5.29-.417.278-.97.423-1.529.27l-1.103-.303c-.109-.03-.175.016-.195.045-.22.312-.412.644-.573.99-.014.031-.021.11.059.19l.815.806c.411.406.562.957.53 1.456a4.709 4.709 0 0 0 0 .582c.032.499-.119 1.05-.53 1.456l-.815.806c-.081.08-.073.159-.059.19.162.346.353.677.573.989.02.03.085.076.195.046l1.102-.303c.56-.153 1.113-.008 1.53.27.161.107.328.204.501.29.447.222.85.629.997 1.189l.289 1.105c.029.109.101.143.137.146a6.6 6.6 0 0 0 1.142 0c.036-.003.108-.036.137-.146l.289-1.105c.147-.561.549-.967.998-1.189.173-.086.34-.183.5-.29.417-.278.97-.423 1.529-.27l1.103.303c.109.029.175-.016.195-.045.22-.313.411-.644.573-.99.014-.031.021-.11-.059-.19l-.815-.806c-.411-.406-.562-.957-.53-1.456a4.709 4.709 0 0 0 0-.582c-.032-.499.119-1.05.53-1.456l.815-.806c.081-.08.073-.159.059-.19a6.464 6.464 0 0 0-.573-.989c-.02-.03-.085-.076-.195-.046l-1.102.303c-.56.153-1.113.008-1.53-.27a4.44 4.44 0 0 0-.501-.29c-.447-.222-.85-.629-.997-1.189l-.289-1.105c-.029-.11-.101-.143-.137-.146a6.6 6.6 0 0 0-1.142 0ZM11 8a3 3 0 1 1-6 0 3 3 0 0 1 6 0ZM9.5 8a1.5 1.5 0 1 0-3.001.001A1.5 1.5 0 0 0 9.5 8Z"></path></svg>
            </div>
            <div data-targets="command-palette-page-stack.localOcticons" data-octicon-id="lock-color-fg-muted">
              <svg height="16" class="octicon octicon-lock color-fg-muted" viewBox="0 0 16 16" version="1.1" width="16" aria-hidden="true"><path d="M4 4a4 4 0 0 1 8 0v2h.25c.966 0 1.75.784 1.75 1.75v5.5A1.75 1.75 0 0 1 12.25 15h-8.5A1.75 1.75 0 0 1 2 13.25v-5.5C2 6.784 2.784 6 3.75 6H4Zm8.25 3.5h-8.5a.25.25 0 0 0-.25.25v5.5c0 .138.112.25.25.25h8.5a.25.25 0 0 0 .25-.25v-5.5a.25.25 0 0 0-.25-.25ZM10.5 6V4a2.5 2.5 0 1 0-5 0v2Z"></path></svg>
            </div>
            <div data-targets="command-palette-page-stack.localOcticons" data-octicon-id="moon-color-fg-muted">
              <svg height="16" class="octicon octicon-moon color-fg-muted" viewBox="0 0 16 16" version="1.1" width="16" aria-hidden="true"><path d="M9.598 1.591a.749.749 0 0 1 .785-.175 7.001 7.001 0 1 1-8.967 8.967.75.75 0 0 1 .961-.96 5.5 5.5 0 0 0 7.046-7.046.75.75 0 0 1 .175-.786Zm1.616 1.945a7 7 0 0 1-7.678 7.678 5.499 5.499 0 1 0 7.678-7.678Z"></path></svg>
            </div>
            <div data-targets="command-palette-page-stack.localOcticons" data-octicon-id="person-color-fg-muted">
              <svg height="16" class="octicon octicon-person color-fg-muted" viewBox="0 0 16 16" version="1.1" width="16" aria-hidden="true"><path d="M10.561 8.073a6.005 6.005 0 0 1 3.432 5.142.75.75 0 1 1-1.498.07 4.5 4.5 0 0 0-8.99 0 .75.75 0 0 1-1.498-.07 6.004 6.004 0 0 1 3.431-5.142 3.999 3.999 0 1 1 5.123 0ZM10.5 5a2.5 2.5 0 1 0-5 0 2.5 2.5 0 0 0 5 0Z"></path></svg>
            </div>
            <div data-targets="command-palette-page-stack.localOcticons" data-octicon-id="pencil-color-fg-muted">
              <svg height="16" class="octicon octicon-pencil color-fg-muted" viewBox="0 0 16 16" version="1.1" width="16" aria-hidden="true"><path d="M11.013 1.427a1.75 1.75 0 0 1 2.474 0l1.086 1.086a1.75 1.75 0 0 1 0 2.474l-8.61 8.61c-.21.21-.47.364-.756.445l-3.251.93a.75.75 0 0 1-.927-.928l.929-3.25c.081-.286.235-.547.445-.758l8.61-8.61Zm.176 4.823L9.75 4.81l-6.286 6.287a.253.253 0 0 0-.064.108l-.558 1.953 1.953-.558a.253.253 0 0 0 .108-.064Zm1.238-3.763a.25.25 0 0 0-.354 0L10.811 3.75l1.439 1.44 1.263-1.263a.25.25 0 0 0 0-.354Z"></path></svg>
            </div>
            <div data-targets="command-palette-page-stack.localOcticons" data-octicon-id="issue-opened-open">
              <svg height="16" class="octicon octicon-issue-opened open" viewBox="0 0 16 16" version="1.1" width="16" aria-hidden="true"><path d="M8 9.5a1.5 1.5 0 1 0 0-3 1.5 1.5 0 0 0 0 3Z"></path><path d="M8 0a8 8 0 1 1 0 16A8 8 0 0 1 8 0ZM1.5 8a6.5 6.5 0 1 0 13 0 6.5 6.5 0 0 0-13 0Z"></path></svg>
            </div>
            <div data-targets="command-palette-page-stack.localOcticons" data-octicon-id="git-pull-request-draft-color-fg-muted">
              <svg height="16" class="octicon octicon-git-pull-request-draft color-fg-muted" viewBox="0 0 16 16" version="1.1" width="16" aria-hidden="true"><path d="M3.25 1A2.25 2.25 0 0 1 4 5.372v5.256a2.251 2.251 0 1 1-1.5 0V5.372A2.251 2.251 0 0 1 3.25 1Zm9.5 14a2.25 2.25 0 1 1 0-4.5 2.25 2.25 0 0 1 0 4.5ZM2.5 3.25a.75.75 0 1 0 1.5 0 .75.75 0 0 0-1.5 0ZM3.25 12a.75.75 0 1 0 0 1.5.75.75 0 0 0 0-1.5Zm9.5 0a.75.75 0 1 0 0 1.5.75.75 0 0 0 0-1.5ZM14 7.5a1.25 1.25 0 1 1-2.5 0 1.25 1.25 0 0 1 2.5 0Zm0-4.25a1.25 1.25 0 1 1-2.5 0 1.25 1.25 0 0 1 2.5 0Z"></path></svg>
            </div>
            <div data-targets="command-palette-page-stack.localOcticons" data-octicon-id="search-color-fg-muted">
              <svg height="16" class="octicon octicon-search color-fg-muted" viewBox="0 0 16 16" version="1.1" width="16" aria-hidden="true"><path d="M10.68 11.74a6 6 0 0 1-7.922-8.982 6 6 0 0 1 8.982 7.922l3.04 3.04a.749.749 0 0 1-.326 1.275.749.749 0 0 1-.734-.215ZM11.5 7a4.499 4.499 0 1 0-8.997 0A4.499 4.499 0 0 0 11.5 7Z"></path></svg>
            </div>
            <div data-targets="command-palette-page-stack.localOcticons" data-octicon-id="sun-color-fg-muted">
              <svg height="16" class="octicon octicon-sun color-fg-muted" viewBox="0 0 16 16" version="1.1" width="16" aria-hidden="true"><path d="M8 12a4 4 0 1 1 0-8 4 4 0 0 1 0 8Zm0-1.5a2.5 2.5 0 1 0 0-5 2.5 2.5 0 0 0 0 5Zm5.657-8.157a.75.75 0 0 1 0 1.061l-1.061 1.06a.749.749 0 0 1-1.275-.326.749.749 0 0 1 .215-.734l1.06-1.06a.75.75 0 0 1 1.06 0Zm-9.193 9.193a.75.75 0 0 1 0 1.06l-1.06 1.061a.75.75 0 1 1-1.061-1.06l1.06-1.061a.75.75 0 0 1 1.061 0ZM8 0a.75.75 0 0 1 .75.75v1.5a.75.75 0 0 1-1.5 0V.75A.75.75 0 0 1 8 0ZM3 8a.75.75 0 0 1-.75.75H.75a.75.75 0 0 1 0-1.5h1.5A.75.75 0 0 1 3 8Zm13 0a.75.75 0 0 1-.75.75h-1.5a.75.75 0 0 1 0-1.5h1.5A.75.75 0 0 1 16 8Zm-8 5a.75.75 0 0 1 .75.75v1.5a.75.75 0 0 1-1.5 0v-1.5A.75.75 0 0 1 8 13Zm3.536-1.464a.75.75 0 0 1 1.06 0l1.061 1.06a.75.75 0 0 1-1.06 1.061l-1.061-1.06a.75.75 0 0 1 0-1.061ZM2.343 2.343a.75.75 0 0 1 1.061 0l1.06 1.061a.751.751 0 0 1-.018 1.042.751.751 0 0 1-1.042.018l-1.06-1.06a.75.75 0 0 1 0-1.06Z"></path></svg>
            </div>
            <div data-targets="command-palette-page-stack.localOcticons" data-octicon-id="sync-color-fg-muted">
              <svg height="16" class="octicon octicon-sync color-fg-muted" viewBox="0 0 16 16" version="1.1" width="16" aria-hidden="true"><path d="M1.705 8.005a.75.75 0 0 1 .834.656 5.5 5.5 0 0 0 9.592 2.97l-1.204-1.204a.25.25 0 0 1 .177-.427h3.646a.25.25 0 0 1 .25.25v3.646a.25.25 0 0 1-.427.177l-1.38-1.38A7.002 7.002 0 0 1 1.05 8.84a.75.75 0 0 1 .656-.834ZM8 2.5a5.487 5.487 0 0 0-4.131 1.869l1.204 1.204A.25.25 0 0 1 4.896 6H1.25A.25.25 0 0 1 1 5.75V2.104a.25.25 0 0 1 .427-.177l1.38 1.38A7.002 7.002 0 0 1 14.95 7.16a.75.75 0 0 1-1.49.178A5.5 5.5 0 0 0 8 2.5Z"></path></svg>
            </div>
            <div data-targets="command-palette-page-stack.localOcticons" data-octicon-id="trash-color-fg-muted">
              <svg height="16" class="octicon octicon-trash color-fg-muted" viewBox="0 0 16 16" version="1.1" width="16" aria-hidden="true"><path d="M11 1.75V3h2.25a.75.75 0 0 1 0 1.5H2.75a.75.75 0 0 1 0-1.5H5V1.75C5 .784 5.784 0 6.75 0h2.5C10.216 0 11 .784 11 1.75ZM4.496 6.675l.66 6.6a.25.25 0 0 0 .249.225h5.19a.25.25 0 0 0 .249-.225l.66-6.6a.75.75 0 0 1 1.492.149l-.66 6.6A1.748 1.748 0 0 1 10.595 15h-5.19a1.75 1.75 0 0 1-1.741-1.575l-.66-6.6a.75.75 0 1 1 1.492-.15ZM6.5 1.75V3h3V1.75a.25.25 0 0 0-.25-.25h-2.5a.25.25 0 0 0-.25.25Z"></path></svg>
            </div>
            <div data-targets="command-palette-page-stack.localOcticons" data-octicon-id="key-color-fg-muted">
              <svg height="16" class="octicon octicon-key color-fg-muted" viewBox="0 0 16 16" version="1.1" width="16" aria-hidden="true"><path d="M10.5 0a5.499 5.499 0 1 1-1.288 10.848l-.932.932a.749.749 0 0 1-.53.22H7v.75a.749.749 0 0 1-.22.53l-.5.5a.749.749 0 0 1-.53.22H5v.75a.749.749 0 0 1-.22.53l-.5.5a.749.749 0 0 1-.53.22h-2A1.75 1.75 0 0 1 0 14.25v-2c0-.199.079-.389.22-.53l4.932-4.932A5.5 5.5 0 0 1 10.5 0Zm-4 5.5c-.001.431.069.86.205 1.269a.75.75 0 0 1-.181.768L1.5 12.56v1.69c0 .138.112.25.25.25h1.69l.06-.06v-1.19a.75.75 0 0 1 .75-.75h1.19l.06-.06v-1.19a.75.75 0 0 1 .75-.75h1.19l1.023-1.025a.75.75 0 0 1 .768-.18A4 4 0 1 0 6.5 5.5ZM11 6a1 1 0 1 1 0-2 1 1 0 0 1 0 2Z"></path></svg>
            </div>
            <div data-targets="command-palette-page-stack.localOcticons" data-octicon-id="comment-discussion-color-fg-muted">
              <svg height="16" class="octicon octicon-comment-discussion color-fg-muted" viewBox="0 0 16 16" version="1.1" width="16" aria-hidden="true"><path d="M1.75 1h8.5c.966 0 1.75.784 1.75 1.75v5.5A1.75 1.75 0 0 1 10.25 10H7.061l-2.574 2.573A1.458 1.458 0 0 1 2 11.543V10h-.25A1.75 1.75 0 0 1 0 8.25v-5.5C0 1.784.784 1 1.75 1ZM1.5 2.75v5.5c0 .138.112.25.25.25h1a.75.75 0 0 1 .75.75v2.19l2.72-2.72a.749.749 0 0 1 .53-.22h3.5a.25.25 0 0 0 .25-.25v-5.5a.25.25 0 0 0-.25-.25h-8.5a.25.25 0 0 0-.25.25Zm13 2a.25.25 0 0 0-.25-.25h-.5a.75.75 0 0 1 0-1.5h.5c.966 0 1.75.784 1.75 1.75v5.5A1.75 1.75 0 0 1 14.25 12H14v1.543a1.458 1.458 0 0 1-2.487 1.03L9.22 12.28a.749.749 0 0 1 .326-1.275.749.749 0 0 1 .734.215l2.22 2.22v-2.19a.75.75 0 0 1 .75-.75h1a.25.25 0 0 0 .25-.25Z"></path></svg>
            </div>
            <div data-targets="command-palette-page-stack.localOcticons" data-octicon-id="bell-color-fg-muted">
              <svg height="16" class="octicon octicon-bell color-fg-muted" viewBox="0 0 16 16" version="1.1" width="16" aria-hidden="true"><path d="M8 16a2 2 0 0 0 1.985-1.75c.017-.137-.097-.25-.235-.25h-3.5c-.138 0-.252.113-.235.25A2 2 0 0 0 8 16ZM3 5a5 5 0 0 1 10 0v2.947c0 .05.015.098.042.139l1.703 2.555A1.519 1.519 0 0 1 13.482 13H2.518a1.516 1.516 0 0 1-1.263-2.36l1.703-2.554A.255.255 0 0 0 3 7.947Zm5-3.5A3.5 3.5 0 0 0 4.5 5v2.947c0 .346-.102.683-.294.97l-1.703 2.556a.017.017 0 0 0-.003.01l.001.006c0 .002.002.004.004.006l.006.004.007.001h10.964l.007-.001.006-.004.004-.006.001-.007a.017.017 0 0 0-.003-.01l-1.703-2.554a1.745 1.745 0 0 1-.294-.97V5A3.5 3.5 0 0 0 8 1.5Z"></path></svg>
            </div>
            <div data-targets="command-palette-page-stack.localOcticons" data-octicon-id="bell-slash-color-fg-muted">
              <svg height="16" class="octicon octicon-bell-slash color-fg-muted" viewBox="0 0 16 16" version="1.1" width="16" aria-hidden="true"><path d="m4.182 4.31.016.011 10.104 7.316.013.01 1.375.996a.75.75 0 1 1-.88 1.214L13.626 13H2.518a1.516 1.516 0 0 1-1.263-2.36l1.703-2.554A.255.255 0 0 0 3 7.947V5.305L.31 3.357a.75.75 0 1 1 .88-1.214Zm7.373 7.19L4.5 6.391v1.556c0 .346-.102.683-.294.97l-1.703 2.556a.017.017 0 0 0-.003.01c0 .005.002.009.005.012l.006.004.007.001ZM8 1.5c-.997 0-1.895.416-2.534 1.086A.75.75 0 1 1 4.38 1.55 5 5 0 0 1 13 5v2.373a.75.75 0 0 1-1.5 0V5A3.5 3.5 0 0 0 8 1.5ZM8 16a2 2 0 0 1-1.985-1.75c-.017-.137.097-.25.235-.25h3.5c.138 0 .252.113.235.25A2 2 0 0 1 8 16Z"></path></svg>
            </div>
            <div data-targets="command-palette-page-stack.localOcticons" data-octicon-id="paintbrush-color-fg-muted">
              <svg height="16" class="octicon octicon-paintbrush color-fg-muted" viewBox="0 0 16 16" version="1.1" width="16" aria-hidden="true"><path d="M11.134 1.535c.7-.509 1.416-.942 2.076-1.155.649-.21 1.463-.267 2.069.34.603.601.568 1.411.368 2.07-.202.668-.624 1.39-1.125 2.096-1.011 1.424-2.496 2.987-3.775 4.249-1.098 1.084-2.132 1.839-3.04 2.3a3.744 3.744 0 0 1-1.055 3.217c-.431.431-1.065.691-1.657.861-.614.177-1.294.287-1.914.357A21.151 21.151 0 0 1 .797 16H.743l.007-.75H.749L.742 16a.75.75 0 0 1-.743-.742l.743-.008-.742.007v-.054a21.25 21.25 0 0 1 .13-2.284c.067-.647.187-1.287.358-1.914.17-.591.43-1.226.86-1.657a3.746 3.746 0 0 1 3.227-1.054c.466-.893 1.225-1.907 2.314-2.982 1.271-1.255 2.833-2.75 4.245-3.777ZM1.62 13.089c-.051.464-.086.929-.104 1.395.466-.018.932-.053 1.396-.104a10.511 10.511 0 0 0 1.668-.309c.526-.151.856-.325 1.011-.48a2.25 2.25 0 1 0-3.182-3.182c-.155.155-.329.485-.48 1.01a10.515 10.515 0 0 0-.309 1.67Zm10.396-10.34c-1.224.89-2.605 2.189-3.822 3.384l1.718 1.718c1.21-1.205 2.51-2.597 3.387-3.833.47-.662.78-1.227.912-1.662.134-.444.032-.551.009-.575h-.001V1.78c-.014-.014-.113-.113-.548.027-.432.14-.995.462-1.655.942Zm-4.832 7.266-.001.001a9.859 9.859 0 0 0 1.63-1.142L7.155 7.216a9.7 9.7 0 0 0-1.161 1.607c.482.302.889.71 1.19 1.192Z"></path></svg>
            </div>

            <command-palette-item-group
              data-group-id="top"
              data-group-title="Top result"
              data-group-hint=""
              data-group-limits="{}"
              data-default-priority="0"
            >
            </command-palette-item-group>
            <command-palette-item-group
              data-group-id="commands"
              data-group-title="Commands"
              data-group-hint="Type &gt; to filter"
              data-group-limits="{&quot;static_items_page&quot;:50,&quot;issue&quot;:50,&quot;pull_request&quot;:50,&quot;discussion&quot;:50}"
              data-default-priority="1"
            >
            </command-palette-item-group>
            <command-palette-item-group
              data-group-id="global_commands"
              data-group-title="Global Commands"
              data-group-hint="Type &gt; to filter"
              data-group-limits="{&quot;issue&quot;:0,&quot;pull_request&quot;:0,&quot;discussion&quot;:0}"
              data-default-priority="2"
            >
            </command-palette-item-group>
            <command-palette-item-group
              data-group-id="this_page"
              data-group-title="This Page"
              data-group-hint=""
              data-group-limits="{}"
              data-default-priority="3"
            >
            </command-palette-item-group>
            <command-palette-item-group
              data-group-id="files"
              data-group-title="Files"
              data-group-hint=""
              data-group-limits="{}"
              data-default-priority="4"
            >
            </command-palette-item-group>
            <command-palette-item-group
              data-group-id="default"
              data-group-title="Default"
              data-group-hint=""
              data-group-limits="{&quot;static_items_page&quot;:50}"
              data-default-priority="5"
            >
            </command-palette-item-group>
            <command-palette-item-group
              data-group-id="pages"
              data-group-title="Pages"
              data-group-hint=""
              data-group-limits="{&quot;repository&quot;:10}"
              data-default-priority="6"
            >
            </command-palette-item-group>
            <command-palette-item-group
              data-group-id="access_policies"
              data-group-title="Access Policies"
              data-group-hint=""
              data-group-limits="{}"
              data-default-priority="7"
            >
            </command-palette-item-group>
            <command-palette-item-group
              data-group-id="organizations"
              data-group-title="Organizations"
              data-group-hint=""
              data-group-limits="{}"
              data-default-priority="8"
            >
            </command-palette-item-group>
            <command-palette-item-group
              data-group-id="repositories"
              data-group-title="Repositories"
              data-group-hint=""
              data-group-limits="{}"
              data-default-priority="9"
            >
            </command-palette-item-group>
            <command-palette-item-group
              data-group-id="references"
              data-group-title="Issues, pull requests, and discussions"
              data-group-hint="Type # to filter"
              data-group-limits="{}"
              data-default-priority="10"
            >
            </command-palette-item-group>
            <command-palette-item-group
              data-group-id="teams"
              data-group-title="Teams"
              data-group-hint=""
              data-group-limits="{}"
              data-default-priority="11"
            >
            </command-palette-item-group>
            <command-palette-item-group
              data-group-id="users"
              data-group-title="Users"
              data-group-hint=""
              data-group-limits="{}"
              data-default-priority="12"
            >
            </command-palette-item-group>
            <command-palette-item-group
              data-group-id="memex_projects"
              data-group-title="Projects"
              data-group-hint=""
              data-group-limits="{}"
              data-default-priority="13"
            >
            </command-palette-item-group>
            <command-palette-item-group
              data-group-id="projects"
              data-group-title="Projects (classic)"
              data-group-hint=""
              data-group-limits="{}"
              data-default-priority="14"
            >
            </command-palette-item-group>
            <command-palette-item-group
              data-group-id="footer"
              data-group-title="Footer"
              data-group-hint=""
              data-group-limits="{}"
              data-default-priority="15"
            >
            </command-palette-item-group>
            <command-palette-item-group
              data-group-id="modes_help"
              data-group-title="Modes"
              data-group-hint=""
              data-group-limits="{}"
              data-default-priority="16"
            >
            </command-palette-item-group>
            <command-palette-item-group
              data-group-id="filters_help"
              data-group-title="Use filters in issues, pull requests, discussions, and projects"
              data-group-hint=""
              data-group-limits="{}"
              data-default-priority="17"
            >
            </command-palette-item-group>

            <command-palette-page
              data-page-title="ashwinreddy2"
              data-scope-id="U_kgDOB05-EQ"
              data-scope-type="owner"
              data-targets="command-palette-page-stack.defaultPages"
              hidden
            >
            </command-palette-page>
            <command-palette-page
              data-page-title="700745488--Assignment-9-Ashwin-kumar-Reddy"
              data-scope-id="R_kgDOJTTSTQ"
              data-scope-type="repository"
              data-targets="command-palette-page-stack.defaultPages"
              hidden
            >
            </command-palette-page>
        </div>

        <command-palette-page data-is-root>
        </command-palette-page>
          <command-palette-page
            data-page-title="ashwinreddy2"
            data-scope-id="U_kgDOB05-EQ"
            data-scope-type="owner"
          >
          </command-palette-page>
          <command-palette-page
            data-page-title="700745488--Assignment-9-Ashwin-kumar-Reddy"
            data-scope-id="R_kgDOJTTSTQ"
            data-scope-type="repository"
          >
          </command-palette-page>
      </command-palette-page-stack>

      <server-defined-provider data-type="search-links" data-targets="command-palette.serverDefinedProviderElements"></server-defined-provider>
      <server-defined-provider data-type="help" data-targets="command-palette.serverDefinedProviderElements">
          <command-palette-help
            data-group="modes_help"
              data-prefix="#"
              data-scope-types="[&quot;&quot;]"
          >
            <span data-target="command-palette-help.titleElement">Search for <strong>issues</strong> and <strong>pull requests</strong></span>
              <span data-target="command-palette-help.hintElement">
                <kbd class="hx_kbd">#</kbd>
              </span>
          </command-palette-help>
          <command-palette-help
            data-group="modes_help"
              data-prefix="#"
              data-scope-types="[&quot;owner&quot;,&quot;repository&quot;]"
          >
            <span data-target="command-palette-help.titleElement">Search for <strong>issues, pull requests, discussions,</strong> and <strong>projects</strong></span>
              <span data-target="command-palette-help.hintElement">
                <kbd class="hx_kbd">#</kbd>
              </span>
          </command-palette-help>
          <command-palette-help
            data-group="modes_help"
              data-prefix="@"
              data-scope-types="[&quot;&quot;]"
          >
            <span data-target="command-palette-help.titleElement">Search for <strong>organizations, repositories,</strong> and <strong>users</strong></span>
              <span data-target="command-palette-help.hintElement">
                <kbd class="hx_kbd">@</kbd>
              </span>
          </command-palette-help>
          <command-palette-help
            data-group="modes_help"
              data-prefix="!"
              data-scope-types="[&quot;owner&quot;,&quot;repository&quot;]"
          >
            <span data-target="command-palette-help.titleElement">Search for <strong>projects</strong></span>
              <span data-target="command-palette-help.hintElement">
                <kbd class="hx_kbd">!</kbd>
              </span>
          </command-palette-help>
          <command-palette-help
            data-group="modes_help"
              data-prefix="/"
              data-scope-types="[&quot;repository&quot;]"
          >
            <span data-target="command-palette-help.titleElement">Search for <strong>files</strong></span>
              <span data-target="command-palette-help.hintElement">
                <kbd class="hx_kbd">/</kbd>
              </span>
          </command-palette-help>
          <command-palette-help
            data-group="modes_help"
              data-prefix="&gt;"
          >
            <span data-target="command-palette-help.titleElement">Activate <strong>command mode</strong></span>
              <span data-target="command-palette-help.hintElement">
                <kbd class="hx_kbd">&gt;</kbd>
              </span>
          </command-palette-help>
          <command-palette-help
            data-group="filters_help"
              data-prefix="# author:@me"
          >
            <span data-target="command-palette-help.titleElement">Search your issues, pull requests, and discussions</span>
              <span data-target="command-palette-help.hintElement">
                <kbd class="hx_kbd"># author:@me</kbd>
              </span>
          </command-palette-help>
          <command-palette-help
            data-group="filters_help"
              data-prefix="# author:@me"
          >
            <span data-target="command-palette-help.titleElement">Search your issues, pull requests, and discussions</span>
              <span data-target="command-palette-help.hintElement">
                <kbd class="hx_kbd"># author:@me</kbd>
              </span>
          </command-palette-help>
          <command-palette-help
            data-group="filters_help"
              data-prefix="# is:pr"
          >
            <span data-target="command-palette-help.titleElement">Filter to pull requests</span>
              <span data-target="command-palette-help.hintElement">
                <kbd class="hx_kbd"># is:pr</kbd>
              </span>
          </command-palette-help>
          <command-palette-help
            data-group="filters_help"
              data-prefix="# is:issue"
          >
            <span data-target="command-palette-help.titleElement">Filter to issues</span>
              <span data-target="command-palette-help.hintElement">
                <kbd class="hx_kbd"># is:issue</kbd>
              </span>
          </command-palette-help>
          <command-palette-help
            data-group="filters_help"
              data-prefix="# is:discussion"
              data-scope-types="[&quot;owner&quot;,&quot;repository&quot;]"
          >
            <span data-target="command-palette-help.titleElement">Filter to discussions</span>
              <span data-target="command-palette-help.hintElement">
                <kbd class="hx_kbd"># is:discussion</kbd>
              </span>
          </command-palette-help>
          <command-palette-help
            data-group="filters_help"
              data-prefix="# is:project"
              data-scope-types="[&quot;owner&quot;,&quot;repository&quot;]"
          >
            <span data-target="command-palette-help.titleElement">Filter to projects</span>
              <span data-target="command-palette-help.hintElement">
                <kbd class="hx_kbd"># is:project</kbd>
              </span>
          </command-palette-help>
          <command-palette-help
            data-group="filters_help"
              data-prefix="# is:open"
          >
            <span data-target="command-palette-help.titleElement">Filter to open issues, pull requests, and discussions</span>
              <span data-target="command-palette-help.hintElement">
                <kbd class="hx_kbd"># is:open</kbd>
              </span>
          </command-palette-help>
      </server-defined-provider>

        <server-defined-provider
          data-type="commands"
          data-fetch-debounce="0"
            data-src="/command_palette/commands"
          data-supported-modes="[]"
            data-supports-commands
          
          data-targets="command-palette.serverDefinedProviderElements"
          ></server-defined-provider>
        <server-defined-provider
          data-type="prefetched"
          data-fetch-debounce="0"
            data-src="/command_palette/jump_to_page_navigation"
          data-supported-modes="[&quot;&quot;]"
            data-supported-scope-types="[&quot;&quot;,&quot;owner&quot;,&quot;repository&quot;]"
          
          data-targets="command-palette.serverDefinedProviderElements"
          ></server-defined-provider>
        <server-defined-provider
          data-type="remote"
          data-fetch-debounce="200"
            data-src="/command_palette/issues"
          data-supported-modes="[&quot;#&quot;,&quot;#&quot;]"
            data-supported-scope-types="[&quot;owner&quot;,&quot;repository&quot;,&quot;&quot;]"
          
          data-targets="command-palette.serverDefinedProviderElements"
          ></server-defined-provider>
        <server-defined-provider
          data-type="remote"
          data-fetch-debounce="200"
            data-src="/command_palette/jump_to"
          data-supported-modes="[&quot;@&quot;,&quot;@&quot;]"
            data-supported-scope-types="[&quot;&quot;,&quot;owner&quot;]"
          
          data-targets="command-palette.serverDefinedProviderElements"
          ></server-defined-provider>
        <server-defined-provider
          data-type="remote"
          data-fetch-debounce="200"
            data-src="/command_palette/jump_to_members_only"
          data-supported-modes="[&quot;@&quot;,&quot;@&quot;,&quot;&quot;,&quot;&quot;]"
            data-supported-scope-types="[&quot;&quot;,&quot;owner&quot;]"
          
          data-targets="command-palette.serverDefinedProviderElements"
          ></server-defined-provider>
        <server-defined-provider
          data-type="prefetched"
          data-fetch-debounce="0"
            data-src="/command_palette/jump_to_members_only_prefetched"
          data-supported-modes="[&quot;@&quot;,&quot;@&quot;,&quot;&quot;,&quot;&quot;]"
            data-supported-scope-types="[&quot;&quot;,&quot;owner&quot;]"
          
          data-targets="command-palette.serverDefinedProviderElements"
          ></server-defined-provider>
        <server-defined-provider
          data-type="files"
          data-fetch-debounce="0"
            data-src="/command_palette/files"
          data-supported-modes="[&quot;/&quot;]"
            data-supported-scope-types="[&quot;repository&quot;]"
          
          data-targets="command-palette.serverDefinedProviderElements"
          ></server-defined-provider>
        <server-defined-provider
          data-type="remote"
          data-fetch-debounce="200"
            data-src="/command_palette/discussions"
          data-supported-modes="[&quot;#&quot;]"
            data-supported-scope-types="[&quot;owner&quot;,&quot;repository&quot;]"
          
          data-targets="command-palette.serverDefinedProviderElements"
          ></server-defined-provider>
        <server-defined-provider
          data-type="remote"
          data-fetch-debounce="200"
            data-src="/command_palette/projects"
          data-supported-modes="[&quot;#&quot;,&quot;!&quot;]"
            data-supported-scope-types="[&quot;owner&quot;,&quot;repository&quot;]"
          
          data-targets="command-palette.serverDefinedProviderElements"
          ></server-defined-provider>
        <server-defined-provider
          data-type="prefetched"
          data-fetch-debounce="0"
            data-src="/command_palette/recent_issues"
          data-supported-modes="[&quot;#&quot;,&quot;#&quot;]"
            data-supported-scope-types="[&quot;owner&quot;,&quot;repository&quot;,&quot;&quot;]"
          
          data-targets="command-palette.serverDefinedProviderElements"
          ></server-defined-provider>
        <server-defined-provider
          data-type="remote"
          data-fetch-debounce="200"
            data-src="/command_palette/teams"
          data-supported-modes="[&quot;@&quot;,&quot;&quot;]"
            data-supported-scope-types="[&quot;owner&quot;]"
          
          data-targets="command-palette.serverDefinedProviderElements"
          ></server-defined-provider>
        <server-defined-provider
          data-type="remote"
          data-fetch-debounce="200"
            data-src="/command_palette/name_with_owner_repository"
          data-supported-modes="[&quot;@&quot;,&quot;@&quot;,&quot;&quot;,&quot;&quot;]"
            data-supported-scope-types="[&quot;&quot;,&quot;owner&quot;]"
          
          data-targets="command-palette.serverDefinedProviderElements"
          ></server-defined-provider>
    </command-palette>
  </details-dialog>
</details>

<div class="position-fixed bottom-0 left-0 ml-5 mb-5 js-command-palette-toasts" style="z-index: 1000">
  <div hidden class="Toast Toast--loading">
    <span class="Toast-icon">
      <svg class="Toast--spinner" viewBox="0 0 32 32" width="18" height="18" aria-hidden="true">
        <path
          fill="#959da5"
          d="M16 0 A16 16 0 0 0 16 32 A16 16 0 0 0 16 0 M16 4 A12 12 0 0 1 16 28 A12 12 0 0 1 16 4"
        />
        <path fill="#ffffff" d="M16 0 A16 16 0 0 1 32 16 L28 16 A12 12 0 0 0 16 4z"></path>
      </svg>
    </span>
    <span class="Toast-content"></span>
  </div>

  <div hidden class="anim-fade-in fast Toast Toast--error">
    <span class="Toast-icon">
      <svg aria-hidden="true" height="16" viewBox="0 0 16 16" version="1.1" width="16" data-view-component="true" class="octicon octicon-stop">
    <path d="M4.47.22A.749.749 0 0 1 5 0h6c.199 0 .389.079.53.22l4.25 4.25c.141.14.22.331.22.53v6a.749.749 0 0 1-.22.53l-4.25 4.25A.749.749 0 0 1 11 16H5a.749.749 0 0 1-.53-.22L.22 11.53A.749.749 0 0 1 0 11V5c0-.199.079-.389.22-.53Zm.84 1.28L1.5 5.31v5.38l3.81 3.81h5.38l3.81-3.81V5.31L10.69 1.5ZM8 4a.75.75 0 0 1 .75.75v3.5a.75.75 0 0 1-1.5 0v-3.5A.75.75 0 0 1 8 4Zm0 8a1 1 0 1 1 0-2 1 1 0 0 1 0 2Z"></path>
</svg>
    </span>
    <span class="Toast-content"></span>
  </div>

  <div hidden class="anim-fade-in fast Toast Toast--warning">
    <span class="Toast-icon">
      <svg aria-hidden="true" height="16" viewBox="0 0 16 16" version="1.1" width="16" data-view-component="true" class="octicon octicon-alert">
    <path d="M6.457 1.047c.659-1.234 2.427-1.234 3.086 0l6.082 11.378A1.75 1.75 0 0 1 14.082 15H1.918a1.75 1.75 0 0 1-1.543-2.575Zm1.763.707a.25.25 0 0 0-.44 0L1.698 13.132a.25.25 0 0 0 .22.368h12.164a.25.25 0 0 0 .22-.368Zm.53 3.996v2.5a.75.75 0 0 1-1.5 0v-2.5a.75.75 0 0 1 1.5 0ZM9 11a1 1 0 1 1-2 0 1 1 0 0 1 2 0Z"></path>
</svg>
    </span>
    <span class="Toast-content"></span>
  </div>


  <div hidden class="anim-fade-in fast Toast Toast--success">
    <span class="Toast-icon">
      <svg aria-hidden="true" height="16" viewBox="0 0 16 16" version="1.1" width="16" data-view-component="true" class="octicon octicon-check">
    <path d="M13.78 4.22a.75.75 0 0 1 0 1.06l-7.25 7.25a.75.75 0 0 1-1.06 0L2.22 9.28a.751.751 0 0 1 .018-1.042.751.751 0 0 1 1.042-.018L6 10.94l6.72-6.72a.75.75 0 0 1 1.06 0Z"></path>
</svg>
    </span>
    <span class="Toast-content"></span>
  </div>

  <div hidden class="anim-fade-in fast Toast">
    <span class="Toast-icon">
      <svg aria-hidden="true" height="16" viewBox="0 0 16 16" version="1.1" width="16" data-view-component="true" class="octicon octicon-info">
    <path d="M0 8a8 8 0 1 1 16 0A8 8 0 0 1 0 8Zm8-6.5a6.5 6.5 0 1 0 0 13 6.5 6.5 0 0 0 0-13ZM6.5 7.75A.75.75 0 0 1 7.25 7h1a.75.75 0 0 1 .75.75v2.75h.25a.75.75 0 0 1 0 1.5h-2a.75.75 0 0 1 0-1.5h.25v-2h-.25a.75.75 0 0 1-.75-.75ZM8 6a1 1 0 1 1 0-2 1 1 0 0 1 0 2Z"></path>
</svg>
    </span>
    <span class="Toast-content"></span>
  </div>
</div>


  <div
    class="application-main "
    data-commit-hovercards-enabled
    data-discussion-hovercards-enabled
    data-issue-and-pr-hovercards-enabled
  >
        <div itemscope itemtype="http://schema.org/SoftwareSourceCode" class="">
    <main id="js-repo-pjax-container" >
      
      






    
  <div id="repository-container-header" data-turbo-replace hidden></div>




<turbo-frame id="repo-content-turbo-frame" target="_top" data-turbo-action="advance" class="">
    <div id="repo-content-pjax-container" class="repository-content " >
      <a href="https://github.dev/" class="d-none js-github-dev-shortcut" data-hotkey=".,Mod+Alt+.">Open in github.dev</a>
  <a href="https://github.dev/" class="d-none js-github-dev-new-tab-shortcut" data-hotkey="Shift+.,Shift+&gt;,&gt;" target="_blank" rel="noopener noreferrer">Open in a new github.dev tab</a>
    <a class="d-none" data-hotkey=",,Mod+Alt+," target="_blank" href="/codespaces/new/ashwinreddy2/700745488--Assignment-9-Ashwin-kumar-Reddy/tree/main?resume=1">Open in codespace</a>




    
      
    





<react-app
  app-name="react-code-view"
  initial-path="/ashwinreddy2/700745488--Assignment-9-Ashwin-kumar-Reddy/blob/main/Neuralnetwork_ICP9_700727088.ipynb"
  style="min-height: calc(100vh - 64px)" 
  data-ssr="true"
  data-lazy="false"
  data-alternate="false"
>
  
  <script type="application/json" data-target="react-app.embeddedData">{"payload":{"allShortcutsEnabled":true,"fileTree":{"":{"items":[{"name":"Neuralnetwork_ICP9_700727088.ipynb","path":"Neuralnetwork_ICP9_700727088.ipynb","contentType":"file"},{"name":"README.md","path":"README.md","contentType":"file"}],"totalCount":2}},"fileTreeProcessingTime":1.475732,"foldersToFetch":[],"repo":{"id":624218701,"defaultBranch":"main","name":"700745488--Assignment-9-Ashwin-kumar-Reddy","ownerLogin":"ashwinreddy2","currentUserCanPush":true,"isFork":false,"isEmpty":false,"createdAt":"2023-04-05T21:00:49.000-05:00","ownerAvatar":"https://avatars.githubusercontent.com/u/122584593?v=4","public":true,"private":false,"isOrgOwned":false},"codeLineWrapEnabled":false,"symbolsExpanded":true,"treeExpanded":false,"refInfo":{"name":"main","listCacheKey":"v0:1680754334.0","canEdit":true,"refType":"branch","currentOid":"59a8e42e46cb04fd76e3410a762c930e13ef2f06"},"path":"Neuralnetwork_ICP9_700727088.ipynb","currentUser":{"id":122584593,"login":"ashwinreddy2","userEmail":"ashwinkumarreddyc2000@gmail.com"},"blob":{"rawLines":["{","  \"nbformat\": 4,","  \"nbformat_minor\": 0,","  \"metadata\": {","    \"colab\": {","      \"provenance\": []","    },","    \"kernelspec\": {","      \"name\": \"python3\",","      \"display_name\": \"Python 3\"","    }","  },","  \"cells\": [","    {","      \"cell_type\": \"code\",","      \"metadata\": {","        \"id\": \"39JmkmCAqsRX\"","      },","      \"source\": [","        \"from keras.layers import Input, Dense\\n\",","        \"from keras.models import Model\\n\",","        \"from keras.datasets import mnist\\n\",","        \"import numpy as np\"","      ],","      \"execution_count\": null,","      \"outputs\": []","    },","    {","      \"cell_type\": \"markdown\",","      \"metadata\": {","        \"id\": \"_o0twAPHvWb7\"","      },","      \"source\": [","        \"# Autoencoder without hidden layer\"","      ]","    },","    {","      \"cell_type\": \"code\",","      \"metadata\": {","        \"id\": \"Zd_z9_tCvMV1\"","      },","      \"source\": [","        \"encoding_dim = 64\\n\",","        \"\\n\",","        \"input_img = Input(shape=(784,))\\n\",","        \"\\n\",","        \"encoded = Dense(encoding_dim, activation='relu')(input_img)\\n\",","        \"decoded = Dense(784, activation='sigmoid')(encoded)\\n\",","        \"autoencoder = Model(input_img, decoded)\\n\",","        \"encoder = Model(input_img, encoded)\\n\",","        \"\\n\",","        \"encoded_input = Input(shape=(encoding_dim,))\\n\",","        \"decoder_layer = autoencoder.layers[-1]\\n\",","        \"decoder = Model(encoded_input, decoder_layer(encoded_input))\\n\",","        \"\\n\",","        \"autoencoder.compile(optimizer='adadelta', loss='binary_crossentropy')\"","      ],","      \"execution_count\": null,","      \"outputs\": []","    },","    {","      \"cell_type\": \"code\",","      \"metadata\": {","        \"id\": \"CjL99mlUvMSs\",","        \"colab\": {","          \"base_uri\": \"https://localhost:8080/\"","        },","        \"outputId\": \"d31dbc05-f097-4644-dd44-5ea651934d2e\"","      },","      \"source\": [","        \"(x_train, _), (x_test, _) = mnist.load_data()\\n\",","        \"x_train = x_train.astype('float32') / 255.\\n\",","        \"x_test = x_test.astype('float32') / 255.\\n\",","        \"x_train = x_train.reshape((len(x_train), np.prod(x_train.shape[1:])))\\n\",","        \"x_test = x_test.reshape((len(x_test), np.prod(x_test.shape[1:])))\\n\",","        \"history = autoencoder.fit(x_train, x_train,\\n\",","        \"                epochs=5,\\n\",","        \"                batch_size=256,\\n\",","        \"                shuffle=True,\\n\",","        \"                validation_data=(x_test, x_test))\\n\",","        \"\\n\",","        \"encoded_imgs = encoder.predict(x_test)\\n\",","        \"decoded_imgs = decoder.predict(encoded_imgs)\"","      ],","      \"execution_count\": null,","      \"outputs\": [","        {","          \"output_type\": \"stream\",","          \"name\": \"stdout\",","          \"text\": [","            \"Epoch 1/5\\n\",","            \"235/235 [==============================] - 8s 30ms/step - loss: 0.6975 - val_loss: 0.6975\\n\",","            \"Epoch 2/5\\n\",","            \"235/235 [==============================] - 7s 29ms/step - loss: 0.6971 - val_loss: 0.6971\\n\",","            \"Epoch 3/5\\n\",","            \"235/235 [==============================] - 6s 24ms/step - loss: 0.6967 - val_loss: 0.6966\\n\",","            \"Epoch 4/5\\n\",","            \"235/235 [==============================] - 4s 17ms/step - loss: 0.6963 - val_loss: 0.6962\\n\",","            \"Epoch 5/5\\n\",","            \"235/235 [==============================] - 3s 14ms/step - loss: 0.6959 - val_loss: 0.6958\\n\",","            \"313/313 [==============================] - 1s 1ms/step\\n\",","            \"313/313 [==============================] - 1s 2ms/step\\n\"","          ]","        }","      ]","    },","    {","      \"cell_type\": \"code\",","      \"metadata\": {","        \"id\": \"0fDdq3yzvjCx\",","        \"colab\": {","          \"base_uri\": \"https://localhost:8080/\",","          \"height\": 452","        },","        \"outputId\": \"f5519d83-c0b3-41ba-d60c-74114c3f6e26\"","      },","      \"source\": [","        \"# graph\\n\",","        \"import matplotlib.pyplot as plt\\n\",","        \"plt.plot(history.history['loss'], color=\\\"green\\\")\\n\",","        \"plt.plot(history.history['val_loss'], color=\\\"blue\\\")\\n\",","        \"plt.title('model loss')\\n\",","        \"plt.legend(['train', 'validation'], loc='upper right')\\n\",","        \"plt.show()\"","      ],","      \"execution_count\": null,","      \"outputs\": [","        {","          \"output_type\": \"display_data\",","          \"data\": {","            \"text/plain\": [","              \"\u003cFigure size 640x480 with 1 Axes\u003e\"","            ],","            \"image/png\": \"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\\n\"","          },","          \"metadata\": {}","        }","      ]","    },","    {","      \"cell_type\": \"markdown\",","      \"metadata\": {","        \"id\": \"ovTXMlBkw4vi\"","      },","      \"source\": [","        \"# Autoencoder with hidden layer\"","      ]","    },","    {","      \"cell_type\": \"code\",","      \"metadata\": {","        \"id\": \"3fGTfe4TqwvV\"","      },","      \"source\": [","        \"input_size = 784\\n\",","        \"hidden_size = 128\\n\",","        \"code_size = 32\\n\",","        \"\\n\",","        \"input_img = Input(shape=(input_size,))\\n\",","        \"hidden_1 = Dense(hidden_size, activation='relu')(input_img)\\n\",","        \"code = Dense(code_size, activation='relu')(hidden_1)\\n\",","        \"hidden_2 = Dense(hidden_size, activation='relu')(code)\\n\",","        \"output_img = Dense(input_size, activation='sigmoid')(hidden_2)\\n\",","        \"\\n\",","        \"autoencoder = Model(input_img, output_img)\\n\",","        \"autoencoder.compile(optimizer='adam', loss='binary_crossentropy')\"","      ],","      \"execution_count\": null,","      \"outputs\": []","    },","    {","      \"cell_type\": \"code\",","      \"metadata\": {","        \"id\": \"H8ddPZf5qzt9\",","        \"colab\": {","          \"base_uri\": \"https://localhost:8080/\"","        },","        \"outputId\": \"7d1d16c8-43f4-4688-e80a-10c6c4e7fe12\"","      },","      \"source\": [","        \"(x_train, _), (x_test, _) = mnist.load_data()\\n\",","        \"x_train = x_train.astype('float32') / 255.\\n\",","        \"x_test = x_test.astype('float32') / 255.\\n\",","        \"x_train = x_train.reshape((len(x_train), np.prod(x_train.shape[1:])))\\n\",","        \"x_test = x_test.reshape((len(x_test), np.prod(x_test.shape[1:])))\\n\",","        \"history = autoencoder.fit(x_train, x_train,\\n\",","        \"                epochs=5,\\n\",","        \"                batch_size=256,\\n\",","        \"                shuffle=True,\\n\",","        \"                validation_data=(x_test, x_test))\"","      ],","      \"execution_count\": null,","      \"outputs\": [","        {","          \"output_type\": \"stream\",","          \"name\": \"stdout\",","          \"text\": [","            \"Epoch 1/5\\n\",","            \"235/235 [==============================] - 6s 23ms/step - loss: 0.2308 - val_loss: 0.1491\\n\",","            \"Epoch 2/5\\n\",","            \"235/235 [==============================] - 4s 17ms/step - loss: 0.1342 - val_loss: 0.1221\\n\",","            \"Epoch 3/5\\n\",","            \"235/235 [==============================] - 4s 18ms/step - loss: 0.1169 - val_loss: 0.1103\\n\",","            \"Epoch 4/5\\n\",","            \"235/235 [==============================] - 5s 20ms/step - loss: 0.1085 - val_loss: 0.1046\\n\",","            \"Epoch 5/5\\n\",","            \"235/235 [==============================] - 4s 17ms/step - loss: 0.1035 - val_loss: 0.1001\\n\"","          ]","        }","      ]","    },","    {","      \"cell_type\": \"code\",","      \"metadata\": {","        \"id\": \"yMt3dqrfq4aW\",","        \"colab\": {","          \"base_uri\": \"https://localhost:8080/\",","          \"height\": 355","        },","        \"outputId\": \"2eefcb2d-ab4a-4574-964c-db14afe5b7bc\"","      },","      \"source\": [","        \"encoded_imgs = encoder.predict(x_test)\\n\",","        \"decoded_imgs = decoder.predict(encoded_imgs)\\n\",","        \"\\n\",","        \"import matplotlib.pyplot as plt\\n\",","        \"\\n\",","        \"n = 3\\n\",","        \"plt.figure(figsize=(20, 4))\\n\",","        \"for i in range(n):\\n\",","        \"    # display original\\n\",","        \"    ax = plt.subplot(2, n, i + 1)\\n\",","        \"    plt.imshow(x_test[i].reshape(28, 28))\\n\",","        \"    plt.gray()\\n\",","        \"    ax.get_xaxis().set_visible(False)\\n\",","        \"    ax.get_yaxis().set_visible(False)\\n\",","        \"\\n\",","        \"    # display reconstruction\\n\",","        \"    ax = plt.subplot(2, n, i + 1 + n)\\n\",","        \"    plt.imshow(decoded_imgs[i].reshape(28, 28))\\n\",","        \"    plt.gray()\\n\",","        \"    ax.get_xaxis().set_visible(False)\\n\",","        \"    ax.get_yaxis().set_visible(False)\\n\",","        \"plt.show()\"","      ],","      \"execution_count\": null,","      \"outputs\": [","        {","          \"output_type\": \"stream\",","          \"name\": \"stdout\",","          \"text\": [","            \"313/313 [==============================] - 0s 1ms/step\\n\",","            \"313/313 [==============================] - 1s 2ms/step\\n\"","          ]","        },","        {","          \"output_type\": \"display_data\",","          \"data\": {","            \"text/plain\": [","              \"\u003cFigure size 2000x400 with 6 Axes\u003e\"","            ],","            \"image/png\": \"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\\n\"","          },","          \"metadata\": {}","        }","      ]","    },","    {","      \"cell_type\": \"code\",","      \"metadata\": {","        \"id\": \"aJQstoRxwNyM\",","        \"colab\": {","          \"base_uri\": \"https://localhost:8080/\",","          \"height\": 452","        },","        \"outputId\": \"613700ca-a9e9-430e-9716-99c4aa3ecf0a\"","      },","      \"source\": [","        \"# graph\\n\",","        \"plt.plot(history.history['loss'], color=\\\"green\\\")\\n\",","        \"plt.plot(history.history['val_loss'], color=\\\"blue\\\")\\n\",","        \"plt.title('model loss')\\n\",","        \"plt.legend(['train', 'validation'], loc='upper right')\\n\",","        \"plt.show()\"","      ],","      \"execution_count\": null,","      \"outputs\": [","        {","          \"output_type\": \"display_data\",","          \"data\": {","            \"text/plain\": [","              \"\u003cFigure size 640x480 with 1 Axes\u003e\"","            ],","            \"image/png\": \"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\\n\"","          },","          \"metadata\": {}","        }","      ]","    },","    {","      \"cell_type\": \"markdown\",","      \"metadata\": {","        \"id\": \"2IHHH5K9uHgY\"","      },","      \"source\": [","        \"### Do the prediction on the test data and then visualize one of the reconstructed version of that test data. Also, visualize the same test data before reconstruction using Matplotlib\"","      ]","    },","    {","      \"cell_type\": \"markdown\",","      \"metadata\": {","        \"id\": \"fMjcXIUdsVTp\"","      },","      \"source\": [","        \"### 3. Use denoisening autoencoder, to reconstruct the input,\\n\",","        \"### 4. Plot loss and accuracy using the history object.\"","      ]","    },","    {","      \"cell_type\": \"code\",","      \"metadata\": {","        \"id\": \"YRo6uiS0sCbP\",","        \"colab\": {","          \"base_uri\": \"https://localhost:8080/\"","        },","        \"outputId\": \"f0151bb4-2a57-4ecd-eb5c-3c4c8f23d5e3\"","      },","      \"source\": [","        \"from keras.layers import Input, Dense\\n\",","        \"from keras.models import Model, Sequential\\n\",","        \"\\n\",","        \"# Scales the training and test data to range between 0 and 1.\\n\",","        \"max_value = float(x_train.max())\\n\",","        \"x_train = x_train.astype('float32') / max_value\\n\",","        \"x_test = x_test.astype('float32') / max_value\\n\",","        \"x_train.shape, x_test.shape\\n\",","        \"x_train = x_train.reshape((len(x_train), np.prod(x_train.shape[1:])))\\n\",","        \"x_test = x_test.reshape((len(x_test), np.prod(x_test.shape[1:])))\\n\",","        \"\\n\",","        \"(x_train.shape, x_test.shape)\\n\",","        \"input_dim = x_train.shape[1]\\n\",","        \"encoding_dim = 64\\n\",","        \"\\n\",","        \"compression_factor = float(input_dim) / encoding_dim\\n\",","        \"print(\\\"Compression factor: %s\\\" % compression_factor)\\n\",","        \"\\n\",","        \"autoencoder = Sequential()\\n\",","        \"autoencoder.add(\\n\",","        \"    Dense(encoding_dim, input_shape=(input_dim,), activation='relu')\\n\",","        \")\\n\",","        \"autoencoder.add(\\n\",","        \"    Dense(input_dim, activation='sigmoid')\\n\",","        \")\\n\",","        \"\\n\",","        \"autoencoder.summary()\\n\",","        \"input_img = Input(shape=(input_dim,))\\n\",","        \"encoder_layer = autoencoder.layers[0]\\n\",","        \"encoder = Model(input_img, encoder_layer(input_img))\\n\",","        \"\\n\",","        \"encoder.summary()\\n\",","        \"autoencoder.compile(optimizer='adam', loss='binary_crossentropy')\\n\",","        \"history = autoencoder.fit(x_train, x_train,\\n\",","        \"                          epochs=5,\\n\",","        \"                          batch_size=256,\\n\",","        \"                          shuffle=True,\\n\",","        \"                          validation_data=(x_test, x_test))\\n\",","        \"num_images = 5\\n\",","        \"np.random.seed(42)\\n\",","        \"random_test_images = np.random.randint(x_test.shape[0], size=num_images)\\n\",","        \"\\n\",","        \"noise = np.random.normal(loc=0.1, scale=0.1, size=x_test.shape)\\n\",","        \"noised_images = x_test + noise\\n\",","        \"encoded_imgs = encoder.predict(noised_images)\\n\",","        \"decoded_imgs = autoencoder.predict(noised_images)\"","      ],","      \"execution_count\": null,","      \"outputs\": [","        {","          \"output_type\": \"stream\",","          \"name\": \"stdout\",","          \"text\": [","            \"Compression factor: 12.25\\n\",","            \"Model: \\\"sequential\\\"\\n\",","            \"_________________________________________________________________\\n\",","            \" Layer (type)                Output Shape              Param #   \\n\",","            \"=================================================================\\n\",","            \" dense_6 (Dense)             (None, 64)                50240     \\n\",","            \"                                                                 \\n\",","            \" dense_7 (Dense)             (None, 784)               50960     \\n\",","            \"                                                                 \\n\",","            \"=================================================================\\n\",","            \"Total params: 101,200\\n\",","            \"Trainable params: 101,200\\n\",","            \"Non-trainable params: 0\\n\",","            \"_________________________________________________________________\\n\",","            \"Model: \\\"model_4\\\"\\n\",","            \"_________________________________________________________________\\n\",","            \" Layer (type)                Output Shape              Param #   \\n\",","            \"=================================================================\\n\",","            \" input_4 (InputLayer)        [(None, 784)]             0         \\n\",","            \"                                                                 \\n\",","            \" dense_6 (Dense)             (None, 64)                50240     \\n\",","            \"                                                                 \\n\",","            \"=================================================================\\n\",","            \"Total params: 50,240\\n\",","            \"Trainable params: 50,240\\n\",","            \"Non-trainable params: 0\\n\",","            \"_________________________________________________________________\\n\",","            \"Epoch 1/5\\n\",","            \"235/235 [==============================] - 4s 14ms/step - loss: 0.2444 - val_loss: 0.1629\\n\",","            \"Epoch 2/5\\n\",","            \"235/235 [==============================] - 4s 17ms/step - loss: 0.1450 - val_loss: 0.1287\\n\",","            \"Epoch 3/5\\n\",","            \"235/235 [==============================] - 3s 13ms/step - loss: 0.1202 - val_loss: 0.1103\\n\",","            \"Epoch 4/5\\n\",","            \"235/235 [==============================] - 3s 13ms/step - loss: 0.1054 - val_loss: 0.0986\\n\",","            \"Epoch 5/5\\n\",","            \"235/235 [==============================] - 3s 13ms/step - loss: 0.0957 - val_loss: 0.0908\\n\",","            \"313/313 [==============================] - 1s 1ms/step\\n\",","            \"313/313 [==============================] - 1s 2ms/step\\n\"","          ]","        }","      ]","    }","  ]","}"],"stylingDirectives":null,"colorizedLines":null,"csv":null,"csvError":null,"dependabotInfo":{"showConfigurationBanner":null,"configFilePath":null,"networkDependabotPath":"/ashwinreddy2/700745488--Assignment-9-Ashwin-kumar-Reddy/network/updates","dismissConfigurationNoticePath":"/settings/dismiss-notice/dependabot_configuration_notice","configurationNoticeDismissed":false},"displayName":"Neuralnetwork_ICP9_700727088.ipynb","displayUrl":"https://notebooks.githubusercontent.com/view/ipynb?browser=chrome\u0026bypass_fastly=true\u0026color_mode=auto\u0026commit=59a8e42e46cb04fd76e3410a762c930e13ef2f06\u0026device=unknown_device\u0026docs_host=https%3A%2F%2Fdocs.github.com\u0026enc_url=68747470733a2f2f7261772e67697468756275736572636f6e74656e742e636f6d2f61736877696e7265646479322f3730303734353438382d2d41737369676e6d656e742d392d41736877696e2d6b756d61722d52656464792f353961386534326534366362303466643736653334313061373632633933306531336566326630362f4e657572616c6e6574776f726b5f494350395f3730303732373038382e6970796e62\u0026logged_in=true\u0026nwo=ashwinreddy2%2F700745488--Assignment-9-Ashwin-kumar-Reddy\u0026path=Neuralnetwork_ICP9_700727088.ipynb\u0026platform=windows\u0026repository_id=624218701\u0026repository_type=Repository\u0026version=122","headerInfo":{"blobSize":"113 KB","deleteTooltip":"Delete this file","editTooltip":"Edit this file","ghDesktopPath":"x-github-client://openRepo/https://github.com/ashwinreddy2/700745488--Assignment-9-Ashwin-kumar-Reddy?branch=main\u0026filepath=Neuralnetwork_ICP9_700727088.ipynb","isGitLfs":false,"onBranch":true,"shortPath":"ec3b7ed","siteNavLoginPath":"/login?return_to=https%3A%2F%2Fgithub.com%2Fashwinreddy2%2F700745488--Assignment-9-Ashwin-kumar-Reddy%2Fblob%2Fmain%2FNeuralnetwork_ICP9_700727088.ipynb","isCSV":false,"isRichtext":false,"toc":null,"lineInfo":{"truncatedLoc":"426","truncatedSloc":"426"},"mode":"file"},"image":false,"isCodeownersFile":null,"isPlain":false,"isValidLegacyIssueTemplate":false,"issueTemplate":null,"discussionTemplate":null,"language":"Jupyter Notebook","languageID":185,"large":false,"planSupportInfo":{"repoIsFork":null,"repoOwnedByCurrentUser":null,"requestFullPath":"/ashwinreddy2/700745488--Assignment-9-Ashwin-kumar-Reddy/blob/main/Neuralnetwork_ICP9_700727088.ipynb","showFreeOrgGatedFeatureMessage":null,"showPlanSupportBanner":null,"upgradeDataAttributes":null,"upgradePath":null},"publishBannersInfo":{"dismissActionNoticePath":"/settings/dismiss-notice/publish_action_from_dockerfile","releasePath":"/ashwinreddy2/700745488--Assignment-9-Ashwin-kumar-Reddy/releases/new?marketplace=true","showPublishActionBanner":false},"rawBlobUrl":"https://github.com/ashwinreddy2/700745488--Assignment-9-Ashwin-kumar-Reddy/raw/main/Neuralnetwork_ICP9_700727088.ipynb","renderImageOrRaw":false,"richText":null,"renderedFileInfo":{"identityUUID":"c5381e2b-e195-4c80-87d4-794ac02d65ac","renderFileType":"ipynb","size":116034},"shortPath":null,"symbolsEnabled":true,"tabSize":8,"topBannersInfo":{"overridingGlobalFundingFile":false,"globalPreferredFundingPath":null,"showInvalidCitationWarning":false,"citationHelpUrl":"https://docs.github.com/github/creating-cloning-and-archiving-repositories/creating-a-repository-on-github/about-citation-files","actionsOnboardingTip":null},"truncated":false,"viewable":true,"workflowRedirectUrl":null,"symbols":{"timed_out":false,"not_analyzed":true,"symbols":[]}},"copilotInfo":{"documentationUrl":"https://docs.github.com/copilot/overview-of-github-copilot/about-github-copilot-for-individuals","notices":{"codeViewPopover":{"dismissed":false,"dismissPath":"/settings/dismiss-notice/code_view_copilot_popover"}},"userAccess":{"hasSubscriptionEnded":false,"orgHasCFBAccess":false,"userHasCFIAccess":false,"userHasOrgs":false,"userIsOrgAdmin":false,"userIsOrgMember":false,"business":null,"featureRequestInfo":null}},"copilotAccessAllowed":false,"csrf_tokens":{"/ashwinreddy2/700745488--Assignment-9-Ashwin-kumar-Reddy/branches":{"post":"wjSBYxCQmMfV20dMQUdcKvA6fJXR-2j6LAJFeY7v1o08q3Fb891tInyTtUbIqf_S28r5enw5oMFOhe881FH_pg"},"/repos/preferences":{"post":"Evn1TX_5yZoH50kznO374MNCiLihLVa0ThWYAbwqlL-HdDA_yuoxG2kQqRBRkGg501EE9BDqbT34hn-vGdgN_A"}}},"title":"700745488--Assignment-9-Ashwin-kumar-Reddy/Neuralnetwork_ICP9_700727088.ipynb at main · ashwinreddy2/700745488--Assignment-9-Ashwin-kumar-Reddy","appPayload":{"helpUrl":"https://docs.github.com","findFileWorkerPath":"/assets-cdn/worker/find-file-worker-a007d7f370d6.js","findInFileWorkerPath":"/assets-cdn/worker/find-in-file-worker-d0f0ff069004.js","githubDevUrl":"https://github.dev/","enabled_features":{"code_nav_ui_events":false,"copilot_conversational_ux":false,"react_blob_overlay":false,"copilot_conversational_ux_embedding_update":false,"copilot_popover_file_editor_header":true,"copilot_smell_icebreaker_ux":true,"copilot_workspace":false,"codeview_firefox_inert":true,"overview_async_data_channel":true}}}</script>
  <div data-target="react-app.reactRoot"><style data-styled="true" data-styled-version="5.3.6">.jUriTl{font-weight:600;font-size:32px;margin:0;display:-webkit-box;display:-webkit-flex;display:-ms-flexbox;display:flex;font-size:14px;}/*!sc*/
.cgQnMS{font-weight:600;font-size:32px;margin:0;}/*!sc*/
.diwsLq{font-weight:600;font-size:32px;margin:0;font-weight:600;display:inline-block;max-width:100%;font-size:16px;}/*!sc*/
.jAEDJk{font-weight:600;font-size:32px;margin:0;font-weight:600;display:inline-block;max-width:100%;font-size:14px;}/*!sc*/
data-styled.g1[id="Heading__StyledHeading-sc-1c1dgg0-0"]{content:"jUriTl,cgQnMS,diwsLq,jAEDJk,"}/*!sc*/
.fSWWem{padding:0;}/*!sc*/
.kPPmzM{max-width:100%;margin-left:auto;margin-right:auto;display:-webkit-box;display:-webkit-flex;display:-ms-flexbox;display:flex;-webkit-flex-wrap:wrap;-ms-flex-wrap:wrap;flex-wrap:wrap;}/*!sc*/
.cIAPDV{display:-webkit-box;display:-webkit-flex;display:-ms-flexbox;display:flex;-webkit-flex:1 1 100%;-ms-flex:1 1 100%;flex:1 1 100%;-webkit-flex-wrap:wrap;-ms-flex-wrap:wrap;flex-wrap:wrap;max-width:100%;}/*!sc*/
.gvCnwW{width:100%;}/*!sc*/
@media screen and (min-width:544px){.gvCnwW{width:100%;}}/*!sc*/
@media screen and (min-width:768px){.gvCnwW{width:auto;}}/*!sc*/
.coFgrZ{display:none;-webkit-order:1;-ms-flex-order:1;order:1;width:100%;margin-left:0;margin-right:0;-webkit-flex-direction:column;-ms-flex-direction:column;flex-direction:column;margin-bottom:0;min-width:0;}/*!sc*/
@media screen and (min-width:544px){.coFgrZ{-webkit-flex-direction:column;-ms-flex-direction:column;flex-direction:column;}}/*!sc*/
@media screen and (min-width:768px){.coFgrZ{width:auto;margin-top:0 !important;margin-bottom:0 !important;position:-webkit-sticky;position:sticky;top:0px;max-height:var(--sticky-pane-height);-webkit-flex-direction:row;-ms-flex-direction:row;flex-direction:row;margin-right:0;}}/*!sc*/
@media screen and (min-width:769px){.coFgrZ{height:100vh;max-height:100vh !important;}}/*!sc*/
@media print,screen and (max-width:1349px) and (min-width:768px){.coFgrZ{display:none;}}/*!sc*/
.eUyHuk{margin-left:0;margin-right:0;display:none;margin-top:0;}/*!sc*/
@media screen and (min-width:768px){.eUyHuk{margin-left:0 !important;margin-right:0 !important;}}/*!sc*/
.gNdDUH{--pane-min-width:256px;--pane-max-width-diff:511px;--pane-max-width:calc(100vw - var(--pane-max-width-diff));width:100%;padding:0;}/*!sc*/
@media screen and (min-width:544px){}/*!sc*/
@media screen and (min-width:768px){.gNdDUH{width:clamp(var(--pane-min-width),var(--pane-width),var(--pane-max-width));overflow:auto;}}/*!sc*/
@media screen and (min-width:1280px){.gNdDUH{--pane-max-width-diff:959px;}}/*!sc*/
.hAeDYA{height:100%;position:relative;display:none;margin-left:0;}/*!sc*/
.fjdBNx{position:absolute;inset:0 -2px;cursor:col-resize;background-color:transparent;-webkit-transition-delay:0.1s;transition-delay:0.1s;}/*!sc*/
.fjdBNx:hover{background-color:var(--bgColor-neutral-muted,var(--color-neutral-muted,rgba(175,184,193,0.2)));}/*!sc*/
.emFMJu{display:-webkit-box;display:-webkit-flex;display:-ms-flexbox;display:flex;-webkit-flex-direction:column;-ms-flex-direction:column;flex-direction:column;-webkit-order:2;-ms-flex-order:2;order:2;-webkit-flex-basis:0;-ms-flex-preferred-size:0;flex-basis:0;-webkit-box-flex:1;-webkit-flex-grow:1;-ms-flex-positive:1;flex-grow:1;-webkit-flex-shrink:1;-ms-flex-negative:1;flex-shrink:1;min-width:1px;margin-right:auto;}/*!sc*/
@media print{.emFMJu{display:-webkit-box !important;display:-webkit-flex !important;display:-ms-flexbox !important;display:flex !important;}}/*!sc*/
.hlUAHL{width:100%;max-width:100%;margin-left:auto;margin-right:auto;-webkit-box-flex:1;-webkit-flex-grow:1;-ms-flex-positive:1;flex-grow:1;padding:0;}/*!sc*/
.iStsmI{margin-left:auto;margin-right:auto;-webkit-flex-direction:column;-ms-flex-direction:column;flex-direction:column;padding-bottom:40px;max-width:100%;margin-top:0;}/*!sc*/
.eIgvIk{display:inherit;}/*!sc*/
.eVFfWF{width:100%;}/*!sc*/
.fywjmm{display:-webkit-box;display:-webkit-flex;display:-ms-flexbox;display:flex;gap:8px;-webkit-flex-direction:column;-ms-flex-direction:column;flex-direction:column;width:100%;}/*!sc*/
.dyczTK{display:-webkit-box;display:-webkit-flex;display:-ms-flexbox;display:flex;-webkit-align-items:start;-webkit-box-align:start;-ms-flex-align:start;align-items:start;-webkit-box-pack:justify;-webkit-justify-content:space-between;-ms-flex-pack:justify;justify-content:space-between;gap:8px;}/*!sc*/
.cpXcux{display:-webkit-box;display:-webkit-flex;display:-ms-flexbox;display:flex;-webkit-align-items:start;-webkit-box-align:start;-ms-flex-align:start;align-items:start;min-width:0;}/*!sc*/
.iPEkxH{display:block;margin-right:8px;}/*!sc*/
@media screen and (min-width:1360px){.iPEkxH{display:block;}}/*!sc*/
.kkrdEu{-webkit-box-pack:center;-webkit-justify-content:center;-ms-flex-pack:center;justify-content:center;}/*!sc*/
.trpoQ{display:-webkit-box;display:-webkit-flex;display:-ms-flexbox;display:flex;pointer-events:none;}/*!sc*/
.bKgizp{display:-webkit-box;display:-webkit-flex;display:-ms-flexbox;display:flex;width:100%;}/*!sc*/
.iPGYsi{margin-right:4px;color:var(--fgColor-muted,var(--color-fg-muted,#656d76));}/*!sc*/
.dKmYfk{font-size:14px;min-width:0;max-width:125px;overflow:hidden;text-overflow:ellipsis;white-space:nowrap;}/*!sc*/
.ehCeGn{-webkit-align-self:center;-ms-flex-item-align:center;align-self:center;display:-webkit-box;display:-webkit-flex;display:-ms-flexbox;display:flex;padding-left:8px;padding-right:8px;min-width:0;}/*!sc*/
.eTvGbF{display:-webkit-box;display:-webkit-flex;display:-ms-flexbox;display:flex;-webkit-flex-direction:row;-ms-flex-direction:row;flex-direction:row;font-size:16px;min-width:0;-webkit-flex-shrink:1;-ms-flex-negative:1;flex-shrink:1;-webkit-flex-wrap:wrap;-ms-flex-wrap:wrap;flex-wrap:wrap;max-width:100%;-webkit-align-items:center;-webkit-box-align:center;-ms-flex-align:center;align-items:center;}/*!sc*/
.kzRgrI{max-width:100%;}/*!sc*/
.cmAPIB{max-width:100%;list-style:none;display:inline-block;}/*!sc*/
.jwXCBK{display:inline-block;max-width:100%;}/*!sc*/
.gtBUEp{min-height:32px;display:-webkit-box;display:-webkit-flex;display:-ms-flexbox;display:flex;-webkit-align-items:start;-webkit-box-align:start;-ms-flex-align:start;align-items:start;}/*!sc*/
.kfYOBR{margin-left:4px;margin-right:4px;}/*!sc*/
.cNvKlH{margin-right:-6px;}/*!sc*/
.hVZtwF{margin-left:16px;margin-right:16px;}/*!sc*/
.cMYnca{display:-webkit-box;display:-webkit-flex;display:-ms-flexbox;display:flex;-webkit-flex-direction:column;-ms-flex-direction:column;flex-direction:column;}/*!sc*/
.jQCQnS{display:-webkit-box;display:-webkit-flex;display:-ms-flexbox;display:flex;-webkit-flex-direction:column;-ms-flex-direction:column;flex-direction:column;border:1px solid;border-color:var(--borderColor-default,var(--color-border-default,#d0d7de));border-radius:6px;margin-bottom:16px;}/*!sc*/
.eYedVD{display:-webkit-box;display:-webkit-flex;display:-ms-flexbox;display:flex;-webkit-flex-direction:row;-ms-flex-direction:row;flex-direction:row;-webkit-box-pack:justify;-webkit-justify-content:space-between;-ms-flex-pack:justify;justify-content:space-between;-webkit-align-items:center;-webkit-box-align:center;-ms-flex-align:center;align-items:center;gap:8px;min-width:273px;padding-right:8px;padding-left:16px;padding-top:8px;padding-bottom:8px;}/*!sc*/
.lhFvfi{display:-webkit-box;display:-webkit-flex;display:-ms-flexbox;display:flex;-webkit-align-items:center;-webkit-box-align:center;-ms-flex-align:center;align-items:center;}/*!sc*/
.jGfYmh{display:-webkit-box;display:-webkit-flex;display:-ms-flexbox;display:flex;gap:8px;}/*!sc*/
.bqgLjk{display:inherit;}/*!sc*/
@media screen and (min-width:544px){.bqgLjk{display:none;}}/*!sc*/
@media screen and (min-width:768px){.bqgLjk{display:none;}}/*!sc*/
.iJmJly{display:-webkit-box;display:-webkit-flex;display:-ms-flexbox;display:flex;-webkit-flex-direction:row;-ms-flex-direction:row;flex-direction:row;}/*!sc*/
.jACbi{width:100%;height:-webkit-fit-content;height:-moz-fit-content;height:fit-content;min-width:0;margin-right:0;}/*!sc*/
.gIJuDf{height:40px;padding-left:4px;padding-bottom:16px;}/*!sc*/
.fleZSW{-webkit-align-items:center;-webkit-box-align:center;-ms-flex-align:center;align-items:center;}/*!sc*/
.BnySK{font-size:12px;-webkit-flex:auto;-ms-flex:auto;flex:auto;padding-right:16px;color:var(--fgColor-muted,var(--color-fg-muted,#656d76));min-width:0;}/*!sc*/
.VHzRk{top:0px;z-index:4;background:var(--bgColor-default,var(--color-canvas-default));position:-webkit-sticky;position:sticky;}/*!sc*/
.ePiodO{display:-webkit-box;display:-webkit-flex;display:-ms-flexbox;display:flex;-webkit-flex-direction:column;-ms-flex-direction:column;flex-direction:column;width:100%;position:absolute;}/*!sc*/
.kQJlnf{display:none;min-width:0;padding-top:8px;padding-bottom:8px;}/*!sc*/
.nSWSp{display:-webkit-box;display:-webkit-flex;display:-ms-flexbox;display:flex;-webkit-align-items:center;-webkit-box-align:center;-ms-flex-align:center;align-items:center;overflow:hidden;margin-left:8px;margin-right:8px;-webkit-flex-direction:row;-ms-flex-direction:row;flex-direction:row;-webkit-box-pack:justify;-webkit-justify-content:space-between;-ms-flex-pack:justify;justify-content:space-between;width:100%;}/*!sc*/
.doiYd{margin-left:4px;margin-right:8px;}/*!sc*/
.jKPiSV{text-overflow:ellipsis;overflow:hidden;display:-webkit-box;display:-webkit-flex;display:-ms-flexbox;display:flex;}/*!sc*/
.iZJewz{display:-webkit-box;display:-webkit-flex;display:-ms-flexbox;display:flex;-webkit-flex-direction:row;-ms-flex-direction:row;flex-direction:row;font-size:14px;min-width:0;-webkit-flex-shrink:1;-ms-flex-negative:1;flex-shrink:1;-webkit-flex-wrap:wrap;-ms-flex-wrap:wrap;flex-wrap:wrap;max-width:100%;-webkit-align-items:center;-webkit-box-align:center;-ms-flex-align:center;align-items:center;}/*!sc*/
.jfjHXm{padding-left:8px;padding-top:8px;padding-bottom:8px;display:-webkit-box;display:-webkit-flex;display:-ms-flexbox;display:flex;-webkit-flex:1;-ms-flex:1;flex:1;-webkit-align-items:center;-webkit-box-align:center;-ms-flex-align:center;align-items:center;-webkit-box-pack:justify;-webkit-justify-content:space-between;-ms-flex-pack:justify;justify-content:space-between;background-color:var(--bgColor-muted,var(--color-canvas-subtle,#f6f8fa));border:1px solid var(--borderColor-default,var(--color-border-default));border-radius:6px 6px 0px 0px;}/*!sc*/
.bfkNRF{display:-webkit-box;display:-webkit-flex;display:-ms-flexbox;display:flex;-webkit-align-items:center;-webkit-box-align:center;-ms-flex-align:center;align-items:center;gap:8px;min-width:0;}/*!sc*/
.fXBLEV{display:block;position:relative;-webkit-box-flex:1;-webkit-flex-grow:1;-ms-flex-positive:1;flex-grow:1;margin-top:-1px;margin-bottom:-1px;--separator-color:transparent;}/*!sc*/
.fXBLEV:not(:last-child){margin-right:1px;}/*!sc*/
.fXBLEV:not(:last-child):after{background-color:var(--separator-color);content:"";position:absolute;right:-2px;top:8px;bottom:8px;width:1px;}/*!sc*/
.fXBLEV:focus-within:has(:focus-visible){--separator-color:transparent;}/*!sc*/
.fXBLEV:first-child{margin-left:-1px;}/*!sc*/
.fXBLEV:last-child{margin-right:-1px;}/*!sc*/
.gMPsNT{display:block;position:relative;-webkit-box-flex:1;-webkit-flex-grow:1;-ms-flex-positive:1;flex-grow:1;margin-top:-1px;margin-bottom:-1px;--separator-color:var(--borderColor-default,var(--color-border-default,#d0d7de));}/*!sc*/
.gMPsNT:not(:last-child){margin-right:1px;}/*!sc*/
.gMPsNT:not(:last-child):after{background-color:var(--separator-color);content:"";position:absolute;right:-2px;top:8px;bottom:8px;width:1px;}/*!sc*/
.gMPsNT:focus-within:has(:focus-visible){--separator-color:transparent;}/*!sc*/
.gMPsNT:first-child{margin-left:-1px;}/*!sc*/
.gMPsNT:last-child{margin-right:-1px;}/*!sc*/
.iBylDf{display:-webkit-box;display:-webkit-flex;display:-ms-flexbox;display:flex;-webkit-align-items:center;-webkit-box-align:center;-ms-flex-align:center;align-items:center;gap:8px;margin-right:8px;}/*!sc*/
.kSGBPx{gap:8px;}/*!sc*/
.ytOJl{border:1px solid;border-top:none;border-color:var(--borderColor-default,var(--color-border-default,#d0d7de));border-radius:0px 0px 6px 6px;min-width:273px;}/*!sc*/
.eJsjkT{background-color:var(--bgColor-default,var(--color-canvas-default));border:0px;border-width:0;border-radius:0px 0px 6px 6px;padding:0;min-width:0;margin-top:46px;overflow:auto;}/*!sc*/
.aZrVR{position:fixed;top:0;right:0;height:100%;width:15px;-webkit-transition:-webkit-transform 0.3s;-webkit-transition:transform 0.3s;transition:transform 0.3s;z-index:1;}/*!sc*/
.aZrVR:hover{-webkit-transform:scaleX(1.5);-ms-transform:scaleX(1.5);transform:scaleX(1.5);}/*!sc*/
.bAzdCq{display:-webkit-box;display:-webkit-flex;display:-ms-flexbox;display:flex;-webkit-flex-direction:column;-ms-flex-direction:column;flex-direction:column;-webkit-align-items:center;-webkit-box-align:center;-ms-flex-align:center;align-items:center;padding-top:16px;padding-bottom:16px;}/*!sc*/
data-styled.g2[id="Box-sc-g0xbh4-0"]{content:"fSWWem,kPPmzM,cIAPDV,gvCnwW,coFgrZ,eUyHuk,gNdDUH,hAeDYA,fjdBNx,emFMJu,hlUAHL,iStsmI,eIgvIk,eVFfWF,fywjmm,dyczTK,cpXcux,iPEkxH,kkrdEu,trpoQ,bKgizp,iPGYsi,dKmYfk,ehCeGn,eTvGbF,kzRgrI,cmAPIB,jwXCBK,gtBUEp,kfYOBR,cNvKlH,hVZtwF,cMYnca,jQCQnS,eYedVD,lhFvfi,jGfYmh,bqgLjk,iJmJly,jACbi,gIJuDf,fleZSW,BnySK,VHzRk,ePiodO,kQJlnf,nSWSp,doiYd,jKPiSV,iZJewz,jfjHXm,bfkNRF,fXBLEV,gMPsNT,iBylDf,kSGBPx,ytOJl,eJsjkT,aZrVR,bAzdCq,"}/*!sc*/
body[data-page-layout-dragging="true"]{cursor:col-resize;}/*!sc*/
body[data-page-layout-dragging="true"] *{-webkit-user-select:none;-moz-user-select:none;-ms-user-select:none;user-select:none;}/*!sc*/
data-styled.g3[id="sc-global-gbKrvU1"]{content:"sc-global-gbKrvU1,"}/*!sc*/
.bOMzPg{min-width:0;}/*!sc*/
.fIsVJr{padding-left:4px;padding-right:4px;font-weight:400;color:var(--fgColor-muted,var(--color-fg-muted,#656d76));font-size:16px;}/*!sc*/
.dALsKK{color:var(--fgColor-default,var(--color-fg-default,#1F2328));}/*!sc*/
.cYjMDB{padding-left:4px;padding-right:4px;font-weight:400;color:var(--fgColor-muted,var(--color-fg-muted,#656d76));font-size:14px;}/*!sc*/
data-styled.g6[id="Text-sc-17v1xeu-0"]{content:"bOMzPg,fIsVJr,dALsKK,gPDEWA,cYjMDB,"}/*!sc*/
.ipyMWB{color:var(--fgColor-accent,var(--color-accent-fg,#0969da));-webkit-text-decoration:none;text-decoration:none;font-weight:600;}/*!sc*/
[data-a11y-link-underlines='true'] .Link__StyledLink-sc-14289xe-0[data-inline='true']{-webkit-text-decoration:underline;text-decoration:underline;}/*!sc*/
.ipyMWB:hover{-webkit-text-decoration:underline;text-decoration:underline;}/*!sc*/
.ipyMWB:is(button){display:inline-block;padding:0;font-size:inherit;white-space:nowrap;cursor:pointer;-webkit-user-select:none;-moz-user-select:none;-ms-user-select:none;user-select:none;background-color:transparent;border:0;-webkit-appearance:none;-moz-appearance:none;appearance:none;}/*!sc*/
.dheQRw{color:var(--fgColor-accent,var(--color-accent-fg,#0969da));-webkit-text-decoration:none;text-decoration:none;}/*!sc*/
[data-a11y-link-underlines='true'] .Link__StyledLink-sc-14289xe-0[data-inline='true']{-webkit-text-decoration:underline;text-decoration:underline;}/*!sc*/
.dheQRw:hover{-webkit-text-decoration:underline;text-decoration:underline;}/*!sc*/
.dheQRw:is(button){display:inline-block;padding:0;font-size:inherit;white-space:nowrap;cursor:pointer;-webkit-user-select:none;-moz-user-select:none;-ms-user-select:none;user-select:none;background-color:transparent;border:0;-webkit-appearance:none;-moz-appearance:none;appearance:none;}/*!sc*/
data-styled.g8[id="Link__StyledLink-sc-14289xe-0"]{content:"ipyMWB,dheQRw,"}/*!sc*/
.blmaBs{border-radius:6px;border:1px solid;border-color:transparent;font-family:inherit;font-weight:500;font-size:14px;cursor:pointer;-webkit-appearance:none;-moz-appearance:none;appearance:none;-webkit-user-select:none;-moz-user-select:none;-ms-user-select:none;user-select:none;-webkit-text-decoration:none;text-decoration:none;text-align:center;display:-webkit-box;display:-webkit-flex;display:-ms-flexbox;display:flex;-webkit-align-items:center;-webkit-box-align:center;-ms-flex-align:center;align-items:center;-webkit-box-pack:justify;-webkit-justify-content:space-between;-ms-flex-pack:justify;justify-content:space-between;height:32px;padding:0 12px;gap:8px;min-width:-webkit-max-content;min-width:-moz-max-content;min-width:max-content;-webkit-transition:80ms cubic-bezier(0.65,0,0.35,1);transition:80ms cubic-bezier(0.65,0,0.35,1);-webkit-transition-property:color,fill,background-color,border-color;transition-property:color,fill,background-color,border-color;color:var(--button-default-fgColor-rest,var(--color-btn-text,#24292f));background-color:transparent;box-shadow:none;}/*!sc*/
.blmaBs:focus:not(:disabled){box-shadow:none;outline:2px solid var(--fgColor-accent,var(--color-accent-fg,#0969da));outline-offset:-2px;}/*!sc*/
.blmaBs:focus:not(:disabled):not(:focus-visible){outline:solid 1px transparent;}/*!sc*/
.blmaBs:focus-visible:not(:disabled){box-shadow:none;outline:2px solid var(--fgColor-accent,var(--color-accent-fg,#0969da));outline-offset:-2px;}/*!sc*/
.blmaBs[href]{display:-webkit-inline-box;display:-webkit-inline-flex;display:-ms-inline-flexbox;display:inline-flex;}/*!sc*/
.blmaBs[href]:hover{-webkit-text-decoration:none;text-decoration:none;}/*!sc*/
.blmaBs:hover{-webkit-transition-duration:80ms;transition-duration:80ms;}/*!sc*/
.blmaBs:active{-webkit-transition:none;transition:none;}/*!sc*/
.blmaBs[data-inactive]{cursor:auto;}/*!sc*/
.blmaBs:disabled{cursor:not-allowed;box-shadow:none;color:var(--fgColor-disabled,var(--color-primer-fg-disabled,#8c959f));}/*!sc*/
.blmaBs:disabled [data-component=ButtonCounter],.blmaBs:disabled [data-component="leadingVisual"],.blmaBs:disabled [data-component="trailingAction"]{color:inherit;}/*!sc*/
@media (forced-colors:active){.blmaBs:focus{outline:solid 1px transparent;}}/*!sc*/
.blmaBs [data-component=ButtonCounter]{font-size:12px;}/*!sc*/
.blmaBs[data-component=IconButton]{display:inline-grid;padding:unset;place-content:center;width:32px;min-width:unset;}/*!sc*/
.blmaBs[data-size="small"]{padding:0 8px;height:28px;gap:4px;font-size:12px;}/*!sc*/
.blmaBs[data-size="small"] [data-component="text"]{line-height:calc(20 / 12);}/*!sc*/
.blmaBs[data-size="small"] [data-component=ButtonCounter]{font-size:12px;}/*!sc*/
.blmaBs[data-size="small"] [data-component="buttonContent"] > :not(:last-child){margin-right:4px;}/*!sc*/
.blmaBs[data-size="small"][data-component=IconButton]{width:28px;padding:unset;}/*!sc*/
.blmaBs[data-size="large"]{padding:0 16px;height:40px;gap:8px;}/*!sc*/
.blmaBs[data-size="large"] [data-component="buttonContent"] > :not(:last-child){margin-right:8px;}/*!sc*/
.blmaBs[data-size="large"][data-component=IconButton]{width:40px;padding:unset;}/*!sc*/
.blmaBs[data-block="block"]{width:100%;}/*!sc*/
.blmaBs[data-inactive]:not([disabled]){background-color:var(--button-inactive-bgColor,var(--button-inactive-bgColor-rest,var(--color-btn-inactive-bg,#eaeef2)));border-color:var(--button-inactive-bgColor,var(--button-inactive-bgColor-rest,var(--color-btn-inactive-bg,#eaeef2)));color:var(--button-inactive-fgColor,var(--button-inactive-fgColor-rest,var(--color-btn-inactive-text,#57606a)));}/*!sc*/
.blmaBs[data-inactive]:not([disabled]):focus-visible{box-shadow:none;}/*!sc*/
.blmaBs [data-component="leadingVisual"]{grid-area:leadingVisual;color:var(--fgColor-muted,var(--color-fg-muted,#656d76));}/*!sc*/
.blmaBs [data-component="text"]{grid-area:text;line-height:calc(20/14);white-space:nowrap;}/*!sc*/
.blmaBs [data-component="trailingVisual"]{grid-area:trailingVisual;}/*!sc*/
.blmaBs [data-component="trailingAction"]{margin-right:-4px;color:var(--fgColor-muted,var(--color-fg-muted,#656d76));}/*!sc*/
.blmaBs [data-component="buttonContent"]{-webkit-flex:1 0 auto;-ms-flex:1 0 auto;flex:1 0 auto;display:grid;grid-template-areas:"leadingVisual text trailingVisual";grid-template-columns:min-content minmax(0,auto) min-content;-webkit-align-items:center;-webkit-box-align:center;-ms-flex-align:center;align-items:center;-webkit-align-content:center;-ms-flex-line-pack:center;align-content:center;}/*!sc*/
.blmaBs [data-component="buttonContent"] > :not(:last-child){margin-right:8px;}/*!sc*/
.blmaBs:hover:not([disabled]){background-color:var(--control-transparent-bgColor-hover,var(--color-action-list-item-default-hover-bg,rgba(208,215,222,0.32)));}/*!sc*/
.blmaBs:active:not([disabled]){background-color:var(--control-transparent-bgColor-active,var(--color-action-list-item-default-active-bg,rgba(208,215,222,0.48)));}/*!sc*/
.blmaBs[aria-expanded=true]{background-color:var(--control-transparent-bgColor-selected,var(--color-action-list-item-default-selected-bg,rgba(208,215,222,0.24)));}/*!sc*/
.blmaBs[data-component="IconButton"][data-no-visuals]{color:var(--fgColor-muted,var(--color-fg-muted,#656d76));}/*!sc*/
.blmaBs[data-no-visuals]{color:var(--fgColor-accent,var(--color-accent-fg,#0969da));}/*!sc*/
.blmaBs:has([data-component="ButtonCounter"]){color:var(--button-default-fgColor-rest,var(--color-btn-text,#24292f));}/*!sc*/
.blmaBs:disabled[data-no-visuals]{color:var(--fgColor-disabled,var(--color-primer-fg-disabled,#8c959f));}/*!sc*/
.blmaBs:disabled[data-no-visuals] [data-component=ButtonCounter]{color:inherit;}/*!sc*/
.blmaBs{color:var(--fgColor-muted,var(--color-fg-muted,#656d76));padding-left:8px;padding-right:8px;display:none;}/*!sc*/
@media screen and (max-width:768px){.blmaBs{display:block;}}/*!sc*/
.hkJzmn{border-radius:6px;border:1px solid;border-color:transparent;font-family:inherit;font-weight:500;font-size:14px;cursor:pointer;-webkit-appearance:none;-moz-appearance:none;appearance:none;-webkit-user-select:none;-moz-user-select:none;-ms-user-select:none;user-select:none;-webkit-text-decoration:none;text-decoration:none;text-align:center;display:-webkit-box;display:-webkit-flex;display:-ms-flexbox;display:flex;-webkit-align-items:center;-webkit-box-align:center;-ms-flex-align:center;align-items:center;-webkit-box-pack:justify;-webkit-justify-content:space-between;-ms-flex-pack:justify;justify-content:space-between;height:32px;padding:0 12px;gap:8px;min-width:-webkit-max-content;min-width:-moz-max-content;min-width:max-content;-webkit-transition:80ms cubic-bezier(0.65,0,0.35,1);transition:80ms cubic-bezier(0.65,0,0.35,1);-webkit-transition-property:color,fill,background-color,border-color;transition-property:color,fill,background-color,border-color;color:var(--button-default-fgColor-rest,var(--color-btn-text,#24292f));background-color:transparent;box-shadow:none;}/*!sc*/
.hkJzmn:focus:not(:disabled){box-shadow:none;outline:2px solid var(--fgColor-accent,var(--color-accent-fg,#0969da));outline-offset:-2px;}/*!sc*/
.hkJzmn:focus:not(:disabled):not(:focus-visible){outline:solid 1px transparent;}/*!sc*/
.hkJzmn:focus-visible:not(:disabled){box-shadow:none;outline:2px solid var(--fgColor-accent,var(--color-accent-fg,#0969da));outline-offset:-2px;}/*!sc*/
.hkJzmn[href]{display:-webkit-inline-box;display:-webkit-inline-flex;display:-ms-inline-flexbox;display:inline-flex;}/*!sc*/
.hkJzmn[href]:hover{-webkit-text-decoration:none;text-decoration:none;}/*!sc*/
.hkJzmn:hover{-webkit-transition-duration:80ms;transition-duration:80ms;}/*!sc*/
.hkJzmn:active{-webkit-transition:none;transition:none;}/*!sc*/
.hkJzmn[data-inactive]{cursor:auto;}/*!sc*/
.hkJzmn:disabled{cursor:not-allowed;box-shadow:none;color:var(--fgColor-disabled,var(--color-primer-fg-disabled,#8c959f));}/*!sc*/
.hkJzmn:disabled [data-component=ButtonCounter],.hkJzmn:disabled [data-component="leadingVisual"],.hkJzmn:disabled [data-component="trailingAction"]{color:inherit;}/*!sc*/
@media (forced-colors:active){.hkJzmn:focus{outline:solid 1px transparent;}}/*!sc*/
.hkJzmn [data-component=ButtonCounter]{font-size:12px;}/*!sc*/
.hkJzmn[data-component=IconButton]{display:inline-grid;padding:unset;place-content:center;width:32px;min-width:unset;}/*!sc*/
.hkJzmn[data-size="small"]{padding:0 8px;height:28px;gap:4px;font-size:12px;}/*!sc*/
.hkJzmn[data-size="small"] [data-component="text"]{line-height:calc(20 / 12);}/*!sc*/
.hkJzmn[data-size="small"] [data-component=ButtonCounter]{font-size:12px;}/*!sc*/
.hkJzmn[data-size="small"] [data-component="buttonContent"] > :not(:last-child){margin-right:4px;}/*!sc*/
.hkJzmn[data-size="small"][data-component=IconButton]{width:28px;padding:unset;}/*!sc*/
.hkJzmn[data-size="large"]{padding:0 16px;height:40px;gap:8px;}/*!sc*/
.hkJzmn[data-size="large"] [data-component="buttonContent"] > :not(:last-child){margin-right:8px;}/*!sc*/
.hkJzmn[data-size="large"][data-component=IconButton]{width:40px;padding:unset;}/*!sc*/
.hkJzmn[data-block="block"]{width:100%;}/*!sc*/
.hkJzmn[data-inactive]:not([disabled]){background-color:var(--button-inactive-bgColor,var(--button-inactive-bgColor-rest,var(--color-btn-inactive-bg,#eaeef2)));border-color:var(--button-inactive-bgColor,var(--button-inactive-bgColor-rest,var(--color-btn-inactive-bg,#eaeef2)));color:var(--button-inactive-fgColor,var(--button-inactive-fgColor-rest,var(--color-btn-inactive-text,#57606a)));}/*!sc*/
.hkJzmn[data-inactive]:not([disabled]):focus-visible{box-shadow:none;}/*!sc*/
.hkJzmn [data-component="leadingVisual"]{grid-area:leadingVisual;color:var(--fgColor-muted,var(--color-fg-muted,#656d76));}/*!sc*/
.hkJzmn [data-component="text"]{grid-area:text;line-height:calc(20/14);white-space:nowrap;}/*!sc*/
.hkJzmn [data-component="trailingVisual"]{grid-area:trailingVisual;}/*!sc*/
.hkJzmn [data-component="trailingAction"]{margin-right:-4px;color:var(--fgColor-muted,var(--color-fg-muted,#656d76));}/*!sc*/
.hkJzmn [data-component="buttonContent"]{-webkit-flex:1 0 auto;-ms-flex:1 0 auto;flex:1 0 auto;display:grid;grid-template-areas:"leadingVisual text trailingVisual";grid-template-columns:min-content minmax(0,auto) min-content;-webkit-align-items:center;-webkit-box-align:center;-ms-flex-align:center;align-items:center;-webkit-align-content:center;-ms-flex-line-pack:center;align-content:center;}/*!sc*/
.hkJzmn [data-component="buttonContent"] > :not(:last-child){margin-right:8px;}/*!sc*/
.hkJzmn:hover:not([disabled]){background-color:var(--control-transparent-bgColor-hover,var(--color-action-list-item-default-hover-bg,rgba(208,215,222,0.32)));}/*!sc*/
.hkJzmn:active:not([disabled]){background-color:var(--control-transparent-bgColor-active,var(--color-action-list-item-default-active-bg,rgba(208,215,222,0.48)));}/*!sc*/
.hkJzmn[aria-expanded=true]{background-color:var(--control-transparent-bgColor-selected,var(--color-action-list-item-default-selected-bg,rgba(208,215,222,0.24)));}/*!sc*/
.hkJzmn[data-component="IconButton"][data-no-visuals]{color:var(--fgColor-muted,var(--color-fg-muted,#656d76));}/*!sc*/
.hkJzmn[data-no-visuals]{color:var(--fgColor-muted,var(--color-fg-muted,#656d76));height:32px;position:relative;}/*!sc*/
@media screen and (max-width:768px){.hkJzmn[data-no-visuals]{display:none;}}/*!sc*/
.hkJzmn:has([data-component="ButtonCounter"]){color:var(--button-default-fgColor-rest,var(--color-btn-text,#24292f));}/*!sc*/
.hkJzmn:disabled[data-no-visuals]{color:var(--fgColor-disabled,var(--color-primer-fg-disabled,#8c959f));}/*!sc*/
.hkJzmn:disabled[data-no-visuals] [data-component=ButtonCounter]{color:inherit;}/*!sc*/
.hILMMl{border-radius:6px;border:1px solid;border-color:var(--button-default-borderColor-rest,var(--button-default-borderColor-rest,var(--color-btn-border,rgba(31,35,40,0.15))));font-family:inherit;font-weight:500;font-size:14px;cursor:pointer;-webkit-appearance:none;-moz-appearance:none;appearance:none;-webkit-user-select:none;-moz-user-select:none;-ms-user-select:none;user-select:none;-webkit-text-decoration:none;text-decoration:none;text-align:center;display:-webkit-box;display:-webkit-flex;display:-ms-flexbox;display:flex;-webkit-align-items:center;-webkit-box-align:center;-ms-flex-align:center;align-items:center;-webkit-box-pack:justify;-webkit-justify-content:space-between;-ms-flex-pack:justify;justify-content:space-between;height:32px;padding:0 12px;gap:8px;min-width:-webkit-max-content;min-width:-moz-max-content;min-width:max-content;-webkit-transition:80ms cubic-bezier(0.65,0,0.35,1);transition:80ms cubic-bezier(0.65,0,0.35,1);-webkit-transition-property:color,fill,background-color,border-color;transition-property:color,fill,background-color,border-color;color:var(--button-default-fgColor-rest,var(--color-btn-text,#24292f));background-color:var(--button-default-bgColor-rest,var(--color-btn-bg,#f6f8fa));box-shadow:var(--button-default-shadow-resting,var(--color-btn-shadow,0 1px 0 rgba(31,35,40,0.04))),var(--button-default-shadow-inset,var(--color-btn-inset-shadow,inset 0 1px 0 rgba(255,255,255,0.25)));}/*!sc*/
.hILMMl:focus:not(:disabled){box-shadow:none;outline:2px solid var(--fgColor-accent,var(--color-accent-fg,#0969da));outline-offset:-2px;}/*!sc*/
.hILMMl:focus:not(:disabled):not(:focus-visible){outline:solid 1px transparent;}/*!sc*/
.hILMMl:focus-visible:not(:disabled){box-shadow:none;outline:2px solid var(--fgColor-accent,var(--color-accent-fg,#0969da));outline-offset:-2px;}/*!sc*/
.hILMMl[href]{display:-webkit-inline-box;display:-webkit-inline-flex;display:-ms-inline-flexbox;display:inline-flex;}/*!sc*/
.hILMMl[href]:hover{-webkit-text-decoration:none;text-decoration:none;}/*!sc*/
.hILMMl:hover{-webkit-transition-duration:80ms;transition-duration:80ms;}/*!sc*/
.hILMMl:active{-webkit-transition:none;transition:none;}/*!sc*/
.hILMMl[data-inactive]{cursor:auto;}/*!sc*/
.hILMMl:disabled{cursor:not-allowed;box-shadow:none;color:var(--fgColor-disabled,var(--color-primer-fg-disabled,#8c959f));border-color:var(--button-default-borderColor-disabled,var(--button-default-borderColor-rest,var(--color-btn-border,rgba(31,35,40,0.15))));background-color:var(--button-default-bgColor-disabled,var(--control-bgColor-disabled,var(--color-input-disabled-bg,rgba(175,184,193,0.2))));}/*!sc*/
.hILMMl:disabled [data-component=ButtonCounter]{color:inherit;}/*!sc*/
@media (forced-colors:active){.hILMMl:focus{outline:solid 1px transparent;}}/*!sc*/
.hILMMl [data-component=ButtonCounter]{font-size:12px;background-color:var(--buttonCounter-default-bgColor-rest,var(--color-btn-counter-bg,rgba(31,35,40,0.08)));}/*!sc*/
.hILMMl[data-component=IconButton]{display:inline-grid;padding:unset;place-content:center;width:32px;min-width:unset;}/*!sc*/
.hILMMl[data-size="small"]{padding:0 8px;height:28px;gap:4px;font-size:12px;}/*!sc*/
.hILMMl[data-size="small"] [data-component="text"]{line-height:calc(20 / 12);}/*!sc*/
.hILMMl[data-size="small"] [data-component=ButtonCounter]{font-size:12px;}/*!sc*/
.hILMMl[data-size="small"] [data-component="buttonContent"] > :not(:last-child){margin-right:4px;}/*!sc*/
.hILMMl[data-size="small"][data-component=IconButton]{width:28px;padding:unset;}/*!sc*/
.hILMMl[data-size="large"]{padding:0 16px;height:40px;gap:8px;}/*!sc*/
.hILMMl[data-size="large"] [data-component="buttonContent"] > :not(:last-child){margin-right:8px;}/*!sc*/
.hILMMl[data-size="large"][data-component=IconButton]{width:40px;padding:unset;}/*!sc*/
.hILMMl[data-block="block"]{width:100%;}/*!sc*/
.hILMMl[data-inactive]:not([disabled]){background-color:var(--button-inactive-bgColor,var(--button-inactive-bgColor-rest,var(--color-btn-inactive-bg,#eaeef2)));border-color:var(--button-inactive-bgColor,var(--button-inactive-bgColor-rest,var(--color-btn-inactive-bg,#eaeef2)));color:var(--button-inactive-fgColor,var(--button-inactive-fgColor-rest,var(--color-btn-inactive-text,#57606a)));}/*!sc*/
.hILMMl[data-inactive]:not([disabled]):focus-visible{box-shadow:none;}/*!sc*/
.hILMMl [data-component="leadingVisual"]{grid-area:leadingVisual;}/*!sc*/
.hILMMl [data-component="text"]{grid-area:text;line-height:calc(20/14);white-space:nowrap;}/*!sc*/
.hILMMl [data-component="trailingVisual"]{grid-area:trailingVisual;}/*!sc*/
.hILMMl [data-component="trailingAction"]{margin-right:-4px;}/*!sc*/
.hILMMl [data-component="buttonContent"]{-webkit-flex:1 0 auto;-ms-flex:1 0 auto;flex:1 0 auto;display:grid;grid-template-areas:"leadingVisual text trailingVisual";grid-template-columns:min-content minmax(0,auto) min-content;-webkit-align-items:center;-webkit-box-align:center;-ms-flex-align:center;align-items:center;-webkit-align-content:center;-ms-flex-line-pack:center;align-content:center;}/*!sc*/
.hILMMl [data-component="buttonContent"] > :not(:last-child){margin-right:8px;}/*!sc*/
.hILMMl:hover:not([disabled]):not([data-inactive]){background-color:var(--button-default-bgColor-hover,var(--color-btn-hover-bg,#f3f4f6));border-color:var(--button-default-borderColor-hover,var(--button-default-borderColor-hover,var(--color-btn-hover-border,rgba(31,35,40,0.15))));}/*!sc*/
.hILMMl:active:not([disabled]):not([data-inactive]){background-color:var(--button-default-bgColor-active,var(--color-btn-active-bg,hsla(220,14%,93%,1)));border-color:var(--button-default-borderColor-active,var(--button-default-borderColor-active,var(--color-btn-active-border,rgba(31,35,40,0.15))));}/*!sc*/
.hILMMl[aria-expanded=true]{background-color:var(--button-default-bgColor-active,var(--color-btn-active-bg,hsla(220,14%,93%,1)));border-color:var(--button-default-borderColor-active,var(--button-default-borderColor-active,var(--color-btn-active-border,rgba(31,35,40,0.15))));}/*!sc*/
.hILMMl [data-component="leadingVisual"],.hILMMl [data-component="trailingVisual"],.hILMMl [data-component="trailingAction"]{color:var(--button-color,var(--fgColor-muted,var(--color-fg-muted,#656d76)));}/*!sc*/
.hILMMl[data-component="IconButton"][data-no-visuals]{color:var(--fgColor-muted,var(--color-fg-muted,#656d76));}/*!sc*/
.hILMMl{display:-webkit-box;display:-webkit-flex;display:-ms-flexbox;display:flex;}/*!sc*/
.hILMMl svg{color:var(--fgColor-muted,var(--color-fg-muted,#656d76));}/*!sc*/
.hILMMl > span{width:inherit;}/*!sc*/
.ivbpoP{border-radius:6px;border:1px solid;border-color:transparent;font-family:inherit;font-weight:500;font-size:14px;cursor:pointer;-webkit-appearance:none;-moz-appearance:none;appearance:none;-webkit-user-select:none;-moz-user-select:none;-ms-user-select:none;user-select:none;-webkit-text-decoration:none;text-decoration:none;text-align:center;display:-webkit-box;display:-webkit-flex;display:-ms-flexbox;display:flex;-webkit-align-items:center;-webkit-box-align:center;-ms-flex-align:center;align-items:center;-webkit-box-pack:justify;-webkit-justify-content:space-between;-ms-flex-pack:justify;justify-content:space-between;height:32px;padding:0 12px;gap:8px;min-width:-webkit-max-content;min-width:-moz-max-content;min-width:max-content;-webkit-transition:80ms cubic-bezier(0.65,0,0.35,1);transition:80ms cubic-bezier(0.65,0,0.35,1);-webkit-transition-property:color,fill,background-color,border-color;transition-property:color,fill,background-color,border-color;color:var(--button-default-fgColor-rest,var(--color-btn-text,#24292f));background-color:transparent;box-shadow:none;}/*!sc*/
.ivbpoP:focus:not(:disabled){box-shadow:none;outline:2px solid var(--fgColor-accent,var(--color-accent-fg,#0969da));outline-offset:-2px;}/*!sc*/
.ivbpoP:focus:not(:disabled):not(:focus-visible){outline:solid 1px transparent;}/*!sc*/
.ivbpoP:focus-visible:not(:disabled){box-shadow:none;outline:2px solid var(--fgColor-accent,var(--color-accent-fg,#0969da));outline-offset:-2px;}/*!sc*/
.ivbpoP[href]{display:-webkit-inline-box;display:-webkit-inline-flex;display:-ms-inline-flexbox;display:inline-flex;}/*!sc*/
.ivbpoP[href]:hover{-webkit-text-decoration:none;text-decoration:none;}/*!sc*/
.ivbpoP:hover{-webkit-transition-duration:80ms;transition-duration:80ms;}/*!sc*/
.ivbpoP:active{-webkit-transition:none;transition:none;}/*!sc*/
.ivbpoP[data-inactive]{cursor:auto;}/*!sc*/
.ivbpoP:disabled{cursor:not-allowed;box-shadow:none;color:var(--fgColor-disabled,var(--color-primer-fg-disabled,#8c959f));}/*!sc*/
.ivbpoP:disabled [data-component=ButtonCounter],.ivbpoP:disabled [data-component="leadingVisual"],.ivbpoP:disabled [data-component="trailingAction"]{color:inherit;}/*!sc*/
@media (forced-colors:active){.ivbpoP:focus{outline:solid 1px transparent;}}/*!sc*/
.ivbpoP [data-component=ButtonCounter]{font-size:12px;}/*!sc*/
.ivbpoP[data-component=IconButton]{display:inline-grid;padding:unset;place-content:center;width:32px;min-width:unset;}/*!sc*/
.ivbpoP[data-size="small"]{padding:0 8px;height:28px;gap:4px;font-size:12px;}/*!sc*/
.ivbpoP[data-size="small"] [data-component="text"]{line-height:calc(20 / 12);}/*!sc*/
.ivbpoP[data-size="small"] [data-component=ButtonCounter]{font-size:12px;}/*!sc*/
.ivbpoP[data-size="small"] [data-component="buttonContent"] > :not(:last-child){margin-right:4px;}/*!sc*/
.ivbpoP[data-size="small"][data-component=IconButton]{width:28px;padding:unset;}/*!sc*/
.ivbpoP[data-size="large"]{padding:0 16px;height:40px;gap:8px;}/*!sc*/
.ivbpoP[data-size="large"] [data-component="buttonContent"] > :not(:last-child){margin-right:8px;}/*!sc*/
.ivbpoP[data-size="large"][data-component=IconButton]{width:40px;padding:unset;}/*!sc*/
.ivbpoP[data-block="block"]{width:100%;}/*!sc*/
.ivbpoP[data-inactive]:not([disabled]){background-color:var(--button-inactive-bgColor,var(--button-inactive-bgColor-rest,var(--color-btn-inactive-bg,#eaeef2)));border-color:var(--button-inactive-bgColor,var(--button-inactive-bgColor-rest,var(--color-btn-inactive-bg,#eaeef2)));color:var(--button-inactive-fgColor,var(--button-inactive-fgColor-rest,var(--color-btn-inactive-text,#57606a)));}/*!sc*/
.ivbpoP[data-inactive]:not([disabled]):focus-visible{box-shadow:none;}/*!sc*/
.ivbpoP [data-component="leadingVisual"]{grid-area:leadingVisual;color:var(--fgColor-muted,var(--color-fg-muted,#656d76));}/*!sc*/
.ivbpoP [data-component="text"]{grid-area:text;line-height:calc(20/14);white-space:nowrap;}/*!sc*/
.ivbpoP [data-component="trailingVisual"]{grid-area:trailingVisual;}/*!sc*/
.ivbpoP [data-component="trailingAction"]{margin-right:-4px;color:var(--fgColor-muted,var(--color-fg-muted,#656d76));}/*!sc*/
.ivbpoP [data-component="buttonContent"]{-webkit-flex:1 0 auto;-ms-flex:1 0 auto;flex:1 0 auto;display:grid;grid-template-areas:"leadingVisual text trailingVisual";grid-template-columns:min-content minmax(0,auto) min-content;-webkit-align-items:center;-webkit-box-align:center;-ms-flex-align:center;align-items:center;-webkit-align-content:center;-ms-flex-line-pack:center;align-content:center;}/*!sc*/
.ivbpoP [data-component="buttonContent"] > :not(:last-child){margin-right:8px;}/*!sc*/
.ivbpoP:hover:not([disabled]){background-color:var(--control-transparent-bgColor-hover,var(--color-action-list-item-default-hover-bg,rgba(208,215,222,0.32)));}/*!sc*/
.ivbpoP:active:not([disabled]){background-color:var(--control-transparent-bgColor-active,var(--color-action-list-item-default-active-bg,rgba(208,215,222,0.48)));}/*!sc*/
.ivbpoP[aria-expanded=true]{background-color:var(--control-transparent-bgColor-selected,var(--color-action-list-item-default-selected-bg,rgba(208,215,222,0.24)));}/*!sc*/
.ivbpoP[data-component="IconButton"][data-no-visuals]{color:var(--fgColor-muted,var(--color-fg-muted,#656d76));}/*!sc*/
.ivbpoP[data-no-visuals]{color:var(--fgColor-accent,var(--color-accent-fg,#0969da));}/*!sc*/
.ivbpoP:has([data-component="ButtonCounter"]){color:var(--button-default-fgColor-rest,var(--color-btn-text,#24292f));}/*!sc*/
.ivbpoP:disabled[data-no-visuals]{color:var(--fgColor-disabled,var(--color-primer-fg-disabled,#8c959f));}/*!sc*/
.ivbpoP:disabled[data-no-visuals] [data-component=ButtonCounter]{color:inherit;}/*!sc*/
.ivbpoP[data-size="small"][data-no-visuals]{margin-left:8px;}/*!sc*/
.hviaoI{border-radius:6px;border:1px solid;border-color:var(--button-default-borderColor-rest,var(--button-default-borderColor-rest,var(--color-btn-border,rgba(31,35,40,0.15))));font-family:inherit;font-weight:500;font-size:14px;cursor:pointer;-webkit-appearance:none;-moz-appearance:none;appearance:none;-webkit-user-select:none;-moz-user-select:none;-ms-user-select:none;user-select:none;-webkit-text-decoration:none;text-decoration:none;text-align:center;display:-webkit-box;display:-webkit-flex;display:-ms-flexbox;display:flex;-webkit-align-items:center;-webkit-box-align:center;-ms-flex-align:center;align-items:center;-webkit-box-pack:justify;-webkit-justify-content:space-between;-ms-flex-pack:justify;justify-content:space-between;height:32px;padding:0 12px;gap:8px;min-width:-webkit-max-content;min-width:-moz-max-content;min-width:max-content;-webkit-transition:80ms cubic-bezier(0.65,0,0.35,1);transition:80ms cubic-bezier(0.65,0,0.35,1);-webkit-transition-property:color,fill,background-color,border-color;transition-property:color,fill,background-color,border-color;color:var(--button-default-fgColor-rest,var(--color-btn-text,#24292f));background-color:var(--button-default-bgColor-rest,var(--color-btn-bg,#f6f8fa));box-shadow:var(--button-default-shadow-resting,var(--color-btn-shadow,0 1px 0 rgba(31,35,40,0.04))),var(--button-default-shadow-inset,var(--color-btn-inset-shadow,inset 0 1px 0 rgba(255,255,255,0.25)));}/*!sc*/
.hviaoI:focus:not(:disabled){box-shadow:none;outline:2px solid var(--fgColor-accent,var(--color-accent-fg,#0969da));outline-offset:-2px;}/*!sc*/
.hviaoI:focus:not(:disabled):not(:focus-visible){outline:solid 1px transparent;}/*!sc*/
.hviaoI:focus-visible:not(:disabled){box-shadow:none;outline:2px solid var(--fgColor-accent,var(--color-accent-fg,#0969da));outline-offset:-2px;}/*!sc*/
.hviaoI[href]{display:-webkit-inline-box;display:-webkit-inline-flex;display:-ms-inline-flexbox;display:inline-flex;}/*!sc*/
.hviaoI[href]:hover{-webkit-text-decoration:none;text-decoration:none;}/*!sc*/
.hviaoI:hover{-webkit-transition-duration:80ms;transition-duration:80ms;}/*!sc*/
.hviaoI:active{-webkit-transition:none;transition:none;}/*!sc*/
.hviaoI[data-inactive]{cursor:auto;}/*!sc*/
.hviaoI:disabled{cursor:not-allowed;box-shadow:none;color:var(--fgColor-disabled,var(--color-primer-fg-disabled,#8c959f));border-color:var(--button-default-borderColor-disabled,var(--button-default-borderColor-rest,var(--color-btn-border,rgba(31,35,40,0.15))));background-color:var(--button-default-bgColor-disabled,var(--control-bgColor-disabled,var(--color-input-disabled-bg,rgba(175,184,193,0.2))));}/*!sc*/
.hviaoI:disabled [data-component=ButtonCounter]{color:inherit;}/*!sc*/
@media (forced-colors:active){.hviaoI:focus{outline:solid 1px transparent;}}/*!sc*/
.hviaoI [data-component=ButtonCounter]{font-size:12px;background-color:var(--buttonCounter-default-bgColor-rest,var(--color-btn-counter-bg,rgba(31,35,40,0.08)));}/*!sc*/
.hviaoI[data-component=IconButton]{display:inline-grid;padding:unset;place-content:center;width:32px;min-width:unset;}/*!sc*/
.hviaoI[data-size="small"]{padding:0 8px;height:28px;gap:4px;font-size:12px;}/*!sc*/
.hviaoI[data-size="small"] [data-component="text"]{line-height:calc(20 / 12);}/*!sc*/
.hviaoI[data-size="small"] [data-component=ButtonCounter]{font-size:12px;}/*!sc*/
.hviaoI[data-size="small"] [data-component="buttonContent"] > :not(:last-child){margin-right:4px;}/*!sc*/
.hviaoI[data-size="small"][data-component=IconButton]{width:28px;padding:unset;}/*!sc*/
.hviaoI[data-size="large"]{padding:0 16px;height:40px;gap:8px;}/*!sc*/
.hviaoI[data-size="large"] [data-component="buttonContent"] > :not(:last-child){margin-right:8px;}/*!sc*/
.hviaoI[data-size="large"][data-component=IconButton]{width:40px;padding:unset;}/*!sc*/
.hviaoI[data-block="block"]{width:100%;}/*!sc*/
.hviaoI[data-inactive]:not([disabled]){background-color:var(--button-inactive-bgColor,var(--button-inactive-bgColor-rest,var(--color-btn-inactive-bg,#eaeef2)));border-color:var(--button-inactive-bgColor,var(--button-inactive-bgColor-rest,var(--color-btn-inactive-bg,#eaeef2)));color:var(--button-inactive-fgColor,var(--button-inactive-fgColor-rest,var(--color-btn-inactive-text,#57606a)));}/*!sc*/
.hviaoI[data-inactive]:not([disabled]):focus-visible{box-shadow:none;}/*!sc*/
.hviaoI [data-component="leadingVisual"]{grid-area:leadingVisual;}/*!sc*/
.hviaoI [data-component="text"]{grid-area:text;line-height:calc(20/14);white-space:nowrap;}/*!sc*/
.hviaoI [data-component="trailingVisual"]{grid-area:trailingVisual;}/*!sc*/
.hviaoI [data-component="trailingAction"]{margin-right:-4px;}/*!sc*/
.hviaoI [data-component="buttonContent"]{-webkit-flex:1 0 auto;-ms-flex:1 0 auto;flex:1 0 auto;display:grid;grid-template-areas:"leadingVisual text trailingVisual";grid-template-columns:min-content minmax(0,auto) min-content;-webkit-align-items:center;-webkit-box-align:center;-ms-flex-align:center;align-items:center;-webkit-align-content:center;-ms-flex-line-pack:center;align-content:center;}/*!sc*/
.hviaoI [data-component="buttonContent"] > :not(:last-child){margin-right:8px;}/*!sc*/
.hviaoI:hover:not([disabled]):not([data-inactive]){background-color:var(--button-default-bgColor-hover,var(--color-btn-hover-bg,#f3f4f6));border-color:var(--button-default-borderColor-hover,var(--button-default-borderColor-hover,var(--color-btn-hover-border,rgba(31,35,40,0.15))));}/*!sc*/
.hviaoI:active:not([disabled]):not([data-inactive]){background-color:var(--button-default-bgColor-active,var(--color-btn-active-bg,hsla(220,14%,93%,1)));border-color:var(--button-default-borderColor-active,var(--button-default-borderColor-active,var(--color-btn-active-border,rgba(31,35,40,0.15))));}/*!sc*/
.hviaoI[aria-expanded=true]{background-color:var(--button-default-bgColor-active,var(--color-btn-active-bg,hsla(220,14%,93%,1)));border-color:var(--button-default-borderColor-active,var(--button-default-borderColor-active,var(--color-btn-active-border,rgba(31,35,40,0.15))));}/*!sc*/
.hviaoI [data-component="leadingVisual"],.hviaoI [data-component="trailingVisual"],.hviaoI [data-component="trailingAction"]{color:var(--button-color,var(--fgColor-muted,var(--color-fg-muted,#656d76)));}/*!sc*/
.hviaoI[data-component="IconButton"][data-no-visuals]{color:var(--fgColor-muted,var(--color-fg-muted,#656d76));}/*!sc*/
.hviaoI[data-no-visuals]{border-top-left-radius:0;border-bottom-left-radius:0;display:none;}/*!sc*/
.jXTShb{border-radius:6px;border:1px solid;border-color:var(--button-default-borderColor-rest,var(--button-default-borderColor-rest,var(--color-btn-border,rgba(31,35,40,0.15))));font-family:inherit;font-weight:500;font-size:14px;cursor:pointer;-webkit-appearance:none;-moz-appearance:none;appearance:none;-webkit-user-select:none;-moz-user-select:none;-ms-user-select:none;user-select:none;-webkit-text-decoration:none;text-decoration:none;text-align:center;display:-webkit-box;display:-webkit-flex;display:-ms-flexbox;display:flex;-webkit-align-items:center;-webkit-box-align:center;-ms-flex-align:center;align-items:center;-webkit-box-pack:justify;-webkit-justify-content:space-between;-ms-flex-pack:justify;justify-content:space-between;height:32px;padding:0 12px;gap:8px;min-width:-webkit-max-content;min-width:-moz-max-content;min-width:max-content;-webkit-transition:80ms cubic-bezier(0.65,0,0.35,1);transition:80ms cubic-bezier(0.65,0,0.35,1);-webkit-transition-property:color,fill,background-color,border-color;transition-property:color,fill,background-color,border-color;color:var(--button-default-fgColor-rest,var(--color-btn-text,#24292f));background-color:var(--button-default-bgColor-rest,var(--color-btn-bg,#f6f8fa));box-shadow:var(--button-default-shadow-resting,var(--color-btn-shadow,0 1px 0 rgba(31,35,40,0.04))),var(--button-default-shadow-inset,var(--color-btn-inset-shadow,inset 0 1px 0 rgba(255,255,255,0.25)));}/*!sc*/
.jXTShb:focus:not(:disabled){box-shadow:none;outline:2px solid var(--fgColor-accent,var(--color-accent-fg,#0969da));outline-offset:-2px;}/*!sc*/
.jXTShb:focus:not(:disabled):not(:focus-visible){outline:solid 1px transparent;}/*!sc*/
.jXTShb:focus-visible:not(:disabled){box-shadow:none;outline:2px solid var(--fgColor-accent,var(--color-accent-fg,#0969da));outline-offset:-2px;}/*!sc*/
.jXTShb[href]{display:-webkit-inline-box;display:-webkit-inline-flex;display:-ms-inline-flexbox;display:inline-flex;}/*!sc*/
.jXTShb[href]:hover{-webkit-text-decoration:none;text-decoration:none;}/*!sc*/
.jXTShb:hover{-webkit-transition-duration:80ms;transition-duration:80ms;}/*!sc*/
.jXTShb:active{-webkit-transition:none;transition:none;}/*!sc*/
.jXTShb[data-inactive]{cursor:auto;}/*!sc*/
.jXTShb:disabled{cursor:not-allowed;box-shadow:none;color:var(--fgColor-disabled,var(--color-primer-fg-disabled,#8c959f));border-color:var(--button-default-borderColor-disabled,var(--button-default-borderColor-rest,var(--color-btn-border,rgba(31,35,40,0.15))));background-color:var(--button-default-bgColor-disabled,var(--control-bgColor-disabled,var(--color-input-disabled-bg,rgba(175,184,193,0.2))));}/*!sc*/
.jXTShb:disabled [data-component=ButtonCounter]{color:inherit;}/*!sc*/
@media (forced-colors:active){.jXTShb:focus{outline:solid 1px transparent;}}/*!sc*/
.jXTShb [data-component=ButtonCounter]{font-size:12px;background-color:var(--buttonCounter-default-bgColor-rest,var(--color-btn-counter-bg,rgba(31,35,40,0.08)));}/*!sc*/
.jXTShb[data-component=IconButton]{display:inline-grid;padding:unset;place-content:center;width:32px;min-width:unset;}/*!sc*/
.jXTShb[data-size="small"]{padding:0 8px;height:28px;gap:4px;font-size:12px;}/*!sc*/
.jXTShb[data-size="small"] [data-component="text"]{line-height:calc(20 / 12);}/*!sc*/
.jXTShb[data-size="small"] [data-component=ButtonCounter]{font-size:12px;}/*!sc*/
.jXTShb[data-size="small"] [data-component="buttonContent"] > :not(:last-child){margin-right:4px;}/*!sc*/
.jXTShb[data-size="small"][data-component=IconButton]{width:28px;padding:unset;}/*!sc*/
.jXTShb[data-size="large"]{padding:0 16px;height:40px;gap:8px;}/*!sc*/
.jXTShb[data-size="large"] [data-component="buttonContent"] > :not(:last-child){margin-right:8px;}/*!sc*/
.jXTShb[data-size="large"][data-component=IconButton]{width:40px;padding:unset;}/*!sc*/
.jXTShb[data-block="block"]{width:100%;}/*!sc*/
.jXTShb[data-inactive]:not([disabled]){background-color:var(--button-inactive-bgColor,var(--button-inactive-bgColor-rest,var(--color-btn-inactive-bg,#eaeef2)));border-color:var(--button-inactive-bgColor,var(--button-inactive-bgColor-rest,var(--color-btn-inactive-bg,#eaeef2)));color:var(--button-inactive-fgColor,var(--button-inactive-fgColor-rest,var(--color-btn-inactive-text,#57606a)));}/*!sc*/
.jXTShb[data-inactive]:not([disabled]):focus-visible{box-shadow:none;}/*!sc*/
.jXTShb [data-component="leadingVisual"]{grid-area:leadingVisual;}/*!sc*/
.jXTShb [data-component="text"]{grid-area:text;line-height:calc(20/14);white-space:nowrap;}/*!sc*/
.jXTShb [data-component="trailingVisual"]{grid-area:trailingVisual;}/*!sc*/
.jXTShb [data-component="trailingAction"]{margin-right:-4px;}/*!sc*/
.jXTShb [data-component="buttonContent"]{-webkit-flex:1 0 auto;-ms-flex:1 0 auto;flex:1 0 auto;display:grid;grid-template-areas:"leadingVisual text trailingVisual";grid-template-columns:min-content minmax(0,auto) min-content;-webkit-align-items:center;-webkit-box-align:center;-ms-flex-align:center;align-items:center;-webkit-align-content:center;-ms-flex-line-pack:center;align-content:center;}/*!sc*/
.jXTShb [data-component="buttonContent"] > :not(:last-child){margin-right:8px;}/*!sc*/
.jXTShb:hover:not([disabled]):not([data-inactive]){background-color:var(--button-default-bgColor-hover,var(--color-btn-hover-bg,#f3f4f6));border-color:var(--button-default-borderColor-hover,var(--button-default-borderColor-hover,var(--color-btn-hover-border,rgba(31,35,40,0.15))));}/*!sc*/
.jXTShb:active:not([disabled]):not([data-inactive]){background-color:var(--button-default-bgColor-active,var(--color-btn-active-bg,hsla(220,14%,93%,1)));border-color:var(--button-default-borderColor-active,var(--button-default-borderColor-active,var(--color-btn-active-border,rgba(31,35,40,0.15))));}/*!sc*/
.jXTShb[aria-expanded=true]{background-color:var(--button-default-bgColor-active,var(--color-btn-active-bg,hsla(220,14%,93%,1)));border-color:var(--button-default-borderColor-active,var(--button-default-borderColor-active,var(--color-btn-active-border,rgba(31,35,40,0.15))));}/*!sc*/
.jXTShb [data-component="leadingVisual"],.jXTShb [data-component="trailingVisual"],.jXTShb [data-component="trailingAction"]{color:var(--button-color,var(--fgColor-muted,var(--color-fg-muted,#656d76)));}/*!sc*/
.jXTShb[data-component="IconButton"][data-no-visuals]{color:var(--fgColor-muted,var(--color-fg-muted,#656d76));}/*!sc*/
.jXTShb[data-no-visuals]{color:var(--fgColor-muted,var(--color-fg-muted,#656d76));}/*!sc*/
.fAkXQN{border-radius:6px;border:1px solid;border-color:transparent;font-family:inherit;font-weight:500;font-size:14px;cursor:pointer;-webkit-appearance:none;-moz-appearance:none;appearance:none;-webkit-user-select:none;-moz-user-select:none;-ms-user-select:none;user-select:none;-webkit-text-decoration:none;text-decoration:none;text-align:center;display:-webkit-box;display:-webkit-flex;display:-ms-flexbox;display:flex;-webkit-align-items:center;-webkit-box-align:center;-ms-flex-align:center;align-items:center;-webkit-box-pack:justify;-webkit-justify-content:space-between;-ms-flex-pack:justify;justify-content:space-between;height:32px;padding:0 12px;gap:8px;min-width:-webkit-max-content;min-width:-moz-max-content;min-width:max-content;-webkit-transition:80ms cubic-bezier(0.65,0,0.35,1);transition:80ms cubic-bezier(0.65,0,0.35,1);-webkit-transition-property:color,fill,background-color,border-color;transition-property:color,fill,background-color,border-color;color:var(--fgColor-default,var(--color-fg-default,#1F2328));background-color:transparent;box-shadow:none;}/*!sc*/
.fAkXQN:focus:not(:disabled){box-shadow:none;outline:2px solid var(--fgColor-accent,var(--color-accent-fg,#0969da));outline-offset:-2px;}/*!sc*/
.fAkXQN:focus:not(:disabled):not(:focus-visible){outline:solid 1px transparent;}/*!sc*/
.fAkXQN:focus-visible:not(:disabled){box-shadow:none;outline:2px solid var(--fgColor-accent,var(--color-accent-fg,#0969da));outline-offset:-2px;}/*!sc*/
.fAkXQN[href]{display:-webkit-inline-box;display:-webkit-inline-flex;display:-ms-inline-flexbox;display:inline-flex;}/*!sc*/
.fAkXQN[href]:hover{-webkit-text-decoration:none;text-decoration:none;}/*!sc*/
.fAkXQN:hover{-webkit-transition-duration:80ms;transition-duration:80ms;}/*!sc*/
.fAkXQN:active{-webkit-transition:none;transition:none;}/*!sc*/
.fAkXQN[data-inactive]{cursor:auto;}/*!sc*/
.fAkXQN:disabled{cursor:not-allowed;box-shadow:none;color:var(--fgColor-disabled,var(--color-primer-fg-disabled,#8c959f));}/*!sc*/
.fAkXQN:disabled [data-component=ButtonCounter],.fAkXQN:disabled [data-component="leadingVisual"],.fAkXQN:disabled [data-component="trailingAction"]{color:inherit;}/*!sc*/
@media (forced-colors:active){.fAkXQN:focus{outline:solid 1px transparent;}}/*!sc*/
.fAkXQN [data-component=ButtonCounter]{font-size:12px;}/*!sc*/
.fAkXQN[data-component=IconButton]{display:inline-grid;padding:unset;place-content:center;width:32px;min-width:unset;}/*!sc*/
.fAkXQN[data-size="small"]{padding:0 8px;height:28px;gap:4px;font-size:12px;}/*!sc*/
.fAkXQN[data-size="small"] [data-component="text"]{line-height:calc(20 / 12);}/*!sc*/
.fAkXQN[data-size="small"] [data-component=ButtonCounter]{font-size:12px;}/*!sc*/
.fAkXQN[data-size="small"] [data-component="buttonContent"] > :not(:last-child){margin-right:4px;}/*!sc*/
.fAkXQN[data-size="small"][data-component=IconButton]{width:28px;padding:unset;}/*!sc*/
.fAkXQN[data-size="large"]{padding:0 16px;height:40px;gap:8px;}/*!sc*/
.fAkXQN[data-size="large"] [data-component="buttonContent"] > :not(:last-child){margin-right:8px;}/*!sc*/
.fAkXQN[data-size="large"][data-component=IconButton]{width:40px;padding:unset;}/*!sc*/
.fAkXQN[data-block="block"]{width:100%;}/*!sc*/
.fAkXQN[data-inactive]:not([disabled]){background-color:var(--button-inactive-bgColor,var(--button-inactive-bgColor-rest,var(--color-btn-inactive-bg,#eaeef2)));border-color:var(--button-inactive-bgColor,var(--button-inactive-bgColor-rest,var(--color-btn-inactive-bg,#eaeef2)));color:var(--button-inactive-fgColor,var(--button-inactive-fgColor-rest,var(--color-btn-inactive-text,#57606a)));}/*!sc*/
.fAkXQN[data-inactive]:not([disabled]):focus-visible{box-shadow:none;}/*!sc*/
.fAkXQN [data-component="leadingVisual"]{grid-area:leadingVisual;color:var(--fgColor-muted,var(--color-fg-muted,#656d76));}/*!sc*/
.fAkXQN [data-component="text"]{grid-area:text;line-height:calc(20/14);white-space:nowrap;}/*!sc*/
.fAkXQN [data-component="trailingVisual"]{grid-area:trailingVisual;}/*!sc*/
.fAkXQN [data-component="trailingAction"]{margin-right:-4px;color:var(--fgColor-muted,var(--color-fg-muted,#656d76));}/*!sc*/
.fAkXQN [data-component="buttonContent"]{-webkit-flex:1 0 auto;-ms-flex:1 0 auto;flex:1 0 auto;display:grid;grid-template-areas:"leadingVisual text trailingVisual";grid-template-columns:min-content minmax(0,auto) min-content;-webkit-align-items:center;-webkit-box-align:center;-ms-flex-align:center;align-items:center;-webkit-align-content:center;-ms-flex-line-pack:center;align-content:center;}/*!sc*/
.fAkXQN [data-component="buttonContent"] > :not(:last-child){margin-right:8px;}/*!sc*/
.fAkXQN:hover:not([disabled]){background-color:var(--control-transparent-bgColor-hover,var(--color-action-list-item-default-hover-bg,rgba(208,215,222,0.32)));-webkit-text-decoration:none;text-decoration:none;}/*!sc*/
.fAkXQN:active:not([disabled]){background-color:var(--control-transparent-bgColor-active,var(--color-action-list-item-default-active-bg,rgba(208,215,222,0.48)));-webkit-text-decoration:none;text-decoration:none;}/*!sc*/
.fAkXQN[aria-expanded=true]{background-color:var(--control-transparent-bgColor-selected,var(--color-action-list-item-default-selected-bg,rgba(208,215,222,0.24)));}/*!sc*/
.fAkXQN[data-component="IconButton"][data-no-visuals]{color:var(--fgColor-muted,var(--color-fg-muted,#656d76));}/*!sc*/
.fAkXQN[data-no-visuals]{color:var(--fgColor-accent,var(--color-accent-fg,#0969da));}/*!sc*/
.fAkXQN:has([data-component="ButtonCounter"]){color:var(--button-default-fgColor-rest,var(--color-btn-text,#24292f));}/*!sc*/
.fAkXQN:disabled[data-no-visuals]{color:var(--fgColor-disabled,var(--color-primer-fg-disabled,#8c959f));}/*!sc*/
.fAkXQN:disabled[data-no-visuals] [data-component=ButtonCounter]{color:inherit;}/*!sc*/
.fAkXQN:focus:not([disabled]){-webkit-text-decoration:none;text-decoration:none;}/*!sc*/
.frAFhH{border-radius:6px;border:1px solid;border-color:transparent;font-family:inherit;font-weight:500;font-size:14px;cursor:pointer;-webkit-appearance:none;-moz-appearance:none;appearance:none;-webkit-user-select:none;-moz-user-select:none;-ms-user-select:none;user-select:none;-webkit-text-decoration:none;text-decoration:none;text-align:center;display:-webkit-box;display:-webkit-flex;display:-ms-flexbox;display:flex;-webkit-align-items:center;-webkit-box-align:center;-ms-flex-align:center;align-items:center;-webkit-box-pack:justify;-webkit-justify-content:space-between;-ms-flex-pack:justify;justify-content:space-between;height:32px;padding:0 12px;gap:8px;min-width:-webkit-max-content;min-width:-moz-max-content;min-width:max-content;-webkit-transition:80ms cubic-bezier(0.65,0,0.35,1);transition:80ms cubic-bezier(0.65,0,0.35,1);-webkit-transition-property:color,fill,background-color,border-color;transition-property:color,fill,background-color,border-color;color:var(--button-default-fgColor-rest,var(--color-btn-text,#24292f));background-color:transparent;box-shadow:none;}/*!sc*/
.frAFhH:focus:not(:disabled){box-shadow:none;outline:2px solid var(--fgColor-accent,var(--color-accent-fg,#0969da));outline-offset:-2px;}/*!sc*/
.frAFhH:focus:not(:disabled):not(:focus-visible){outline:solid 1px transparent;}/*!sc*/
.frAFhH:focus-visible:not(:disabled){box-shadow:none;outline:2px solid var(--fgColor-accent,var(--color-accent-fg,#0969da));outline-offset:-2px;}/*!sc*/
.frAFhH[href]{display:-webkit-inline-box;display:-webkit-inline-flex;display:-ms-inline-flexbox;display:inline-flex;}/*!sc*/
.frAFhH[href]:hover{-webkit-text-decoration:none;text-decoration:none;}/*!sc*/
.frAFhH:hover{-webkit-transition-duration:80ms;transition-duration:80ms;}/*!sc*/
.frAFhH:active{-webkit-transition:none;transition:none;}/*!sc*/
.frAFhH[data-inactive]{cursor:auto;}/*!sc*/
.frAFhH:disabled{cursor:not-allowed;box-shadow:none;color:var(--fgColor-disabled,var(--color-primer-fg-disabled,#8c959f));}/*!sc*/
.frAFhH:disabled [data-component=ButtonCounter],.frAFhH:disabled [data-component="leadingVisual"],.frAFhH:disabled [data-component="trailingAction"]{color:inherit;}/*!sc*/
@media (forced-colors:active){.frAFhH:focus{outline:solid 1px transparent;}}/*!sc*/
.frAFhH [data-component=ButtonCounter]{font-size:12px;}/*!sc*/
.frAFhH[data-component=IconButton]{display:inline-grid;padding:unset;place-content:center;width:32px;min-width:unset;}/*!sc*/
.frAFhH[data-size="small"]{padding:0 8px;height:28px;gap:4px;font-size:12px;color:var(--fgColor-default,var(--color-fg-default,#1F2328));display:none;}/*!sc*/
.frAFhH[data-size="small"] [data-component="text"]{line-height:calc(20 / 12);}/*!sc*/
.frAFhH[data-size="small"] [data-component=ButtonCounter]{font-size:12px;}/*!sc*/
.frAFhH[data-size="small"] [data-component="buttonContent"] > :not(:last-child){margin-right:4px;}/*!sc*/
.frAFhH[data-size="small"][data-component=IconButton]{width:28px;padding:unset;}/*!sc*/
@media screen and (min-width:544px){.frAFhH[data-size="small"]{display:none;}}/*!sc*/
@media screen and (min-width:768px){.frAFhH[data-size="small"]{display:none;}}/*!sc*/
@media screen and (min-width:1012px){.frAFhH[data-size="small"]{display:none;}}/*!sc*/
@media screen and (min-width:1280px){.frAFhH[data-size="small"]{display:block;}}/*!sc*/
.frAFhH[data-size="large"]{padding:0 16px;height:40px;gap:8px;}/*!sc*/
.frAFhH[data-size="large"] [data-component="buttonContent"] > :not(:last-child){margin-right:8px;}/*!sc*/
.frAFhH[data-size="large"][data-component=IconButton]{width:40px;padding:unset;}/*!sc*/
.frAFhH[data-block="block"]{width:100%;}/*!sc*/
.frAFhH[data-inactive]:not([disabled]){background-color:var(--button-inactive-bgColor,var(--button-inactive-bgColor-rest,var(--color-btn-inactive-bg,#eaeef2)));border-color:var(--button-inactive-bgColor,var(--button-inactive-bgColor-rest,var(--color-btn-inactive-bg,#eaeef2)));color:var(--button-inactive-fgColor,var(--button-inactive-fgColor-rest,var(--color-btn-inactive-text,#57606a)));}/*!sc*/
.frAFhH[data-inactive]:not([disabled]):focus-visible{box-shadow:none;}/*!sc*/
.frAFhH [data-component="leadingVisual"]{grid-area:leadingVisual;color:var(--fgColor-muted,var(--color-fg-muted,#656d76));}/*!sc*/
.frAFhH [data-component="text"]{grid-area:text;line-height:calc(20/14);white-space:nowrap;}/*!sc*/
.frAFhH [data-component="trailingVisual"]{grid-area:trailingVisual;}/*!sc*/
.frAFhH [data-component="trailingAction"]{margin-right:-4px;color:var(--fgColor-muted,var(--color-fg-muted,#656d76));}/*!sc*/
.frAFhH [data-component="buttonContent"]{-webkit-flex:1 0 auto;-ms-flex:1 0 auto;flex:1 0 auto;display:grid;grid-template-areas:"leadingVisual text trailingVisual";grid-template-columns:min-content minmax(0,auto) min-content;-webkit-align-items:center;-webkit-box-align:center;-ms-flex-align:center;align-items:center;-webkit-align-content:center;-ms-flex-line-pack:center;align-content:center;}/*!sc*/
.frAFhH [data-component="buttonContent"] > :not(:last-child){margin-right:8px;}/*!sc*/
.frAFhH:hover:not([disabled]){background-color:var(--control-transparent-bgColor-hover,var(--color-action-list-item-default-hover-bg,rgba(208,215,222,0.32)));}/*!sc*/
.frAFhH:active:not([disabled]){background-color:var(--control-transparent-bgColor-active,var(--color-action-list-item-default-active-bg,rgba(208,215,222,0.48)));}/*!sc*/
.frAFhH[aria-expanded=true]{background-color:var(--control-transparent-bgColor-selected,var(--color-action-list-item-default-selected-bg,rgba(208,215,222,0.24)));}/*!sc*/
.frAFhH[data-component="IconButton"][data-no-visuals]{color:var(--fgColor-muted,var(--color-fg-muted,#656d76));}/*!sc*/
.frAFhH[data-no-visuals]{color:var(--fgColor-accent,var(--color-accent-fg,#0969da));}/*!sc*/
.frAFhH:has([data-component="ButtonCounter"]){color:var(--button-default-fgColor-rest,var(--color-btn-text,#24292f));}/*!sc*/
.frAFhH:disabled[data-no-visuals]{color:var(--fgColor-disabled,var(--color-primer-fg-disabled,#8c959f));}/*!sc*/
.frAFhH:disabled[data-no-visuals] [data-component=ButtonCounter]{color:inherit;}/*!sc*/
.gfKkfV{border-radius:6px;border:1px solid;border-color:transparent;font-family:inherit;font-weight:500;font-size:14px;cursor:pointer;-webkit-appearance:none;-moz-appearance:none;appearance:none;-webkit-user-select:none;-moz-user-select:none;-ms-user-select:none;user-select:none;-webkit-text-decoration:none;text-decoration:none;text-align:center;display:-webkit-box;display:-webkit-flex;display:-ms-flexbox;display:flex;-webkit-align-items:center;-webkit-box-align:center;-ms-flex-align:center;align-items:center;-webkit-box-pack:justify;-webkit-justify-content:space-between;-ms-flex-pack:justify;justify-content:space-between;height:32px;padding:0 12px;gap:8px;min-width:-webkit-max-content;min-width:-moz-max-content;min-width:max-content;-webkit-transition:80ms cubic-bezier(0.65,0,0.35,1);transition:80ms cubic-bezier(0.65,0,0.35,1);-webkit-transition-property:color,fill,background-color,border-color;transition-property:color,fill,background-color,border-color;color:var(--button-default-fgColor-rest,var(--color-btn-text,#24292f));background-color:transparent;box-shadow:none;}/*!sc*/
.gfKkfV:focus:not(:disabled){box-shadow:none;outline:2px solid var(--fgColor-accent,var(--color-accent-fg,#0969da));outline-offset:-2px;}/*!sc*/
.gfKkfV:focus:not(:disabled):not(:focus-visible){outline:solid 1px transparent;}/*!sc*/
.gfKkfV:focus-visible:not(:disabled){box-shadow:none;outline:2px solid var(--fgColor-accent,var(--color-accent-fg,#0969da));outline-offset:-2px;}/*!sc*/
.gfKkfV[href]{display:-webkit-inline-box;display:-webkit-inline-flex;display:-ms-inline-flexbox;display:inline-flex;}/*!sc*/
.gfKkfV[href]:hover{-webkit-text-decoration:none;text-decoration:none;}/*!sc*/
.gfKkfV:hover{-webkit-transition-duration:80ms;transition-duration:80ms;}/*!sc*/
.gfKkfV:active{-webkit-transition:none;transition:none;}/*!sc*/
.gfKkfV[data-inactive]{cursor:auto;}/*!sc*/
.gfKkfV:disabled{cursor:not-allowed;box-shadow:none;color:var(--fgColor-disabled,var(--color-primer-fg-disabled,#8c959f));}/*!sc*/
.gfKkfV:disabled [data-component=ButtonCounter],.gfKkfV:disabled [data-component="leadingVisual"],.gfKkfV:disabled [data-component="trailingAction"]{color:inherit;}/*!sc*/
@media (forced-colors:active){.gfKkfV:focus{outline:solid 1px transparent;}}/*!sc*/
.gfKkfV [data-component=ButtonCounter]{font-size:12px;}/*!sc*/
.gfKkfV[data-component=IconButton]{display:inline-grid;padding:unset;place-content:center;width:32px;min-width:unset;}/*!sc*/
.gfKkfV[data-size="small"]{padding:0 8px;height:28px;gap:4px;font-size:12px;color:var(--fgColor-default,var(--color-fg-default,#1F2328));margin-left:8px;}/*!sc*/
.gfKkfV[data-size="small"] [data-component="text"]{line-height:calc(20 / 12);}/*!sc*/
.gfKkfV[data-size="small"] [data-component=ButtonCounter]{font-size:12px;}/*!sc*/
.gfKkfV[data-size="small"] [data-component="buttonContent"] > :not(:last-child){margin-right:4px;}/*!sc*/
.gfKkfV[data-size="small"][data-component=IconButton]{width:28px;padding:unset;}/*!sc*/
.gfKkfV[data-size="large"]{padding:0 16px;height:40px;gap:8px;}/*!sc*/
.gfKkfV[data-size="large"] [data-component="buttonContent"] > :not(:last-child){margin-right:8px;}/*!sc*/
.gfKkfV[data-size="large"][data-component=IconButton]{width:40px;padding:unset;}/*!sc*/
.gfKkfV[data-block="block"]{width:100%;}/*!sc*/
.gfKkfV[data-inactive]:not([disabled]){background-color:var(--button-inactive-bgColor,var(--button-inactive-bgColor-rest,var(--color-btn-inactive-bg,#eaeef2)));border-color:var(--button-inactive-bgColor,var(--button-inactive-bgColor-rest,var(--color-btn-inactive-bg,#eaeef2)));color:var(--button-inactive-fgColor,var(--button-inactive-fgColor-rest,var(--color-btn-inactive-text,#57606a)));}/*!sc*/
.gfKkfV[data-inactive]:not([disabled]):focus-visible{box-shadow:none;}/*!sc*/
.gfKkfV [data-component="leadingVisual"]{grid-area:leadingVisual;color:var(--fgColor-muted,var(--color-fg-muted,#656d76));}/*!sc*/
.gfKkfV [data-component="text"]{grid-area:text;line-height:calc(20/14);white-space:nowrap;}/*!sc*/
.gfKkfV [data-component="trailingVisual"]{grid-area:trailingVisual;}/*!sc*/
.gfKkfV [data-component="trailingAction"]{margin-right:-4px;color:var(--fgColor-muted,var(--color-fg-muted,#656d76));}/*!sc*/
.gfKkfV [data-component="buttonContent"]{-webkit-flex:1 0 auto;-ms-flex:1 0 auto;flex:1 0 auto;display:grid;grid-template-areas:"leadingVisual text trailingVisual";grid-template-columns:min-content minmax(0,auto) min-content;-webkit-align-items:center;-webkit-box-align:center;-ms-flex-align:center;align-items:center;-webkit-align-content:center;-ms-flex-line-pack:center;align-content:center;}/*!sc*/
.gfKkfV [data-component="buttonContent"] > :not(:last-child){margin-right:8px;}/*!sc*/
.gfKkfV:hover:not([disabled]){background-color:var(--control-transparent-bgColor-hover,var(--color-action-list-item-default-hover-bg,rgba(208,215,222,0.32)));}/*!sc*/
.gfKkfV:active:not([disabled]){background-color:var(--control-transparent-bgColor-active,var(--color-action-list-item-default-active-bg,rgba(208,215,222,0.48)));}/*!sc*/
.gfKkfV[aria-expanded=true]{background-color:var(--control-transparent-bgColor-selected,var(--color-action-list-item-default-selected-bg,rgba(208,215,222,0.24)));}/*!sc*/
.gfKkfV[data-component="IconButton"][data-no-visuals]{color:var(--fgColor-muted,var(--color-fg-muted,#656d76));}/*!sc*/
.gfKkfV[data-no-visuals]{color:var(--fgColor-accent,var(--color-accent-fg,#0969da));}/*!sc*/
.gfKkfV:has([data-component="ButtonCounter"]){color:var(--button-default-fgColor-rest,var(--color-btn-text,#24292f));}/*!sc*/
.gfKkfV:disabled[data-no-visuals]{color:var(--fgColor-disabled,var(--color-primer-fg-disabled,#8c959f));}/*!sc*/
.gfKkfV:disabled[data-no-visuals] [data-component=ButtonCounter]{color:inherit;}/*!sc*/
.dTgfec{border-radius:6px;border:1px solid;border-color:var(--button-default-borderColor-rest,var(--button-default-borderColor-rest,var(--color-btn-border,rgba(31,35,40,0.15))));font-family:inherit;font-weight:500;font-size:14px;cursor:pointer;-webkit-appearance:none;-moz-appearance:none;appearance:none;-webkit-user-select:none;-moz-user-select:none;-ms-user-select:none;user-select:none;-webkit-text-decoration:none;text-decoration:none;text-align:center;display:-webkit-box;display:-webkit-flex;display:-ms-flexbox;display:flex;-webkit-align-items:center;-webkit-box-align:center;-ms-flex-align:center;align-items:center;-webkit-box-pack:justify;-webkit-justify-content:space-between;-ms-flex-pack:justify;justify-content:space-between;height:32px;padding:0 12px;gap:8px;min-width:-webkit-max-content;min-width:-moz-max-content;min-width:max-content;-webkit-transition:80ms cubic-bezier(0.65,0,0.35,1);transition:80ms cubic-bezier(0.65,0,0.35,1);-webkit-transition-property:color,fill,background-color,border-color;transition-property:color,fill,background-color,border-color;color:var(--button-default-fgColor-rest,var(--color-btn-text,#24292f));background-color:var(--button-default-bgColor-rest,var(--color-btn-bg,#f6f8fa));box-shadow:var(--button-default-shadow-resting,var(--color-btn-shadow,0 1px 0 rgba(31,35,40,0.04))),var(--button-default-shadow-inset,var(--color-btn-inset-shadow,inset 0 1px 0 rgba(255,255,255,0.25)));padding-left:8px;padding-right:8px;}/*!sc*/
.dTgfec:focus:not(:disabled){box-shadow:none;outline:2px solid var(--fgColor-accent,var(--color-accent-fg,#0969da));outline-offset:-2px;}/*!sc*/
.dTgfec:focus:not(:disabled):not(:focus-visible){outline:solid 1px transparent;}/*!sc*/
.dTgfec:focus-visible:not(:disabled){box-shadow:none;outline:2px solid var(--fgColor-accent,var(--color-accent-fg,#0969da));outline-offset:-2px;}/*!sc*/
.dTgfec[href]{display:-webkit-inline-box;display:-webkit-inline-flex;display:-ms-inline-flexbox;display:inline-flex;}/*!sc*/
.dTgfec[href]:hover{-webkit-text-decoration:none;text-decoration:none;}/*!sc*/
.dTgfec:hover{-webkit-transition-duration:80ms;transition-duration:80ms;}/*!sc*/
.dTgfec:active{-webkit-transition:none;transition:none;}/*!sc*/
.dTgfec[data-inactive]{cursor:auto;}/*!sc*/
.dTgfec:disabled{cursor:not-allowed;box-shadow:none;color:var(--fgColor-disabled,var(--color-primer-fg-disabled,#8c959f));border-color:var(--button-default-borderColor-disabled,var(--button-default-borderColor-rest,var(--color-btn-border,rgba(31,35,40,0.15))));background-color:var(--button-default-bgColor-disabled,var(--control-bgColor-disabled,var(--color-input-disabled-bg,rgba(175,184,193,0.2))));}/*!sc*/
.dTgfec:disabled [data-component=ButtonCounter]{color:inherit;}/*!sc*/
@media (forced-colors:active){.dTgfec:focus{outline:solid 1px transparent;}}/*!sc*/
.dTgfec [data-component=ButtonCounter]{font-size:12px;background-color:var(--buttonCounter-default-bgColor-rest,var(--color-btn-counter-bg,rgba(31,35,40,0.08)));}/*!sc*/
.dTgfec[data-component=IconButton]{display:inline-grid;padding:unset;place-content:center;width:32px;min-width:unset;}/*!sc*/
.dTgfec[data-size="small"]{padding:0 8px;height:28px;gap:4px;font-size:12px;}/*!sc*/
.dTgfec[data-size="small"] [data-component="text"]{line-height:calc(20 / 12);}/*!sc*/
.dTgfec[data-size="small"] [data-component=ButtonCounter]{font-size:12px;}/*!sc*/
.dTgfec[data-size="small"] [data-component="buttonContent"] > :not(:last-child){margin-right:4px;}/*!sc*/
.dTgfec[data-size="small"][data-component=IconButton]{width:28px;padding:unset;}/*!sc*/
.dTgfec[data-size="large"]{padding:0 16px;height:40px;gap:8px;}/*!sc*/
.dTgfec[data-size="large"] [data-component="buttonContent"] > :not(:last-child){margin-right:8px;}/*!sc*/
.dTgfec[data-size="large"][data-component=IconButton]{width:40px;padding:unset;}/*!sc*/
.dTgfec[data-block="block"]{width:100%;}/*!sc*/
.dTgfec[data-inactive]:not([disabled]){background-color:var(--button-inactive-bgColor,var(--button-inactive-bgColor-rest,var(--color-btn-inactive-bg,#eaeef2)));border-color:var(--button-inactive-bgColor,var(--button-inactive-bgColor-rest,var(--color-btn-inactive-bg,#eaeef2)));color:var(--button-inactive-fgColor,var(--button-inactive-fgColor-rest,var(--color-btn-inactive-text,#57606a)));}/*!sc*/
.dTgfec[data-inactive]:not([disabled]):focus-visible{box-shadow:none;}/*!sc*/
.dTgfec [data-component="leadingVisual"]{grid-area:leadingVisual;}/*!sc*/
.dTgfec [data-component="text"]{grid-area:text;line-height:calc(20/14);white-space:nowrap;}/*!sc*/
.dTgfec [data-component="trailingVisual"]{grid-area:trailingVisual;}/*!sc*/
.dTgfec [data-component="trailingAction"]{margin-right:-4px;}/*!sc*/
.dTgfec [data-component="buttonContent"]{-webkit-flex:1 0 auto;-ms-flex:1 0 auto;flex:1 0 auto;display:grid;grid-template-areas:"leadingVisual text trailingVisual";grid-template-columns:min-content minmax(0,auto) min-content;-webkit-align-items:center;-webkit-box-align:center;-ms-flex-align:center;align-items:center;-webkit-align-content:center;-ms-flex-line-pack:center;align-content:center;}/*!sc*/
.dTgfec [data-component="buttonContent"] > :not(:last-child){margin-right:8px;}/*!sc*/
.dTgfec:hover:not([disabled]):not([data-inactive]){background-color:var(--button-default-bgColor-hover,var(--color-btn-hover-bg,#f3f4f6));border-color:var(--button-default-borderColor-hover,var(--button-default-borderColor-hover,var(--color-btn-hover-border,rgba(31,35,40,0.15))));}/*!sc*/
.dTgfec:active:not([disabled]):not([data-inactive]){background-color:var(--button-default-bgColor-active,var(--color-btn-active-bg,hsla(220,14%,93%,1)));border-color:var(--button-default-borderColor-active,var(--button-default-borderColor-active,var(--color-btn-active-border,rgba(31,35,40,0.15))));}/*!sc*/
.dTgfec[aria-expanded=true]{background-color:var(--button-default-bgColor-active,var(--color-btn-active-bg,hsla(220,14%,93%,1)));border-color:var(--button-default-borderColor-active,var(--button-default-borderColor-active,var(--color-btn-active-border,rgba(31,35,40,0.15))));}/*!sc*/
.dTgfec [data-component="leadingVisual"],.dTgfec [data-component="trailingVisual"],.dTgfec [data-component="trailingAction"]{color:var(--button-color,var(--fgColor-muted,var(--color-fg-muted,#656d76)));}/*!sc*/
.dTgfec[data-component="IconButton"][data-no-visuals]{color:var(--fgColor-muted,var(--color-fg-muted,#656d76));}/*!sc*/
.dTgfec linkButtonSx:hover:not([disabled]){-webkit-text-decoration:none;text-decoration:none;}/*!sc*/
.dTgfec linkButtonSx:focus:not([disabled]){-webkit-text-decoration:none;text-decoration:none;}/*!sc*/
.dTgfec linkButtonSx:active:not([disabled]){-webkit-text-decoration:none;text-decoration:none;}/*!sc*/
.pyyxt{border-radius:6px;border:1px solid;border-color:var(--button-default-borderColor-rest,var(--button-default-borderColor-rest,var(--color-btn-border,rgba(31,35,40,0.15))));font-family:inherit;font-weight:500;font-size:14px;cursor:pointer;-webkit-appearance:none;-moz-appearance:none;appearance:none;-webkit-user-select:none;-moz-user-select:none;-ms-user-select:none;user-select:none;-webkit-text-decoration:none;text-decoration:none;text-align:center;display:-webkit-box;display:-webkit-flex;display:-ms-flexbox;display:flex;-webkit-align-items:center;-webkit-box-align:center;-ms-flex-align:center;align-items:center;-webkit-box-pack:justify;-webkit-justify-content:space-between;-ms-flex-pack:justify;justify-content:space-between;height:32px;padding:0 12px;gap:8px;min-width:-webkit-max-content;min-width:-moz-max-content;min-width:max-content;-webkit-transition:80ms cubic-bezier(0.65,0,0.35,1);transition:80ms cubic-bezier(0.65,0,0.35,1);-webkit-transition-property:color,fill,background-color,border-color;transition-property:color,fill,background-color,border-color;color:var(--button-default-fgColor-rest,var(--color-btn-text,#24292f));background-color:var(--button-default-bgColor-rest,var(--color-btn-bg,#f6f8fa));box-shadow:var(--button-default-shadow-resting,var(--color-btn-shadow,0 1px 0 rgba(31,35,40,0.04))),var(--button-default-shadow-inset,var(--color-btn-inset-shadow,inset 0 1px 0 rgba(255,255,255,0.25)));}/*!sc*/
.pyyxt:focus:not(:disabled){box-shadow:none;outline:2px solid var(--fgColor-accent,var(--color-accent-fg,#0969da));outline-offset:-2px;}/*!sc*/
.pyyxt:focus:not(:disabled):not(:focus-visible){outline:solid 1px transparent;}/*!sc*/
.pyyxt:focus-visible:not(:disabled){box-shadow:none;outline:2px solid var(--fgColor-accent,var(--color-accent-fg,#0969da));outline-offset:-2px;}/*!sc*/
.pyyxt[href]{display:-webkit-inline-box;display:-webkit-inline-flex;display:-ms-inline-flexbox;display:inline-flex;}/*!sc*/
.pyyxt[href]:hover{-webkit-text-decoration:none;text-decoration:none;}/*!sc*/
.pyyxt:hover{-webkit-transition-duration:80ms;transition-duration:80ms;}/*!sc*/
.pyyxt:active{-webkit-transition:none;transition:none;}/*!sc*/
.pyyxt[data-inactive]{cursor:auto;}/*!sc*/
.pyyxt:disabled{cursor:not-allowed;box-shadow:none;color:var(--fgColor-disabled,var(--color-primer-fg-disabled,#8c959f));border-color:var(--button-default-borderColor-disabled,var(--button-default-borderColor-rest,var(--color-btn-border,rgba(31,35,40,0.15))));background-color:var(--button-default-bgColor-disabled,var(--control-bgColor-disabled,var(--color-input-disabled-bg,rgba(175,184,193,0.2))));}/*!sc*/
.pyyxt:disabled [data-component=ButtonCounter]{color:inherit;}/*!sc*/
@media (forced-colors:active){.pyyxt:focus{outline:solid 1px transparent;}}/*!sc*/
.pyyxt [data-component=ButtonCounter]{font-size:12px;background-color:var(--buttonCounter-default-bgColor-rest,var(--color-btn-counter-bg,rgba(31,35,40,0.08)));}/*!sc*/
.pyyxt[data-component=IconButton]{display:inline-grid;padding:unset;place-content:center;width:32px;min-width:unset;}/*!sc*/
.pyyxt[data-size="small"]{padding:0 8px;height:28px;gap:4px;font-size:12px;}/*!sc*/
.pyyxt[data-size="small"] [data-component="text"]{line-height:calc(20 / 12);}/*!sc*/
.pyyxt[data-size="small"] [data-component=ButtonCounter]{font-size:12px;}/*!sc*/
.pyyxt[data-size="small"] [data-component="buttonContent"] > :not(:last-child){margin-right:4px;}/*!sc*/
.pyyxt[data-size="small"][data-component=IconButton]{width:28px;padding:unset;}/*!sc*/
.pyyxt[data-size="large"]{padding:0 16px;height:40px;gap:8px;}/*!sc*/
.pyyxt[data-size="large"] [data-component="buttonContent"] > :not(:last-child){margin-right:8px;}/*!sc*/
.pyyxt[data-size="large"][data-component=IconButton]{width:40px;padding:unset;}/*!sc*/
.pyyxt[data-block="block"]{width:100%;}/*!sc*/
.pyyxt[data-inactive]:not([disabled]){background-color:var(--button-inactive-bgColor,var(--button-inactive-bgColor-rest,var(--color-btn-inactive-bg,#eaeef2)));border-color:var(--button-inactive-bgColor,var(--button-inactive-bgColor-rest,var(--color-btn-inactive-bg,#eaeef2)));color:var(--button-inactive-fgColor,var(--button-inactive-fgColor-rest,var(--color-btn-inactive-text,#57606a)));}/*!sc*/
.pyyxt[data-inactive]:not([disabled]):focus-visible{box-shadow:none;}/*!sc*/
.pyyxt [data-component="leadingVisual"]{grid-area:leadingVisual;}/*!sc*/
.pyyxt [data-component="text"]{grid-area:text;line-height:calc(20/14);white-space:nowrap;}/*!sc*/
.pyyxt [data-component="trailingVisual"]{grid-area:trailingVisual;}/*!sc*/
.pyyxt [data-component="trailingAction"]{margin-right:-4px;}/*!sc*/
.pyyxt [data-component="buttonContent"]{-webkit-flex:1 0 auto;-ms-flex:1 0 auto;flex:1 0 auto;display:grid;grid-template-areas:"leadingVisual text trailingVisual";grid-template-columns:min-content minmax(0,auto) min-content;-webkit-align-items:center;-webkit-box-align:center;-ms-flex-align:center;align-items:center;-webkit-align-content:center;-ms-flex-line-pack:center;align-content:center;}/*!sc*/
.pyyxt [data-component="buttonContent"] > :not(:last-child){margin-right:8px;}/*!sc*/
.pyyxt:hover:not([disabled]):not([data-inactive]){background-color:var(--button-default-bgColor-hover,var(--color-btn-hover-bg,#f3f4f6));border-color:var(--button-default-borderColor-hover,var(--button-default-borderColor-hover,var(--color-btn-hover-border,rgba(31,35,40,0.15))));}/*!sc*/
.pyyxt:active:not([disabled]):not([data-inactive]){background-color:var(--button-default-bgColor-active,var(--color-btn-active-bg,hsla(220,14%,93%,1)));border-color:var(--button-default-borderColor-active,var(--button-default-borderColor-active,var(--color-btn-active-border,rgba(31,35,40,0.15))));}/*!sc*/
.pyyxt[aria-expanded=true]{background-color:var(--button-default-bgColor-active,var(--color-btn-active-bg,hsla(220,14%,93%,1)));border-color:var(--button-default-borderColor-active,var(--button-default-borderColor-active,var(--color-btn-active-border,rgba(31,35,40,0.15))));}/*!sc*/
.pyyxt [data-component="leadingVisual"],.pyyxt [data-component="trailingVisual"],.pyyxt [data-component="trailingAction"]{color:var(--button-color,var(--fgColor-muted,var(--color-fg-muted,#656d76)));}/*!sc*/
.pyyxt[data-component="IconButton"][data-no-visuals]{color:var(--fgColor-muted,var(--color-fg-muted,#656d76));}/*!sc*/
.fmvlPZ{border-radius:6px;border:1px solid;border-color:var(--button-default-borderColor-rest,var(--button-default-borderColor-rest,var(--color-btn-border,rgba(31,35,40,0.15))));font-family:inherit;font-weight:500;font-size:14px;cursor:pointer;-webkit-appearance:none;-moz-appearance:none;appearance:none;-webkit-user-select:none;-moz-user-select:none;-ms-user-select:none;user-select:none;-webkit-text-decoration:none;text-decoration:none;text-align:center;display:-webkit-box;display:-webkit-flex;display:-ms-flexbox;display:flex;-webkit-align-items:center;-webkit-box-align:center;-ms-flex-align:center;align-items:center;-webkit-box-pack:justify;-webkit-justify-content:space-between;-ms-flex-pack:justify;justify-content:space-between;height:32px;padding:0 12px;gap:8px;min-width:-webkit-max-content;min-width:-moz-max-content;min-width:max-content;-webkit-transition:80ms cubic-bezier(0.65,0,0.35,1);transition:80ms cubic-bezier(0.65,0,0.35,1);-webkit-transition-property:color,fill,background-color,border-color;transition-property:color,fill,background-color,border-color;color:var(--button-default-fgColor-rest,var(--color-btn-text,#24292f));background-color:var(--button-default-bgColor-rest,var(--color-btn-bg,#f6f8fa));box-shadow:var(--button-default-shadow-resting,var(--color-btn-shadow,0 1px 0 rgba(31,35,40,0.04))),var(--button-default-shadow-inset,var(--color-btn-inset-shadow,inset 0 1px 0 rgba(255,255,255,0.25)));}/*!sc*/
.fmvlPZ:focus:not(:disabled){box-shadow:none;outline:2px solid var(--fgColor-accent,var(--color-accent-fg,#0969da));outline-offset:-2px;}/*!sc*/
.fmvlPZ:focus:not(:disabled):not(:focus-visible){outline:solid 1px transparent;}/*!sc*/
.fmvlPZ:focus-visible:not(:disabled){box-shadow:none;outline:2px solid var(--fgColor-accent,var(--color-accent-fg,#0969da));outline-offset:-2px;}/*!sc*/
.fmvlPZ[href]{display:-webkit-inline-box;display:-webkit-inline-flex;display:-ms-inline-flexbox;display:inline-flex;}/*!sc*/
.fmvlPZ[href]:hover{-webkit-text-decoration:none;text-decoration:none;}/*!sc*/
.fmvlPZ:hover{-webkit-transition-duration:80ms;transition-duration:80ms;}/*!sc*/
.fmvlPZ:active{-webkit-transition:none;transition:none;}/*!sc*/
.fmvlPZ[data-inactive]{cursor:auto;}/*!sc*/
.fmvlPZ:disabled{cursor:not-allowed;box-shadow:none;color:var(--fgColor-disabled,var(--color-primer-fg-disabled,#8c959f));border-color:var(--button-default-borderColor-disabled,var(--button-default-borderColor-rest,var(--color-btn-border,rgba(31,35,40,0.15))));background-color:var(--button-default-bgColor-disabled,var(--control-bgColor-disabled,var(--color-input-disabled-bg,rgba(175,184,193,0.2))));}/*!sc*/
.fmvlPZ:disabled [data-component=ButtonCounter]{color:inherit;}/*!sc*/
@media (forced-colors:active){.fmvlPZ:focus{outline:solid 1px transparent;}}/*!sc*/
.fmvlPZ [data-component=ButtonCounter]{font-size:12px;background-color:var(--buttonCounter-default-bgColor-rest,var(--color-btn-counter-bg,rgba(31,35,40,0.08)));}/*!sc*/
.fmvlPZ[data-component=IconButton]{display:inline-grid;padding:unset;place-content:center;width:32px;min-width:unset;}/*!sc*/
.fmvlPZ[data-size="small"]{padding:0 8px;height:28px;gap:4px;font-size:12px;}/*!sc*/
.fmvlPZ[data-size="small"] [data-component="text"]{line-height:calc(20 / 12);}/*!sc*/
.fmvlPZ[data-size="small"] [data-component=ButtonCounter]{font-size:12px;}/*!sc*/
.fmvlPZ[data-size="small"] [data-component="buttonContent"] > :not(:last-child){margin-right:4px;}/*!sc*/
.fmvlPZ[data-size="small"][data-component=IconButton]{width:28px;padding:unset;}/*!sc*/
.fmvlPZ[data-size="large"]{padding:0 16px;height:40px;gap:8px;}/*!sc*/
.fmvlPZ[data-size="large"] [data-component="buttonContent"] > :not(:last-child){margin-right:8px;}/*!sc*/
.fmvlPZ[data-size="large"][data-component=IconButton]{width:40px;padding:unset;}/*!sc*/
.fmvlPZ[data-block="block"]{width:100%;}/*!sc*/
.fmvlPZ[data-inactive]:not([disabled]){background-color:var(--button-inactive-bgColor,var(--button-inactive-bgColor-rest,var(--color-btn-inactive-bg,#eaeef2)));border-color:var(--button-inactive-bgColor,var(--button-inactive-bgColor-rest,var(--color-btn-inactive-bg,#eaeef2)));color:var(--button-inactive-fgColor,var(--button-inactive-fgColor-rest,var(--color-btn-inactive-text,#57606a)));}/*!sc*/
.fmvlPZ[data-inactive]:not([disabled]):focus-visible{box-shadow:none;}/*!sc*/
.fmvlPZ [data-component="leadingVisual"]{grid-area:leadingVisual;}/*!sc*/
.fmvlPZ [data-component="text"]{grid-area:text;line-height:calc(20/14);white-space:nowrap;}/*!sc*/
.fmvlPZ [data-component="trailingVisual"]{grid-area:trailingVisual;}/*!sc*/
.fmvlPZ [data-component="trailingAction"]{margin-right:-4px;}/*!sc*/
.fmvlPZ [data-component="buttonContent"]{-webkit-flex:1 0 auto;-ms-flex:1 0 auto;flex:1 0 auto;display:grid;grid-template-areas:"leadingVisual text trailingVisual";grid-template-columns:min-content minmax(0,auto) min-content;-webkit-align-items:center;-webkit-box-align:center;-ms-flex-align:center;align-items:center;-webkit-align-content:center;-ms-flex-line-pack:center;align-content:center;}/*!sc*/
.fmvlPZ [data-component="buttonContent"] > :not(:last-child){margin-right:8px;}/*!sc*/
.fmvlPZ:hover:not([disabled]):not([data-inactive]){background-color:var(--button-default-bgColor-hover,var(--color-btn-hover-bg,#f3f4f6));border-color:var(--button-default-borderColor-hover,var(--button-default-borderColor-hover,var(--color-btn-hover-border,rgba(31,35,40,0.15))));}/*!sc*/
.fmvlPZ:active:not([disabled]):not([data-inactive]){background-color:var(--button-default-bgColor-active,var(--color-btn-active-bg,hsla(220,14%,93%,1)));border-color:var(--button-default-borderColor-active,var(--button-default-borderColor-active,var(--color-btn-active-border,rgba(31,35,40,0.15))));}/*!sc*/
.fmvlPZ[aria-expanded=true]{background-color:var(--button-default-bgColor-active,var(--color-btn-active-bg,hsla(220,14%,93%,1)));border-color:var(--button-default-borderColor-active,var(--button-default-borderColor-active,var(--color-btn-active-border,rgba(31,35,40,0.15))));}/*!sc*/
.fmvlPZ [data-component="leadingVisual"],.fmvlPZ [data-component="trailingVisual"],.fmvlPZ [data-component="trailingAction"]{color:var(--button-color,var(--fgColor-muted,var(--color-fg-muted,#656d76)));}/*!sc*/
.fmvlPZ[data-component="IconButton"][data-no-visuals]{color:var(--fgColor-muted,var(--color-fg-muted,#656d76));}/*!sc*/
.fmvlPZ[data-size="small"][data-no-visuals]{border-top-left-radius:0;border-bottom-left-radius:0;}/*!sc*/
.bDhqXD{border-radius:6px;border:1px solid;border-color:var(--button-default-borderColor-rest,var(--button-default-borderColor-rest,var(--color-btn-border,rgba(31,35,40,0.15))));font-family:inherit;font-weight:500;font-size:14px;cursor:pointer;-webkit-appearance:none;-moz-appearance:none;appearance:none;-webkit-user-select:none;-moz-user-select:none;-ms-user-select:none;user-select:none;-webkit-text-decoration:none;text-decoration:none;text-align:center;display:-webkit-box;display:-webkit-flex;display:-ms-flexbox;display:flex;-webkit-align-items:center;-webkit-box-align:center;-ms-flex-align:center;align-items:center;-webkit-box-pack:justify;-webkit-justify-content:space-between;-ms-flex-pack:justify;justify-content:space-between;height:32px;padding:0 12px;gap:8px;min-width:-webkit-max-content;min-width:-moz-max-content;min-width:max-content;-webkit-transition:80ms cubic-bezier(0.65,0,0.35,1);transition:80ms cubic-bezier(0.65,0,0.35,1);-webkit-transition-property:color,fill,background-color,border-color;transition-property:color,fill,background-color,border-color;color:var(--button-default-fgColor-rest,var(--color-btn-text,#24292f));background-color:var(--button-default-bgColor-rest,var(--color-btn-bg,#f6f8fa));box-shadow:var(--button-default-shadow-resting,var(--color-btn-shadow,0 1px 0 rgba(31,35,40,0.04))),var(--button-default-shadow-inset,var(--color-btn-inset-shadow,inset 0 1px 0 rgba(255,255,255,0.25)));}/*!sc*/
.bDhqXD:focus:not(:disabled){box-shadow:none;outline:2px solid var(--fgColor-accent,var(--color-accent-fg,#0969da));outline-offset:-2px;}/*!sc*/
.bDhqXD:focus:not(:disabled):not(:focus-visible){outline:solid 1px transparent;}/*!sc*/
.bDhqXD:focus-visible:not(:disabled){box-shadow:none;outline:2px solid var(--fgColor-accent,var(--color-accent-fg,#0969da));outline-offset:-2px;}/*!sc*/
.bDhqXD[href]{display:-webkit-inline-box;display:-webkit-inline-flex;display:-ms-inline-flexbox;display:inline-flex;}/*!sc*/
.bDhqXD[href]:hover{-webkit-text-decoration:none;text-decoration:none;}/*!sc*/
.bDhqXD:hover{-webkit-transition-duration:80ms;transition-duration:80ms;}/*!sc*/
.bDhqXD:active{-webkit-transition:none;transition:none;}/*!sc*/
.bDhqXD[data-inactive]{cursor:auto;}/*!sc*/
.bDhqXD:disabled{cursor:not-allowed;box-shadow:none;color:var(--fgColor-disabled,var(--color-primer-fg-disabled,#8c959f));border-color:var(--button-default-borderColor-disabled,var(--button-default-borderColor-rest,var(--color-btn-border,rgba(31,35,40,0.15))));background-color:var(--button-default-bgColor-disabled,var(--control-bgColor-disabled,var(--color-input-disabled-bg,rgba(175,184,193,0.2))));}/*!sc*/
.bDhqXD:disabled [data-component=ButtonCounter]{color:inherit;}/*!sc*/
@media (forced-colors:active){.bDhqXD:focus{outline:solid 1px transparent;}}/*!sc*/
.bDhqXD [data-component=ButtonCounter]{font-size:12px;background-color:var(--buttonCounter-default-bgColor-rest,var(--color-btn-counter-bg,rgba(31,35,40,0.08)));}/*!sc*/
.bDhqXD[data-component=IconButton]{display:inline-grid;padding:unset;place-content:center;width:32px;min-width:unset;}/*!sc*/
.bDhqXD[data-size="small"]{padding:0 8px;height:28px;gap:4px;font-size:12px;}/*!sc*/
.bDhqXD[data-size="small"] [data-component="text"]{line-height:calc(20 / 12);}/*!sc*/
.bDhqXD[data-size="small"] [data-component=ButtonCounter]{font-size:12px;}/*!sc*/
.bDhqXD[data-size="small"] [data-component="buttonContent"] > :not(:last-child){margin-right:4px;}/*!sc*/
.bDhqXD[data-size="small"][data-component=IconButton]{width:28px;padding:unset;}/*!sc*/
.bDhqXD[data-size="large"]{padding:0 16px;height:40px;gap:8px;}/*!sc*/
.bDhqXD[data-size="large"] [data-component="buttonContent"] > :not(:last-child){margin-right:8px;}/*!sc*/
.bDhqXD[data-size="large"][data-component=IconButton]{width:40px;padding:unset;}/*!sc*/
.bDhqXD[data-block="block"]{width:100%;}/*!sc*/
.bDhqXD[data-inactive]:not([disabled]){background-color:var(--button-inactive-bgColor,var(--button-inactive-bgColor-rest,var(--color-btn-inactive-bg,#eaeef2)));border-color:var(--button-inactive-bgColor,var(--button-inactive-bgColor-rest,var(--color-btn-inactive-bg,#eaeef2)));color:var(--button-inactive-fgColor,var(--button-inactive-fgColor-rest,var(--color-btn-inactive-text,#57606a)));}/*!sc*/
.bDhqXD[data-inactive]:not([disabled]):focus-visible{box-shadow:none;}/*!sc*/
.bDhqXD [data-component="leadingVisual"]{grid-area:leadingVisual;}/*!sc*/
.bDhqXD [data-component="text"]{grid-area:text;line-height:calc(20/14);white-space:nowrap;}/*!sc*/
.bDhqXD [data-component="trailingVisual"]{grid-area:trailingVisual;}/*!sc*/
.bDhqXD [data-component="trailingAction"]{margin-right:-4px;}/*!sc*/
.bDhqXD [data-component="buttonContent"]{-webkit-flex:1 0 auto;-ms-flex:1 0 auto;flex:1 0 auto;display:grid;grid-template-areas:"leadingVisual text trailingVisual";grid-template-columns:min-content minmax(0,auto) min-content;-webkit-align-items:center;-webkit-box-align:center;-ms-flex-align:center;align-items:center;-webkit-align-content:center;-ms-flex-line-pack:center;align-content:center;}/*!sc*/
.bDhqXD [data-component="buttonContent"] > :not(:last-child){margin-right:8px;}/*!sc*/
.bDhqXD:hover:not([disabled]):not([data-inactive]){background-color:var(--button-default-bgColor-hover,var(--color-btn-hover-bg,#f3f4f6));border-color:var(--button-default-borderColor-hover,var(--button-default-borderColor-hover,var(--color-btn-hover-border,rgba(31,35,40,0.15))));}/*!sc*/
.bDhqXD:active:not([disabled]):not([data-inactive]){background-color:var(--button-default-bgColor-active,var(--color-btn-active-bg,hsla(220,14%,93%,1)));border-color:var(--button-default-borderColor-active,var(--button-default-borderColor-active,var(--color-btn-active-border,rgba(31,35,40,0.15))));}/*!sc*/
.bDhqXD[aria-expanded=true]{background-color:var(--button-default-bgColor-active,var(--color-btn-active-bg,hsla(220,14%,93%,1)));border-color:var(--button-default-borderColor-active,var(--button-default-borderColor-active,var(--color-btn-active-border,rgba(31,35,40,0.15))));}/*!sc*/
.bDhqXD [data-component="leadingVisual"],.bDhqXD [data-component="trailingVisual"],.bDhqXD [data-component="trailingAction"]{color:var(--button-color,var(--fgColor-muted,var(--color-fg-muted,#656d76)));}/*!sc*/
.bDhqXD[data-component="IconButton"][data-no-visuals]{color:var(--fgColor-muted,var(--color-fg-muted,#656d76));}/*!sc*/
.bDhqXD[data-size="small"][data-no-visuals]{border-top-right-radius:0;border-bottom-right-radius:0;border-right-width:0;}/*!sc*/
.bDhqXD[data-size="small"][data-no-visuals]:hover:not([disabled]){-webkit-text-decoration:none;text-decoration:none;}/*!sc*/
.bDhqXD[data-size="small"][data-no-visuals]:focus:not([disabled]){-webkit-text-decoration:none;text-decoration:none;}/*!sc*/
.bDhqXD[data-size="small"][data-no-visuals]:active:not([disabled]){-webkit-text-decoration:none;text-decoration:none;}/*!sc*/
.dGDIQc{border-radius:6px;border:1px solid;border-color:transparent;font-family:inherit;font-weight:500;font-size:14px;cursor:pointer;-webkit-appearance:none;-moz-appearance:none;appearance:none;-webkit-user-select:none;-moz-user-select:none;-ms-user-select:none;user-select:none;-webkit-text-decoration:none;text-decoration:none;text-align:center;display:-webkit-box;display:-webkit-flex;display:-ms-flexbox;display:flex;-webkit-align-items:center;-webkit-box-align:center;-ms-flex-align:center;align-items:center;-webkit-box-pack:justify;-webkit-justify-content:space-between;-ms-flex-pack:justify;justify-content:space-between;height:32px;padding:0 12px;gap:8px;min-width:-webkit-max-content;min-width:-moz-max-content;min-width:max-content;-webkit-transition:80ms cubic-bezier(0.65,0,0.35,1);transition:80ms cubic-bezier(0.65,0,0.35,1);-webkit-transition-property:color,fill,background-color,border-color;transition-property:color,fill,background-color,border-color;color:var(--button-default-fgColor-rest,var(--color-btn-text,#24292f));background-color:transparent;box-shadow:none;}/*!sc*/
.dGDIQc:focus:not(:disabled){box-shadow:none;outline:2px solid var(--fgColor-accent,var(--color-accent-fg,#0969da));outline-offset:-2px;}/*!sc*/
.dGDIQc:focus:not(:disabled):not(:focus-visible){outline:solid 1px transparent;}/*!sc*/
.dGDIQc:focus-visible:not(:disabled){box-shadow:none;outline:2px solid var(--fgColor-accent,var(--color-accent-fg,#0969da));outline-offset:-2px;}/*!sc*/
.dGDIQc[href]{display:-webkit-inline-box;display:-webkit-inline-flex;display:-ms-inline-flexbox;display:inline-flex;}/*!sc*/
.dGDIQc[href]:hover{-webkit-text-decoration:none;text-decoration:none;}/*!sc*/
.dGDIQc:hover{-webkit-transition-duration:80ms;transition-duration:80ms;}/*!sc*/
.dGDIQc:active{-webkit-transition:none;transition:none;}/*!sc*/
.dGDIQc[data-inactive]{cursor:auto;}/*!sc*/
.dGDIQc:disabled{cursor:not-allowed;box-shadow:none;color:var(--fgColor-disabled,var(--color-primer-fg-disabled,#8c959f));}/*!sc*/
.dGDIQc:disabled [data-component=ButtonCounter],.dGDIQc:disabled [data-component="leadingVisual"],.dGDIQc:disabled [data-component="trailingAction"]{color:inherit;}/*!sc*/
@media (forced-colors:active){.dGDIQc:focus{outline:solid 1px transparent;}}/*!sc*/
.dGDIQc [data-component=ButtonCounter]{font-size:12px;}/*!sc*/
.dGDIQc[data-component=IconButton]{display:inline-grid;padding:unset;place-content:center;width:32px;min-width:unset;}/*!sc*/
.dGDIQc[data-size="small"]{padding:0 8px;height:28px;gap:4px;font-size:12px;}/*!sc*/
.dGDIQc[data-size="small"] [data-component="text"]{line-height:calc(20 / 12);}/*!sc*/
.dGDIQc[data-size="small"] [data-component=ButtonCounter]{font-size:12px;}/*!sc*/
.dGDIQc[data-size="small"] [data-component="buttonContent"] > :not(:last-child){margin-right:4px;}/*!sc*/
.dGDIQc[data-size="small"][data-component=IconButton]{width:28px;padding:unset;}/*!sc*/
.dGDIQc[data-size="large"]{padding:0 16px;height:40px;gap:8px;}/*!sc*/
.dGDIQc[data-size="large"] [data-component="buttonContent"] > :not(:last-child){margin-right:8px;}/*!sc*/
.dGDIQc[data-size="large"][data-component=IconButton]{width:40px;padding:unset;}/*!sc*/
.dGDIQc[data-block="block"]{width:100%;}/*!sc*/
.dGDIQc[data-inactive]:not([disabled]){background-color:var(--button-inactive-bgColor,var(--button-inactive-bgColor-rest,var(--color-btn-inactive-bg,#eaeef2)));border-color:var(--button-inactive-bgColor,var(--button-inactive-bgColor-rest,var(--color-btn-inactive-bg,#eaeef2)));color:var(--button-inactive-fgColor,var(--button-inactive-fgColor-rest,var(--color-btn-inactive-text,#57606a)));}/*!sc*/
.dGDIQc[data-inactive]:not([disabled]):focus-visible{box-shadow:none;}/*!sc*/
.dGDIQc [data-component="leadingVisual"]{grid-area:leadingVisual;color:var(--fgColor-muted,var(--color-fg-muted,#656d76));}/*!sc*/
.dGDIQc [data-component="text"]{grid-area:text;line-height:calc(20/14);white-space:nowrap;}/*!sc*/
.dGDIQc [data-component="trailingVisual"]{grid-area:trailingVisual;}/*!sc*/
.dGDIQc [data-component="trailingAction"]{margin-right:-4px;color:var(--fgColor-muted,var(--color-fg-muted,#656d76));}/*!sc*/
.dGDIQc [data-component="buttonContent"]{-webkit-flex:1 0 auto;-ms-flex:1 0 auto;flex:1 0 auto;display:grid;grid-template-areas:"leadingVisual text trailingVisual";grid-template-columns:min-content minmax(0,auto) min-content;-webkit-align-items:center;-webkit-box-align:center;-ms-flex-align:center;align-items:center;-webkit-align-content:center;-ms-flex-line-pack:center;align-content:center;}/*!sc*/
.dGDIQc [data-component="buttonContent"] > :not(:last-child){margin-right:8px;}/*!sc*/
.dGDIQc:hover:not([disabled]){background-color:var(--control-transparent-bgColor-hover,var(--color-action-list-item-default-hover-bg,rgba(208,215,222,0.32)));}/*!sc*/
.dGDIQc:active:not([disabled]){background-color:var(--control-transparent-bgColor-active,var(--color-action-list-item-default-active-bg,rgba(208,215,222,0.48)));}/*!sc*/
.dGDIQc[aria-expanded=true]{background-color:var(--control-transparent-bgColor-selected,var(--color-action-list-item-default-selected-bg,rgba(208,215,222,0.24)));}/*!sc*/
.dGDIQc[data-component="IconButton"][data-no-visuals]{color:var(--fgColor-muted,var(--color-fg-muted,#656d76));}/*!sc*/
.dGDIQc[data-no-visuals]{color:var(--fgColor-accent,var(--color-accent-fg,#0969da));}/*!sc*/
.dGDIQc:has([data-component="ButtonCounter"]){color:var(--button-default-fgColor-rest,var(--color-btn-text,#24292f));}/*!sc*/
.dGDIQc:disabled[data-no-visuals]{color:var(--fgColor-disabled,var(--color-primer-fg-disabled,#8c959f));}/*!sc*/
.dGDIQc:disabled[data-no-visuals] [data-component=ButtonCounter]{color:inherit;}/*!sc*/
.dGDIQc[data-size="small"][data-no-visuals]{color:var(--fgColor-muted,var(--color-fg-muted,#656d76));}/*!sc*/
data-styled.g9[id="types__StyledButton-sc-ws60qy-0"]{content:"blmaBs,hkJzmn,hILMMl,ivbpoP,hviaoI,jXTShb,fAkXQN,frAFhH,gfKkfV,dTgfec,pyyxt,fmvlPZ,bDhqXD,dGDIQc,"}/*!sc*/
.fUpWeN{display:inline-block;overflow:hidden;text-overflow:ellipsis;vertical-align:top;white-space:nowrap;max-width:125px;max-width:100%;}/*!sc*/
data-styled.g15[id="Truncate__StyledTruncate-sc-23o1d2-0"]{content:"fUpWeN,"}/*!sc*/
.gNgnVl{position:relative;display:inline-block;}/*!sc*/
.gNgnVl::after{position:absolute;z-index:1000000;display:none;padding:0.5em 0.75em;font:normal normal 11px/1.5 -apple-system,BlinkMacSystemFont,"Segoe UI","Noto Sans",Helvetica,Arial,sans-serif,"Apple Color Emoji","Segoe UI Emoji";-webkit-font-smoothing:subpixel-antialiased;color:var(--fgColor-onEmphasis,var(--color-fg-on-emphasis,#ffffff));text-align:center;-webkit-text-decoration:none;text-decoration:none;text-shadow:none;text-transform:none;-webkit-letter-spacing:normal;-moz-letter-spacing:normal;-ms-letter-spacing:normal;letter-spacing:normal;word-wrap:break-word;white-space:pre;pointer-events:none;content:attr(aria-label);background:var(--bgColor-emphasis,var(--color-neutral-emphasis-plus,#24292f));border-radius:6px;opacity:0;}/*!sc*/
@-webkit-keyframes tooltip-appear{from{opacity:0;}to{opacity:1;}}/*!sc*/
@keyframes tooltip-appear{from{opacity:0;}to{opacity:1;}}/*!sc*/
.gNgnVl:hover::after,.gNgnVl:active::after,.gNgnVl:focus::after,.gNgnVl:focus-within::after{display:inline-block;-webkit-text-decoration:none;text-decoration:none;-webkit-animation-name:tooltip-appear;animation-name:tooltip-appear;-webkit-animation-duration:0.1s;animation-duration:0.1s;-webkit-animation-fill-mode:forwards;animation-fill-mode:forwards;-webkit-animation-timing-function:ease-in;animation-timing-function:ease-in;-webkit-animation-delay:0s;animation-delay:0s;}/*!sc*/
.gNgnVl.tooltipped-no-delay:hover::after,.gNgnVl.tooltipped-no-delay:active::after,.gNgnVl.tooltipped-no-delay:focus::after,.gNgnVl.tooltipped-no-delay:focus-within::after{-webkit-animation-delay:0s;animation-delay:0s;}/*!sc*/
.gNgnVl.tooltipped-multiline:hover::after,.gNgnVl.tooltipped-multiline:active::after,.gNgnVl.tooltipped-multiline:focus::after,.gNgnVl.tooltipped-multiline:focus-within::after{display:table-cell;}/*!sc*/
.gNgnVl.tooltipped-s::after,.gNgnVl.tooltipped-se::after,.gNgnVl.tooltipped-sw::after{top:100%;right:50%;margin-top:6px;}/*!sc*/
.gNgnVl.tooltipped-se::after{right:auto;left:50%;margin-left:-16px;}/*!sc*/
.gNgnVl.tooltipped-sw::after{margin-right:-16px;}/*!sc*/
.gNgnVl.tooltipped-n::after,.gNgnVl.tooltipped-ne::after,.gNgnVl.tooltipped-nw::after{right:50%;bottom:100%;margin-bottom:6px;}/*!sc*/
.gNgnVl.tooltipped-ne::after{right:auto;left:50%;margin-left:-16px;}/*!sc*/
.gNgnVl.tooltipped-nw::after{margin-right:-16px;}/*!sc*/
.gNgnVl.tooltipped-s::after,.gNgnVl.tooltipped-n::after{-webkit-transform:translateX(50%);-ms-transform:translateX(50%);transform:translateX(50%);}/*!sc*/
.gNgnVl.tooltipped-w::after{right:100%;bottom:50%;margin-right:6px;-webkit-transform:translateY(50%);-ms-transform:translateY(50%);transform:translateY(50%);}/*!sc*/
.gNgnVl.tooltipped-e::after{bottom:50%;left:100%;margin-left:6px;-webkit-transform:translateY(50%);-ms-transform:translateY(50%);transform:translateY(50%);}/*!sc*/
.gNgnVl.tooltipped-multiline::after{width:-webkit-max-content;width:-moz-max-content;width:max-content;max-width:250px;word-wrap:break-word;white-space:pre-line;border-collapse:separate;}/*!sc*/
.gNgnVl.tooltipped-multiline.tooltipped-s::after,.gNgnVl.tooltipped-multiline.tooltipped-n::after{right:auto;left:50%;-webkit-transform:translateX(-50%);-ms-transform:translateX(-50%);transform:translateX(-50%);}/*!sc*/
.gNgnVl.tooltipped-multiline.tooltipped-w::after,.gNgnVl.tooltipped-multiline.tooltipped-e::after{right:100%;}/*!sc*/
.gNgnVl.tooltipped-align-right-2::after{right:0;margin-right:0;}/*!sc*/
.gNgnVl.tooltipped-align-left-2::after{left:0;margin-left:0;}/*!sc*/
data-styled.g18[id="Tooltip__TooltipBase-sc-17tf59c-0"]{content:"gNgnVl,"}/*!sc*/
.hPEVNM{-webkit-animation:rotate-keyframes 1s linear infinite;animation:rotate-keyframes 1s linear infinite;}/*!sc*/
@-webkit-keyframes rotate-keyframes{100%{-webkit-transform:rotate(360deg);-ms-transform:rotate(360deg);transform:rotate(360deg);}}/*!sc*/
@keyframes rotate-keyframes{100%{-webkit-transform:rotate(360deg);-ms-transform:rotate(360deg);transform:rotate(360deg);}}/*!sc*/
data-styled.g28[id="Spinner__StyledSpinner-sc-1knt686-0"]{content:"hPEVNM,"}/*!sc*/
.cXNreu{font-size:14px;line-height:20px;color:var(--fgColor-default,var(--color-fg-default,#1F2328));vertical-align:middle;background-color:var(--bgColor-default,var(--color-canvas-default,#ffffff));border:1px solid var(--control-borderColor-rest,var(--borderColor-default,var(--color-border-default,#d0d7de)));border-radius:6px;outline:none;box-shadow:var(--shadow-inset,var(--color-primer-shadow-inset,inset 0 1px 0 rgba(208,215,222,0.2)));display:-webkit-inline-box;display:-webkit-inline-flex;display:-ms-inline-flexbox;display:inline-flex;-webkit-align-items:stretch;-webkit-box-align:stretch;-ms-flex-align:stretch;align-items:stretch;min-height:32px;overflow:hidden;display:-webkit-box;display:-webkit-flex;display:-ms-flexbox;display:flex;min-width:160px;}/*!sc*/
.cXNreu input,.cXNreu textarea{cursor:text;}/*!sc*/
.cXNreu select{cursor:pointer;}/*!sc*/
.cXNreu input::-webkit-input-placeholder,.cXNreu textarea::-webkit-input-placeholder,.cXNreu select::-webkit-input-placeholder{color:var(---control-fgColor-placeholder,var(--fgColor-muted,var(--color-fg-muted,#656d76)));}/*!sc*/
.cXNreu input::-moz-placeholder,.cXNreu textarea::-moz-placeholder,.cXNreu select::-moz-placeholder{color:var(---control-fgColor-placeholder,var(--fgColor-muted,var(--color-fg-muted,#656d76)));}/*!sc*/
.cXNreu input:-ms-input-placeholder,.cXNreu textarea:-ms-input-placeholder,.cXNreu select:-ms-input-placeholder{color:var(---control-fgColor-placeholder,var(--fgColor-muted,var(--color-fg-muted,#656d76)));}/*!sc*/
.cXNreu input::placeholder,.cXNreu textarea::placeholder,.cXNreu select::placeholder{color:var(---control-fgColor-placeholder,var(--fgColor-muted,var(--color-fg-muted,#656d76)));}/*!sc*/
.cXNreu:focus-within{border-color:var(--fgColor-accent,var(--color-accent-fg,#0969da));outline:2px solid var(--fgColor-accent,var(--color-accent-fg,#0969da));outline-offset:-1px;}/*!sc*/
.cXNreu > textarea{padding:12px;}/*!sc*/
@media (min-width:768px){.cXNreu{font-size:14px;}}/*!sc*/
data-styled.g37[id="TextInputWrapper__TextInputBaseWrapper-sc-1mqhpbi-0"]{content:"cXNreu,"}/*!sc*/
.jbzqwE{background-repeat:no-repeat;background-position:right 8px center;padding-left:12px;padding-right:12px;display:-webkit-box;display:-webkit-flex;display:-ms-flexbox;display:flex;min-width:160px;}/*!sc*/
.jbzqwE > :not(:last-child){margin-right:8px;}/*!sc*/
.jbzqwE .TextInput-icon,.jbzqwE .TextInput-action{-webkit-align-self:center;-ms-flex-item-align:center;align-self:center;color:var(--fgColor-muted,var(--color-fg-muted,#656d76));-webkit-flex-shrink:0;-ms-flex-negative:0;flex-shrink:0;}/*!sc*/
.jbzqwE > input,.jbzqwE > select{padding-left:0;padding-right:0;}/*!sc*/
data-styled.g38[id="TextInputWrapper-sc-1mqhpbi-1"]{content:"jbzqwE,"}/*!sc*/
.cDLBls{border:0;font-size:inherit;font-family:inherit;background-color:transparent;-webkit-appearance:none;color:inherit;width:100%;}/*!sc*/
.cDLBls:focus{outline:0;}/*!sc*/
data-styled.g39[id="UnstyledTextInput-sc-14ypya-0"]{content:"cDLBls,"}/*!sc*/
.jEdVkE{--segmented-control-button-inner-padding:12px;--segmented-control-button-bg-inset:4px;--segmented-control-outer-radius:6px;background-color:transparent;border-color:transparent;border-radius:var(--segmented-control-outer-radius);border-width:0;color:currentColor;cursor:pointer;font-family:inherit;font-size:inherit;font-weight:600;padding:0;height:100%;width:100%;}/*!sc*/
.jEdVkE .segmentedControl-content{-webkit-align-items:center;-webkit-box-align:center;-ms-flex-align:center;align-items:center;background-color:var(--controlKnob-bgColor-rest,var(--color-segmented-control-button-bg,#ffffff));border-color:var(--controlKnob-borderColor-rest,var(--color-segmented-control-button-hover-active-selected-border,#8c959f));border-style:solid;border-width:1px;border-radius:var(--segmented-control-outer-radius);display:-webkit-box;display:-webkit-flex;display:-ms-flexbox;display:flex;height:100%;-webkit-box-pack:center;-webkit-justify-content:center;-ms-flex-pack:center;justify-content:center;padding-left:var(--segmented-control-button-inner-padding);padding-right:var(--segmented-control-button-inner-padding);}/*!sc*/
.jEdVkE svg{fill:var(--fgColor-muted,var(--color-fg-muted,#656d76));}/*!sc*/
.jEdVkE:focus:focus-visible:not(:last-child):after{width:0;}/*!sc*/
.jEdVkE .segmentedControl-text:after{content:"Preview";display:block;font-weight:600;height:0;overflow:hidden;pointer-events:none;-webkit-user-select:none;-moz-user-select:none;-ms-user-select:none;user-select:none;visibility:hidden;}/*!sc*/
@media (pointer:coarse){.jEdVkE:before{content:"";position:absolute;left:0;right:0;-webkit-transform:translateY(-50%);-ms-transform:translateY(-50%);transform:translateY(-50%);top:50%;min-height:44px;}}/*!sc*/
.TvbfG{--segmented-control-button-inner-padding:12px;--segmented-control-button-bg-inset:4px;--segmented-control-outer-radius:6px;background-color:transparent;border-color:transparent;border-radius:var(--segmented-control-outer-radius);border-width:0;color:currentColor;cursor:pointer;font-family:inherit;font-size:inherit;font-weight:400;padding:var(--segmented-control-button-bg-inset);height:100%;width:100%;}/*!sc*/
.TvbfG .segmentedControl-content{-webkit-align-items:center;-webkit-box-align:center;-ms-flex-align:center;align-items:center;background-color:transparent;border-color:transparent;border-style:solid;border-width:1px;border-radius:calc(var(--segmented-control-outer-radius) - var(--segmented-control-button-bg-inset) / 2);display:-webkit-box;display:-webkit-flex;display:-ms-flexbox;display:flex;height:100%;-webkit-box-pack:center;-webkit-justify-content:center;-ms-flex-pack:center;justify-content:center;padding-left:calc(var(--segmented-control-button-inner-padding) - var(--segmented-control-button-bg-inset));padding-right:calc(var(--segmented-control-button-inner-padding) - var(--segmented-control-button-bg-inset));}/*!sc*/
.TvbfG svg{fill:var(--fgColor-muted,var(--color-fg-muted,#656d76));}/*!sc*/
.TvbfG:hover .segmentedControl-content{background-color:var(--controlTrack-bgColor-hover,var(--color-segmented-control-button-hover-bg,rgba(175,184,193,0.2)));}/*!sc*/
.TvbfG:active .segmentedControl-content{background-color:var(--controlTrack-bgColor-active,var(--color-segmented-control-button-hover-active-bg,rgba(175,184,193,0.4)));}/*!sc*/
.TvbfG:focus:focus-visible:not(:last-child):after{width:0;}/*!sc*/
.TvbfG .segmentedControl-text:after{content:"Code";display:block;font-weight:600;height:0;overflow:hidden;pointer-events:none;-webkit-user-select:none;-moz-user-select:none;-ms-user-select:none;user-select:none;visibility:hidden;}/*!sc*/
@media (pointer:coarse){.TvbfG:before{content:"";position:absolute;left:0;right:0;-webkit-transform:translateY(-50%);-ms-transform:translateY(-50%);transform:translateY(-50%);top:50%;min-height:44px;}}/*!sc*/
.fIktcg{--segmented-control-button-inner-padding:12px;--segmented-control-button-bg-inset:4px;--segmented-control-outer-radius:6px;background-color:transparent;border-color:transparent;border-radius:var(--segmented-control-outer-radius);border-width:0;color:currentColor;cursor:pointer;font-family:inherit;font-size:inherit;font-weight:400;padding:var(--segmented-control-button-bg-inset);height:100%;width:100%;}/*!sc*/
.fIktcg .segmentedControl-content{-webkit-align-items:center;-webkit-box-align:center;-ms-flex-align:center;align-items:center;background-color:transparent;border-color:transparent;border-style:solid;border-width:1px;border-radius:calc(var(--segmented-control-outer-radius) - var(--segmented-control-button-bg-inset) / 2);display:-webkit-box;display:-webkit-flex;display:-ms-flexbox;display:flex;height:100%;-webkit-box-pack:center;-webkit-justify-content:center;-ms-flex-pack:center;justify-content:center;padding-left:calc(var(--segmented-control-button-inner-padding) - var(--segmented-control-button-bg-inset));padding-right:calc(var(--segmented-control-button-inner-padding) - var(--segmented-control-button-bg-inset));}/*!sc*/
.fIktcg svg{fill:var(--fgColor-muted,var(--color-fg-muted,#656d76));}/*!sc*/
.fIktcg:hover .segmentedControl-content{background-color:var(--controlTrack-bgColor-hover,var(--color-segmented-control-button-hover-bg,rgba(175,184,193,0.2)));}/*!sc*/
.fIktcg:active .segmentedControl-content{background-color:var(--controlTrack-bgColor-active,var(--color-segmented-control-button-hover-active-bg,rgba(175,184,193,0.4)));}/*!sc*/
.fIktcg:focus:focus-visible:not(:last-child):after{width:0;}/*!sc*/
.fIktcg .segmentedControl-text:after{content:"Blame";display:block;font-weight:600;height:0;overflow:hidden;pointer-events:none;-webkit-user-select:none;-moz-user-select:none;-ms-user-select:none;user-select:none;visibility:hidden;}/*!sc*/
@media (pointer:coarse){.fIktcg:before{content:"";position:absolute;left:0;right:0;-webkit-transform:translateY(-50%);-ms-transform:translateY(-50%);transform:translateY(-50%);top:50%;min-height:44px;}}/*!sc*/
data-styled.g69[id="SegmentedControlButton__SegmentedControlButtonStyled-sc-8lkgxl-0"]{content:"jEdVkE,TvbfG,fIktcg,"}/*!sc*/
.huxtnT{background-color:var(--controlTrack-bgColor-rest,var(--color-segmented-control-bg,#eaeef2));border-radius:6px;display:-webkit-inline-box;display:-webkit-inline-flex;display:-ms-inline-flexbox;display:inline-flex;font-size:14px;height:28px;margin:0;padding:0;}/*!sc*/
data-styled.g71[id="SegmentedControl__SegmentedControlList-sc-1rzig82-0"]{content:"huxtnT,"}/*!sc*/
.cjbBGq{display:-webkit-inline-box;display:-webkit-inline-flex;display:-ms-inline-flexbox;display:inline-flex;vertical-align:middle;isolation:isolate;}/*!sc*/
.cjbBGq.cjbBGq > *{margin-inline-end:-1px;position:relative;border-radius:0;}/*!sc*/
.cjbBGq.cjbBGq > *:first-child{border-top-left-radius:6px;border-bottom-left-radius:6px;}/*!sc*/
.cjbBGq.cjbBGq > *:last-child{border-top-right-radius:6px;border-bottom-right-radius:6px;}/*!sc*/
.cjbBGq.cjbBGq > *:focus,.cjbBGq.cjbBGq > *:active,.cjbBGq.cjbBGq > *:hover{z-index:1;}/*!sc*/
data-styled.g86[id="ButtonGroup-sc-1gxhls1-0"]{content:"cjbBGq,"}/*!sc*/
</style><meta data-hydrostats="publish"/> <!-- --> <!-- --> <!-- --> <button hidden="" data-testid="header-permalink-button" data-hotkey-scope="read-only-cursor-text-area"></button><button hidden=""></button><div><div style="--sticky-pane-height:100vh" class="Box-sc-g0xbh4-0 fSWWem"><div class="Box-sc-g0xbh4-0 kPPmzM"><div class="Box-sc-g0xbh4-0 cIAPDV"><div tabindex="0" class="Box-sc-g0xbh4-0 gvCnwW"><div class="Box-sc-g0xbh4-0 coFgrZ"><div class="Box-sc-g0xbh4-0 eUyHuk"></div><div style="--pane-width:320px" class="Box-sc-g0xbh4-0 gNdDUH"></div><div class="Box-sc-g0xbh4-0 hAeDYA"><div role="slider" aria-label="Draggable pane splitter" aria-valuemin="0" aria-valuemax="0" aria-valuenow="0" aria-valuetext="Pane width 0 pixels" tabindex="0" class="Box-sc-g0xbh4-0 fjdBNx"></div></div></div></div><div class="Box-sc-g0xbh4-0 emFMJu"><div class="Box-sc-g0xbh4-0"></div><div class="Box-sc-g0xbh4-0 hlUAHL"><div data-selector="repos-split-pane-content" tabindex="0" class="Box-sc-g0xbh4-0 iStsmI"><div class="Box-sc-g0xbh4-0 eIgvIk"><div class="Box-sc-g0xbh4-0 eVFfWF container"><div class="px-3 pt-3 pb-0" id="StickyHeader"><div class="Box-sc-g0xbh4-0 fywjmm"><div class="Box-sc-g0xbh4-0 dyczTK"><div class="Box-sc-g0xbh4-0 cpXcux react-code-view-header-wrap--narrow"><div class="Box-sc-g0xbh4-0 iPEkxH"><h2 class="Heading__StyledHeading-sc-1c1dgg0-0 jUriTl"><button style="--button-color:fg.muted" type="button" aria-label="Expand file tree" data-testid="expand-file-tree-button-mobile" class="types__StyledButton-sc-ws60qy-0 blmaBs"><span data-component="buttonContent" class="Box-sc-g0xbh4-0 kkrdEu"><span data-component="leadingVisual" class="Box-sc-g0xbh4-0 trpoQ"><svg aria-hidden="true" focusable="false" role="img" class="octicon octicon-arrow-left" viewBox="0 0 16 16" width="16" height="16" fill="currentColor" style="display:inline-block;user-select:none;vertical-align:text-bottom;overflow:visible"><path d="M7.78 12.53a.75.75 0 0 1-1.06 0L2.47 8.28a.75.75 0 0 1 0-1.06l4.25-4.25a.751.751 0 0 1 1.042.018.751.751 0 0 1 .018 1.042L4.81 7h7.44a.75.75 0 0 1 0 1.5H4.81l2.97 2.97a.75.75 0 0 1 0 1.06Z"></path></svg></span><span data-component="text">Files</span></span></button><span role="tooltip" aria-label="Expand file tree" id="expand-button-file-tree-button" class="Tooltip__TooltipBase-sc-17tf59c-0 gNgnVl tooltipped-se"><button data-component="IconButton" type="button" data-testid="expand-file-tree-button" aria-labelledby="expand-button-file-tree-button" aria-expanded="false" aria-controls="repos-file-tree" class="types__StyledButton-sc-ws60qy-0 hkJzmn" data-no-visuals="true"><svg aria-hidden="true" focusable="false" role="img" class="octicon octicon-sidebar-collapse" viewBox="0 0 16 16" width="16" height="16" fill="currentColor" style="display:inline-block;user-select:none;vertical-align:text-bottom;overflow:visible"><path d="M6.823 7.823a.25.25 0 0 1 0 .354l-2.396 2.396A.25.25 0 0 1 4 10.396V5.604a.25.25 0 0 1 .427-.177Z"></path><path d="M1.75 0h12.5C15.216 0 16 .784 16 1.75v12.5A1.75 1.75 0 0 1 14.25 16H1.75A1.75 1.75 0 0 1 0 14.25V1.75C0 .784.784 0 1.75 0ZM1.5 1.75v12.5c0 .138.112.25.25.25H9.5v-13H1.75a.25.25 0 0 0-.25.25ZM11 14.5h3.25a.25.25 0 0 0 .25-.25V1.75a.25.25 0 0 0-.25-.25H11Z"></path></svg></button></span><button hidden="" data-testid="" data-hotkey-scope="read-only-cursor-text-area"></button></h2></div><div class="react-code-view-header-mb--narrow mr-2"><button type="button" id="branch-picker-repos-header-ref-selector-wide" aria-haspopup="true" tabindex="0" aria-label="main branch" data-testid="anchor-button" class="types__StyledButton-sc-ws60qy-0 hILMMl ref-selector-class"><span data-component="buttonContent" class="Box-sc-g0xbh4-0 kkrdEu"><span data-component="text"><div class="Box-sc-g0xbh4-0 bKgizp"><div class="Box-sc-g0xbh4-0 iPGYsi"><svg aria-hidden="true" focusable="false" role="img" class="octicon octicon-git-branch" viewBox="0 0 16 16" width="16" height="16" fill="currentColor" style="display:inline-block;user-select:none;vertical-align:text-bottom;overflow:visible"><path d="M9.5 3.25a2.25 2.25 0 1 1 3 2.122V6A2.5 2.5 0 0 1 10 8.5H6a1 1 0 0 0-1 1v1.128a2.251 2.251 0 1 1-1.5 0V5.372a2.25 2.25 0 1 1 1.5 0v1.836A2.493 2.493 0 0 1 6 7h4a1 1 0 0 0 1-1v-.628A2.25 2.25 0 0 1 9.5 3.25Zm-6 0a.75.75 0 1 0 1.5 0 .75.75 0 0 0-1.5 0Zm8.25-.75a.75.75 0 1 0 0 1.5.75.75 0 0 0 0-1.5ZM4.25 12a.75.75 0 1 0 0 1.5.75.75 0 0 0 0-1.5Z"></path></svg></div><div class="Box-sc-g0xbh4-0 dKmYfk ref-selector-button-text-container"><span class="Text-sc-17v1xeu-0 bOMzPg"> <!-- -->main</span></div></div></span><span data-component="trailingVisual" class="Box-sc-g0xbh4-0 trpoQ"><svg aria-hidden="true" focusable="false" role="img" class="octicon octicon-triangle-down" viewBox="0 0 16 16" width="16" height="16" fill="currentColor" style="display:inline-block;user-select:none;vertical-align:text-bottom;overflow:visible"><path d="m4.427 7.427 3.396 3.396a.25.25 0 0 0 .354 0l3.396-3.396A.25.25 0 0 0 11.396 7H4.604a.25.25 0 0 0-.177.427Z"></path></svg></span></span></button><button hidden="" data-hotkey-scope="read-only-cursor-text-area"></button></div><div class="Box-sc-g0xbh4-0 ehCeGn react-code-view-header-mb--narrow"><div class="Box-sc-g0xbh4-0 eTvGbF"><nav data-testid="breadcrumbs" aria-labelledby="repos-header-breadcrumb-heading" id="repos-header-breadcrumb" class="Box-sc-g0xbh4-0 kzRgrI"><h2 class="Heading__StyledHeading-sc-1c1dgg0-0 cgQnMS sr-only" data-testid="screen-reader-heading" id="repos-header-breadcrumb-heading">Breadcrumbs</h2><ol class="Box-sc-g0xbh4-0 cmAPIB"><li class="Box-sc-g0xbh4-0 jwXCBK"><a sx="[object Object]" data-testid="breadcrumbs-repo-link" class="Link__StyledLink-sc-14289xe-0 ipyMWB" href="/ashwinreddy2/700745488--Assignment-9-Ashwin-kumar-Reddy/tree/main">700745488--Assignment-9-Ashwin-kumar-Reddy</a></li></ol></nav><div data-testid="breadcrumbs-filename" class="Box-sc-g0xbh4-0 jwXCBK"><span aria-hidden="true" class="Text-sc-17v1xeu-0 fIsVJr">/</span><h1 tabindex="-1" id="file-name-id" class="Heading__StyledHeading-sc-1c1dgg0-0 diwsLq">Neuralnetwork_ICP9_700727088.ipynb</h1></div><button data-component="IconButton" type="button" aria-label="Copy path" data-testid="breadcrumb-copy-path-button" data-size="small" data-no-visuals="true" class="types__StyledButton-sc-ws60qy-0 ivbpoP"><svg aria-hidden="true" focusable="false" role="img" class="octicon octicon-copy" viewBox="0 0 16 16" width="16" height="16" fill="currentColor" style="display:inline-block;user-select:none;vertical-align:text-bottom;overflow:visible"><path d="M0 6.75C0 5.784.784 5 1.75 5h1.5a.75.75 0 0 1 0 1.5h-1.5a.25.25 0 0 0-.25.25v7.5c0 .138.112.25.25.25h7.5a.25.25 0 0 0 .25-.25v-1.5a.75.75 0 0 1 1.5 0v1.5A1.75 1.75 0 0 1 9.25 16h-7.5A1.75 1.75 0 0 1 0 14.25Z"></path><path d="M5 1.75C5 .784 5.784 0 6.75 0h7.5C15.216 0 16 .784 16 1.75v7.5A1.75 1.75 0 0 1 14.25 11h-7.5A1.75 1.75 0 0 1 5 9.25Zm1.75-.25a.25.25 0 0 0-.25.25v7.5c0 .138.112.25.25.25h7.5a.25.25 0 0 0 .25-.25v-7.5a.25.25 0 0 0-.25-.25Z"></path></svg></button></div></div></div><div class="react-code-view-header-element--wide"><div class="Box-sc-g0xbh4-0 gtBUEp"><div class="d-flex gap-2"> <div><div class="Box-sc-g0xbh4-0 kfYOBR"><span class="TextInputWrapper__TextInputBaseWrapper-sc-1mqhpbi-0 TextInputWrapper-sc-1mqhpbi-1 cXNreu jbzqwE TextInput-wrapper" aria-busy="false"><span class="TextInput-icon"><svg aria-hidden="true" focusable="false" role="img" class="octicon octicon-search" viewBox="0 0 16 16" width="16" height="16" fill="currentColor" style="display:inline-block;user-select:none;vertical-align:text-bottom;overflow:visible"><path d="M10.68 11.74a6 6 0 0 1-7.922-8.982 6 6 0 0 1 8.982 7.922l3.04 3.04a.749.749 0 0 1-.326 1.275.749.749 0 0 1-.734-.215ZM11.5 7a4.499 4.499 0 1 0-8.997 0A4.499 4.499 0 0 0 11.5 7Z"></path></svg></span><input type="text" aria-label="Go to file" role="combobox" aria-controls="file-results-list" aria-expanded="false" aria-haspopup="dialog" autoCorrect="off" spellcheck="false" placeholder="Go to file" data-component="input" class="UnstyledTextInput-sc-14ypya-0 cDLBls" value=""/><span class="TextInput-icon"><div class="Box-sc-g0xbh4-0 cNvKlH"><kbd>t</kbd></div></span></span></div><button hidden="" data-testid="" data-hotkey-scope="read-only-cursor-text-area"></button><button hidden=""></button></div><button type="button" data-no-visuals="true" class="types__StyledButton-sc-ws60qy-0 hviaoI"><span data-component="buttonContent" class="Box-sc-g0xbh4-0 kkrdEu"><span data-component="text">Blame</span></span></button><button hidden="" data-testid="" data-hotkey-scope="read-only-cursor-text-area"></button><button data-component="IconButton" type="button" aria-label="More file actions" class="types__StyledButton-sc-ws60qy-0 jXTShb js-blob-dropdown-click" title="More file actions" data-testid="more-file-actions-button-nav-menu-wide" id=":R99jadaj5:" aria-haspopup="true" tabindex="0" data-no-visuals="true"><svg aria-hidden="true" focusable="false" role="img" class="octicon octicon-kebab-horizontal" viewBox="0 0 16 16" width="16" height="16" fill="currentColor" style="display:inline-block;user-select:none;vertical-align:text-bottom;overflow:visible"><path d="M8 9a1.5 1.5 0 1 0 0-3 1.5 1.5 0 0 0 0 3ZM1.5 9a1.5 1.5 0 1 0 0-3 1.5 1.5 0 0 0 0 3Zm13 0a1.5 1.5 0 1 0 0-3 1.5 1.5 0 0 0 0 3Z"></path></svg></button> </div></div></div><div class="react-code-view-header-element--narrow"><div class="Box-sc-g0xbh4-0 gtBUEp"><div class="d-flex gap-2"> <button type="button" data-no-visuals="true" class="types__StyledButton-sc-ws60qy-0 hviaoI"><span data-component="buttonContent" class="Box-sc-g0xbh4-0 kkrdEu"><span data-component="text">Blame</span></span></button><button hidden="" data-testid="" data-hotkey-scope="read-only-cursor-text-area"></button><button data-component="IconButton" type="button" aria-label="More file actions" class="types__StyledButton-sc-ws60qy-0 jXTShb js-blob-dropdown-click" title="More file actions" data-testid="more-file-actions-button-nav-menu-narrow" id=":R99radaj5:" aria-haspopup="true" tabindex="0" data-no-visuals="true"><svg aria-hidden="true" focusable="false" role="img" class="octicon octicon-kebab-horizontal" viewBox="0 0 16 16" width="16" height="16" fill="currentColor" style="display:inline-block;user-select:none;vertical-align:text-bottom;overflow:visible"><path d="M8 9a1.5 1.5 0 1 0 0-3 1.5 1.5 0 0 0 0 3ZM1.5 9a1.5 1.5 0 1 0 0-3 1.5 1.5 0 0 0 0 3Zm13 0a1.5 1.5 0 1 0 0-3 1.5 1.5 0 0 0 0 3Z"></path></svg></button> </div></div></div></div></div></div></div></div><div class="Box-sc-g0xbh4-0 hVZtwF react-code-view-bottom-padding"> <div class="Box-sc-g0xbh4-0 cMYnca"></div> <!-- --> <!-- --> </div><div class="Box-sc-g0xbh4-0 hVZtwF"> <!-- --> <!-- --> <div class="Box-sc-g0xbh4-0 jQCQnS"><div class="Box-sc-g0xbh4-0 eYedVD"><h2 class="Heading__StyledHeading-sc-1c1dgg0-0 cgQnMS sr-only" data-testid="screen-reader-heading">Latest commit</h2><div style="width:120px" class="Skeleton Skeleton--text" data-testid="loading"> </div><div data-testid="latest-commit-details" class="Box-sc-g0xbh4-0 lhFvfi"></div><div class="Box-sc-g0xbh4-0 jGfYmh"><h2 class="Heading__StyledHeading-sc-1c1dgg0-0 cgQnMS sr-only" data-testid="screen-reader-heading">History</h2><a class="types__StyledButton-sc-ws60qy-0 fAkXQN react-last-commit-history-group" href="/ashwinreddy2/700745488--Assignment-9-Ashwin-kumar-Reddy/commits/main/Neuralnetwork_ICP9_700727088.ipynb" data-size="small"><span data-component="buttonContent" class="Box-sc-g0xbh4-0 kkrdEu"><span data-component="leadingVisual" class="Box-sc-g0xbh4-0 trpoQ"><svg aria-hidden="true" focusable="false" role="img" class="octicon octicon-history" viewBox="0 0 16 16" width="16" height="16" fill="currentColor" style="display:inline-block;user-select:none;vertical-align:text-bottom;overflow:visible"><path d="m.427 1.927 1.215 1.215a8.002 8.002 0 1 1-1.6 5.685.75.75 0 1 1 1.493-.154 6.5 6.5 0 1 0 1.18-4.458l1.358 1.358A.25.25 0 0 1 3.896 6H.25A.25.25 0 0 1 0 5.75V2.104a.25.25 0 0 1 .427-.177ZM7.75 4a.75.75 0 0 1 .75.75v2.992l2.028.812a.75.75 0 0 1-.557 1.392l-2.5-1A.751.751 0 0 1 7 8.25v-3.5A.75.75 0 0 1 7.75 4Z"></path></svg></span><span data-component="text"><span class="Text-sc-17v1xeu-0 dALsKK">History</span></span></span></a><div class="Box-sc-g0xbh4-0 bqgLjk"></div><span role="tooltip" aria-label="Commit history" class="Tooltip__TooltipBase-sc-17tf59c-0 gNgnVl tooltipped-n"><a class="types__StyledButton-sc-ws60qy-0 fAkXQN react-last-commit-history-icon" href="/ashwinreddy2/700745488--Assignment-9-Ashwin-kumar-Reddy/commits/main/Neuralnetwork_ICP9_700727088.ipynb"><span data-component="buttonContent" class="Box-sc-g0xbh4-0 kkrdEu"><span data-component="leadingVisual" class="Box-sc-g0xbh4-0 trpoQ"><svg aria-hidden="true" focusable="false" role="img" class="octicon octicon-history" viewBox="0 0 16 16" width="16" height="16" fill="currentColor" style="display:inline-block;user-select:none;vertical-align:text-bottom;overflow:visible"><path d="m.427 1.927 1.215 1.215a8.002 8.002 0 1 1-1.6 5.685.75.75 0 1 1 1.493-.154 6.5 6.5 0 1 0 1.18-4.458l1.358 1.358A.25.25 0 0 1 3.896 6H.25A.25.25 0 0 1 0 5.75V2.104a.25.25 0 0 1 .427-.177ZM7.75 4a.75.75 0 0 1 .75.75v2.992l2.028.812a.75.75 0 0 1-.557 1.392l-2.5-1A.751.751 0 0 1 7 8.25v-3.5A.75.75 0 0 1 7.75 4Z"></path></svg></span></span></a></span></div></div></div><div class="Box-sc-g0xbh4-0 iJmJly"><div class="Box-sc-g0xbh4-0 jACbi container"><div class="Box-sc-g0xbh4-0 gIJuDf react-code-size-details-banner"><div class="Box-sc-g0xbh4-0 fleZSW react-code-size-details-banner"><div class="Box-sc-g0xbh4-0 BnySK text-mono"><div title="113 KB" data-testid="blob-size" class="Truncate__StyledTruncate-sc-23o1d2-0 fUpWeN"><span class="Text-sc-17v1xeu-0 gPDEWA">426 lines (426 loc) · 113 KB</span></div></div></div><div class="Box-sc-g0xbh4-0 react-code-size-details-banner"><button style="--button-color:fg.default" type="button" id=":R9faladaj5:" aria-haspopup="true" tabindex="0" data-testid="copilot-popover-button" data-size="small" class="types__StyledButton-sc-ws60qy-0 frAFhH"><span data-component="buttonContent" class="Box-sc-g0xbh4-0 kkrdEu"><span data-component="leadingVisual" class="Box-sc-g0xbh4-0 trpoQ"><svg aria-hidden="true" focusable="false" role="img" class="octicon octicon-copilot" viewBox="0 0 16 16" width="16" height="16" fill="currentColor" style="display:inline-block;user-select:none;vertical-align:text-bottom;overflow:visible"><path d="M7.998 15.035c-4.562 0-7.873-2.914-7.998-3.749V9.338c.085-.628.677-1.686 1.588-2.065.013-.07.024-.143.036-.218.029-.183.06-.384.126-.612-.201-.508-.254-1.084-.254-1.656 0-.87.128-1.769.693-2.484.579-.733 1.494-1.124 2.724-1.261 1.206-.134 2.262.034 2.944.765.05.053.096.108.139.165.044-.057.094-.112.143-.165.682-.731 1.738-.899 2.944-.765 1.23.137 2.145.528 2.724 1.261.566.715.693 1.614.693 2.484 0 .572-.053 1.148-.254 1.656.066.228.098.429.126.612.012.076.024.148.037.218.924.385 1.522 1.471 1.591 2.095v1.872c0 .766-3.351 3.795-8.002 3.795Zm0-1.485c2.28 0 4.584-1.11 5.002-1.433V7.862l-.023-.116c-.49.21-1.075.291-1.727.291-1.146 0-2.059-.327-2.71-.991A3.222 3.222 0 0 1 8 6.303a3.24 3.24 0 0 1-.544.743c-.65.664-1.563.991-2.71.991-.652 0-1.236-.081-1.727-.291l-.023.116v4.255c.419.323 2.722 1.433 5.002 1.433ZM6.762 2.83c-.193-.206-.637-.413-1.682-.297-1.019.113-1.479.404-1.713.7-.247.312-.369.789-.369 1.554 0 .793.129 1.171.308 1.371.162.181.519.379 1.442.379.853 0 1.339-.235 1.638-.54.315-.322.527-.827.617-1.553.117-.935-.037-1.395-.241-1.614Zm4.155-.297c-1.044-.116-1.488.091-1.681.297-.204.219-.359.679-.242 1.614.091.726.303 1.231.618 1.553.299.305.784.54 1.638.54.922 0 1.28-.198 1.442-.379.179-.2.308-.578.308-1.371 0-.765-.123-1.242-.37-1.554-.233-.296-.693-.587-1.713-.7Z"></path><path d="M6.25 9.037a.75.75 0 0 1 .75.75v1.501a.75.75 0 0 1-1.5 0V9.787a.75.75 0 0 1 .75-.75Zm4.25.75v1.501a.75.75 0 0 1-1.5 0V9.787a.75.75 0 0 1 1.5 0Z"></path></svg></span><span data-component="text">Code 55% faster with GitHub Copilot</span></span></button></div></div><div class="Box-sc-g0xbh4-0 VHzRk react-blob-view-header-sticky" id="repos-sticky-header"><div class="Box-sc-g0xbh4-0 ePiodO"><div class="Box-sc-g0xbh4-0 react-blob-sticky-header"><div class="Box-sc-g0xbh4-0 kQJlnf"><div class="Box-sc-g0xbh4-0 nSWSp"><div class="Box-sc-g0xbh4-0 lhFvfi"><div class="Box-sc-g0xbh4-0 doiYd"><button type="button" id="branch-picker-repos-header-ref-selector" aria-haspopup="true" tabindex="0" aria-label="main branch" data-testid="anchor-button" class="types__StyledButton-sc-ws60qy-0 hILMMl ref-selector-class"><span data-component="buttonContent" class="Box-sc-g0xbh4-0 kkrdEu"><span data-component="text"><div class="Box-sc-g0xbh4-0 bKgizp"><div class="Box-sc-g0xbh4-0 iPGYsi"><svg aria-hidden="true" focusable="false" role="img" class="octicon octicon-git-branch" viewBox="0 0 16 16" width="16" height="16" fill="currentColor" style="display:inline-block;user-select:none;vertical-align:text-bottom;overflow:visible"><path d="M9.5 3.25a2.25 2.25 0 1 1 3 2.122V6A2.5 2.5 0 0 1 10 8.5H6a1 1 0 0 0-1 1v1.128a2.251 2.251 0 1 1-1.5 0V5.372a2.25 2.25 0 1 1 1.5 0v1.836A2.493 2.493 0 0 1 6 7h4a1 1 0 0 0 1-1v-.628A2.25 2.25 0 0 1 9.5 3.25Zm-6 0a.75.75 0 1 0 1.5 0 .75.75 0 0 0-1.5 0Zm8.25-.75a.75.75 0 1 0 0 1.5.75.75 0 0 0 0-1.5ZM4.25 12a.75.75 0 1 0 0 1.5.75.75 0 0 0 0-1.5Z"></path></svg></div><div class="Box-sc-g0xbh4-0 dKmYfk ref-selector-button-text-container"><span class="Text-sc-17v1xeu-0 bOMzPg"> <!-- -->main</span></div></div></span><span data-component="trailingVisual" class="Box-sc-g0xbh4-0 trpoQ"><svg aria-hidden="true" focusable="false" role="img" class="octicon octicon-triangle-down" viewBox="0 0 16 16" width="16" height="16" fill="currentColor" style="display:inline-block;user-select:none;vertical-align:text-bottom;overflow:visible"><path d="m4.427 7.427 3.396 3.396a.25.25 0 0 0 .354 0l3.396-3.396A.25.25 0 0 0 11.396 7H4.604a.25.25 0 0 0-.177.427Z"></path></svg></span></span></button><button hidden="" data-hotkey-scope="read-only-cursor-text-area"></button></div><div class="Box-sc-g0xbh4-0 jKPiSV"><div class="Box-sc-g0xbh4-0 iZJewz"><nav data-testid="breadcrumbs" aria-labelledby="sticky-breadcrumb-heading" id="sticky-breadcrumb" class="Box-sc-g0xbh4-0 kzRgrI"><h2 class="Heading__StyledHeading-sc-1c1dgg0-0 cgQnMS sr-only" data-testid="screen-reader-heading" id="sticky-breadcrumb-heading">Breadcrumbs</h2><ol class="Box-sc-g0xbh4-0 cmAPIB"><li class="Box-sc-g0xbh4-0 jwXCBK"><a sx="[object Object]" data-testid="breadcrumbs-repo-link" class="Link__StyledLink-sc-14289xe-0 ipyMWB" href="/ashwinreddy2/700745488--Assignment-9-Ashwin-kumar-Reddy/tree/main">700745488--Assignment-9-Ashwin-kumar-Reddy</a></li></ol></nav><div data-testid="breadcrumbs-filename" class="Box-sc-g0xbh4-0 jwXCBK"><span aria-hidden="true" class="Text-sc-17v1xeu-0 cYjMDB">/</span><h1 tabindex="-1" id="sticky-file-name-id" class="Heading__StyledHeading-sc-1c1dgg0-0 jAEDJk">Neuralnetwork_ICP9_700727088.ipynb</h1></div></div></div></div><button style="--button-color:fg.default" type="button" data-size="small" class="types__StyledButton-sc-ws60qy-0 gfKkfV"><span data-component="buttonContent" class="Box-sc-g0xbh4-0 kkrdEu"><span data-component="leadingVisual" class="Box-sc-g0xbh4-0 trpoQ"><svg aria-hidden="true" focusable="false" role="img" class="octicon octicon-arrow-up" viewBox="0 0 16 16" width="16" height="16" fill="currentColor" style="display:inline-block;user-select:none;vertical-align:text-bottom;overflow:visible"><path d="M3.47 7.78a.75.75 0 0 1 0-1.06l4.25-4.25a.75.75 0 0 1 1.06 0l4.25 4.25a.751.751 0 0 1-.018 1.042.751.751 0 0 1-1.042.018L9 4.81v7.44a.75.75 0 0 1-1.5 0V4.81L4.53 7.78a.75.75 0 0 1-1.06 0Z"></path></svg></span><span data-component="text">Top</span></span></button></div></div></div><div class="Box-sc-g0xbh4-0 jfjHXm"><h2 class="Heading__StyledHeading-sc-1c1dgg0-0 cgQnMS sr-only" data-testid="screen-reader-heading">File metadata and controls</h2><div class="Box-sc-g0xbh4-0 bfkNRF"><ul aria-label="File view" class="SegmentedControl__SegmentedControlList-sc-1rzig82-0 huxtnT"><li class="Box-sc-g0xbh4-0 fXBLEV"><button aria-current="true" class="SegmentedControlButton__SegmentedControlButtonStyled-sc-8lkgxl-0 jEdVkE"><span class="segmentedControl-content"><div class="Box-sc-g0xbh4-0 segmentedControl-text">Preview</div></span></button></li><li class="Box-sc-g0xbh4-0 gMPsNT"><button aria-current="false" class="SegmentedControlButton__SegmentedControlButtonStyled-sc-8lkgxl-0 TvbfG"><span class="segmentedControl-content"><div class="Box-sc-g0xbh4-0 segmentedControl-text">Code</div></span></button></li><li class="Box-sc-g0xbh4-0 gMPsNT"><button aria-current="false" class="SegmentedControlButton__SegmentedControlButtonStyled-sc-8lkgxl-0 fIktcg"><span class="segmentedControl-content"><div class="Box-sc-g0xbh4-0 segmentedControl-text">Blame</div></span></button></li></ul><button hidden="" data-testid="" data-hotkey-scope="read-only-cursor-text-area"></button><button hidden="" data-testid="" data-hotkey-scope="read-only-cursor-text-area"></button><button hidden="" data-testid="" data-hotkey-scope="read-only-cursor-text-area"></button><div class="Box-sc-g0xbh4-0 fleZSW react-code-size-details-in-header"><div class="Box-sc-g0xbh4-0 BnySK text-mono"><div title="113 KB" data-testid="blob-size" class="Truncate__StyledTruncate-sc-23o1d2-0 fUpWeN"><span class="Text-sc-17v1xeu-0 gPDEWA">426 lines (426 loc) · 113 KB</span></div></div></div><div class="Box-sc-g0xbh4-0 react-code-size-details-in-header"><button style="--button-color:fg.default" type="button" id=":Rt6faladaj5:" aria-haspopup="true" tabindex="0" data-testid="copilot-popover-button" data-size="small" class="types__StyledButton-sc-ws60qy-0 frAFhH"><span data-component="buttonContent" class="Box-sc-g0xbh4-0 kkrdEu"><span data-component="leadingVisual" class="Box-sc-g0xbh4-0 trpoQ"><svg aria-hidden="true" focusable="false" role="img" class="octicon octicon-copilot" viewBox="0 0 16 16" width="16" height="16" fill="currentColor" style="display:inline-block;user-select:none;vertical-align:text-bottom;overflow:visible"><path d="M7.998 15.035c-4.562 0-7.873-2.914-7.998-3.749V9.338c.085-.628.677-1.686 1.588-2.065.013-.07.024-.143.036-.218.029-.183.06-.384.126-.612-.201-.508-.254-1.084-.254-1.656 0-.87.128-1.769.693-2.484.579-.733 1.494-1.124 2.724-1.261 1.206-.134 2.262.034 2.944.765.05.053.096.108.139.165.044-.057.094-.112.143-.165.682-.731 1.738-.899 2.944-.765 1.23.137 2.145.528 2.724 1.261.566.715.693 1.614.693 2.484 0 .572-.053 1.148-.254 1.656.066.228.098.429.126.612.012.076.024.148.037.218.924.385 1.522 1.471 1.591 2.095v1.872c0 .766-3.351 3.795-8.002 3.795Zm0-1.485c2.28 0 4.584-1.11 5.002-1.433V7.862l-.023-.116c-.49.21-1.075.291-1.727.291-1.146 0-2.059-.327-2.71-.991A3.222 3.222 0 0 1 8 6.303a3.24 3.24 0 0 1-.544.743c-.65.664-1.563.991-2.71.991-.652 0-1.236-.081-1.727-.291l-.023.116v4.255c.419.323 2.722 1.433 5.002 1.433ZM6.762 2.83c-.193-.206-.637-.413-1.682-.297-1.019.113-1.479.404-1.713.7-.247.312-.369.789-.369 1.554 0 .793.129 1.171.308 1.371.162.181.519.379 1.442.379.853 0 1.339-.235 1.638-.54.315-.322.527-.827.617-1.553.117-.935-.037-1.395-.241-1.614Zm4.155-.297c-1.044-.116-1.488.091-1.681.297-.204.219-.359.679-.242 1.614.091.726.303 1.231.618 1.553.299.305.784.54 1.638.54.922 0 1.28-.198 1.442-.379.179-.2.308-.578.308-1.371 0-.765-.123-1.242-.37-1.554-.233-.296-.693-.587-1.713-.7Z"></path><path d="M6.25 9.037a.75.75 0 0 1 .75.75v1.501a.75.75 0 0 1-1.5 0V9.787a.75.75 0 0 1 .75-.75Zm4.25.75v1.501a.75.75 0 0 1-1.5 0V9.787a.75.75 0 0 1 1.5 0Z"></path></svg></span><span data-component="text">Code 55% faster with GitHub Copilot</span></span></button></div></div><div class="Box-sc-g0xbh4-0 iBylDf"><div class="Box-sc-g0xbh4-0 kSGBPx react-blob-header-edit-and-raw-actions"><div class="ButtonGroup-sc-1gxhls1-0 cjbBGq"><a href="https://github.com/ashwinreddy2/700745488--Assignment-9-Ashwin-kumar-Reddy/raw/main/Neuralnetwork_ICP9_700727088.ipynb" data-testid="raw-button" data-size="small" data-no-visuals="true" class="types__StyledButton-sc-ws60qy-0 dTgfec"><span data-component="buttonContent" class="Box-sc-g0xbh4-0 kkrdEu"><span data-component="text">Raw</span></span></a><button data-component="IconButton" type="button" aria-label="Copy raw content" data-testid="copy-raw-button" data-size="small" data-no-visuals="true" class="types__StyledButton-sc-ws60qy-0 pyyxt"><svg aria-hidden="true" focusable="false" role="img" class="octicon octicon-copy" viewBox="0 0 16 16" width="16" height="16" fill="currentColor" style="display:inline-block;user-select:none;vertical-align:text-bottom;overflow:visible"><path d="M0 6.75C0 5.784.784 5 1.75 5h1.5a.75.75 0 0 1 0 1.5h-1.5a.25.25 0 0 0-.25.25v7.5c0 .138.112.25.25.25h7.5a.25.25 0 0 0 .25-.25v-1.5a.75.75 0 0 1 1.5 0v1.5A1.75 1.75 0 0 1 9.25 16h-7.5A1.75 1.75 0 0 1 0 14.25Z"></path><path d="M5 1.75C5 .784 5.784 0 6.75 0h7.5C15.216 0 16 .784 16 1.75v7.5A1.75 1.75 0 0 1 14.25 11h-7.5A1.75 1.75 0 0 1 5 9.25Zm1.75-.25a.25.25 0 0 0-.25.25v7.5c0 .138.112.25.25.25h7.5a.25.25 0 0 0 .25-.25v-7.5a.25.25 0 0 0-.25-.25Z"></path></svg></button><span role="tooltip" aria-label="Download raw file" class="Tooltip__TooltipBase-sc-17tf59c-0 gNgnVl tooltipped-n"><button data-component="IconButton" type="button" aria-label="Download raw content" data-testid="download-raw-button" data-size="small" data-no-visuals="true" class="types__StyledButton-sc-ws60qy-0 fmvlPZ"><svg aria-hidden="true" focusable="false" role="img" class="octicon octicon-download" viewBox="0 0 16 16" width="16" height="16" fill="currentColor" style="display:inline-block;user-select:none;vertical-align:text-bottom;overflow:visible"><path d="M2.75 14A1.75 1.75 0 0 1 1 12.25v-2.5a.75.75 0 0 1 1.5 0v2.5c0 .138.112.25.25.25h10.5a.25.25 0 0 0 .25-.25v-2.5a.75.75 0 0 1 1.5 0v2.5A1.75 1.75 0 0 1 13.25 14Z"></path><path d="M7.25 7.689V2a.75.75 0 0 1 1.5 0v5.689l1.97-1.969a.749.749 0 1 1 1.06 1.06l-3.25 3.25a.749.749 0 0 1-1.06 0L4.22 6.78a.749.749 0 1 1 1.06-1.06l1.97 1.969Z"></path></svg></button></span></div><button hidden="" data-testid="raw-button-shortcut" data-hotkey-scope="read-only-cursor-text-area"></button><button hidden="" data-testid="copy-raw-button-shortcut" data-hotkey-scope="read-only-cursor-text-area"></button><button hidden="" data-testid="download-raw-button-shortcut" data-hotkey-scope="read-only-cursor-text-area"></button><a class="Link__StyledLink-sc-14289xe-0 dheQRw js-github-dev-shortcut d-none" href="https://github.dev/"></a><button hidden="" data-testid="" data-hotkey-scope="read-only-cursor-text-area"></button><a class="Link__StyledLink-sc-14289xe-0 dheQRw js-github-dev-new-tab-shortcut d-none" href="https://github.dev/" target="_blank"></a><button hidden="" data-testid="" data-hotkey-scope="read-only-cursor-text-area"></button><div class="ButtonGroup-sc-1gxhls1-0 cjbBGq"><span role="tooltip" aria-label="Edit this file" class="Tooltip__TooltipBase-sc-17tf59c-0 gNgnVl tooltipped-nw"><a sx="[object Object]" data-component="IconButton" type="button" aria-label="Edit file" data-testid="edit-button" data-size="small" data-no-visuals="true" class="types__StyledButton-sc-ws60qy-0 bDhqXD" href="/ashwinreddy2/700745488--Assignment-9-Ashwin-kumar-Reddy/edit/main/Neuralnetwork_ICP9_700727088.ipynb"><svg aria-hidden="true" focusable="false" role="img" class="octicon octicon-pencil" viewBox="0 0 16 16" width="16" height="16" fill="currentColor" style="display:inline-block;user-select:none;vertical-align:text-bottom;overflow:visible"><path d="M11.013 1.427a1.75 1.75 0 0 1 2.474 0l1.086 1.086a1.75 1.75 0 0 1 0 2.474l-8.61 8.61c-.21.21-.47.364-.756.445l-3.251.93a.75.75 0 0 1-.927-.928l.929-3.25c.081-.286.235-.547.445-.758l8.61-8.61Zm.176 4.823L9.75 4.81l-6.286 6.287a.253.253 0 0 0-.064.108l-.558 1.953 1.953-.558a.253.253 0 0 0 .108-.064Zm1.238-3.763a.25.25 0 0 0-.354 0L10.811 3.75l1.439 1.44 1.263-1.263a.25.25 0 0 0 0-.354Z"></path></svg></a></span><button data-component="IconButton" type="button" aria-label="More edit options" data-testid="more-edit-button" id=":R2l76faladaj5:" aria-haspopup="true" tabindex="0" data-size="small" data-no-visuals="true" class="types__StyledButton-sc-ws60qy-0 pyyxt"><svg aria-hidden="true" focusable="false" role="img" class="octicon octicon-triangle-down" viewBox="0 0 16 16" width="16" height="16" fill="currentColor" style="display:inline-block;user-select:none;vertical-align:text-bottom;overflow:visible"><path d="m4.427 7.427 3.396 3.396a.25.25 0 0 0 .354 0l3.396-3.396A.25.25 0 0 0 11.396 7H4.604a.25.25 0 0 0-.177.427Z"></path></svg></button></div><button hidden="" data-testid="" data-hotkey="e,Shift+E" data-hotkey-scope="read-only-cursor-text-area"></button></div><div class="Box-sc-g0xbh4-0 react-blob-header-edit-and-raw-actions-combined"><button data-component="IconButton" type="button" aria-label="Edit and raw actions" class="types__StyledButton-sc-ws60qy-0 dGDIQc js-blob-dropdown-click" title="More file actions" data-testid="more-file-actions-button" id=":R5v6faladaj5:" aria-haspopup="true" tabindex="0" data-size="small" data-no-visuals="true"><svg aria-hidden="true" focusable="false" role="img" class="octicon octicon-kebab-horizontal" viewBox="0 0 16 16" width="16" height="16" fill="currentColor" style="display:inline-block;user-select:none;vertical-align:text-bottom;overflow:visible"><path d="M8 9a1.5 1.5 0 1 0 0-3 1.5 1.5 0 0 0 0 3ZM1.5 9a1.5 1.5 0 1 0 0-3 1.5 1.5 0 0 0 0 3Zm13 0a1.5 1.5 0 1 0 0-3 1.5 1.5 0 0 0 0 3Z"></path></svg></button></div></div></div></div><div></div></div><div class="Box-sc-g0xbh4-0 ytOJl"><section aria-labelledby="file-name-id-wide file-name-id-mobile" class="Box-sc-g0xbh4-0 eJsjkT"><!--$!--><template></template><div data-testid="suspense-spinner" class="Box-sc-g0xbh4-0 bAzdCq"><svg height="32px" width="32px" viewBox="0 0 16 16" fill="none" aria-label="Loading" class="Spinner__StyledSpinner-sc-1knt686-0 hPEVNM"><circle cx="8" cy="8" r="7" stroke="currentColor" stroke-opacity="0.25" stroke-width="2" vector-effect="non-scaling-stroke"></circle><path d="M15 8a7.002 7.002 0 00-7-7" stroke="currentColor" stroke-width="2" stroke-linecap="round" vector-effect="non-scaling-stroke"></path></svg></div><!--/$--></section></div></div></div> <!-- --> <!-- --> </div></div></div><div class="Box-sc-g0xbh4-0"></div></div></div></div></div><div id="find-result-marks-container" class="Box-sc-g0xbh4-0 aZrVR"></div><button hidden="" data-testid="" data-hotkey-scope="read-only-cursor-text-area"></button><button hidden=""></button></div> <!-- --> <!-- --> <!-- --> <script type="application/json" id="__PRIMER_DATA__">{"resolvedServerColorMode":"day"}</script></div>
</react-app>
</turbo-frame>



  </div>

</turbo-frame>

    </main>
  </div>

  </div>

          <footer class="footer pt-8 pb-6 f6 color-fg-muted p-responsive" role="contentinfo" >
  <h2 class='sr-only'>Footer</h2>

  


  <div class="d-flex flex-justify-center flex-items-center flex-column-reverse flex-lg-row flex-wrap flex-lg-nowrap">
    <div class="d-flex flex-items-center flex-shrink-0 mx-2">
      <a aria-label="Homepage" title="GitHub" class="footer-octicon mr-2" href="https://github.com">
        <svg aria-hidden="true" height="24" viewBox="0 0 16 16" version="1.1" width="24" data-view-component="true" class="octicon octicon-mark-github">
    <path d="M8 0c4.42 0 8 3.58 8 8a8.013 8.013 0 0 1-5.45 7.59c-.4.08-.55-.17-.55-.38 0-.27.01-1.13.01-2.2 0-.75-.25-1.23-.54-1.48 1.78-.2 3.65-.88 3.65-3.95 0-.88-.31-1.59-.82-2.15.08-.2.36-1.02-.08-2.12 0 0-.67-.22-2.2.82-.64-.18-1.32-.27-2-.27-.68 0-1.36.09-2 .27-1.53-1.03-2.2-.82-2.2-.82-.44 1.1-.16 1.92-.08 2.12-.51.56-.82 1.28-.82 2.15 0 3.06 1.86 3.75 3.64 3.95-.23.2-.44.55-.51 1.07-.46.21-1.61.55-2.33-.66-.15-.24-.6-.83-1.23-.82-.67.01-.27.38.01.53.34.19.73.9.82 1.13.16.45.68 1.31 2.69.94 0 .67.01 1.3.01 1.49 0 .21-.15.45-.55.38A7.995 7.995 0 0 1 0 8c0-4.42 3.58-8 8-8Z"></path>
</svg>
</a>
      <span>
        &copy; 2024 GitHub,&nbsp;Inc.
      </span>
    </div>

    <nav aria-label="Footer">
      <h3 class="sr-only" id="sr-footer-heading">Footer navigation</h3>

      <ul class="list-style-none d-flex flex-justify-center flex-wrap mb-2 mb-lg-0" aria-labelledby="sr-footer-heading">

          <li class="mx-2">
            <a data-analytics-event="{&quot;category&quot;:&quot;Footer&quot;,&quot;action&quot;:&quot;go to Terms&quot;,&quot;label&quot;:&quot;text:terms&quot;}" href="https://docs.github.com/site-policy/github-terms/github-terms-of-service" data-view-component="true" class="Link--secondary Link">Terms</a>
          </li>

          <li class="mx-2">
            <a data-analytics-event="{&quot;category&quot;:&quot;Footer&quot;,&quot;action&quot;:&quot;go to privacy&quot;,&quot;label&quot;:&quot;text:privacy&quot;}" href="https://docs.github.com/site-policy/privacy-policies/github-privacy-statement" data-view-component="true" class="Link--secondary Link">Privacy</a>
          </li>

          <li class="mx-2">
            <a data-analytics-event="{&quot;category&quot;:&quot;Footer&quot;,&quot;action&quot;:&quot;go to security&quot;,&quot;label&quot;:&quot;text:security&quot;}" href="/security" data-view-component="true" class="Link--secondary Link">Security</a>
          </li>

          <li class="mx-2">
            <a data-analytics-event="{&quot;category&quot;:&quot;Footer&quot;,&quot;action&quot;:&quot;go to status&quot;,&quot;label&quot;:&quot;text:status&quot;}" href="https://www.githubstatus.com/" data-view-component="true" class="Link--secondary Link">Status</a>
          </li>

          <li class="mx-2">
            <a data-analytics-event="{&quot;category&quot;:&quot;Footer&quot;,&quot;action&quot;:&quot;go to docs&quot;,&quot;label&quot;:&quot;text:docs&quot;}" href="https://docs.github.com/" data-view-component="true" class="Link--secondary Link">Docs</a>
          </li>

          <li class="mx-2">
            <a data-analytics-event="{&quot;category&quot;:&quot;Footer&quot;,&quot;action&quot;:&quot;go to contact&quot;,&quot;label&quot;:&quot;text:contact&quot;}" href="https://support.github.com?tags=dotcom-footer" data-view-component="true" class="Link--secondary Link">Contact</a>
          </li>

          <li class="mx-2" >
  <cookie-consent-link>
    <button type="button" class="Link--secondary underline-on-hover border-0 p-0 color-bg-transparent" data-action="click:cookie-consent-link#showConsentManagement">
      Manage cookies
    </button>
  </cookie-consent-link>
</li>

<li class="mx-2">
  <cookie-consent-link>
    <button type="button" class="Link--secondary underline-on-hover border-0 p-0 color-bg-transparent" data-action="click:cookie-consent-link#showConsentManagement">
      Do not share my personal information
    </button>
  </cookie-consent-link>
</li>

      </ul>
    </nav>
  </div>
</footer>




    <cookie-consent id="cookie-consent-banner" class="position-fixed bottom-0 left-0" style="z-index: 999999" data-initial-cookie-consent-allowed="" data-cookie-consent-required="false"></cookie-consent>


  <div id="ajax-error-message" class="ajax-error-message flash flash-error" hidden>
    <svg aria-hidden="true" height="16" viewBox="0 0 16 16" version="1.1" width="16" data-view-component="true" class="octicon octicon-alert">
    <path d="M6.457 1.047c.659-1.234 2.427-1.234 3.086 0l6.082 11.378A1.75 1.75 0 0 1 14.082 15H1.918a1.75 1.75 0 0 1-1.543-2.575Zm1.763.707a.25.25 0 0 0-.44 0L1.698 13.132a.25.25 0 0 0 .22.368h12.164a.25.25 0 0 0 .22-.368Zm.53 3.996v2.5a.75.75 0 0 1-1.5 0v-2.5a.75.75 0 0 1 1.5 0ZM9 11a1 1 0 1 1-2 0 1 1 0 0 1 2 0Z"></path>
</svg>
    <button type="button" class="flash-close js-ajax-error-dismiss" aria-label="Dismiss error">
      <svg aria-hidden="true" height="16" viewBox="0 0 16 16" version="1.1" width="16" data-view-component="true" class="octicon octicon-x">
    <path d="M3.72 3.72a.75.75 0 0 1 1.06 0L8 6.94l3.22-3.22a.749.749 0 0 1 1.275.326.749.749 0 0 1-.215.734L9.06 8l3.22 3.22a.749.749 0 0 1-.326 1.275.749.749 0 0 1-.734-.215L8 9.06l-3.22 3.22a.751.751 0 0 1-1.042-.018.751.751 0 0 1-.018-1.042L6.94 8 3.72 4.78a.75.75 0 0 1 0-1.06Z"></path>
</svg>
    </button>
    You can’t perform that action at this time.
  </div>

    <template id="site-details-dialog">
  <details class="details-reset details-overlay details-overlay-dark lh-default color-fg-default hx_rsm" open>
    <summary role="button" aria-label="Close dialog"></summary>
    <details-dialog class="Box Box--overlay d-flex flex-column anim-fade-in fast hx_rsm-dialog hx_rsm-modal">
      <button class="Box-btn-octicon m-0 btn-octicon position-absolute right-0 top-0" type="button" aria-label="Close dialog" data-close-dialog>
        <svg aria-hidden="true" height="16" viewBox="0 0 16 16" version="1.1" width="16" data-view-component="true" class="octicon octicon-x">
    <path d="M3.72 3.72a.75.75 0 0 1 1.06 0L8 6.94l3.22-3.22a.749.749 0 0 1 1.275.326.749.749 0 0 1-.215.734L9.06 8l3.22 3.22a.749.749 0 0 1-.326 1.275.749.749 0 0 1-.734-.215L8 9.06l-3.22 3.22a.751.751 0 0 1-1.042-.018.751.751 0 0 1-.018-1.042L6.94 8 3.72 4.78a.75.75 0 0 1 0-1.06Z"></path>
</svg>
      </button>
      <div class="octocat-spinner my-6 js-details-dialog-spinner"></div>
    </details-dialog>
  </details>
</template>

    <div class="Popover js-hovercard-content position-absolute" style="display: none; outline: none;" tabindex="0">
  <div class="Popover-message Popover-message--bottom-left Popover-message--large Box color-shadow-large" style="width:360px;">
  </div>
</div>

    <template id="snippet-clipboard-copy-button">
  <div class="zeroclipboard-container position-absolute right-0 top-0">
    <clipboard-copy aria-label="Copy" class="ClipboardButton btn js-clipboard-copy m-2 p-0 tooltipped-no-delay" data-copy-feedback="Copied!" data-tooltip-direction="w">
      <svg aria-hidden="true" height="16" viewBox="0 0 16 16" version="1.1" width="16" data-view-component="true" class="octicon octicon-copy js-clipboard-copy-icon m-2">
    <path d="M0 6.75C0 5.784.784 5 1.75 5h1.5a.75.75 0 0 1 0 1.5h-1.5a.25.25 0 0 0-.25.25v7.5c0 .138.112.25.25.25h7.5a.25.25 0 0 0 .25-.25v-1.5a.75.75 0 0 1 1.5 0v1.5A1.75 1.75 0 0 1 9.25 16h-7.5A1.75 1.75 0 0 1 0 14.25Z"></path><path d="M5 1.75C5 .784 5.784 0 6.75 0h7.5C15.216 0 16 .784 16 1.75v7.5A1.75 1.75 0 0 1 14.25 11h-7.5A1.75 1.75 0 0 1 5 9.25Zm1.75-.25a.25.25 0 0 0-.25.25v7.5c0 .138.112.25.25.25h7.5a.25.25 0 0 0 .25-.25v-7.5a.25.25 0 0 0-.25-.25Z"></path>
</svg>
      <svg aria-hidden="true" height="16" viewBox="0 0 16 16" version="1.1" width="16" data-view-component="true" class="octicon octicon-check js-clipboard-check-icon color-fg-success d-none m-2">
    <path d="M13.78 4.22a.75.75 0 0 1 0 1.06l-7.25 7.25a.75.75 0 0 1-1.06 0L2.22 9.28a.751.751 0 0 1 .018-1.042.751.751 0 0 1 1.042-.018L6 10.94l6.72-6.72a.75.75 0 0 1 1.06 0Z"></path>
</svg>
    </clipboard-copy>
  </div>
</template>
<template id="snippet-clipboard-copy-button-unpositioned">
  <div class="zeroclipboard-container">
    <clipboard-copy aria-label="Copy" class="ClipboardButton btn btn-invisible js-clipboard-copy m-2 p-0 tooltipped-no-delay d-flex flex-justify-center flex-items-center" data-copy-feedback="Copied!" data-tooltip-direction="w">
      <svg aria-hidden="true" height="16" viewBox="0 0 16 16" version="1.1" width="16" data-view-component="true" class="octicon octicon-copy js-clipboard-copy-icon">
    <path d="M0 6.75C0 5.784.784 5 1.75 5h1.5a.75.75 0 0 1 0 1.5h-1.5a.25.25 0 0 0-.25.25v7.5c0 .138.112.25.25.25h7.5a.25.25 0 0 0 .25-.25v-1.5a.75.75 0 0 1 1.5 0v1.5A1.75 1.75 0 0 1 9.25 16h-7.5A1.75 1.75 0 0 1 0 14.25Z"></path><path d="M5 1.75C5 .784 5.784 0 6.75 0h7.5C15.216 0 16 .784 16 1.75v7.5A1.75 1.75 0 0 1 14.25 11h-7.5A1.75 1.75 0 0 1 5 9.25Zm1.75-.25a.25.25 0 0 0-.25.25v7.5c0 .138.112.25.25.25h7.5a.25.25 0 0 0 .25-.25v-7.5a.25.25 0 0 0-.25-.25Z"></path>
</svg>
      <svg aria-hidden="true" height="16" viewBox="0 0 16 16" version="1.1" width="16" data-view-component="true" class="octicon octicon-check js-clipboard-check-icon color-fg-success d-none">
    <path d="M13.78 4.22a.75.75 0 0 1 0 1.06l-7.25 7.25a.75.75 0 0 1-1.06 0L2.22 9.28a.751.751 0 0 1 .018-1.042.751.751 0 0 1 1.042-.018L6 10.94l6.72-6.72a.75.75 0 0 1 1.06 0Z"></path>
</svg>
    </clipboard-copy>
  </div>
</template>


    <style>
      .user-mention[href$="/ashwinreddy2"] {
        color: var(--color-user-mention-fg);
        background-color: var(--color-user-mention-bg);
        border-radius: 2px;
        margin-left: -2px;
        margin-right: -2px;
        padding: 0 2px;
      }
    </style>


    </div>

    <div id="js-global-screen-reader-notice" class="sr-only" aria-live="polite" aria-atomic="true" ></div>
    <div id="js-global-screen-reader-notice-assertive" class="sr-only" aria-live="assertive" aria-atomic="true"></div>
  </body>
</html>

